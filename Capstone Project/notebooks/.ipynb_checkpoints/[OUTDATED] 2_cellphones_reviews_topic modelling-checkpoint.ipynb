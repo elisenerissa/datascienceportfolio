{
 "cells": [
  {
   "cell_type": "markdown",
   "metadata": {},
   "source": [
    "For introduction and problem statement, please refer to notebook 1"
   ]
  },
  {
   "cell_type": "markdown",
   "metadata": {},
   "source": [
    "## Content"
   ]
  },
  {
   "cell_type": "markdown",
   "metadata": {},
   "source": [
    "**Notebook 1: 1_cellphones_reviews_data_cleaning_and_eda**\n",
    "- Data Import and Cleaning\n",
    "- Exploratory Data Analysis\n",
    "- Text Data Pre-processing\n",
    "\n",
    "**Notebook 2: 2_cellphones_reviews_topic modelling**\n",
    "- [Data Import](#Data-Import)\n",
    "- [Topic Modelling with Gensim](#Topic-Modelling-with-Gensim-Library)\n",
    "\n",
    "**Notebook 3:**\n",
    "- Findings and Analysis of Topic Modelling \n",
    "- Sentiment Analysis (Logistic Regression Classifier, Vader and BERT) \n",
    "- Recommendation and Conclusion \n",
    "- Future Steps"
   ]
  },
  {
   "cell_type": "markdown",
   "metadata": {},
   "source": [
    "## Data Import"
   ]
  },
  {
   "cell_type": "code",
   "execution_count": 2,
   "metadata": {},
   "outputs": [],
   "source": [
    "import pandas as pd \n",
    "import matplotlib.pyplot as plt\n",
    "import numpy as np\n",
    "import seaborn as sns\n",
    "from nltk.corpus import stopwords\n",
    "\n",
    "plt.style.use('fivethirtyeight')\n",
    "%matplotlib inline\n",
    "\n",
    "#pd.set_option('display.max_colwidth',None)"
   ]
  },
  {
   "cell_type": "code",
   "execution_count": 3,
   "metadata": {},
   "outputs": [],
   "source": [
    "new_reviews = pd.read_csv('../data/cleaned_combined_data.csv')"
   ]
  },
  {
   "cell_type": "code",
   "execution_count": 4,
   "metadata": {},
   "outputs": [
    {
     "data": {
      "text/plain": [
       "(67947, 21)"
      ]
     },
     "execution_count": 4,
     "metadata": {},
     "output_type": "execute_result"
    }
   ],
   "source": [
    "new_reviews.shape"
   ]
  },
  {
   "cell_type": "code",
   "execution_count": 5,
   "metadata": {},
   "outputs": [
    {
     "data": {
      "text/plain": [
       "Index(['asin', 'name', 'rating', 'date', 'verified', 'review_title', 'body',\n",
       "       'helpfulVotes', 'brand', 'item_title', 'url', 'image', 'reviewUrl',\n",
       "       'totalReviews', 'price', 'originalPrice', 'reviews', 'word_count',\n",
       "       'cleaned_reviews', 'multi_class_sentiment', 'tokens'],\n",
       "      dtype='object')"
      ]
     },
     "execution_count": 5,
     "metadata": {},
     "output_type": "execute_result"
    }
   ],
   "source": [
    "new_reviews.columns"
   ]
  },
  {
   "cell_type": "markdown",
   "metadata": {},
   "source": [
    "### Topic Modelling with Gensim Library"
   ]
  },
  {
   "cell_type": "code",
   "execution_count": 8,
   "metadata": {},
   "outputs": [],
   "source": [
    "# Gensim\n",
    "from nltk.corpus import stopwords \n",
    "import gensim, spacy, logging, warnings\n",
    "from gensim.models.ldamodel import LdaModel\n",
    "from gensim.models.ldamulticore import LdaMulticore\n",
    "import gensim.corpora as corpora\n",
    "from gensim.utils import lemmatize, simple_preprocess\n",
    "from gensim.models import CoherenceModel\n",
    "from gensim.models.phrases import Phrases, Phraser\n",
    "from pprint import pprint"
   ]
  },
  {
   "cell_type": "code",
   "execution_count": 9,
   "metadata": {},
   "outputs": [],
   "source": [
    "tokens = list(new_reviews['tokens'])"
   ]
  },
  {
   "cell_type": "code",
   "execution_count": 10,
   "metadata": {},
   "outputs": [
    {
     "data": {
      "text/plain": [
       "67947"
      ]
     },
     "execution_count": 10,
     "metadata": {},
     "output_type": "execute_result"
    }
   ],
   "source": [
    "len(tokens)"
   ]
  },
  {
   "cell_type": "code",
   "execution_count": 12,
   "metadata": {},
   "outputs": [],
   "source": [
    "#Build the bigram and trigram models\n",
    "bigram = Phrases(tokens, min_count=5, threshold=100)\n",
    "trigram = Phrases(bigram[tokens], threshold=100)  \n",
    "bigram_mod = Phraser(bigram)\n",
    "trigram_mod = Phraser(trigram)"
   ]
  },
  {
   "cell_type": "code",
   "execution_count": 13,
   "metadata": {},
   "outputs": [],
   "source": [
    "stop_words = stopwords.words('english')\n",
    "def process_words(texts, stop_words=stop_words, allowed_postags=['NOUN','VERB','ADV']):\n",
    "    \"\"\"Form Bigrams, Trigrams and Lemmatization\"\"\"\n",
    "    texts = [simple_preprocess(str(doc)) for doc in texts]\n",
    "    texts = [bigram_mod[doc] for doc in texts]\n",
    "    texts = [trigram_mod[bigram_mod[doc]] for doc in texts]\n",
    "    texts_out = []\n",
    "    nlp = spacy.load('en', disable=['parser', 'ner'])\n",
    "    for sent in texts:\n",
    "        doc = nlp(\" \".join(sent)) \n",
    "        texts_out.append([token.lemma_ for token in doc if token.pos_ in allowed_postags])\n",
    "    # remove stopwords once more after lemmatization\n",
    "    texts_out = [[word for word in simple_preprocess(str(doc)) if word not in stop_words] for doc in texts_out]    \n",
    "    return texts_out\n",
    "\n",
    "data_ready = process_words(tokens)  # processed Text Data!"
   ]
  },
  {
   "cell_type": "code",
   "execution_count": 40,
   "metadata": {},
   "outputs": [],
   "source": [
    "import pickle\n",
    "with open('../data/data_ready.data', 'wb') as filehandle:\n",
    "    pickle.dump(data_ready, filehandle) # store the data as binary data stream"
   ]
  },
  {
   "cell_type": "code",
   "execution_count": 14,
   "metadata": {},
   "outputs": [],
   "source": [
    "id2word = corpora.Dictionary(data_ready)\n",
    "corpus = [id2word.doc2bow(line) for line in data_ready]"
   ]
  },
  {
   "cell_type": "code",
   "execution_count": 15,
   "metadata": {},
   "outputs": [
    {
     "data": {
      "text/plain": [
       "(67947, 21)"
      ]
     },
     "execution_count": 15,
     "metadata": {},
     "output_type": "execute_result"
    }
   ],
   "source": [
    "new_reviews.shape"
   ]
  },
  {
   "cell_type": "code",
   "execution_count": 16,
   "metadata": {},
   "outputs": [
    {
     "data": {
      "text/plain": [
       "67947"
      ]
     },
     "execution_count": 16,
     "metadata": {},
     "output_type": "execute_result"
    }
   ],
   "source": [
    "len(corpus)"
   ]
  },
  {
   "cell_type": "code",
   "execution_count": 17,
   "metadata": {},
   "outputs": [],
   "source": [
    "def compute_coherence_values(dictionary, corpus, texts, limit, start=2, step=3):\n",
    "    \"\"\"\n",
    "    Compute c_v coherence for various number of topics\n",
    "\n",
    "    Parameters:\n",
    "    ----------\n",
    "    dictionary : Gensim dictionary\n",
    "    corpus : Gensim corpus\n",
    "    texts : List of input texts\n",
    "    limit : Max num of topics\n",
    "\n",
    "    Returns:\n",
    "    -------\n",
    "    model_list : List of LDA topic models\n",
    "    coherence_values : Coherence values corresponding to the LDA model with respective number of topics\n",
    "    \"\"\"\n",
    "    coherence_values = []\n",
    "    model_list = []\n",
    "    for num_topics in range(start, limit, step):\n",
    "        print(f\"Model with {num_topics} topics\")\n",
    "        print(f\"Fitting model {num_topics} out of {limit-1}\")\n",
    "        #model=LdaMulticore(corpus=corpus, id2word=dictionary, num_topics=num_topics,random_state=42)\n",
    "        model=LdaMulticore(corpus=corpus,\n",
    "                           id2word=dictionary,\n",
    "                           num_topics=num_topics, \n",
    "                           random_state=100,\n",
    "                           chunksize=100,\n",
    "                           passes=10,\n",
    "                           iterations=100,\n",
    "                           per_word_topics=True)\n",
    "        model_list.append(model)\n",
    "        coherencemodel = CoherenceModel(model=model, texts=texts, dictionary=dictionary, coherence='c_v',processes=1)\n",
    "        print(f\"Finding the coherence score of model {num_topics} \")\n",
    "        coherence_values.append(coherencemodel.get_coherence())\n",
    "\n",
    "    return model_list, coherence_values"
   ]
  },
  {
   "cell_type": "code",
   "execution_count": 18,
   "metadata": {},
   "outputs": [
    {
     "name": "stdout",
     "output_type": "stream",
     "text": [
      "Model with 4 topics\n",
      "Fitting model 4 out of 10\n",
      "Finding the coherence score of model 4 \n",
      "Model with 5 topics\n",
      "Fitting model 5 out of 10\n",
      "Finding the coherence score of model 5 \n",
      "Model with 6 topics\n",
      "Fitting model 6 out of 10\n",
      "Finding the coherence score of model 6 \n",
      "Model with 7 topics\n",
      "Fitting model 7 out of 10\n",
      "Finding the coherence score of model 7 \n",
      "Model with 8 topics\n",
      "Fitting model 8 out of 10\n",
      "Finding the coherence score of model 8 \n",
      "Model with 9 topics\n",
      "Fitting model 9 out of 10\n",
      "Finding the coherence score of model 9 \n",
      "Model with 10 topics\n",
      "Fitting model 10 out of 10\n",
      "Finding the coherence score of model 10 \n"
     ]
    }
   ],
   "source": [
    "model_list, coherence_values = compute_coherence_values(dictionary=id2word, corpus=corpus, texts=data_ready, start=4, limit=11, step=1)"
   ]
  },
  {
   "cell_type": "code",
   "execution_count": 22,
   "metadata": {},
   "outputs": [
    {
     "data": {
      "text/plain": [
       "[0.4835027885510117,\n",
       " 0.49118447462113124,\n",
       " 0.5224510272516671,\n",
       " 0.5274689880552678,\n",
       " 0.5031962433992538,\n",
       " 0.516909630557991,\n",
       " 0.49942513545020056]"
      ]
     },
     "execution_count": 22,
     "metadata": {},
     "output_type": "execute_result"
    }
   ],
   "source": [
    "coherence_values"
   ]
  },
  {
   "cell_type": "code",
   "execution_count": 21,
   "metadata": {},
   "outputs": [
    {
     "data": {
      "image/png": "[encoded data removed]",
      "text/plain": [
       "<Figure size 720x432 with 1 Axes>"
      ]
     },
     "metadata": {
      "needs_background": "light"
     },
     "output_type": "display_data"
    }
   ],
   "source": [
    "# Show graph\n",
    "plt.figure(figsize=(10,6))\n",
    "#limit=11; start=5; step=1;\n",
    "x = range(4, 11)\n",
    "plt.plot(x, coherence_values,label='c_v coherence values')\n",
    "plt.xlabel(\"Num Topics\")\n",
    "plt.ylabel(\"Coherence score\")\n",
    "plt.legend()\n",
    "plt.show()"
   ]
  },
  {
   "cell_type": "code",
   "execution_count": 29,
   "metadata": {},
   "outputs": [
    {
     "data": {
      "text/html": [
       "<div>\n",
       "<style scoped>\n",
       "    .dataframe tbody tr th:only-of-type {\n",
       "        vertical-align: middle;\n",
       "    }\n",
       "\n",
       "    .dataframe tbody tr th {\n",
       "        vertical-align: top;\n",
       "    }\n",
       "\n",
       "    .dataframe thead th {\n",
       "        text-align: right;\n",
       "    }\n",
       "</style>\n",
       "<table border=\"1\" class=\"dataframe\">\n",
       "  <thead>\n",
       "    <tr style=\"text-align: right;\">\n",
       "      <th></th>\n",
       "      <th>No of topics</th>\n",
       "      <th>Coherence Score(c_v)</th>\n",
       "    </tr>\n",
       "  </thead>\n",
       "  <tbody>\n",
       "    <tr>\n",
       "      <th>0</th>\n",
       "      <td>4</td>\n",
       "      <td>0.483503</td>\n",
       "    </tr>\n",
       "    <tr>\n",
       "      <th>1</th>\n",
       "      <td>5</td>\n",
       "      <td>0.491184</td>\n",
       "    </tr>\n",
       "    <tr>\n",
       "      <th>2</th>\n",
       "      <td>6</td>\n",
       "      <td>0.522451</td>\n",
       "    </tr>\n",
       "    <tr>\n",
       "      <th>3</th>\n",
       "      <td>7</td>\n",
       "      <td>0.527469</td>\n",
       "    </tr>\n",
       "    <tr>\n",
       "      <th>4</th>\n",
       "      <td>8</td>\n",
       "      <td>0.503196</td>\n",
       "    </tr>\n",
       "    <tr>\n",
       "      <th>5</th>\n",
       "      <td>9</td>\n",
       "      <td>0.516910</td>\n",
       "    </tr>\n",
       "    <tr>\n",
       "      <th>6</th>\n",
       "      <td>10</td>\n",
       "      <td>0.499425</td>\n",
       "    </tr>\n",
       "  </tbody>\n",
       "</table>\n",
       "</div>"
      ],
      "text/plain": [
       "   No of topics  Coherence Score(c_v)\n",
       "0             4              0.483503\n",
       "1             5              0.491184\n",
       "2             6              0.522451\n",
       "3             7              0.527469\n",
       "4             8              0.503196\n",
       "5             9              0.516910\n",
       "6            10              0.499425"
      ]
     },
     "execution_count": 29,
     "metadata": {},
     "output_type": "execute_result"
    }
   ],
   "source": [
    "pd.DataFrame((zip(x,coherence_values)),\n",
    "            columns=['No of topics','Coherence Score(c_v)'])\n",
    "\n",
    "\n"
   ]
  },
  {
   "cell_type": "code",
   "execution_count": 34,
   "metadata": {},
   "outputs": [],
   "source": [
    "best_model = model_list[3]"
   ]
  },
  {
   "cell_type": "code",
   "execution_count": 45,
   "metadata": {},
   "outputs": [],
   "source": [
    "import pickle\n",
    "filename= '../data/best_topic_model.pkl'\n",
    "pickle.dump(best_model,open(filename,'wb'))"
   ]
  },
  {
   "cell_type": "code",
   "execution_count": 46,
   "metadata": {},
   "outputs": [
    {
     "name": "stdout",
     "output_type": "stream",
     "text": [
      "[(0,\n",
      "  '0.027*\"screen\" + 0.026*\"buy\" + 0.024*\"work\" + 0.022*\"get\" + 0.020*\"month\" + '\n",
      "  '0.018*\"time\" + 0.018*\"issue\" + 0.016*\"call\" + 0.016*\"go\" + 0.015*\"would\"'),\n",
      " (1,\n",
      "  '0.078*\"product\" + 0.052*\"work\" + 0.052*\"come\" + 0.038*\"look\" + '\n",
      "  '0.034*\"brand\" + 0.034*\"condition\" + 0.034*\"seller\" + 0.029*\"scratch\" + '\n",
      "  '0.026*\"purchase\" + 0.024*\"buy\"'),\n",
      " (2,\n",
      "  '0.022*\"screen\" + 0.022*\"use\" + 0.020*\"camera\" + 0.012*\"app\" + 0.011*\"make\" '\n",
      "  '+ 0.010*\"get\" + 0.010*\"also\" + 0.010*\"take\" + 0.008*\"fingerprint\" + '\n",
      "  '0.008*\"look\"'),\n",
      " (3,\n",
      "  '0.089*\"charge\" + 0.068*\"note\" + 0.036*\"charger\" + 0.027*\"come\" + '\n",
      "  '0.019*\"usb\" + 0.017*\"headphone\" + 0.016*\"cable\" + 0.014*\"port\" + '\n",
      "  '0.014*\"include\" + 0.013*\"hold\"'),\n",
      " (4,\n",
      "  '0.173*\"battery\" + 0.079*\"life\" + 0.077*\"work\" + 0.045*\"day\" + 0.034*\"use\" + '\n",
      "  '0.025*\"great\" + 0.024*\"charge\" + 0.022*\"far\" + 0.016*\"really\" + '\n",
      "  '0.016*\"well\"'),\n",
      " (5,\n",
      "  '0.047*\"work\" + 0.034*\"card\" + 0.023*\"use\" + 0.018*\"sim\" + 0.018*\"get\" + '\n",
      "  '0.015*\"call\" + 0.014*\"carrier\" + 0.014*\"unlock\" + 0.014*\"network\" + '\n",
      "  '0.013*\"say\"'),\n",
      " (6,\n",
      "  '0.089*\"love\" + 0.085*\"price\" + 0.035*\"buy\" + 0.033*\"quality\" + '\n",
      "  '0.025*\"camera\" + 0.024*\"value\" + 0.021*\"really\" + 0.020*\"get\" + '\n",
      "  '0.019*\"best\" + 0.019*\"money\"')]\n"
     ]
    }
   ],
   "source": [
    "pprint(best_model.print_topics(num_words=10))"
   ]
  }
 ],
 "metadata": {
  "kernelspec": {
   "display_name": "Python 3",
   "language": "python",
   "name": "python3"
  },
  "language_info": {
   "codemirror_mode": {
    "name": "ipython",
    "version": 3
   },
   "file_extension": ".py",
   "mimetype": "text/x-python",
   "name": "python",
   "nbconvert_exporter": "python",
   "pygments_lexer": "ipython3",
   "version": "3.7.6"
  }
 },
 "nbformat": 4,
 "nbformat_minor": 4
}
