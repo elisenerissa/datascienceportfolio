{
 "cells": [
  {
   "cell_type": "markdown",
   "metadata": {},
   "source": [
    "## Data Collection"
   ]
  },
  {
   "cell_type": "code",
   "execution_count": 30,
   "metadata": {},
   "outputs": [],
   "source": [
    "#importing libraries\n",
    "import requests\n",
    "import pandas as pd\n",
    "import random\n",
    "import time\n",
    "import numpy as np\n",
    "from bs4 import BeautifulSoup"
   ]
  },
  {
   "cell_type": "code",
   "execution_count": 31,
   "metadata": {},
   "outputs": [],
   "source": [
    "#reading the product items file that has been downloaded from Kaggle \n",
    "items = pd.read_csv('../data/amazon_items_v2.csv')"
   ]
  },
  {
   "cell_type": "code",
   "execution_count": 32,
   "metadata": {},
   "outputs": [],
   "source": [
    "def selenium_scrape(url):\n",
    "    '''\n",
    "    Takes in Amazon's product URL and returns the seller's name\n",
    "    '''\n",
    "    import numpy as np\n",
    "    from selenium import webdriver\n",
    "    from selenium.webdriver.common.by import By\n",
    "    from selenium.webdriver.support.ui import WebDriverWait\n",
    "    from selenium.common.exceptions import NoSuchElementException\n",
    "    \n",
    "    options = webdriver.ChromeOptions()\n",
    "    options.add_argument('headless')\n",
    "\n",
    "    driver = webdriver.Chrome('./Downloads/chromedriver')\n",
    "    driver.get(url)\n",
    "    try:\n",
    "        \n",
    "        if driver.find_elements_by_id('sellerProfileTriggerId'):\n",
    "            seller = driver.find_element_by_id('sellerProfileTriggerId').text\n",
    "            return seller\n",
    "        \n",
    "        elif len(driver.find_elements_by_id('buybox-see-all-buying-choices-announce'))==1:\n",
    "            sub_url = driver.find_element_by_id('buybox-see-all-buying-choices-announce').get_attribute('href')\n",
    "            driver.get(sub_url)\n",
    "            seller = driver.find_element(By.CLASS_NAME,'olpSellerName').text\n",
    "            return seller\n",
    "        \n",
    "        elif len(driver.find_elements_by_id('buybox-see-all-buying-choices-announce'))>1:\n",
    "            sub_url = driver.find_element_by_id('buybox-see-all-buying-choices-announce').get_attribute('href')\n",
    "            driver.get(sub_url)\n",
    "            return 'Multiple'\n",
    "        \n",
    "        else:\n",
    "            return np.nan\n",
    "        \n",
    "        driver.close()\n",
    "        \n",
    "    except NoSuchElementException:\n",
    "        driver.close()\n",
    "        return np.nan"
   ]
  },
  {
   "cell_type": "code",
   "execution_count": 41,
   "metadata": {},
   "outputs": [],
   "source": [
    "#create a dataframe with just product urls\n",
    "#we will loop through this dataframe later\n",
    "urls = pd.DataFrame(items['url'])"
   ]
  },
  {
   "cell_type": "code",
   "execution_count": 49,
   "metadata": {},
   "outputs": [],
   "source": [
    "#create a NaN column for sellers\n",
    "urls['sellers'] = np.nan"
   ]
  },
  {
   "cell_type": "code",
   "execution_count": 50,
   "metadata": {},
   "outputs": [
    {
     "data": {
      "text/plain": [
       "Index(['url', 'sellers'], dtype='object')"
      ]
     },
     "execution_count": 50,
     "metadata": {},
     "output_type": "execute_result"
    }
   ],
   "source": [
    "#check the url that has been created\n",
    "urls.columns"
   ]
  },
  {
   "cell_type": "code",
   "execution_count": 60,
   "metadata": {},
   "outputs": [
    {
     "data": {
      "text/html": [
       "<div>\n",
       "<style scoped>\n",
       "    .dataframe tbody tr th:only-of-type {\n",
       "        vertical-align: middle;\n",
       "    }\n",
       "\n",
       "    .dataframe tbody tr th {\n",
       "        vertical-align: top;\n",
       "    }\n",
       "\n",
       "    .dataframe thead th {\n",
       "        text-align: right;\n",
       "    }\n",
       "</style>\n",
       "<table border=\"1\" class=\"dataframe\">\n",
       "  <thead>\n",
       "    <tr style=\"text-align: right;\">\n",
       "      <th></th>\n",
       "      <th>url</th>\n",
       "      <th>sellers</th>\n",
       "    </tr>\n",
       "  </thead>\n",
       "  <tbody>\n",
       "    <tr>\n",
       "      <th>0</th>\n",
       "      <td>https://www.amazon.com/Dual-Band-Tri-Mode-Acti...</td>\n",
       "      <td>NaN</td>\n",
       "    </tr>\n",
       "    <tr>\n",
       "      <th>1</th>\n",
       "      <td>https://www.amazon.com/Motorola-i265-I265-phon...</td>\n",
       "      <td>NaN</td>\n",
       "    </tr>\n",
       "  </tbody>\n",
       "</table>\n",
       "</div>"
      ],
      "text/plain": [
       "                                                 url  sellers\n",
       "0  https://www.amazon.com/Dual-Band-Tri-Mode-Acti...      NaN\n",
       "1  https://www.amazon.com/Motorola-i265-I265-phon...      NaN"
      ]
     },
     "execution_count": 60,
     "metadata": {},
     "output_type": "execute_result"
    }
   ],
   "source": [
    "#another sanity check\n",
    "urls.head(2)"
   ]
  },
  {
   "cell_type": "code",
   "execution_count": 53,
   "metadata": {},
   "outputs": [
    {
     "data": {
      "text/plain": [
       "url          0\n",
       "sellers    720\n",
       "dtype: int64"
      ]
     },
     "execution_count": 53,
     "metadata": {},
     "output_type": "execute_result"
    }
   ],
   "source": [
    "#sanity check \n",
    "urls.isnull().sum()"
   ]
  },
  {
   "cell_type": "markdown",
   "metadata": {},
   "source": [
    "I am going to save this dataframe to csv and load it back in as we may need to run the loop below several times to make sure that we are retrieving all the information that we can retrieve. If I save it and load it again, I won't have to change the variables in my loops as each time I run the cell, the csv file will be overwritten with updated cells. "
   ]
  },
  {
   "cell_type": "code",
   "execution_count": 57,
   "metadata": {},
   "outputs": [],
   "source": [
    "#I am changing the code below to a comment so that \n",
    "#I do not accidentally overwrite my csv file when I re-run this notebook\n",
    "\n",
    "#urls.to_csv('../data/sellers_information_selenium_all.csv',index=False)"
   ]
  },
  {
   "cell_type": "code",
   "execution_count": 58,
   "metadata": {},
   "outputs": [],
   "source": [
    "sellers_selenium = pd.read_csv('../data/sellers_information_selenium_all.csv')"
   ]
  },
  {
   "cell_type": "code",
   "execution_count": 59,
   "metadata": {},
   "outputs": [
    {
     "data": {
      "text/html": [
       "<div>\n",
       "<style scoped>\n",
       "    .dataframe tbody tr th:only-of-type {\n",
       "        vertical-align: middle;\n",
       "    }\n",
       "\n",
       "    .dataframe tbody tr th {\n",
       "        vertical-align: top;\n",
       "    }\n",
       "\n",
       "    .dataframe thead th {\n",
       "        text-align: right;\n",
       "    }\n",
       "</style>\n",
       "<table border=\"1\" class=\"dataframe\">\n",
       "  <thead>\n",
       "    <tr style=\"text-align: right;\">\n",
       "      <th></th>\n",
       "      <th>url</th>\n",
       "      <th>sellers</th>\n",
       "    </tr>\n",
       "  </thead>\n",
       "  <tbody>\n",
       "    <tr>\n",
       "      <th>0</th>\n",
       "      <td>https://www.amazon.com/Dual-Band-Tri-Mode-Acti...</td>\n",
       "      <td>Flip n Smart Phones</td>\n",
       "    </tr>\n",
       "    <tr>\n",
       "      <th>1</th>\n",
       "      <td>https://www.amazon.com/Motorola-i265-I265-phon...</td>\n",
       "      <td>FOREVER ITEMS</td>\n",
       "    </tr>\n",
       "  </tbody>\n",
       "</table>\n",
       "</div>"
      ],
      "text/plain": [
       "                                                 url              sellers\n",
       "0  https://www.amazon.com/Dual-Band-Tri-Mode-Acti...  Flip n Smart Phones\n",
       "1  https://www.amazon.com/Motorola-i265-I265-phon...        FOREVER ITEMS"
      ]
     },
     "execution_count": 59,
     "metadata": {},
     "output_type": "execute_result"
    }
   ],
   "source": [
    "sellers_selenium.head(2)"
   ]
  },
  {
   "cell_type": "code",
   "execution_count": 6,
   "metadata": {
    "scrolled": true
   },
   "outputs": [
    {
     "name": "stdout",
     "output_type": "stream",
     "text": [
      "Row 50 of 720.\n",
      "Row 100 of 720.\n",
      "Row 150 of 720.\n",
      "Row 200 of 720.\n",
      "Row 250 of 720.\n",
      "Row 300 of 720.\n",
      "Row 350 of 720.\n",
      "Row 400 of 720.\n",
      "Row 450 of 720.\n",
      "Row 500 of 720.\n",
      "Row 550 of 720.\n",
      "Row 600 of 720.\n",
      "Row 650 of 720.\n",
      "Row 700 of 720.\n",
      "Completed\n"
     ]
    }
   ],
   "source": [
    "import math\n",
    "\n",
    "\n",
    "#create a loop that loops through every line in the dataframe \n",
    "for i,url in enumerate(sellers_selenium['url']):\n",
    "\n",
    "    #update status every 50 rows \n",
    "    if (i + 1) % 50 == 0:\n",
    "        print(f'Row {i + 1} of {sellers_selenium.shape[0]}.')\n",
    "        \n",
    "    #check if seller is null - this because we may need to run through the dataframe several times \n",
    "    check_seller = sellers_selenium.loc[i,'sellers']\n",
    "    try:\n",
    "        if math.isnan(check_seller):\n",
    "            #implement the function created above here to retrieve seller information     \n",
    "            seller = selenium_scrape(url)\n",
    "            #update the seller name \n",
    "            sellers_selenium.loc[i,'sellers'] = seller\n",
    "            sellers_selenium.to_csv('sellers_information_selenium_all.csv', index=False) #save dataframe to csv\n",
    "\n",
    "\n",
    "    except:\n",
    "        continue\n",
    "\n",
    "\n",
    "    # generate a random sleep duration \n",
    "    sleep_duration = random.randint(2,25)\n",
    "    #print(sleep_duration)\n",
    "    time.sleep(sleep_duration)\n",
    "\n",
    "print(\"Completed\")"
   ]
  }
 ],
 "metadata": {
  "kernelspec": {
   "display_name": "Python 3",
   "language": "python",
   "name": "python3"
  },
  "language_info": {
   "codemirror_mode": {
    "name": "ipython",
    "version": 3
   },
   "file_extension": ".py",
   "mimetype": "text/x-python",
   "name": "python",
   "nbconvert_exporter": "python",
   "pygments_lexer": "ipython3",
   "version": "3.7.6"
  }
 },
 "nbformat": 4,
 "nbformat_minor": 4
}
