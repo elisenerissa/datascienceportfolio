{
 "cells": [
  {
   "cell_type": "markdown",
   "metadata": {
    "colab_type": "text",
    "id": "g-NUL0X8Zc9F"
   },
   "source": [
    "For introduction and problem statement, please refer to notebook 1"
   ]
  },
  {
   "cell_type": "markdown",
   "metadata": {
    "colab_type": "text",
    "id": "LbqyC_u8Zc9G"
   },
   "source": [
    "## Content "
   ]
  },
  {
   "cell_type": "markdown",
   "metadata": {
    "colab_type": "text",
    "id": "uG5atca0Zc9H"
   },
   "source": [
    "Notebook 1: 1_cellphones_reviews_data_cleaning_and_eda\n",
    "- Data Import and Cleaning\n",
    "- Exploratory Data Analysis\n",
    "- Text Data Pre-processing\n",
    "\n",
    "**Notebook 2: 2_cellphones_reviews_topic modelling**\n",
    "- Data Import\n",
    "- Topic Modelling with Gensim\n",
    "\n",
    "**Notebook 3: 3_cellphones_reviews_topic_analysis_and_visualizations**\n",
    "- Findings and Analysis of Topic Modelling\n",
    "\n",
    "**Notebook 4: 4_features_extractions_and_sentiment_analysis**\n",
    "- Data Import\n",
    "- Sentiment Analysis with VADER\n",
    "- Sentiment Analysis with Logistic Regression(Multi-Class Classification)\n",
    "- Evaluation of Sentiment Analysis with BERT(Multi-Class Classification)\n",
    "Please refer to notebook 5 for the fine-tuning process of pre-trained BERT model\n",
    "\n",
    "\n",
    "**Notebook 5: 5_fine_tuning_of_BERT_model**   \n",
    "The reason why this notebook is separated from notebook 4 which contains the evaluation of BERT model is because the fine-tuning of BERT model requires GPU. Hence, the model was fine-tuned on Google Colaboratory and loaded back into notebook 4 for evaluation\n",
    "\n",
    "\n",
    "**Notebook 6: 6_analysis_and_findings**\n",
    "- [Data Import](#Data-Import)\n",
    "- [Comparison of the 3 Methods](#Evaluating-and-Comparing-the-3-Models)\n",
    "- Recommendation and Conclusion \n",
    "- Future Steps"
   ]
  },
  {
   "cell_type": "markdown",
   "metadata": {
    "colab_type": "text",
    "id": "uWrSxTbwZc9H"
   },
   "source": [
    "## Data Import"
   ]
  },
  {
   "cell_type": "code",
   "execution_count": 1,
   "metadata": {
    "colab": {},
    "colab_type": "code",
    "id": "O5ktsLEyZc9I"
   },
   "outputs": [],
   "source": [
    "import pandas as pd \n",
    "import matplotlib.pyplot as plt\n",
    "import numpy as np\n",
    "import spacy\n",
    "from nltk import tokenize\n",
    "from nltk.corpus import stopwords \n",
    "import re\n",
    "from bs4 import BeautifulSoup\n",
    "from nltk.stem import WordNetLemmatizer\n",
    "import pickle\n",
    "import math"
   ]
  },
  {
   "cell_type": "code",
   "execution_count": 2,
   "metadata": {
    "colab": {},
    "colab_type": "code",
    "id": "T9K14PL5Zc9L"
   },
   "outputs": [],
   "source": [
    "new_reviews  = pickle.load(open('../data/reviews_with_feature_sentiments.pkl', 'rb'))"
   ]
  },
  {
   "cell_type": "markdown",
   "metadata": {},
   "source": [
    "## Evaluating and Comparing the 3 Models"
   ]
  },
  {
   "cell_type": "code",
   "execution_count": 45,
   "metadata": {
    "colab": {},
    "colab_type": "code",
    "id": "GEjsS9QqZc9Z",
    "outputId": "c684cc5b-7298-427d-ed09-896c1cb1efd9"
   },
   "outputs": [
    {
     "data": {
      "text/html": [
       "<div>\n",
       "<style scoped>\n",
       "    .dataframe tbody tr th:only-of-type {\n",
       "        vertical-align: middle;\n",
       "    }\n",
       "\n",
       "    .dataframe tbody tr th {\n",
       "        vertical-align: top;\n",
       "    }\n",
       "\n",
       "    .dataframe thead th {\n",
       "        text-align: right;\n",
       "    }\n",
       "</style>\n",
       "<table border=\"1\" class=\"dataframe\">\n",
       "  <thead>\n",
       "    <tr style=\"text-align: right;\">\n",
       "      <th></th>\n",
       "      <th>vader_analysis</th>\n",
       "      <th>logreg_pred</th>\n",
       "      <th>bert_analysis</th>\n",
       "    </tr>\n",
       "  </thead>\n",
       "  <tbody>\n",
       "    <tr>\n",
       "      <th>0</th>\n",
       "      <td>[(5, battery), (5, camera)]</td>\n",
       "      <td>[(5, battery), (5, camera)]</td>\n",
       "      <td>[(5.0, battery), (5.0, camera)]</td>\n",
       "    </tr>\n",
       "    <tr>\n",
       "      <th>1</th>\n",
       "      <td>[(5, battery)]</td>\n",
       "      <td>[(5, battery)]</td>\n",
       "      <td>[(5.0, battery)]</td>\n",
       "    </tr>\n",
       "    <tr>\n",
       "      <th>2</th>\n",
       "      <td>[(5, screen)]</td>\n",
       "      <td>[(5, screen)]</td>\n",
       "      <td>[(5.0, screen)]</td>\n",
       "    </tr>\n",
       "    <tr>\n",
       "      <th>3</th>\n",
       "      <td>[(5, screen)]</td>\n",
       "      <td>[(5, screen)]</td>\n",
       "      <td>[(5.0, screen)]</td>\n",
       "    </tr>\n",
       "    <tr>\n",
       "      <th>4</th>\n",
       "      <td>[(5, screen)]</td>\n",
       "      <td>[(5, screen)]</td>\n",
       "      <td>[(1.0, screen)]</td>\n",
       "    </tr>\n",
       "    <tr>\n",
       "      <th>5</th>\n",
       "      <td>[(5, camera)]</td>\n",
       "      <td>[(1, camera), (5, camera)]</td>\n",
       "      <td>[(5.0, camera)]</td>\n",
       "    </tr>\n",
       "    <tr>\n",
       "      <th>6</th>\n",
       "      <td>[(1, battery)]</td>\n",
       "      <td>[(1, battery)]</td>\n",
       "      <td>[(1.0, battery)]</td>\n",
       "    </tr>\n",
       "    <tr>\n",
       "      <th>7</th>\n",
       "      <td>[(5, screen)]</td>\n",
       "      <td>[(1, screen)]</td>\n",
       "      <td>[(1.0, screen)]</td>\n",
       "    </tr>\n",
       "    <tr>\n",
       "      <th>8</th>\n",
       "      <td>[(5, screen), (3, battery), (1, screen), (5, camera), (3, screen)]</td>\n",
       "      <td>[(5, screen), (1, screen), (5, battery), (5, camera)]</td>\n",
       "      <td>[(5.0, screen), (1.0, screen), (1.0, battery), (5.0, camera)]</td>\n",
       "    </tr>\n",
       "    <tr>\n",
       "      <th>9</th>\n",
       "      <td>[(5, battery)]</td>\n",
       "      <td>[(5, battery)]</td>\n",
       "      <td>[(1.0, battery)]</td>\n",
       "    </tr>\n",
       "  </tbody>\n",
       "</table>\n",
       "</div>"
      ],
      "text/plain": [
       "                                                       vader_analysis  \\\n",
       "0                                         [(5, battery), (5, camera)]   \n",
       "1                                                      [(5, battery)]   \n",
       "2                                                       [(5, screen)]   \n",
       "3                                                       [(5, screen)]   \n",
       "4                                                       [(5, screen)]   \n",
       "5                                                       [(5, camera)]   \n",
       "6                                                      [(1, battery)]   \n",
       "7                                                       [(5, screen)]   \n",
       "8  [(5, screen), (3, battery), (1, screen), (5, camera), (3, screen)]   \n",
       "9                                                      [(5, battery)]   \n",
       "\n",
       "                                             logreg_pred  \\\n",
       "0                            [(5, battery), (5, camera)]   \n",
       "1                                         [(5, battery)]   \n",
       "2                                          [(5, screen)]   \n",
       "3                                          [(5, screen)]   \n",
       "4                                          [(5, screen)]   \n",
       "5                             [(1, camera), (5, camera)]   \n",
       "6                                         [(1, battery)]   \n",
       "7                                          [(1, screen)]   \n",
       "8  [(5, screen), (1, screen), (5, battery), (5, camera)]   \n",
       "9                                         [(5, battery)]   \n",
       "\n",
       "                                                   bert_analysis  \n",
       "0                                [(5.0, battery), (5.0, camera)]  \n",
       "1                                               [(5.0, battery)]  \n",
       "2                                                [(5.0, screen)]  \n",
       "3                                                [(5.0, screen)]  \n",
       "4                                                [(1.0, screen)]  \n",
       "5                                                [(5.0, camera)]  \n",
       "6                                               [(1.0, battery)]  \n",
       "7                                                [(1.0, screen)]  \n",
       "8  [(5.0, screen), (1.0, screen), (1.0, battery), (5.0, camera)]  \n",
       "9                                               [(1.0, battery)]  "
      ]
     },
     "execution_count": 45,
     "metadata": {},
     "output_type": "execute_result"
    }
   ],
   "source": [
    "samples[['vader_analysis','logreg_pred','bert_analysis']][:10]\n",
    "\n",
    "##showcase bert with no 9 "
   ]
  },
  {
   "cell_type": "code",
   "execution_count": 78,
   "metadata": {},
   "outputs": [],
   "source": [
    "#index 20317, asin B07RT1X4FJ\n",
    "iphone_xs = new_reviews[new_reviews['asin'] == 'B07RT1X4FJ']"
   ]
  },
  {
   "cell_type": "code",
   "execution_count": 81,
   "metadata": {},
   "outputs": [
    {
     "data": {
      "text/plain": [
       "20316    Honestly, it was worth it I was very hesitant about buying an iPhone off of Amazon, but I did it and was not disappointed. It came with 100% battery life, so it basically was brand new. It came with a charger and cube (plug), but that's it. Sorry to disappoint those who into that airpod life. No scratches and shipped fairly quickly. The only complaint I have for the iPhone XS, in general, is that I really liked the fingerprint scan, sometimes the face recognition doesn't work when you're looking down. But what it lacks in that feature, the iPhone delivers in the portrait camera mode, I seriously am in love with the blur feature. Sincerely, A very satisfied Amazon customer\n",
       "20317                                                                                                                                                                                                                                                                                                                                                                                                             Eh wouldn’t buy again One - It comes in a weird box Two it had more scuffs and scratches than I’d like for the price 3 - I had to return it because of how over all lame it came and how it showed up/ battery was pretty warn/scratches/ and I didn’t get the awesome feeling of unboxing it..\n",
       "20318                                                                                                                                                                     I recieved the xs MAX, not the xs like advertised. First off I’m going to say that I recieved and iPhone xs MAX, not the standard xs like it’s advertised. Not a big deal to me, but it might be to some people. Also as the other review states, it comes with a charger but not the headphones or the headphone adapter. Other than that it looks brand new and came very quickly! Overall very satisfied. Honestly though, since this is the same price as a new xs, I would probably recommend just buying a brand new one instead.\n",
       "20319                                                                                                                                                                                                                                                                                                                                                                                                                                                                                                                                                                                                                                          Don’t Buy Item arrived with cracked screen, no refund issue still.\n",
       "20320                                                                                                                                                                                                                                                                                                                                                                                                                                                      Just a heads up phone was not in as good of shape as i expected at this price point. the battery life has consistently gotten worse until the point it can no longer hold charge. i’ve contacted about a return and they have yet to offer any support\n",
       "Name: reviews, dtype: object"
      ]
     },
     "execution_count": 81,
     "metadata": {},
     "output_type": "execute_result"
    }
   ],
   "source": [
    "pd.set_option('display.max_colwidth',None)\n",
    "iphone_xs['reviews'][:5]"
   ]
  },
  {
   "cell_type": "code",
   "execution_count": 6,
   "metadata": {},
   "outputs": [],
   "source": [
    "new_reviews['helpfulVotes'] = new_reviews['helpfulVotes'].apply(pd.to_numeric)"
   ]
  },
  {
   "cell_type": "code",
   "execution_count": 18,
   "metadata": {},
   "outputs": [],
   "source": [
    "helpful_reviews_indexes = new_reviews['helpfulVotes'].sort_values(ascending=False).head(50).index"
   ]
  },
  {
   "cell_type": "code",
   "execution_count": 19,
   "metadata": {},
   "outputs": [],
   "source": [
    "helpful_reviews = new_reviews.loc[useful_reviews_indexes ]\n"
   ]
  },
  {
   "cell_type": "code",
   "execution_count": 20,
   "metadata": {},
   "outputs": [],
   "source": [
    "helpful_reviews.to_csv(\"../data/helpful_reviews.csv\",index=False)"
   ]
  },
  {
   "cell_type": "markdown",
   "metadata": {
    "colab_type": "text",
    "id": "DCjEJvVgZc9N"
   },
   "source": [
    "## Comparing VADER vs Logistics Regression vs BERT sentiment analysis"
   ]
  },
  {
   "cell_type": "code",
   "execution_count": 4,
   "metadata": {
    "colab": {},
    "colab_type": "code",
    "id": "zQUXPvI0Zc9N",
    "outputId": "58daeaaa-70ac-448c-d8ed-d953afc85b72"
   },
   "outputs": [
    {
     "data": {
      "text/plain": [
       "Index(['asin', 'name', 'rating', 'date', 'verified', 'review_title', 'body',\n",
       "       'helpfulVotes', 'brand', 'item_title', 'url', 'image', 'reviewUrl',\n",
       "       'totalReviews', 'price', 'originalPrice', 'reviews', 'word_count',\n",
       "       'cleaned_reviews', 'multi_class_sentiment', 'tokens', 'summary',\n",
       "       'sentences_with_keywords', 'features_and_sentiments', 'filter summary',\n",
       "       'logreg_pred', 'data_type', 'bert_analysis', 'vader_analysis'],\n",
       "      dtype='object')"
      ]
     },
     "execution_count": 4,
     "metadata": {},
     "output_type": "execute_result"
    }
   ],
   "source": [
    "new_reviews.columns"
   ]
  },
  {
   "cell_type": "code",
   "execution_count": 5,
   "metadata": {
    "colab": {},
    "colab_type": "code",
    "id": "YjwD-bdDZc9Q",
    "outputId": "b78bf767-ac7a-4742-9f92-15bbfeba8d19"
   },
   "outputs": [
    {
     "data": {
      "text/plain": [
       "list"
      ]
     },
     "execution_count": 5,
     "metadata": {},
     "output_type": "execute_result"
    }
   ],
   "source": [
    "type(new_reviews['logreg_pred'][0])"
   ]
  },
  {
   "cell_type": "code",
   "execution_count": 4,
   "metadata": {
    "colab": {},
    "colab_type": "code",
    "id": "PHcHvw0qZc9S"
   },
   "outputs": [],
   "source": [
    "all_features=set()\n",
    "\n",
    "for idx in new_reviews.index:\n",
    "    for feature in new_reviews.loc[idx,'features_and_sentiments']:\n",
    "        all_features.add(feature[1])"
   ]
  },
  {
   "cell_type": "code",
   "execution_count": 5,
   "metadata": {
    "colab": {},
    "colab_type": "code",
    "id": "6Y49WyJGZc9U",
    "outputId": "6c64f38c-5547-41eb-9fc9-c3ff9a490c68"
   },
   "outputs": [
    {
     "data": {
      "text/plain": [
       "{'battery',\n",
       " 'camera',\n",
       " 'charger',\n",
       " 'fingerprint',\n",
       " 'ringtones',\n",
       " 'screen',\n",
       " 'simcard',\n",
       " 'touchscreen'}"
      ]
     },
     "execution_count": 5,
     "metadata": {},
     "output_type": "execute_result"
    }
   ],
   "source": [
    "all_features #unique features"
   ]
  },
  {
   "cell_type": "markdown",
   "metadata": {},
   "source": [
    "## Accuracy of analysis "
   ]
  },
  {
   "cell_type": "code",
   "execution_count": 11,
   "metadata": {},
   "outputs": [],
   "source": [
    "evaluated_sample = pd.read_csv(\"../data/samples_for_evaluation_updated.csv\")"
   ]
  },
  {
   "cell_type": "code",
   "execution_count": 41,
   "metadata": {},
   "outputs": [],
   "source": [
    "samples = new_reviews.sample(50,random_state=42)\n",
    "samples.reset_index(inplace=True,drop=True)"
   ]
  },
  {
   "cell_type": "code",
   "execution_count": 46,
   "metadata": {},
   "outputs": [],
   "source": [
    "samples.to_csv(\"../data/samples_to_be_evaluated.csv\")"
   ]
  },
  {
   "cell_type": "markdown",
   "metadata": {},
   "source": [
    "pd.set_option('display.max_colwidth',None)\n",
    "samples['sentences_with_keywords'][:10]"
   ]
  },
  {
   "cell_type": "code",
   "execution_count": null,
   "metadata": {},
   "outputs": [],
   "source": [
    "math.isnan()"
   ]
  },
  {
   "cell_type": "code",
   "execution_count": 67,
   "metadata": {},
   "outputs": [
    {
     "data": {
      "text/plain": [
       "{'battery': [5]}"
      ]
     },
     "execution_count": 67,
     "metadata": {},
     "output_type": "execute_result"
    }
   ],
   "source": [
    "dummy = {'battery':[]}\n",
    "for feature in new_reviews['logreg_pred'][0]:\n",
    "    if feature[1] == 'battery':\n",
    "        dummy['battery'].append(feature[0])\n",
    "\n",
    "dummy"
   ]
  },
  {
   "cell_type": "code",
   "execution_count": 6,
   "metadata": {},
   "outputs": [],
   "source": [
    "def mean_ratings (feature_ratings):\n",
    "    all_features = {'camera':[],'battery':[],'fingerprint':[],'screen':[],'charger':[],'simcard':[],'ringtones':[]}\n",
    "    for feature in feature_ratings:\n",
    "        \n",
    "        if feature[1]  == 'camera':\n",
    "            all_features ['camera'].append(feature[0])\n",
    "            \n",
    "        elif feature[1] =='battery':\n",
    "            all_features ['battery'].append(feature[0])\n",
    "            \n",
    "        elif feature[1] == 'fingerprint':\n",
    "            all_features ['fingerprint'].append(feature[0])\n",
    "        \n",
    "        elif feature[1] == 'fingerprints':\n",
    "            all_features ['fingerprint'].append(feature[0])\n",
    "        \n",
    "        elif feature[1] == 'screen':\n",
    "            all_features ['screen'].append(feature[0])\n",
    "            \n",
    "        elif feature[1]  == 'charger':\n",
    "            all_features ['charger'].append(feature[0])\n",
    "        \n",
    "        elif feature[1] == 'touchscreen':\n",
    "            all_features ['screen'].append(feature[0])\n",
    "            \n",
    "        elif feature[1] == 'simcard':\n",
    "            all_features ['simcard'].append(feature[0])\n",
    "        \n",
    "        elif feature[1] == 'ringtones':\n",
    "            all_features ['ringtones'].append(feature[0])\n",
    "    try: \n",
    "        all_features_mean = {key:np.mean(value) for key,value in all_features.items()}\n",
    "    \n",
    "    except:\n",
    "        all_features_mean = {key:np.nan for key,value in all_features.items()}\n",
    "        \n",
    "    new_dict = {key:val for key, val in all_features_mean.items() if math.isnan(val)==False}\n",
    "    \n",
    "    return new_dict \n",
    "    "
   ]
  },
  {
   "cell_type": "code",
   "execution_count": 7,
   "metadata": {},
   "outputs": [
    {
     "data": {
      "text/plain": [
       "[(5, 'screen'),\n",
       " (1, 'screen'),\n",
       " (5, 'camera'),\n",
       " (5, 'fingerprint'),\n",
       " (5, 'battery')]"
      ]
     },
     "execution_count": 7,
     "metadata": {},
     "output_type": "execute_result"
    }
   ],
   "source": [
    "new_reviews['logreg_pred'][22036]"
   ]
  },
  {
   "cell_type": "code",
   "execution_count": 9,
   "metadata": {},
   "outputs": [
    {
     "data": {
      "text/plain": [
       "{'camera': 5.0, 'battery': 5.0, 'fingerprint': 5.0, 'screen': 3.0}"
      ]
     },
     "execution_count": 9,
     "metadata": {},
     "output_type": "execute_result"
    }
   ],
   "source": [
    "dummy = mean_ratings (new_reviews['logreg_pred'][22036])\n",
    "dummy"
   ]
  },
  {
   "cell_type": "code",
   "execution_count": 71,
   "metadata": {},
   "outputs": [
    {
     "data": {
      "text/plain": [
       "{'camera': 5.0, 'battery': 5.0, 'fingerprint': 5.0, 'screen': 3.0}"
      ]
     },
     "execution_count": 71,
     "metadata": {},
     "output_type": "execute_result"
    }
   ],
   "source": [
    "new_dict = {key:val for key, val in dummy.items() if math.isnan(val)==False}\n",
    "new_dict"
   ]
  },
  {
   "cell_type": "code",
   "execution_count": 47,
   "metadata": {},
   "outputs": [
    {
     "data": {
      "text/plain": [
       "nan"
      ]
     },
     "execution_count": 47,
     "metadata": {},
     "output_type": "execute_result"
    }
   ],
   "source": [
    "dummy.pop('charger')"
   ]
  },
  {
   "cell_type": "code",
   "execution_count": 48,
   "metadata": {},
   "outputs": [
    {
     "data": {
      "text/plain": [
       "{'camera': 5.0, 'battery': 5.0, 'fingerprint': 5.0, 'screen': 3.0}"
      ]
     },
     "execution_count": 48,
     "metadata": {},
     "output_type": "execute_result"
    }
   ],
   "source": [
    "dummy"
   ]
  },
  {
   "cell_type": "code",
   "execution_count": 28,
   "metadata": {},
   "outputs": [],
   "source": [
    "for key,value in dummy.items():\n",
    "    if math.isnan(value):\n",
    "        del dummy[key]\n",
    "    \n",
    "    "
   ]
  },
  {
   "cell_type": "code",
   "execution_count": null,
   "metadata": {
    "colab": {},
    "colab_type": "code",
    "id": "x5jFDgmqZc9d"
   },
   "outputs": [],
   "source": [
    "all_products = {}\n",
    "unique_asins = new_reviews['asin'].unique()\n",
    "for product in unique_asins:\n",
    "    all_products[product] = {'camera':[],'battery':[],'fingerprint':[],'screen':[],'charger':[],\n",
    "                                 'touchscreen':[],'simcard':[],'ringtones':[]}\n",
    "    for features_dict in new_reviews['logreg_pred']:\n",
    "\n",
    "        for key,value in features_dict.items():\n",
    "            if key == 'camera':\n",
    "                all_products[product]['camera'].append(value)\n",
    "            elif key =='battery':\n",
    "                all_products[product]['battery'].append(value)\n",
    "            elif key == 'fingerprint':\n",
    "                all_products[product]['fingerprint'].append(value)  \n",
    "            elif key == 'screen':\n",
    "                all_products[product]['screen'].append(value)   \n",
    "            elif key  == 'charger':\n",
    "                all_products[product]['charger'].append(value)\n",
    "            elif key == 'touchscreen':\n",
    "                all_products[product]['touchscreen'].append(value)\n",
    "            elif key == 'simcard':\n",
    "                all_products[product]['simcard'].append(value)\n",
    "            elif key == 'ringtones':\n",
    "                all_products[product]['ringtones'].append(value)      "
   ]
  },
  {
   "cell_type": "markdown",
   "metadata": {
    "colab_type": "text",
    "id": "CXYTbp8XZdAn"
   },
   "source": [
    "## Mean ratings by features of each unique product"
   ]
  },
  {
   "cell_type": "code",
   "execution_count": null,
   "metadata": {
    "colab": {},
    "colab_type": "code",
    "id": "JLcIXEOXZdAn"
   },
   "outputs": [],
   "source": [
    "new_reviews.reset_index(inplace=True,drop=True)"
   ]
  },
  {
   "cell_type": "code",
   "execution_count": null,
   "metadata": {
    "colab": {},
    "colab_type": "code",
    "id": "vtSPkTyhZdAp"
   },
   "outputs": [],
   "source": [
    "unique_asins = new_reviews['asin'].unique()"
   ]
  },
  {
   "cell_type": "code",
   "execution_count": null,
   "metadata": {
    "colab": {},
    "colab_type": "code",
    "id": "F61hynobZdAr"
   },
   "outputs": [],
   "source": [
    "new_reviews.loc[1,'features_and_sentiments']"
   ]
  },
  {
   "cell_type": "code",
   "execution_count": null,
   "metadata": {
    "colab": {},
    "colab_type": "code",
    "id": "5lWcnz7JZdAt"
   },
   "outputs": [],
   "source": [
    "all_products = {}\n",
    "\n",
    "#for cell in new_review['features_and_sentiments']: \n",
    "all_features=set()\n",
    "\n",
    "for product in unique_asins:\n",
    "    all_products[product] = {'camera':[],'battery':[],'fingerprint':[],'screen':[],'charger':[]}\n",
    "    for idx in new_reviews.index:\n",
    "        if new_reviews.loc[idx,'asin'] == product:\n",
    "            for feature in new_reviews.loc[idx,'features_and_sentiments']:\n",
    "                all_features.add(feature[1])\n",
    "                if feature[1] =='battery':\n",
    "                    all_products[product]['battery'].append(feature[0])\n",
    "                elif feature[1]  == 'camera':\n",
    "                    all_products[product]['camera'].append(feature[0])\n",
    "                elif feature[1]  == 'charger':\n",
    "                    all_products[product]['charger'].append(feature[0])\n",
    "                elif feature[1] == 'screen':\n",
    "                    all_products[product]['screen'].append(feature[0])\n",
    "                elif feature[1] == 'fingerprint':\n",
    "                    all_products[product]['fingerprint'].append(feature[0])\n",
    "        "
   ]
  },
  {
   "cell_type": "code",
   "execution_count": null,
   "metadata": {
    "colab": {},
    "colab_type": "code",
    "id": "DLz_hJOPZdAv"
   },
   "outputs": [],
   "source": [
    "for key_1,value_1 in all_products.items():\n",
    "    for key_2,value_2 in all_products[key_1].items():\n",
    "        try:\n",
    "            all_products[key_1][key_2] = round(np.mean(all_products[key_1][key_2]),1)\n",
    "        except:\n",
    "            all_products[key_1][key_2] = np.nan"
   ]
  },
  {
   "cell_type": "code",
   "execution_count": null,
   "metadata": {
    "colab": {},
    "colab_type": "code",
    "id": "Mlp7kdSzZdAw"
   },
   "outputs": [],
   "source": [
    "mean_ratings = pd.DataFrame(all_products).T"
   ]
  },
  {
   "cell_type": "code",
   "execution_count": null,
   "metadata": {
    "colab": {},
    "colab_type": "code",
    "id": "CTgmrOrQZdAy"
   },
   "outputs": [],
   "source": [
    "mean_ratings.reset_index(inplace=True)\n",
    "mean_ratings"
   ]
  },
  {
   "cell_type": "code",
   "execution_count": null,
   "metadata": {
    "colab": {},
    "colab_type": "code",
    "id": "IVji1KzKZdA0"
   },
   "outputs": [],
   "source": [
    "mean_ratings.rename(columns={'index':'asin'},inplace=True)"
   ]
  },
  {
   "cell_type": "code",
   "execution_count": null,
   "metadata": {
    "colab": {},
    "colab_type": "code",
    "id": "IHvljTWLZdA2"
   },
   "outputs": [],
   "source": [
    "updated_mean_ratings = pd.merge(mean_ratings,new_reviews[['asin','item_title']],on='asin',how='inner')\n",
    "updated_mean_ratings.drop_duplicates(subset=['asin'],keep='first',inplace=True)"
   ]
  },
  {
   "cell_type": "code",
   "execution_count": null,
   "metadata": {
    "colab": {},
    "colab_type": "code",
    "id": "Rwi2OJziZdA4"
   },
   "outputs": [],
   "source": [
    "updated_mean_ratings.reset_index(inplace=True,drop=True)"
   ]
  },
  {
   "cell_type": "code",
   "execution_count": null,
   "metadata": {
    "colab": {},
    "colab_type": "code",
    "id": "i6v0clfwZdA5"
   },
   "outputs": [],
   "source": [
    "updated_mean_ratings.tail(20)"
   ]
  },
  {
   "cell_type": "code",
   "execution_count": null,
   "metadata": {
    "colab": {},
    "colab_type": "code",
    "id": "Yow61AI6ZdA7"
   },
   "outputs": [],
   "source": [
    "## Mean ratings by features of each unique product\n",
    "\n",
    "new_reviews.reset_index(inplace=True,drop=True)\n",
    "\n",
    "unique_asins = new_reviews['asin'].unique()\n",
    "\n",
    "new_reviews.loc[1,'features_and_sentiments']\n",
    "\n",
    "\n",
    "all_products = {}\n",
    "\n",
    "#for cell in new_review['features_and_sentiments']: \n",
    "all_features=set()\n",
    "\n",
    "for product in unique_asins:\n",
    "    all_products[product] = {'camera':[],'battery':[],'fingerprint':[],'screen':[],'charger':[]}\n",
    "    for idx in new_reviews.index:\n",
    "        if new_reviews.loc[idx,'asin'] == product:\n",
    "            for feature in new_reviews.loc[idx,'features_and_sentiments']:\n",
    "                all_features.add(feature[1])\n",
    "                if feature[1] =='battery':\n",
    "                    all_products[product]['battery'].append(feature[0])\n",
    "                elif feature[1]  == 'camera':\n",
    "                    all_products[product]['camera'].append(feature[0])\n",
    "                elif feature[1]  == 'charger':\n",
    "                    all_products[product]['charger'].append(feature[0])\n",
    "                elif feature[1] == 'screen':\n",
    "                    all_products[product]['screen'].append(feature[0])\n",
    "                elif feature[1] == 'fingerprint':\n",
    "                    all_products[product]['fingerprint'].append(feature[0])\n",
    "        \n",
    "\n",
    "for key_1,value_1 in all_products.items():\n",
    "    for key_2,value_2 in all_products[key_1].items():\n",
    "        try:\n",
    "            all_products[key_1][key_2] = round(np.mean(all_products[key_1][key_2]),1)\n",
    "        except:\n",
    "            all_products[key_1][key_2] = np.nan\n",
    "\n",
    "mean_ratings = pd.DataFrame(all_products).T\n",
    "\n",
    "mean_ratings.reset_index(inplace=True)\n",
    "mean_ratings\n",
    "\n",
    "mean_ratings.rename(columns={'index':'asin'},inplace=True)\n",
    "\n",
    "updated_mean_ratings = pd.merge(mean_ratings,new_reviews[['asin','item_title']],on='asin',how='inner')\n",
    "updated_mean_ratings.drop_duplicates(subset=['asin'],keep='first',inplace=True)\n",
    "\n",
    "updated_mean_ratings.reset_index(inplace=True,drop=True)\n",
    "\n",
    "updated_mean_ratings.tail(20)"
   ]
  }
 ],
 "metadata": {
  "colab": {
   "name": "6_comparisons_of_sentiment_analysis_results.ipynb",
   "provenance": [],
   "toc_visible": true
  },
  "kernelspec": {
   "display_name": "Python 3",
   "language": "python",
   "name": "python3"
  },
  "language_info": {
   "codemirror_mode": {
    "name": "ipython",
    "version": 3
   },
   "file_extension": ".py",
   "mimetype": "text/x-python",
   "name": "python",
   "nbconvert_exporter": "python",
   "pygments_lexer": "ipython3",
   "version": "3.7.6"
  }
 },
 "nbformat": 4,
 "nbformat_minor": 1
}
