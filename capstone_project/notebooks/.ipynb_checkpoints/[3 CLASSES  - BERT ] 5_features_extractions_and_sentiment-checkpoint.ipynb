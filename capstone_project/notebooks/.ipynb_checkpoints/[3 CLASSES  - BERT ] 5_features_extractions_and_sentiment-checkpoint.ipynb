{
 "cells": [
  {
   "cell_type": "code",
   "execution_count": 5,
   "metadata": {},
   "outputs": [],
   "source": [
    "import pandas as pd \n",
    "import matplotlib.pyplot as plt\n",
    "import numpy as np\n",
    "import spacy\n",
    "from nltk import tokenize\n",
    "from nltk.corpus import stopwords \n",
    "import re\n",
    "from bs4 import BeautifulSoup\n",
    "from nltk.stem import WordNetLemmatizer"
   ]
  },
  {
   "cell_type": "code",
   "execution_count": 6,
   "metadata": {},
   "outputs": [],
   "source": [
    "from vaderSentiment.vaderSentiment import SentimentIntensityAnalyzer\n",
    "analyser = SentimentIntensityAnalyzer()"
   ]
  },
  {
   "cell_type": "code",
   "execution_count": 7,
   "metadata": {},
   "outputs": [],
   "source": [
    "new_reviews = pd.read_csv('../data/cleaned_combined_data.csv',na_filter=False)"
   ]
  },
  {
   "cell_type": "code",
   "execution_count": 8,
   "metadata": {},
   "outputs": [],
   "source": [
    "#iphone_xs = new_reviews[new_reviews['asin'] == 'B07RT1X4FJ']"
   ]
  },
  {
   "cell_type": "code",
   "execution_count": 9,
   "metadata": {},
   "outputs": [],
   "source": [
    "#iphone_xs['url'][63202]"
   ]
  },
  {
   "cell_type": "code",
   "execution_count": 10,
   "metadata": {},
   "outputs": [],
   "source": [
    "new_words = {\n",
    "    'new': 3.0\n",
    "}\n",
    "\n",
    "analyser.lexicon.update(new_words)"
   ]
  },
  {
   "cell_type": "code",
   "execution_count": 11,
   "metadata": {},
   "outputs": [],
   "source": [
    "stop_words = stopwords.words('english')"
   ]
  },
  {
   "cell_type": "code",
   "execution_count": 12,
   "metadata": {},
   "outputs": [
    {
     "data": {
      "text/plain": [
       "179"
      ]
     },
     "execution_count": 12,
     "metadata": {},
     "output_type": "execute_result"
    }
   ],
   "source": [
    "len(stop_words)"
   ]
  },
  {
   "cell_type": "code",
   "execution_count": 13,
   "metadata": {},
   "outputs": [
    {
     "data": {
      "text/plain": [
       "139"
      ]
     },
     "execution_count": 13,
     "metadata": {},
     "output_type": "execute_result"
    }
   ],
   "source": [
    "negation_words = ['ain', 'aren', \"aren't\", 'couldn', \"couldn't\", 'didn', \"didn't\", 'doesn', \"doesn't\", 'hadn', \n",
    "\"hadn't\", 'hasn', \"hasn't\", 'haven', \"haven't\", 'isn', \"isn't\", 'ma', 'mightn', \"mightn't\", 'mustn', \"mustn't\", \n",
    "'needn', \"needn't\", 'shan', \"shan't\", 'shouldn', \"shouldn't\", 'wasn', \"wasn't\", 'weren', \"weren't\", 'won', \"won't\", \n",
    "'wouldn', \"wouldn't\",\"not\",\"no\",'don',\"don't\"]\n",
    "\n",
    "for word in negation_words:\n",
    "    stop_words.remove(word)\n",
    "\n",
    "len(stop_words)"
   ]
  },
  {
   "cell_type": "code",
   "execution_count": 340,
   "metadata": {},
   "outputs": [],
   "source": [
    "def sentences_with_keywords (reviews):\n",
    "    list_of_keywords = ['camera','screen','battery','simcard','touchscreen','fingerprint','fingerprints',\n",
    "                        'ringtones','charger']\n",
    "    summary = set()\n",
    "    texts = tokenize.sent_tokenize(reviews)\n",
    "    for sentence in texts:\n",
    "        sentence = sentence.lower()\n",
    "        for word in list_of_keywords:\n",
    "            if word in sentence:\n",
    "                summary.add(sentence)\n",
    "                \n",
    "    return list(summary)"
   ]
  },
  {
   "cell_type": "code",
   "execution_count": 14,
   "metadata": {},
   "outputs": [],
   "source": [
    "def summarise_reviews (reviews):\n",
    "    list_of_keywords = ['camera','screen','battery','simcard','touchscreen','fingerprint','fingerprints',\n",
    "                        'ringtones','charger']\n",
    "    summary = set()\n",
    "    texts = tokenize.sent_tokenize(reviews)\n",
    "    for sentence in texts:\n",
    "        sentence = sentence.lower()\n",
    "        for word in list_of_keywords:\n",
    "            if word in sentence:\n",
    "                # Remove HTML.\n",
    "                post_text = BeautifulSoup(sentence).get_text()\n",
    "\n",
    "                # Remove non-letters.\n",
    "                letters_only = ' '.join(re.findall(r\"[A-z’]+\",post_text))\n",
    "\n",
    "                # Convert to lower case, split into individual words.\n",
    "                words = letters_only.lower().split()\n",
    "\n",
    "                #convert the stopwords to a set.\n",
    "                stops = set(stop_words)\n",
    "\n",
    "                # Remove stopwords.\n",
    "                meaningful_words = [w for w in words if w not in stops]\n",
    "\n",
    "                # Stemming \n",
    "                #p_stemmer = PorterStemmer()\n",
    "                #meaningful_words = [p_stemmer.stem(w) for w in meaningful_words]\n",
    "\n",
    "                #Lemmatize\n",
    "                lemmatizer = WordNetLemmatizer()\n",
    "                meaningful_words = [lemmatizer.lemmatize(word) for word in meaningful_words]\n",
    "\n",
    "                cleaned_sentence = (\" \".join(meaningful_words))\n",
    "                \n",
    "                summary.add(cleaned_sentence)\n",
    "                \n",
    "    return list(summary)"
   ]
  },
  {
   "cell_type": "code",
   "execution_count": 15,
   "metadata": {},
   "outputs": [],
   "source": [
    "def features_and_sentiments (summarised_reviews):\n",
    "    list_of_keywords = ['camera','screen','battery','simcard','touchscreen','fingerprint','fingerprints',\n",
    "                        'ringtones','charger']\n",
    "    summary = set()\n",
    "    \n",
    "    for cleaned_sentence in summarised_reviews:\n",
    "        \n",
    "        for word in list_of_keywords:\n",
    "            if word in cleaned_sentence:\n",
    "                score = analyser.polarity_scores(cleaned_sentence)\n",
    "                compound = score['compound']\n",
    "\n",
    "                if compound >= 0.075:\n",
    "                    sentiment_score = 5\n",
    "                elif compound >= 0.05:\n",
    "                    sentiment_score = 4\n",
    "                elif compound <= -0.075:\n",
    "                    sentiment_score = 1\n",
    "                elif compound <= -0.05:\n",
    "                    sentiment_score = 2\n",
    "                else:\n",
    "                    sentiment_score = 3\n",
    "\n",
    "                summary.add((sentiment_score,word))\n",
    "    return list(summary)"
   ]
  },
  {
   "cell_type": "code",
   "execution_count": 16,
   "metadata": {},
   "outputs": [],
   "source": [
    "new_reviews['summary'] = new_reviews['reviews'].apply(summarise_reviews)"
   ]
  },
  {
   "cell_type": "code",
   "execution_count": 341,
   "metadata": {},
   "outputs": [],
   "source": [
    "new_reviews['sentences_with_keywords'] = new_reviews['reviews'].apply(sentences_with_keywords)"
   ]
  },
  {
   "cell_type": "code",
   "execution_count": 17,
   "metadata": {},
   "outputs": [],
   "source": [
    "new_reviews['features_and_sentiments'] = new_reviews['summary'].apply(features_and_sentiments)"
   ]
  },
  {
   "cell_type": "code",
   "execution_count": 18,
   "metadata": {},
   "outputs": [
    {
     "data": {
      "text/html": [
       "<div>\n",
       "<style scoped>\n",
       "    .dataframe tbody tr th:only-of-type {\n",
       "        vertical-align: middle;\n",
       "    }\n",
       "\n",
       "    .dataframe tbody tr th {\n",
       "        vertical-align: top;\n",
       "    }\n",
       "\n",
       "    .dataframe thead th {\n",
       "        text-align: right;\n",
       "    }\n",
       "</style>\n",
       "<table border=\"1\" class=\"dataframe\">\n",
       "  <thead>\n",
       "    <tr style=\"text-align: right;\">\n",
       "      <th></th>\n",
       "      <th>reviews</th>\n",
       "      <th>summary</th>\n",
       "    </tr>\n",
       "  </thead>\n",
       "  <tbody>\n",
       "    <tr>\n",
       "      <th>20059</th>\n",
       "      <td>Five Stars Perfect!</td>\n",
       "      <td>[]</td>\n",
       "    </tr>\n",
       "    <tr>\n",
       "      <th>30258</th>\n",
       "      <td>It provides great coverage! Long lasting BATTERY! Big Screen GREAT phone all the Way</td>\n",
       "      <td>[big screen great phone way, long lasting battery]</td>\n",
       "    </tr>\n",
       "  </tbody>\n",
       "</table>\n",
       "</div>"
      ],
      "text/plain": [
       "                                                                                    reviews  \\\n",
       "20059                                                                   Five Stars Perfect!   \n",
       "30258  It provides great coverage! Long lasting BATTERY! Big Screen GREAT phone all the Way   \n",
       "\n",
       "                                                  summary  \n",
       "20059                                                  []  \n",
       "30258  [big screen great phone way, long lasting battery]  "
      ]
     },
     "execution_count": 18,
     "metadata": {},
     "output_type": "execute_result"
    }
   ],
   "source": [
    "pd.set_option('display.max_colwidth',None)\n",
    "new_reviews[['reviews','summary']].sample(2)"
   ]
  },
  {
   "cell_type": "code",
   "execution_count": 19,
   "metadata": {},
   "outputs": [],
   "source": [
    "new_reviews[\"filter summary\"] = new_reviews['summary'].apply(lambda x: x != [])"
   ]
  },
  {
   "cell_type": "code",
   "execution_count": 20,
   "metadata": {},
   "outputs": [],
   "source": [
    "new_reviews = new_reviews[new_reviews[\"filter summary\"] == True]"
   ]
  },
  {
   "cell_type": "code",
   "execution_count": 21,
   "metadata": {},
   "outputs": [
    {
     "data": {
      "text/plain": [
       "(22041, 24)"
      ]
     },
     "execution_count": 21,
     "metadata": {},
     "output_type": "execute_result"
    }
   ],
   "source": [
    "new_reviews.shape"
   ]
  },
  {
   "cell_type": "code",
   "execution_count": 146,
   "metadata": {},
   "outputs": [],
   "source": [
    "#new_reviews.to_csv('../data/cleaned_combined_data_with_keywords.csv',index=False)"
   ]
  },
  {
   "cell_type": "code",
   "execution_count": 342,
   "metadata": {},
   "outputs": [],
   "source": [
    "iphone_xs = new_reviews[new_reviews['asin'] == 'B07RT1X4FJ']"
   ]
  },
  {
   "cell_type": "code",
   "execution_count": 319,
   "metadata": {},
   "outputs": [
    {
     "data": {
      "text/plain": [
       "63202                                                                                                                                                                                                                                                                                                                                                                                                                                                                                                                                                                                                                                                                                                                                                                                                                                                           Honestly, it was worth it I was very hesitant about buying an iPhone off of Amazon, but I did it and was not disappointed. It came with 100% battery life, so it basically was brand new. It came with a charger and cube (plug), but that's it. Sorry to disappoint those who into that airpod life. No scratches and shipped fairly quickly. The only complaint I have for the iPhone XS, in general, is that I really liked the fingerprint scan, sometimes the face recognition doesn't work when you're looking down. But what it lacks in that feature, the iPhone delivers in the portrait camera mode, I seriously am in love with the blur feature. Sincerely, A very satisfied Amazon customer\n",
       "63205                                                                                                                                                                                                                                                                                                                                                                                                                                                                                                                                                                                                                                                                                                                                                                                                                                                                                                                                                                                                                                                                                                                                                                                                                                                                    Eh wouldn’t buy again One - It comes in a weird box Two it had more scuffs and scratches than I’d like for the price 3 - I had to return it because of how over all lame it came and how it showed up/ battery was pretty warn/scratches/ and I didn’t get the awesome feeling of unboxing it..\n",
       "63209                                                                                                                                                                                                                                                                                                                                                                                                                                                                                                                                                                                                                                                                                                                                                                                                                                                                                                                                                                                                                            I recieved the xs MAX, not the xs like advertised. First off I’m going to say that I recieved and iPhone xs MAX, not the standard xs like it’s advertised. Not a big deal to me, but it might be to some people. Also as the other review states, it comes with a charger but not the headphones or the headphone adapter. Other than that it looks brand new and came very quickly! Overall very satisfied. Honestly though, since this is the same price as a new xs, I would probably recommend just buying a brand new one instead.\n",
       "63210                                                                                                                                                                                                                                                                                                                                                                                                                                                                                                                                                                                                                                                                                                                                                                                                                                                                                                                                                                                                                                                                                                                                                                                                                                                                                                                                                                                                                                                                                                 Don’t Buy Item arrived with cracked screen, no refund issue still.\n",
       "63212                                                                                                                                                                                                                                                                                                                                                                                                                                                                                                                                                                                                                                                                                                                                                                                                                                                                                                                                                                                                                                                                                                                                                                                                                                                                                                             Just a heads up phone was not in as good of shape as i expected at this price point. the battery life has consistently gotten worse until the point it can no longer hold charge. i’ve contacted about a return and they have yet to offer any support\n",
       "63213                                                                                                                                                                                                                                                                                                                                                                                                                                                                                                                                                                                                                                                                                                                                                                                                                                                                                                                                                                                                                                                                                                                                                                                                                        Charging cable isn’t original! Firstly, this iphone is really like new. Battery life %100. But i don’t believe the charging cable is original. Cuz as seen in the photos, The material is really poor quality, the cable shape is distorted with a slight bending. As is known, it is a factor that affects charging and phone performance.\n",
       "63214                                                                                                                                                                                                                                                                                                                                                                                                                                                                                                                                                                                                                                                                                                                                                                                                                                                                                                                                                              Phone never turned on. I really would leave 0 stars if it were possible. Be careful with \"renewed\" phones on Amazon. I left it charging almost 2 whole days and it never turned on. And yes I tried different chargers. Went to different outlets and the phone would never turn on. It also did not look new as mentioned. I will never ever buy a \"renewed\" product off of anyone on Amazon. It is just really frustrating because what if I needed a phone by a certain day and I am relying on Amazon do deliver a perfectly working phone. And now I am unfortunately just involved in a hassle.\n",
       "63216                                                                                                                                                                                                                                                                                                                                                                                                                                                                                                                                                                                                                                                                                                                                                                                                                                                                                                                                                                                                                                                                                                                                                                                                                                                                                                                                                    Terrible it won’t even charge from the port anymore Do not buy this phone. It has so many problems like it won’t charge and the battery life is terrible. Just buy it from apple itself because it will be new.\n",
       "63217                                                                                                                                                                                                                                                                                                                                                                                                                                                                                                            It's an iPhone This is a great iPhone. I got it for my grandpa who upgraded from an iPhone 6. The 11 was already announced when we got this, but he didn't like the 11 (not pro) because it was bigger and more expensive and the screen on this is a lot better. The phone as a whole is alright. The cameras are what you can expect from an iPhone (awesome). It's just hard to explain to him why it doesn't have a headphone jack and what happened to the fingerprint scanner. If it had those two it'd be a great phone, but it'll have to settle for being just a great iPhone. Also, the price stung a lot. He says sometimes regrets not getting a Samsung S10 because that did have all the features he wanted for less price and arguably similar quality. Yet, he really likes iOS, and that transition would be a little difficult for him. So to wrap it up, if you're tied into the iOS ecosystem, this is a great phone. This can be a good deal over the iPhone 11 pro, especially if you aren't going to be using a wide angle lens.\n",
       "63218                                                                                                                                                                                                                                                                                                                                                                                                                                                                                                                                                                                                                                                                                                                                                                                                                                                                                                                                                                                                                                                                                                                                                                                                                         Almost good enough but not like new The phone had a larger than expected scratch on the screen. Scratch was about 1 inch and half. Maybe i had a bad unit. It was clean everywhere else and they put the screen protector on top of the screen But for the price and like new condition it stated on the description it was disappointing.\n",
       "63219                                                                                                                                                                                                                                                                                                                                                                                                                                                                                                                                                                                                                                                                                                Please be careful... speaker distorts over 50% volume And battery life is horrible I was skeptical about ordering this phone after reading all the comments.. I gave it a shot and ordered a gold xs 256gb . After receiving the product and started using it I realized that the battery was decreasing rapidly so I rushed and checked the battery life which showed 96% I then received an update from apple which kinda fixed the battery life problem I had to buy a battery case in order to use it for a full day .. my other fault was that I couldn’t increase the volume over 50% or else the speakers would start to distort which is horrible.. I contacted Amazon for a partial refund since I could not return the phone because I’m currently on a business trip but all I got was it wasn’t possible... please be careful when u purchase this item\n",
       "63221                                                                                                                                                                                                                                                                                                                                                                                                                                                                                                                                                                                                                                                                                                                                                                                                                                                                                                                                                                                                                                                                                                                                                                                                 WAY CHEAPER THAN BUYING NEW Phone arrived in great condition with 97% battery capacity. Works very well. I upgraded from the Samsung Galaxy Note 5 I purchased back in 2015. This phone is a spectacular upgrade and works in every way I want it to. Totally worth buying renewed over new. I love just staring at how beautiful it is before I put a case on it.\n",
       "63222                                                                                                                                                                                                                                                                                                                                                                                                                                                                                                                                                                                                                                                                                                                                                                                                                                                                                                                                                                                                                                                                                                                                                                                                                                                                         Refurbished but near perfect condition. Was nervous ordering refurbished but I cannot see any evidence it was ever touched. Battery shows 100% capacity, no scratches or marks anywhere and fully unlocked, tried sprint, att, and cricket Sim and all register and operate without issue.\n",
       "63225                                                                                                                                                                                                                                                                                                                                                                                                                                                                                                                                                                                                                                                                                                                                                                                                                                                                             Impressed with my phone and the seller! WOW! I’m a very skeptical shopper. I thought the description and the price for my phone was too good to be true. My phone was an exact match of the description and I could not be happier. Absolutely spotless, free of marks or scratches. The battery life is currently the same what would be on a new phone. Impressed with the seller’s ability to match a description with the product. I was very skeptical since pictures were not even posted of the phone. I just shopped for months and went with the best seller reviews. Which is why I am choosing to leave you with my experience. No doubt I will buy from this seller again.\n",
       "63226                                                                                                                                                                                                                                                                                                                                                                                                                                                                                                                                                                                                                                                                                                                                                                                                                                                                                                                                                                                                                                                                                                                                                                                                                                                                                                                                          Item came defective The iphone is in good condition externally. But internally there was a serious issue with the battery and Face id would never work. Make sure to check the phone battery and Face id feature working.\n",
       "63228                                                                                                                                                                                                                                                                                                                                                                                                                                                                                                                                                                                                                                                                                                                                                                                                                                                                                                                                                                                                                                                                                                                                                                                                                                                                                                                        iPhone XS flawless case. Great hardware So happy with my iPhone XS Battery is at a 90% screen is flawless. Back glass is flawless. Face ID works. So far I’m happy. You get 90 Day with amazon and also from the seller. happy Happy Happy.\n",
       "63232                                                                                                                                                                                                                                                                                                                                                                                                                                                                                                                                                                                                                                                                                                                                                                                                                                                                                                                                                                                                                                                                                                                                                                                                                                                                                                                                                 Great buy! The phone arrived in perfect condition, no scratches or damage of any kind, actually it's like new. I tested the battery life and it is in excelent condition too. The phone is unlocked as advertised.\n",
       "63233                                                                                                                                                                                                                                                                                                                                                                                                                                                                                                                                                                                                                                                                                                                                                                                                                                                                                                                                       Average condition Phone came with dents, cracks and scratches along the edges of the screen, overall moderate condition but not worth the price paid honestly, maybe $600 max but that’s my opinion. I’d rather not wait more time to return it and get a new one since it will just waste time to get an item with the exact same condition back. Phone came with a cheap knockoff lightning charger, only charges on one side and overheats often. Shipping was fast and reliable. Item is great honestly but I would recommend buying the max same storage and everything because it’s the same price with other sellers.\n",
       "63235                                                                                                                                                                                                                                                                                                                                                                                                                                                                                                                                                                                                                                                                                                                                                                                                                                                                                                                                                         Perfect condition I had to get in and write an initial review so that anyone considering this phone for a gift would feel confident with their purchase. Anytime you see “renewed” you expect something less than new but your not sure how it will compare to new. Honestly in this case you would not know the difference. I was pleasantly surprised. I received this phone yesterday and it is perfect as if I just unboxed a new iPhone XS. The phone powered on and had 100% battery. I am so please with this phone. It also arrived 4 days ahead of the expected delivery date. Thank you CellCow.\n",
       "63238                                                                                                                                                                                                                                                                                                                                                                                                                                                                                                                                                                                                                                                                                                                                                                                                                                                                                                                                                                                                                                                                                                                                                                                                                                                    Amazing! When I say this phone came like new, I mean it actually had 0 scratches on it with 100% battery, so that was a nice surprise. I also confirmed with Apple to make sure the phone was real, It’s possible I I just got an excellent previous owner, but from my experience this was well worth it. A+++\n",
       "63239                                                                                                                                                                                                                                                                                                                                                                                                                                                                                                                                                                                                                                                                                                                                                                                                                                                                                                                                                                                                                                                                                                                                                                                                                                                                                                                                                        Perfect, came early too! Came with 100% battery health (battery was new), packaged well, and came early. After around 5 hours of use everything seems to be working well. Also came with a 90 day warranty.\n",
       "63245                                                                                                                                                                                                                                                                                                                                                                                                                                                                                                                                                                                                                                                                                                                                                                                                                                                                                                                                                                                                                                                                                                                                                      Great phone for price This phone is absolutely awesome for the price. I was a little worried after reading some of the reviews, but the phone came in perfect condition. It comes with a charger and box, but like the other reviews said, it doesn’t come with an adapter or the AirPods which was not an issue with me because it was such a good price. Definitely worth the buy, had no issues setting up\n",
       "63246                                                                                                                                                                                                                                                                                                                                                                                                                                                                                                                                                                                                                                                                                                                                                                                                                                                                                                                                                                                                                                                                                             Product came quick and in good condition look new I was a little skeptical at first about amazon renewed products due to the reviews that i was reading however everything came in good condition phone came with no box but the charger and the wall block , I had even seen people saying there phone arrived with less than 100% battery life. Mine however came with 100%. I recommended this phone to anyone looking for a XS in good condition for a good price.\n",
       "63249                                                                                                                                                                                                                                                                                                                                                                                                                                                                                                                                                                                                                                                                                                                                                                                                                                                                                                                                                                                                                                                                                                                                                                                                                                                                                                                                                                                                                                 Pleased! Battery condition was at 89%, very minor scratches, and seems to be working like normal. Very pleased with this purchase!\n",
       "63250                                                                                                                                                                                                                                                                                                                                                                                                                                                                                                                                                                                                                                                                                                                                                                                                                                                                                                                                                                                                                                                                                                                                                                                              look like a brand new phone I ordered I Phone XS 256 GB and it shipped very fast and delivered in 3 days. I was worried about the quality of the renewed phone but when I opened it, it was like in new condition. no scratch and no dent. So far it is working great. 88 perfect battery health. The phone charger is not generic (not from apple) but working fine.\n",
       "63253                                                                                                                                                                                                                                                                                                                                                                                                                                                                                                                                                                                                                                                                                                                                                                                                                                                                                                                                                                                                                                                                                                                                                                                                                                                                                                                                                              Almost perfect condition Looked and felt like new. Everything works except the “selfie” camera. Makes a weird vertical red line on top of image. Not a deal breaker for me since Face-ID still works.\n",
       "63254                                                                                                                                                                                                                                                                                                                                                                                                                                                                                                                                                                                                                                                                                                                                                                                                                                                                                                                                                                                                                                                                                                                                                                                                                                                                                                                                                                                                                                                 Fair price Battary life was around 90%, Some skratches on the screen, though for value of money its quite fair : )\n",
       "63255                                                                                                                                                                                                                                                                                                                                                                                                                                                                                                                                                                                                                                                                                                                                                                                                                                                                                                                                                                                                                                                                                                                                                                                                                                                                                                                                                                                                                                   100% recommended Great value and condition. Arrived like new, no scratches, battery life at 98% I’m so happy with this purchase.\n",
       "63256                                                                                                                                                                                                                                                                                                                                                                                                                                                                                                                                                                                                                                                                                                                                                                                                                                                                                                                                                                                                                                                                                                                                                                                                                                                      Totally worth it Phone arrived a day early. No scratches that I could find, phone looks brand new. 100% battery life. Seems to be completely functioning so far! I was hesitant to get a refurbished phone, but I’m glad I did! Worth the savings! It was just the phone and a charger, no other accessories.\n",
       "63258                                                                                                                                                                                                                                                                                                                                                                                                                                                                                                                                                                                                                                                                                                                                                                                                                                                                                                                                                                                                                                                                                                                                                                                                                                                          Apple iPhone XS screen too small for my liking Apple iPhone XS is a great phone and the seller kept his side of the deal. However, when I received the phone, I was not impressed due to the small screen size. I have shipped it back through UPS; and ordered Apple iPhone XS Max, 6.5\", 512GB instead.\n",
       "63262                                                                                                                                                                                                                                                                                                                                                                                                                                                                                                                                                                                                                                                                                                                                                                                                                                                                                                                                                                                                                                                                                                                                                                                                                                                                                                                                                                                                        Product secretly defective but it occurs over time Purple line appeared on my screen and it won’t go away didn’t happen until after my return window closed\n",
       "63264                                                                                                                                                                                                                                                                                                                                                                                                                                                                                                                                                                                                                                                                                                                                                                                                                                                                                                                                                                                                                                                                                                                                                                                                                                                                                                                                                                                                                                                   Phone came with huge scratches on the screen Phone came in very used condition with huge scratches on the screen\n",
       "63271                                                                                                                                                                                                                                                                                                                                                                                                                                                                                                                                                                                                                                                                                                                                                                                                                                                                                                                                                                                                                                                                                                                                                                                                                                                                                                                                                         Excellent condition, better than expected As a renewed product I was a bit unsure buying this product. However everything seems okay with a full battery life. Unfortunately doesn’t come with headphones.\n",
       "63275                                                                                                                                                                                                                                                                                                                                                                                                                                                                                                                                                                                                                                                                                                                                                                                                                                                                                                                                                                                                                                                                                                                                                                                                                                                                                                                                                                            Good condition, reach my expectation! The seller was iPower Resale Inc, and the iPhone was in a good condition. Minor scratches on the screen, and battery was 91% of peak performance.\n",
       "63276                                                                                                                                                                                                                                                                                                                                                                                                                                                                                                                                                                                                                                                                                                                                                                                                                                                                                                                                                                                                                                                                                                                                                                                                                                                                                                                                                               Buy an otter phone case if you are very clumsy like me Very good came with case and screen protector which made me appreciate the work from seller or else my phone would have been cracked severely\n",
       "63277                                                                                                                                                                                                                                                                                                                                                                                                                                                                                                                                                                                                                                                                                                                                                                                                                                                                                                                                                                                                                                                                                                                                                                                                                                                                                                                                                                                                         Quality phone with no flaws Solid phone. Easy set up. No issues with it being unlocked. No marks. No flaws. Battery lasts all day with lots of active use.\n",
       "63278                                                                                                                                                                                                                                                                                                                                                                                                                                                                                                                                                                                                                                                                                                                                                                                                                                                                                                                                                                                                                                                                                                                                                                                                                                                                                                                                                                                                                                                                good condition. Good condition but the screen is a bit scratched all in all it’s in good condition.\n",
       "63288                                                                                                                                                                                                                                                                                                                                                                                                                                                                                                                                                                                                                                                                                                                                                                                                                                                                                                                                                                                                                                                                                                                                                                                                                                                                                                                                                                                                                                           Excellent phone, great deal Excellent condition, no scratches, looks brand new. Battery at 100% health/maximum capacity.\n",
       "63289                                                                                                                                                                                                                                                                                                                                                                                                                                                                                                                                                                                                                                                                                                                                                                                                                                                                                                                                                                                                                                                                                                                                                                                                                                                                                                                                                                                                                                                                           Good phone Battery life is abit down but outlook is okay no scratches, inside works fine\n",
       "63310                                                                                                                                                                                                                                                                                                                                                                                                                                                                                                                                                                                                                                                                                                                                                                                                                                                                                                                                                                                                                                                                                                                                                                                                                                                                                                                          3.9/5 Arrived today, seems no problem but a really little bit of scratches on the edges. But it's not appear. Came with just charger and lightning usb. After having this for 4 days, i can tell you it was a good deal, at least for me!\n",
       "63313    Screen and speaker problem Ok I got a space gray iPhone XS with 256GB and I was happy to get it, it came in a odd box but I didn’t really care about that I got the phone and there are dings and scratch’s on The outer metal case of the phone and I can tell that I he front glass and LCD scream were replaced be the screen kinda drags the image like on a old computer we’re the image stays for a second, that was one thing I was annoyed about that but the second thing was that it sound like the bottom speaker was broken at one point and they bought another one but it is a really cheap speaker because at certain points it has a pitch of sound with it and it just doesn’t sound good the speaker next to the Face ID camera works perfectly just the one at the bottom of the phone is really bad me personally I don’t care if it has dings or scratch’s on the outer Metal frame of the phone it just really annoys me when they replace the speaker with a bad one and that they get a cheaper LCD screen just to save a little bit of money I mostly notice the bad cream when I’m scrolling on instagram, Twitter or YouTube it’s when you are scrolling that it is the most noticeable problem wouldn’t buy again if I new they replaced parts with bad ones also battery gets kinda worm/hot when charging or on FaceTime and sometimes just randomly but that may just happen when running powerful or changing so that may just be normal not to sure but the battery stays charged all day so not too worried about the battery\n",
       "63319                                                                                                                                                                                                                                                                                                                                                                                                                                                                                                                                                                                                                                                                                                                                                                                                                                                                                                  Dud phone, likely due to tampering These people tamper with the phones in order to unlock them, in my case it arrived unable to be updated to any version of iOS, rendering it useless, as you have to update to restore from backup. It's also unable to be restored to complete factory reset (through the recovery screen reset method using itunes). I got on the phone with them and they told me to \"Wait a couple of days\" because there's a problem at apple's end. Joke is on them, I talked to apple to try and get this thing updated but no matter what we tried it was impossible. The phone is a dud and they want me to wait a few days? Get real!\n",
       "63320                                                                                                                                                                                                                                                                                                                                                                                                                                                                                                                                                                                                                                                                                                                                                                                                                                                                                                                                                                                                                                                                                                                                    Scratched AF. Beat down phone. Phone works fine, but the claim “looks like new” is a joke. I tried twice ordering from the same seller and the condition was worse the 2nd time. Covered in scratches and battery life depleted to 86%. Sad, irritating experience and sellers route of recourse was to call a phone number that responded “mailbox full”. Save yourself the frustration and order a phone directly from Apple.\n",
       "63321                                                                                                                                                                                                                                                                                                                                                                                                                                                                                                                                                                                                                                                                    Overall, i love! Compared to my 6, it’s different. Took some time getting used to no home screen. Occasionally the data/ wifi connection gets iffy. I still have the same plan as i did w my 6 and still the same circumstances (same home wifi, same job/ school ect) calls/ facetime will occasionally freeze/ sound fuzzy if i am not connected to wifi. That was never a problem with my 6 (my 6 was a GSM unlocked, idk if that has anything to do with it) I wear glass, and sometimes the face ID does not recognize me if i do not have them on. Battery life is great! And i like being able to access low power mode easier than having to go through settings all the time! All in all, good phone. I can tell you one thing, it is not worth $600+. The raw materials used to make iphones are worth less than $10. This was the best price i found for this phone, so thank you!!!\n",
       "63323                                                                                                                                                                                                                                                                                                                                                                                                                                                                                                                                                                                                                                                                                                                                                                                                                                                                                                                                                                                                                                                                                                                                                                                        Don’t do it! I know the price point is tempting but don’t do it! I just received the iPhone I ordered and it was terrible condition. I’m not sure how it passed their “quality inspection” but it came with scratches all over and with a broken screen... It gets better because now I have to pay for the return shipping. Just save yourself a headache and don’t do it.\n",
       "63324                                                                                                                                                                                                                                                                                                                                                                                                                                                                                                                                                                                                                                                                                                                                                                                                                                                                                                                                                                                                                                                                                                                                                                       Basically Perfect and Brand New (ignore the angry 1 star) I was a little bit scared of my purchase given the one star review, but I was extremely pleasant Lee surprised. The phone I received looks completely brand new (I looked for any defects and I couldn’t find one), the battery health is 100, and the screen is great. I would highly recommend buying this if you’re interested.\n",
       "63325                                                                                                                                                                                                                                                                                                                                                                                                                                                                                                                                                                                                                                                                                                                                                                                                                                                                                                                                                                                                                                                                                                                                                                                                                                                                                             Only disappointment Phone screen was in pretty rough shape when we got it. Expected much more but spent $200 on a new screen and then found out that the phone was warped. Not in the condition that it was promised, very disappointed. Will not buy from here again.\n",
       "63326                                                                                                                                                                                                                                                                                                                                                                                                                                                                                                                                                                                                                                                                                                                                                                                                                                                                                                                                                                                                                                                                                                                                                                                               Fraudulent Seller Problems with iOS, battery has half life, intermittently turns off on its own, marred back glass, scratched screen, screen adhesive seeping out of edges. Not as advertised, not carrier free (or unlocked), running a flash program overtop the iOS to simulate being unlocked which takes up both memory being used and ability to run programs.\n",
       "63327                                                                                                                                                                                                                                                                                                                                                                                                                                                                                                                                                                                                                                                                                                                                                                                                                                                                                                                                                                                                                                                                                                                                                                                                                                                                                                                                           New Phone for Half Price I got a new phone for half the price!!! 100% battery health, when received. I scrupulously went over it & THE ONLY blemish I could even notice was a barely-visual blemish on the camera bezel.\n",
       "63328                                                                                                                                                                                                                                                                                                                                                                                                                                                                                                                                                                                                                                                                                                                                                                                                                                                                                                                                                                                                                                                                                                                                                                                                                                                                                                                                                                               Works great! Works great! Very happy with purchase. I’ve had it for several months now just to make sure the battery is still charging before leaving a review. Couldn’t be happier.\n",
       "63329                                                                                                                                                                                                                                                                                                                                                                                                                                                                                                                                                                                                                                                                                                                                                                                                                                                                                                                                                                                                                                                                                                                                                                                                                                                                                                                 Almost new phone It is almost new phone. No scratches whatsoever. I checked with Apple and the phone was just 4 months old. Really happy with my purchase. Thank you. It comes in generic white box and with just charger. No headphones included.\n",
       "Name: reviews, dtype: object"
      ]
     },
     "execution_count": 319,
     "metadata": {},
     "output_type": "execute_result"
    }
   ],
   "source": [
    "pd.set_option('display.max_colwidth',None)\n",
    "iphone_xs['reviews']"
   ]
  },
  {
   "cell_type": "code",
   "execution_count": 317,
   "metadata": {},
   "outputs": [
    {
     "data": {
      "text/plain": [
       "['expected much spent new screen found phone warped',\n",
       " 'disappointment phone screen pretty rough shape got']"
      ]
     },
     "execution_count": 317,
     "metadata": {},
     "output_type": "execute_result"
    }
   ],
   "source": [
    "iphone_xs['summary'][63325]"
   ]
  },
  {
   "cell_type": "code",
   "execution_count": 318,
   "metadata": {
    "scrolled": true
   },
   "outputs": [
    {
     "data": {
      "text/plain": [
       "63202    [(3, charger), (5, battery), (5, fingerprint), (5, camera)]\n",
       "63205                                                 [(5, battery)]\n",
       "63209                                                 [(3, charger)]\n",
       "63210                                                  [(1, screen)]\n",
       "63212                                                 [(1, battery)]\n",
       "63213                                                 [(3, battery)]\n",
       "63214                                                 [(5, charger)]\n",
       "63216                                                 [(1, battery)]\n",
       "63217                   [(1, fingerprint), (5, screen), (5, camera)]\n",
       "63218                                     [(5, screen), (1, screen)]\n",
       "63219                                                 [(1, battery)]\n",
       "63221                                                 [(5, battery)]\n",
       "63222                                                 [(1, battery)]\n",
       "63225                                                 [(5, battery)]\n",
       "63226                                   [(5, battery), (1, battery)]\n",
       "63228                                    [(5, screen), (5, battery)]\n",
       "63232                                                 [(3, battery)]\n",
       "63233                                    [(3, charger), (5, screen)]\n",
       "63235                                                 [(3, battery)]\n",
       "63238                                                 [(5, battery)]\n",
       "63239                                                 [(5, battery)]\n",
       "63245                                                 [(3, charger)]\n",
       "63246                                   [(5, battery), (5, charger)]\n",
       "63249                                                 [(5, battery)]\n",
       "63250                                   [(1, charger), (5, battery)]\n",
       "63253                                                  [(3, camera)]\n",
       "63254                                                  [(5, screen)]\n",
       "63255                                                 [(5, battery)]\n",
       "63256                                   [(1, charger), (3, battery)]\n",
       "63258                                     [(5, screen), (1, screen)]\n",
       "63262                                                  [(1, screen)]\n",
       "63264                                                  [(5, screen)]\n",
       "63271                                                 [(5, battery)]\n",
       "63275                                    [(3, screen), (3, battery)]\n",
       "63276                                                  [(5, screen)]\n",
       "63277                                                 [(5, battery)]\n",
       "63278                                                  [(5, screen)]\n",
       "63288                                                 [(3, battery)]\n",
       "63289                                                 [(5, battery)]\n",
       "63310                                                 [(3, charger)]\n",
       "63313                       [(5, screen), (5, battery), (5, camera)]\n",
       "63319                                                  [(5, screen)]\n",
       "63320                                                 [(3, battery)]\n",
       "63321                                    [(5, battery), (1, screen)]\n",
       "63323                                                  [(1, screen)]\n",
       "63324                                    [(5, screen), (5, battery)]\n",
       "63325                                     [(5, screen), (3, screen)]\n",
       "63326                                    [(1, screen), (1, battery)]\n",
       "63327                                    [(3, battery), (3, camera)]\n",
       "63328                                                 [(5, battery)]\n",
       "63329                                                 [(3, charger)]\n",
       "Name: features_and_sentiments, dtype: object"
      ]
     },
     "execution_count": 318,
     "metadata": {},
     "output_type": "execute_result"
    }
   ],
   "source": [
    "pd.set_option('display.max_colwidth',None)\n",
    "iphone_xs['features_and_sentiments']"
   ]
  },
  {
   "cell_type": "code",
   "execution_count": 22,
   "metadata": {},
   "outputs": [
    {
     "data": {
      "text/plain": [
       "[(5, 'battery'), (5, 'camera'), (3, 'charger'), (5, 'fingerprint')]"
      ]
     },
     "execution_count": 22,
     "metadata": {},
     "output_type": "execute_result"
    }
   ],
   "source": [
    "iphone_xs.loc[63202,'features_and_sentiments']"
   ]
  },
  {
   "cell_type": "markdown",
   "metadata": {},
   "source": [
    "## Mean ratings by features of each unique product"
   ]
  },
  {
   "cell_type": "code",
   "execution_count": 23,
   "metadata": {},
   "outputs": [],
   "source": [
    "new_reviews.reset_index(inplace=True,drop=True)"
   ]
  },
  {
   "cell_type": "code",
   "execution_count": 24,
   "metadata": {},
   "outputs": [],
   "source": [
    "unique_asins = new_reviews['asin'].unique()"
   ]
  },
  {
   "cell_type": "code",
   "execution_count": 25,
   "metadata": {},
   "outputs": [
    {
     "data": {
      "text/plain": [
       "[(3, 'ringtones')]"
      ]
     },
     "execution_count": 25,
     "metadata": {},
     "output_type": "execute_result"
    }
   ],
   "source": [
    "new_reviews.loc[1,'features_and_sentiments']"
   ]
  },
  {
   "cell_type": "code",
   "execution_count": 26,
   "metadata": {},
   "outputs": [],
   "source": [
    "all_products = {}\n",
    "\n",
    "#for cell in new_review['features_and_sentiments']: \n",
    "all_features=set()\n",
    "\n",
    "for product in unique_asins:\n",
    "    all_products[product] = {'camera':[],'battery':[],'fingerprint':[],'screen':[],'charger':[]}\n",
    "    for idx in new_reviews.index:\n",
    "        if new_reviews.loc[idx,'asin'] == product:\n",
    "            for feature in new_reviews.loc[idx,'features_and_sentiments']:\n",
    "                all_features.add(feature[1])\n",
    "                if feature[1] =='battery':\n",
    "                    all_products[product]['battery'].append(feature[0])\n",
    "                elif feature[1]  == 'camera':\n",
    "                    all_products[product]['camera'].append(feature[0])\n",
    "                elif feature[1]  == 'charger':\n",
    "                    all_products[product]['charger'].append(feature[0])\n",
    "                elif feature[1] == 'screen':\n",
    "                    all_products[product]['screen'].append(feature[0])\n",
    "                elif feature[1] == 'fingerprint':\n",
    "                    all_products[product]['fingerprint'].append(feature[0])\n",
    "        "
   ]
  },
  {
   "cell_type": "code",
   "execution_count": 27,
   "metadata": {},
   "outputs": [
    {
     "name": "stderr",
     "output_type": "stream",
     "text": [
      "/Users/elisenerissa/opt/anaconda3/lib/python3.7/site-packages/numpy/core/fromnumeric.py:2957: RuntimeWarning: Mean of empty slice.\n",
      "  out=out, **kwargs)\n",
      "/Users/elisenerissa/opt/anaconda3/lib/python3.7/site-packages/numpy/core/_methods.py:80: RuntimeWarning: invalid value encountered in double_scalars\n",
      "  ret = ret.dtype.type(ret / rcount)\n"
     ]
    }
   ],
   "source": [
    "for key_1,value_1 in all_products.items():\n",
    "    for key_2,value_2 in all_products[key_1].items():\n",
    "        try:\n",
    "            all_products[key_1][key_2] = round(np.mean(all_products[key_1][key_2]),1)\n",
    "        except:\n",
    "            all_products[key_1][key_2] = np.nan"
   ]
  },
  {
   "cell_type": "code",
   "execution_count": 28,
   "metadata": {},
   "outputs": [],
   "source": [
    "mean_ratings = pd.DataFrame(all_products).T"
   ]
  },
  {
   "cell_type": "code",
   "execution_count": 29,
   "metadata": {},
   "outputs": [
    {
     "data": {
      "text/html": [
       "<div>\n",
       "<style scoped>\n",
       "    .dataframe tbody tr th:only-of-type {\n",
       "        vertical-align: middle;\n",
       "    }\n",
       "\n",
       "    .dataframe tbody tr th {\n",
       "        vertical-align: top;\n",
       "    }\n",
       "\n",
       "    .dataframe thead th {\n",
       "        text-align: right;\n",
       "    }\n",
       "</style>\n",
       "<table border=\"1\" class=\"dataframe\">\n",
       "  <thead>\n",
       "    <tr style=\"text-align: right;\">\n",
       "      <th></th>\n",
       "      <th>index</th>\n",
       "      <th>camera</th>\n",
       "      <th>battery</th>\n",
       "      <th>fingerprint</th>\n",
       "      <th>screen</th>\n",
       "      <th>charger</th>\n",
       "    </tr>\n",
       "  </thead>\n",
       "  <tbody>\n",
       "    <tr>\n",
       "      <th>0</th>\n",
       "      <td>B0000SX2UC</td>\n",
       "      <td>3.0</td>\n",
       "      <td>3.6</td>\n",
       "      <td>NaN</td>\n",
       "      <td>3.8</td>\n",
       "      <td>5.0</td>\n",
       "    </tr>\n",
       "    <tr>\n",
       "      <th>1</th>\n",
       "      <td>B000SKTZ0S</td>\n",
       "      <td>3.0</td>\n",
       "      <td>3.4</td>\n",
       "      <td>NaN</td>\n",
       "      <td>5.0</td>\n",
       "      <td>3.0</td>\n",
       "    </tr>\n",
       "    <tr>\n",
       "      <th>2</th>\n",
       "      <td>B001AO4OUC</td>\n",
       "      <td>3.8</td>\n",
       "      <td>2.0</td>\n",
       "      <td>NaN</td>\n",
       "      <td>2.3</td>\n",
       "      <td>3.0</td>\n",
       "    </tr>\n",
       "    <tr>\n",
       "      <th>3</th>\n",
       "      <td>B001DCJAJG</td>\n",
       "      <td>NaN</td>\n",
       "      <td>5.0</td>\n",
       "      <td>NaN</td>\n",
       "      <td>NaN</td>\n",
       "      <td>5.0</td>\n",
       "    </tr>\n",
       "    <tr>\n",
       "      <th>4</th>\n",
       "      <td>B001GQ3DJM</td>\n",
       "      <td>NaN</td>\n",
       "      <td>3.0</td>\n",
       "      <td>NaN</td>\n",
       "      <td>5.0</td>\n",
       "      <td>3.0</td>\n",
       "    </tr>\n",
       "    <tr>\n",
       "      <th>...</th>\n",
       "      <td>...</td>\n",
       "      <td>...</td>\n",
       "      <td>...</td>\n",
       "      <td>...</td>\n",
       "      <td>...</td>\n",
       "      <td>...</td>\n",
       "    </tr>\n",
       "    <tr>\n",
       "      <th>626</th>\n",
       "      <td>B07Z8BL2VW</td>\n",
       "      <td>4.0</td>\n",
       "      <td>3.8</td>\n",
       "      <td>1.0</td>\n",
       "      <td>5.0</td>\n",
       "      <td>4.3</td>\n",
       "    </tr>\n",
       "    <tr>\n",
       "      <th>627</th>\n",
       "      <td>B07ZDJCL76</td>\n",
       "      <td>4.3</td>\n",
       "      <td>NaN</td>\n",
       "      <td>NaN</td>\n",
       "      <td>3.0</td>\n",
       "      <td>3.0</td>\n",
       "    </tr>\n",
       "    <tr>\n",
       "      <th>628</th>\n",
       "      <td>B07ZHPCJW3</td>\n",
       "      <td>3.0</td>\n",
       "      <td>NaN</td>\n",
       "      <td>3.0</td>\n",
       "      <td>5.0</td>\n",
       "      <td>NaN</td>\n",
       "    </tr>\n",
       "    <tr>\n",
       "      <th>629</th>\n",
       "      <td>B07ZQSGP53</td>\n",
       "      <td>5.0</td>\n",
       "      <td>NaN</td>\n",
       "      <td>NaN</td>\n",
       "      <td>NaN</td>\n",
       "      <td>NaN</td>\n",
       "    </tr>\n",
       "    <tr>\n",
       "      <th>630</th>\n",
       "      <td>B081H6STQQ</td>\n",
       "      <td>3.9</td>\n",
       "      <td>3.5</td>\n",
       "      <td>3.4</td>\n",
       "      <td>3.5</td>\n",
       "      <td>3.0</td>\n",
       "    </tr>\n",
       "  </tbody>\n",
       "</table>\n",
       "<p>631 rows × 6 columns</p>\n",
       "</div>"
      ],
      "text/plain": [
       "          index  camera  battery  fingerprint  screen  charger\n",
       "0    B0000SX2UC     3.0      3.6          NaN     3.8      5.0\n",
       "1    B000SKTZ0S     3.0      3.4          NaN     5.0      3.0\n",
       "2    B001AO4OUC     3.8      2.0          NaN     2.3      3.0\n",
       "3    B001DCJAJG     NaN      5.0          NaN     NaN      5.0\n",
       "4    B001GQ3DJM     NaN      3.0          NaN     5.0      3.0\n",
       "..          ...     ...      ...          ...     ...      ...\n",
       "626  B07Z8BL2VW     4.0      3.8          1.0     5.0      4.3\n",
       "627  B07ZDJCL76     4.3      NaN          NaN     3.0      3.0\n",
       "628  B07ZHPCJW3     3.0      NaN          3.0     5.0      NaN\n",
       "629  B07ZQSGP53     5.0      NaN          NaN     NaN      NaN\n",
       "630  B081H6STQQ     3.9      3.5          3.4     3.5      3.0\n",
       "\n",
       "[631 rows x 6 columns]"
      ]
     },
     "execution_count": 29,
     "metadata": {},
     "output_type": "execute_result"
    }
   ],
   "source": [
    "mean_ratings.reset_index(inplace=True)\n",
    "mean_ratings"
   ]
  },
  {
   "cell_type": "code",
   "execution_count": 30,
   "metadata": {},
   "outputs": [],
   "source": [
    "mean_ratings.rename(columns={'index':'asin'},inplace=True)"
   ]
  },
  {
   "cell_type": "code",
   "execution_count": 31,
   "metadata": {},
   "outputs": [],
   "source": [
    "updated_mean_ratings = pd.merge(mean_ratings,new_reviews[['asin','item_title']],on='asin',how='inner')\n",
    "updated_mean_ratings.drop_duplicates(subset=['asin'],keep='first',inplace=True)"
   ]
  },
  {
   "cell_type": "code",
   "execution_count": 32,
   "metadata": {},
   "outputs": [],
   "source": [
    "updated_mean_ratings.reset_index(inplace=True,drop=True)"
   ]
  },
  {
   "cell_type": "code",
   "execution_count": 33,
   "metadata": {},
   "outputs": [
    {
     "data": {
      "text/html": [
       "<div>\n",
       "<style scoped>\n",
       "    .dataframe tbody tr th:only-of-type {\n",
       "        vertical-align: middle;\n",
       "    }\n",
       "\n",
       "    .dataframe tbody tr th {\n",
       "        vertical-align: top;\n",
       "    }\n",
       "\n",
       "    .dataframe thead th {\n",
       "        text-align: right;\n",
       "    }\n",
       "</style>\n",
       "<table border=\"1\" class=\"dataframe\">\n",
       "  <thead>\n",
       "    <tr style=\"text-align: right;\">\n",
       "      <th></th>\n",
       "      <th>asin</th>\n",
       "      <th>camera</th>\n",
       "      <th>battery</th>\n",
       "      <th>fingerprint</th>\n",
       "      <th>screen</th>\n",
       "      <th>charger</th>\n",
       "      <th>item_title</th>\n",
       "    </tr>\n",
       "  </thead>\n",
       "  <tbody>\n",
       "    <tr>\n",
       "      <th>611</th>\n",
       "      <td>B07Y8Q17N9</td>\n",
       "      <td>NaN</td>\n",
       "      <td>NaN</td>\n",
       "      <td>3.0</td>\n",
       "      <td>NaN</td>\n",
       "      <td>NaN</td>\n",
       "      <td>Xiaomi Mi 9 Lite (64GB, 6GB RAM) 6.39\" Display, Dual SIM GSM Factory Unlocked - US &amp; Global 4G LTE International Version (Onyx Grey, 64 GB)</td>\n",
       "    </tr>\n",
       "    <tr>\n",
       "      <th>612</th>\n",
       "      <td>B07Y8XK9GC</td>\n",
       "      <td>4.4</td>\n",
       "      <td>4.4</td>\n",
       "      <td>4.0</td>\n",
       "      <td>4.7</td>\n",
       "      <td>4.2</td>\n",
       "      <td>Xiaomi Redmi Note 8 Pro (64GB, 6GB) 6.53\", 64MP Quad Camera, Helio G90T Gaming Processor, Dual SIM GSM Unlocked - US &amp; Global 4G LTE International Version (Pearl White, 64 GB)</td>\n",
       "    </tr>\n",
       "    <tr>\n",
       "      <th>613</th>\n",
       "      <td>B07Y8YWTFL</td>\n",
       "      <td>4.4</td>\n",
       "      <td>4.4</td>\n",
       "      <td>4.0</td>\n",
       "      <td>4.7</td>\n",
       "      <td>4.2</td>\n",
       "      <td>Xiaomi Redmi Note 8 Pro 64GB, 6GB RAM 6.53\" LTE GSM 64MP Factory Unlocked Smartphone - Global Model (Mineral Grey)</td>\n",
       "    </tr>\n",
       "    <tr>\n",
       "      <th>614</th>\n",
       "      <td>B07YBVZ2PW</td>\n",
       "      <td>5.0</td>\n",
       "      <td>NaN</td>\n",
       "      <td>5.0</td>\n",
       "      <td>4.0</td>\n",
       "      <td>NaN</td>\n",
       "      <td>ASUS ROG Phone 2 (ZS660KL) Smartphone 128GB ROM 8GB RAM Snapdragon 855 Plus 6000 mAh NFC Android 9.0 - GSM Only International Version, No Warranty (Black)</td>\n",
       "    </tr>\n",
       "    <tr>\n",
       "      <th>615</th>\n",
       "      <td>B07YF4PB4R</td>\n",
       "      <td>NaN</td>\n",
       "      <td>NaN</td>\n",
       "      <td>NaN</td>\n",
       "      <td>1.0</td>\n",
       "      <td>NaN</td>\n",
       "      <td>Xiaomi Mi 9 Lite (128GB, 6GB RAM) 6.39\" Display, Dual SIM GSM Factory Unlocked - US &amp; Global 4G LTE International Version (Aurora Blue, 128 GB)</td>\n",
       "    </tr>\n",
       "    <tr>\n",
       "      <th>616</th>\n",
       "      <td>B07YJHXZT6</td>\n",
       "      <td>3.9</td>\n",
       "      <td>3.8</td>\n",
       "      <td>NaN</td>\n",
       "      <td>3.7</td>\n",
       "      <td>3.0</td>\n",
       "      <td>Xiaomi Redmi Note 8 64GB + 4GB RAM, 6.3\" LTE 48MP Factory Unlocked GSM Smartphone - International Version (Moonlight White)</td>\n",
       "    </tr>\n",
       "    <tr>\n",
       "      <th>617</th>\n",
       "      <td>B07YMNLXL3</td>\n",
       "      <td>4.0</td>\n",
       "      <td>3.3</td>\n",
       "      <td>3.0</td>\n",
       "      <td>3.8</td>\n",
       "      <td>2.8</td>\n",
       "      <td>Google Pixel 4 - Just Black - 64GB - Unlocked</td>\n",
       "    </tr>\n",
       "    <tr>\n",
       "      <th>618</th>\n",
       "      <td>B07YQ58NPF</td>\n",
       "      <td>4.4</td>\n",
       "      <td>4.4</td>\n",
       "      <td>2.3</td>\n",
       "      <td>3.4</td>\n",
       "      <td>3.0</td>\n",
       "      <td>Xiaomi Redmi Note 8 Pro 128GB, 6GB RAM 6.53\" LTE GSM 64MP Smartphone - Global Model (Mineral Grey)</td>\n",
       "    </tr>\n",
       "    <tr>\n",
       "      <th>619</th>\n",
       "      <td>B07YVGVQKL</td>\n",
       "      <td>NaN</td>\n",
       "      <td>NaN</td>\n",
       "      <td>2.0</td>\n",
       "      <td>5.0</td>\n",
       "      <td>NaN</td>\n",
       "      <td>Samsung Galaxy A50 SM-A505G 128GB, Dual Sim, 6.4\" Infinity-U Display, Triple Camera, 4GB RAM, GSM Unlocked International Model, No Warranty (White)</td>\n",
       "    </tr>\n",
       "    <tr>\n",
       "      <th>620</th>\n",
       "      <td>B07YVH6QRT</td>\n",
       "      <td>NaN</td>\n",
       "      <td>5.0</td>\n",
       "      <td>NaN</td>\n",
       "      <td>NaN</td>\n",
       "      <td>3.0</td>\n",
       "      <td>Samsung Original Galaxy Watch Active2 w/; auto Workout Tracking, and pace Coaching Enhanced Sleep Tracking Analysis Stainless Steel CASE and Leather Band (International Model) (Black, 44mm) No LTE</td>\n",
       "    </tr>\n",
       "    <tr>\n",
       "      <th>621</th>\n",
       "      <td>B07YZLRS3Z</td>\n",
       "      <td>3.9</td>\n",
       "      <td>3.8</td>\n",
       "      <td>NaN</td>\n",
       "      <td>3.7</td>\n",
       "      <td>3.0</td>\n",
       "      <td>Xiaomi Redmi Note 8 64GB + 4GB RAM, 6.3\" LTE 48MP Factory Unlocked GSM Smartphone - International Version (Space Black)</td>\n",
       "    </tr>\n",
       "    <tr>\n",
       "      <th>622</th>\n",
       "      <td>B07YZS1PBD</td>\n",
       "      <td>NaN</td>\n",
       "      <td>4.3</td>\n",
       "      <td>3.0</td>\n",
       "      <td>NaN</td>\n",
       "      <td>NaN</td>\n",
       "      <td>Motorola Moto E6 Plus (64GB, 4GB) 6.1\", 3000mAh Removable Battery, FM Radio, US + Global 4G LTE Dual SIM GSM Factory Unlocked XT2025-1 - International Model (Graphite, 64 GB)</td>\n",
       "    </tr>\n",
       "    <tr>\n",
       "      <th>623</th>\n",
       "      <td>B07YZS6QT3</td>\n",
       "      <td>5.0</td>\n",
       "      <td>5.0</td>\n",
       "      <td>3.0</td>\n",
       "      <td>5.0</td>\n",
       "      <td>3.0</td>\n",
       "      <td>Samsung Galaxy A30S w/On-Screen Fingerprint (64GB, 4GB) 6.4\", Triple Camera, Dual SIM GSM Unlocked A307G/DS - US + Global 4G LTE International Model (64GB + 64GB SD + Case Bundle) (Black)</td>\n",
       "    </tr>\n",
       "    <tr>\n",
       "      <th>624</th>\n",
       "      <td>B07Z3XZDT5</td>\n",
       "      <td>4.0</td>\n",
       "      <td>3.0</td>\n",
       "      <td>NaN</td>\n",
       "      <td>4.0</td>\n",
       "      <td>1.7</td>\n",
       "      <td>Samsung Galaxy Note 10 Factory Unlocked Cell Phone with 256GB (U.S. Warranty), Aura Black/ Note10 (Renewed)</td>\n",
       "    </tr>\n",
       "    <tr>\n",
       "      <th>625</th>\n",
       "      <td>B07Z41LHPB</td>\n",
       "      <td>NaN</td>\n",
       "      <td>4.3</td>\n",
       "      <td>3.0</td>\n",
       "      <td>3.0</td>\n",
       "      <td>NaN</td>\n",
       "      <td>Samsung Galaxy Note 10+ Plus 256GB GSM Unlocked Smartphone, Aura Glow / Silver (Renewed)</td>\n",
       "    </tr>\n",
       "    <tr>\n",
       "      <th>626</th>\n",
       "      <td>B07Z8BL2VW</td>\n",
       "      <td>4.0</td>\n",
       "      <td>3.8</td>\n",
       "      <td>1.0</td>\n",
       "      <td>5.0</td>\n",
       "      <td>4.3</td>\n",
       "      <td>Xiaomi Redmi 8A (32GB, 2GB RAM) 6.22\" HD Display, Snapdragon 439, 5000mAh Battery, Dual SIM GSM Unlocked - US &amp; Global 4G LTE International Version (Midnight Black, 32 GB)</td>\n",
       "    </tr>\n",
       "    <tr>\n",
       "      <th>627</th>\n",
       "      <td>B07ZDJCL76</td>\n",
       "      <td>4.3</td>\n",
       "      <td>NaN</td>\n",
       "      <td>NaN</td>\n",
       "      <td>3.0</td>\n",
       "      <td>3.0</td>\n",
       "      <td>Samsung Galaxy A20s A207/DS, 32GB/3GB RAM Dual SIM 6.5''HD+ Snapdragon 450, Factory Unlocked (International Version) - (Black)</td>\n",
       "    </tr>\n",
       "    <tr>\n",
       "      <th>628</th>\n",
       "      <td>B07ZHPCJW3</td>\n",
       "      <td>3.0</td>\n",
       "      <td>NaN</td>\n",
       "      <td>3.0</td>\n",
       "      <td>5.0</td>\n",
       "      <td>NaN</td>\n",
       "      <td>OnePlus 7T 8GB RAM 128GB ROM Factory Unlocked 6.55 inch AMOLED 90Hz Display Dual SIM Frosted Silver US Warranty</td>\n",
       "    </tr>\n",
       "    <tr>\n",
       "      <th>629</th>\n",
       "      <td>B07ZQSGP53</td>\n",
       "      <td>5.0</td>\n",
       "      <td>NaN</td>\n",
       "      <td>NaN</td>\n",
       "      <td>NaN</td>\n",
       "      <td>NaN</td>\n",
       "      <td>Xiaomi Redmi Note 8, 32GB/3GB RAM 6.3\" FHD+ Display Snapdragon 665, Dual SIM Factory Unlocked Global Version (Space Black)</td>\n",
       "    </tr>\n",
       "    <tr>\n",
       "      <th>630</th>\n",
       "      <td>B081H6STQQ</td>\n",
       "      <td>3.9</td>\n",
       "      <td>3.5</td>\n",
       "      <td>3.4</td>\n",
       "      <td>3.5</td>\n",
       "      <td>3.0</td>\n",
       "      <td>Sony Xperia 1 Unlocked Smartphone and WH1000XM3 Wireless Noise Cancelling Heaphones</td>\n",
       "    </tr>\n",
       "  </tbody>\n",
       "</table>\n",
       "</div>"
      ],
      "text/plain": [
       "           asin  camera  battery  fingerprint  screen  charger  \\\n",
       "611  B07Y8Q17N9     NaN      NaN          3.0     NaN      NaN   \n",
       "612  B07Y8XK9GC     4.4      4.4          4.0     4.7      4.2   \n",
       "613  B07Y8YWTFL     4.4      4.4          4.0     4.7      4.2   \n",
       "614  B07YBVZ2PW     5.0      NaN          5.0     4.0      NaN   \n",
       "615  B07YF4PB4R     NaN      NaN          NaN     1.0      NaN   \n",
       "616  B07YJHXZT6     3.9      3.8          NaN     3.7      3.0   \n",
       "617  B07YMNLXL3     4.0      3.3          3.0     3.8      2.8   \n",
       "618  B07YQ58NPF     4.4      4.4          2.3     3.4      3.0   \n",
       "619  B07YVGVQKL     NaN      NaN          2.0     5.0      NaN   \n",
       "620  B07YVH6QRT     NaN      5.0          NaN     NaN      3.0   \n",
       "621  B07YZLRS3Z     3.9      3.8          NaN     3.7      3.0   \n",
       "622  B07YZS1PBD     NaN      4.3          3.0     NaN      NaN   \n",
       "623  B07YZS6QT3     5.0      5.0          3.0     5.0      3.0   \n",
       "624  B07Z3XZDT5     4.0      3.0          NaN     4.0      1.7   \n",
       "625  B07Z41LHPB     NaN      4.3          3.0     3.0      NaN   \n",
       "626  B07Z8BL2VW     4.0      3.8          1.0     5.0      4.3   \n",
       "627  B07ZDJCL76     4.3      NaN          NaN     3.0      3.0   \n",
       "628  B07ZHPCJW3     3.0      NaN          3.0     5.0      NaN   \n",
       "629  B07ZQSGP53     5.0      NaN          NaN     NaN      NaN   \n",
       "630  B081H6STQQ     3.9      3.5          3.4     3.5      3.0   \n",
       "\n",
       "                                                                                                                                                                                               item_title  \n",
       "611                                                           Xiaomi Mi 9 Lite (64GB, 6GB RAM) 6.39\" Display, Dual SIM GSM Factory Unlocked - US & Global 4G LTE International Version (Onyx Grey, 64 GB)  \n",
       "612                       Xiaomi Redmi Note 8 Pro (64GB, 6GB) 6.53\", 64MP Quad Camera, Helio G90T Gaming Processor, Dual SIM GSM Unlocked - US & Global 4G LTE International Version (Pearl White, 64 GB)  \n",
       "613                                                                                    Xiaomi Redmi Note 8 Pro 64GB, 6GB RAM 6.53\" LTE GSM 64MP Factory Unlocked Smartphone - Global Model (Mineral Grey)  \n",
       "614                                            ASUS ROG Phone 2 (ZS660KL) Smartphone 128GB ROM 8GB RAM Snapdragon 855 Plus 6000 mAh NFC Android 9.0 - GSM Only International Version, No Warranty (Black)  \n",
       "615                                                       Xiaomi Mi 9 Lite (128GB, 6GB RAM) 6.39\" Display, Dual SIM GSM Factory Unlocked - US & Global 4G LTE International Version (Aurora Blue, 128 GB)  \n",
       "616                                                                           Xiaomi Redmi Note 8 64GB + 4GB RAM, 6.3\" LTE 48MP Factory Unlocked GSM Smartphone - International Version (Moonlight White)  \n",
       "617                                                                                                                                                         Google Pixel 4 - Just Black - 64GB - Unlocked  \n",
       "618                                                                                                    Xiaomi Redmi Note 8 Pro 128GB, 6GB RAM 6.53\" LTE GSM 64MP Smartphone - Global Model (Mineral Grey)  \n",
       "619                                                   Samsung Galaxy A50 SM-A505G 128GB, Dual Sim, 6.4\" Infinity-U Display, Triple Camera, 4GB RAM, GSM Unlocked International Model, No Warranty (White)  \n",
       "620  Samsung Original Galaxy Watch Active2 w/; auto Workout Tracking, and pace Coaching Enhanced Sleep Tracking Analysis Stainless Steel CASE and Leather Band (International Model) (Black, 44mm) No LTE  \n",
       "621                                                                               Xiaomi Redmi Note 8 64GB + 4GB RAM, 6.3\" LTE 48MP Factory Unlocked GSM Smartphone - International Version (Space Black)  \n",
       "622                        Motorola Moto E6 Plus (64GB, 4GB) 6.1\", 3000mAh Removable Battery, FM Radio, US + Global 4G LTE Dual SIM GSM Factory Unlocked XT2025-1 - International Model (Graphite, 64 GB)  \n",
       "623           Samsung Galaxy A30S w/On-Screen Fingerprint (64GB, 4GB) 6.4\", Triple Camera, Dual SIM GSM Unlocked A307G/DS - US + Global 4G LTE International Model (64GB + 64GB SD + Case Bundle) (Black)  \n",
       "624                                                                                           Samsung Galaxy Note 10 Factory Unlocked Cell Phone with 256GB (U.S. Warranty), Aura Black/ Note10 (Renewed)  \n",
       "625                                                                                                              Samsung Galaxy Note 10+ Plus 256GB GSM Unlocked Smartphone, Aura Glow / Silver (Renewed)  \n",
       "626                           Xiaomi Redmi 8A (32GB, 2GB RAM) 6.22\" HD Display, Snapdragon 439, 5000mAh Battery, Dual SIM GSM Unlocked - US & Global 4G LTE International Version (Midnight Black, 32 GB)  \n",
       "627                                                                        Samsung Galaxy A20s A207/DS, 32GB/3GB RAM Dual SIM 6.5''HD+ Snapdragon 450, Factory Unlocked (International Version) - (Black)  \n",
       "628                                                                                       OnePlus 7T 8GB RAM 128GB ROM Factory Unlocked 6.55 inch AMOLED 90Hz Display Dual SIM Frosted Silver US Warranty  \n",
       "629                                                                            Xiaomi Redmi Note 8, 32GB/3GB RAM 6.3\" FHD+ Display Snapdragon 665, Dual SIM Factory Unlocked Global Version (Space Black)  \n",
       "630                                                                                                                   Sony Xperia 1 Unlocked Smartphone and WH1000XM3 Wireless Noise Cancelling Heaphones  "
      ]
     },
     "execution_count": 33,
     "metadata": {},
     "output_type": "execute_result"
    }
   ],
   "source": [
    "updated_mean_ratings.tail(20)"
   ]
  },
  {
   "cell_type": "markdown",
   "metadata": {},
   "source": [
    "## With BERT"
   ]
  },
  {
   "cell_type": "code",
   "execution_count": 25,
   "metadata": {},
   "outputs": [],
   "source": [
    "import torch\n",
    "import pandas as pd\n",
    "from tqdm.notebook import tqdm"
   ]
  },
  {
   "cell_type": "code",
   "execution_count": 26,
   "metadata": {},
   "outputs": [
    {
     "data": {
      "text/html": [
       "<div>\n",
       "<style scoped>\n",
       "    .dataframe tbody tr th:only-of-type {\n",
       "        vertical-align: middle;\n",
       "    }\n",
       "\n",
       "    .dataframe tbody tr th {\n",
       "        vertical-align: top;\n",
       "    }\n",
       "\n",
       "    .dataframe thead th {\n",
       "        text-align: right;\n",
       "    }\n",
       "</style>\n",
       "<table border=\"1\" class=\"dataframe\">\n",
       "  <thead>\n",
       "    <tr style=\"text-align: right;\">\n",
       "      <th></th>\n",
       "      <th>asin</th>\n",
       "      <th>name</th>\n",
       "      <th>rating</th>\n",
       "      <th>date</th>\n",
       "      <th>verified</th>\n",
       "      <th>review_title</th>\n",
       "      <th>body</th>\n",
       "      <th>helpfulVotes</th>\n",
       "      <th>brand</th>\n",
       "      <th>item_title</th>\n",
       "      <th>...</th>\n",
       "      <th>price</th>\n",
       "      <th>originalPrice</th>\n",
       "      <th>sellers</th>\n",
       "      <th>reviews</th>\n",
       "      <th>cleaned_reviews</th>\n",
       "      <th>pos_neg_reviews</th>\n",
       "      <th>tokens</th>\n",
       "      <th>summary</th>\n",
       "      <th>features_and_sentiments</th>\n",
       "      <th>filter summary</th>\n",
       "    </tr>\n",
       "  </thead>\n",
       "  <tbody>\n",
       "    <tr>\n",
       "      <th>0</th>\n",
       "      <td>B0000SX2UC</td>\n",
       "      <td>Janet</td>\n",
       "      <td>3</td>\n",
       "      <td>October 11, 2005</td>\n",
       "      <td>False</td>\n",
       "      <td>Def not best, but not worst</td>\n",
       "      <td>I had the Samsung A600 for awhile which is abs...</td>\n",
       "      <td>1.0</td>\n",
       "      <td></td>\n",
       "      <td>Dual-Band / Tri-Mode Sprint PCS Phone w/ Voice...</td>\n",
       "      <td>...</td>\n",
       "      <td>0.0</td>\n",
       "      <td>0.0</td>\n",
       "      <td>Flip n Smart Phones</td>\n",
       "      <td>Def not best, but not worst I had the Samsung ...</td>\n",
       "      <td>def best worst samsung awhile absolute doo doo...</td>\n",
       "      <td>0</td>\n",
       "      <td>['def', 'best', 'worst', 'samsung', 'awhile', ...</td>\n",
       "      <td>[nice bright large screen, ring tone loud enou...</td>\n",
       "      <td>[(5, screen), (5, battery)]</td>\n",
       "      <td>True</td>\n",
       "    </tr>\n",
       "    <tr>\n",
       "      <th>2</th>\n",
       "      <td>B0000SX2UC</td>\n",
       "      <td>Brooke</td>\n",
       "      <td>5</td>\n",
       "      <td>December 30, 2003</td>\n",
       "      <td>False</td>\n",
       "      <td>Love This Phone</td>\n",
       "      <td>This is a great, reliable phone. I also purcha...</td>\n",
       "      <td>5.0</td>\n",
       "      <td></td>\n",
       "      <td>Dual-Band / Tri-Mode Sprint PCS Phone w/ Voice...</td>\n",
       "      <td>...</td>\n",
       "      <td>0.0</td>\n",
       "      <td>0.0</td>\n",
       "      <td>Flip n Smart Phones</td>\n",
       "      <td>Love This Phone This is a great, reliable phon...</td>\n",
       "      <td>love great reliable also purchased samsung die...</td>\n",
       "      <td>1</td>\n",
       "      <td>['love', 'great', 'reliable', 'also', 'purchas...</td>\n",
       "      <td>[however ringtones not available online downlo...</td>\n",
       "      <td>[(3, ringtones)]</td>\n",
       "      <td>True</td>\n",
       "    </tr>\n",
       "  </tbody>\n",
       "</table>\n",
       "<p>2 rows × 24 columns</p>\n",
       "</div>"
      ],
      "text/plain": [
       "         asin    name  rating               date  verified  \\\n",
       "0  B0000SX2UC   Janet       3   October 11, 2005     False   \n",
       "2  B0000SX2UC  Brooke       5  December 30, 2003     False   \n",
       "\n",
       "                  review_title  \\\n",
       "0  Def not best, but not worst   \n",
       "2              Love This Phone   \n",
       "\n",
       "                                                body helpfulVotes brand  \\\n",
       "0  I had the Samsung A600 for awhile which is abs...          1.0         \n",
       "2  This is a great, reliable phone. I also purcha...          5.0         \n",
       "\n",
       "                                          item_title  ... price originalPrice  \\\n",
       "0  Dual-Band / Tri-Mode Sprint PCS Phone w/ Voice...  ...   0.0           0.0   \n",
       "2  Dual-Band / Tri-Mode Sprint PCS Phone w/ Voice...  ...   0.0           0.0   \n",
       "\n",
       "               sellers                                            reviews  \\\n",
       "0  Flip n Smart Phones  Def not best, but not worst I had the Samsung ...   \n",
       "2  Flip n Smart Phones  Love This Phone This is a great, reliable phon...   \n",
       "\n",
       "                                     cleaned_reviews  pos_neg_reviews  \\\n",
       "0  def best worst samsung awhile absolute doo doo...                0   \n",
       "2  love great reliable also purchased samsung die...                1   \n",
       "\n",
       "                                              tokens  \\\n",
       "0  ['def', 'best', 'worst', 'samsung', 'awhile', ...   \n",
       "2  ['love', 'great', 'reliable', 'also', 'purchas...   \n",
       "\n",
       "                                             summary  \\\n",
       "0  [nice bright large screen, ring tone loud enou...   \n",
       "2  [however ringtones not available online downlo...   \n",
       "\n",
       "       features_and_sentiments  filter summary  \n",
       "0  [(5, screen), (5, battery)]            True  \n",
       "2             [(3, ringtones)]            True  \n",
       "\n",
       "[2 rows x 24 columns]"
      ]
     },
     "execution_count": 26,
     "metadata": {},
     "output_type": "execute_result"
    }
   ],
   "source": [
    "new_reviews.head(2)"
   ]
  },
  {
   "cell_type": "code",
   "execution_count": 27,
   "metadata": {},
   "outputs": [
    {
     "data": {
      "text/plain": [
       "(22041, 24)"
      ]
     },
     "execution_count": 27,
     "metadata": {},
     "output_type": "execute_result"
    }
   ],
   "source": [
    "new_reviews.shape"
   ]
  },
  {
   "cell_type": "code",
   "execution_count": 28,
   "metadata": {},
   "outputs": [],
   "source": [
    "from sklearn.model_selection import train_test_split"
   ]
  },
  {
   "cell_type": "code",
   "execution_count": 29,
   "metadata": {},
   "outputs": [
    {
     "data": {
      "text/plain": [
       "5    0.468854\n",
       "1    0.185291\n",
       "4    0.164738\n",
       "3    0.096502\n",
       "2    0.084615\n",
       "Name: rating, dtype: float64"
      ]
     },
     "execution_count": 29,
     "metadata": {},
     "output_type": "execute_result"
    }
   ],
   "source": [
    "new_reviews['rating'].value_counts(normalize=True)"
   ]
  },
  {
   "cell_type": "code",
   "execution_count": 52,
   "metadata": {},
   "outputs": [
    {
     "data": {
      "text/plain": [
       "5"
      ]
     },
     "execution_count": 52,
     "metadata": {},
     "output_type": "execute_result"
    }
   ],
   "source": [
    "len(new_reviews['rating'].unique())"
   ]
  },
  {
   "cell_type": "code",
   "execution_count": 38,
   "metadata": {},
   "outputs": [],
   "source": [
    "X_train, X_val, y_train, y_val = train_test_split(new_reviews.index.values,\n",
    "                                                  new_reviews.rating.values,\n",
    "                                                  test_size = 0.25,\n",
    "                                                  random_state= 42,\n",
    "                                                  stratify=new_reviews.rating.values)"
   ]
  },
  {
   "cell_type": "code",
   "execution_count": 120,
   "metadata": {},
   "outputs": [
    {
     "data": {
      "text/plain": [
       "(16530,)"
      ]
     },
     "execution_count": 120,
     "metadata": {},
     "output_type": "execute_result"
    }
   ],
   "source": [
    "y_train.shape"
   ]
  },
  {
   "cell_type": "code",
   "execution_count": 121,
   "metadata": {},
   "outputs": [
    {
     "data": {
      "text/plain": [
       "(5511,)"
      ]
     },
     "execution_count": 121,
     "metadata": {},
     "output_type": "execute_result"
    }
   ],
   "source": [
    "y_val.shape"
   ]
  },
  {
   "cell_type": "code",
   "execution_count": 39,
   "metadata": {},
   "outputs": [],
   "source": [
    "new_reviews['data_type'] = ['not_set']*new_reviews.shape[0]"
   ]
  },
  {
   "cell_type": "code",
   "execution_count": 40,
   "metadata": {},
   "outputs": [],
   "source": [
    "new_reviews.loc[X_train, 'data_type'] = 'train'\n",
    "new_reviews.loc[X_val, 'data_type'] = 'val'"
   ]
  },
  {
   "cell_type": "code",
   "execution_count": 42,
   "metadata": {},
   "outputs": [
    {
     "data": {
      "text/html": [
       "<div>\n",
       "<style scoped>\n",
       "    .dataframe tbody tr th:only-of-type {\n",
       "        vertical-align: middle;\n",
       "    }\n",
       "\n",
       "    .dataframe tbody tr th {\n",
       "        vertical-align: top;\n",
       "    }\n",
       "\n",
       "    .dataframe thead th {\n",
       "        text-align: right;\n",
       "    }\n",
       "</style>\n",
       "<table border=\"1\" class=\"dataframe\">\n",
       "  <thead>\n",
       "    <tr style=\"text-align: right;\">\n",
       "      <th></th>\n",
       "      <th>asin</th>\n",
       "      <th>name</th>\n",
       "      <th>rating</th>\n",
       "      <th>date</th>\n",
       "      <th>verified</th>\n",
       "      <th>review_title</th>\n",
       "      <th>body</th>\n",
       "      <th>helpfulVotes</th>\n",
       "      <th>brand</th>\n",
       "      <th>item_title</th>\n",
       "      <th>...</th>\n",
       "      <th>originalPrice</th>\n",
       "      <th>sellers</th>\n",
       "      <th>reviews</th>\n",
       "      <th>cleaned_reviews</th>\n",
       "      <th>pos_neg_reviews</th>\n",
       "      <th>tokens</th>\n",
       "      <th>summary</th>\n",
       "      <th>features_and_sentiments</th>\n",
       "      <th>filter summary</th>\n",
       "      <th>data_type</th>\n",
       "    </tr>\n",
       "  </thead>\n",
       "  <tbody>\n",
       "    <tr>\n",
       "      <th>0</th>\n",
       "      <td>B0000SX2UC</td>\n",
       "      <td>Janet</td>\n",
       "      <td>3</td>\n",
       "      <td>October 11, 2005</td>\n",
       "      <td>False</td>\n",
       "      <td>Def not best, but not worst</td>\n",
       "      <td>I had the Samsung A600 for awhile which is abs...</td>\n",
       "      <td>1.0</td>\n",
       "      <td></td>\n",
       "      <td>Dual-Band / Tri-Mode Sprint PCS Phone w/ Voice...</td>\n",
       "      <td>...</td>\n",
       "      <td>0.0</td>\n",
       "      <td>Flip n Smart Phones</td>\n",
       "      <td>Def not best, but not worst I had the Samsung ...</td>\n",
       "      <td>def best worst samsung awhile absolute doo doo...</td>\n",
       "      <td>0</td>\n",
       "      <td>['def', 'best', 'worst', 'samsung', 'awhile', ...</td>\n",
       "      <td>[nice bright large screen, ring tone loud enou...</td>\n",
       "      <td>[(5, screen), (5, battery)]</td>\n",
       "      <td>True</td>\n",
       "      <td>val</td>\n",
       "    </tr>\n",
       "    <tr>\n",
       "      <th>2</th>\n",
       "      <td>B0000SX2UC</td>\n",
       "      <td>Brooke</td>\n",
       "      <td>5</td>\n",
       "      <td>December 30, 2003</td>\n",
       "      <td>False</td>\n",
       "      <td>Love This Phone</td>\n",
       "      <td>This is a great, reliable phone. I also purcha...</td>\n",
       "      <td>5.0</td>\n",
       "      <td></td>\n",
       "      <td>Dual-Band / Tri-Mode Sprint PCS Phone w/ Voice...</td>\n",
       "      <td>...</td>\n",
       "      <td>0.0</td>\n",
       "      <td>Flip n Smart Phones</td>\n",
       "      <td>Love This Phone This is a great, reliable phon...</td>\n",
       "      <td>love great reliable also purchased samsung die...</td>\n",
       "      <td>1</td>\n",
       "      <td>['love', 'great', 'reliable', 'also', 'purchas...</td>\n",
       "      <td>[however ringtones not available online downlo...</td>\n",
       "      <td>[(3, ringtones)]</td>\n",
       "      <td>True</td>\n",
       "      <td>train</td>\n",
       "    </tr>\n",
       "  </tbody>\n",
       "</table>\n",
       "<p>2 rows × 25 columns</p>\n",
       "</div>"
      ],
      "text/plain": [
       "         asin    name  rating               date  verified  \\\n",
       "0  B0000SX2UC   Janet       3   October 11, 2005     False   \n",
       "2  B0000SX2UC  Brooke       5  December 30, 2003     False   \n",
       "\n",
       "                  review_title  \\\n",
       "0  Def not best, but not worst   \n",
       "2              Love This Phone   \n",
       "\n",
       "                                                body helpfulVotes brand  \\\n",
       "0  I had the Samsung A600 for awhile which is abs...          1.0         \n",
       "2  This is a great, reliable phone. I also purcha...          5.0         \n",
       "\n",
       "                                          item_title  ... originalPrice  \\\n",
       "0  Dual-Band / Tri-Mode Sprint PCS Phone w/ Voice...  ...           0.0   \n",
       "2  Dual-Band / Tri-Mode Sprint PCS Phone w/ Voice...  ...           0.0   \n",
       "\n",
       "               sellers                                            reviews  \\\n",
       "0  Flip n Smart Phones  Def not best, but not worst I had the Samsung ...   \n",
       "2  Flip n Smart Phones  Love This Phone This is a great, reliable phon...   \n",
       "\n",
       "                                     cleaned_reviews  pos_neg_reviews  \\\n",
       "0  def best worst samsung awhile absolute doo doo...                0   \n",
       "2  love great reliable also purchased samsung die...                1   \n",
       "\n",
       "                                              tokens  \\\n",
       "0  ['def', 'best', 'worst', 'samsung', 'awhile', ...   \n",
       "2  ['love', 'great', 'reliable', 'also', 'purchas...   \n",
       "\n",
       "                                             summary  \\\n",
       "0  [nice bright large screen, ring tone loud enou...   \n",
       "2  [however ringtones not available online downlo...   \n",
       "\n",
       "       features_and_sentiments filter summary  data_type  \n",
       "0  [(5, screen), (5, battery)]           True        val  \n",
       "2             [(3, ringtones)]           True      train  \n",
       "\n",
       "[2 rows x 25 columns]"
      ]
     },
     "execution_count": 42,
     "metadata": {},
     "output_type": "execute_result"
    }
   ],
   "source": [
    "new_reviews.head(2)"
   ]
  },
  {
   "cell_type": "code",
   "execution_count": 43,
   "metadata": {},
   "outputs": [
    {
     "data": {
      "text/html": [
       "<div>\n",
       "<style scoped>\n",
       "    .dataframe tbody tr th:only-of-type {\n",
       "        vertical-align: middle;\n",
       "    }\n",
       "\n",
       "    .dataframe tbody tr th {\n",
       "        vertical-align: top;\n",
       "    }\n",
       "\n",
       "    .dataframe thead th {\n",
       "        text-align: right;\n",
       "    }\n",
       "</style>\n",
       "<table border=\"1\" class=\"dataframe\">\n",
       "  <thead>\n",
       "    <tr style=\"text-align: right;\">\n",
       "      <th></th>\n",
       "      <th></th>\n",
       "      <th>asin</th>\n",
       "      <th>name</th>\n",
       "      <th>date</th>\n",
       "      <th>verified</th>\n",
       "      <th>review_title</th>\n",
       "      <th>body</th>\n",
       "      <th>helpfulVotes</th>\n",
       "      <th>brand</th>\n",
       "      <th>item_title</th>\n",
       "      <th>url</th>\n",
       "      <th>...</th>\n",
       "      <th>price</th>\n",
       "      <th>originalPrice</th>\n",
       "      <th>sellers</th>\n",
       "      <th>reviews</th>\n",
       "      <th>cleaned_reviews</th>\n",
       "      <th>pos_neg_reviews</th>\n",
       "      <th>tokens</th>\n",
       "      <th>summary</th>\n",
       "      <th>features_and_sentiments</th>\n",
       "      <th>filter summary</th>\n",
       "    </tr>\n",
       "    <tr>\n",
       "      <th>rating</th>\n",
       "      <th>data_type</th>\n",
       "      <th></th>\n",
       "      <th></th>\n",
       "      <th></th>\n",
       "      <th></th>\n",
       "      <th></th>\n",
       "      <th></th>\n",
       "      <th></th>\n",
       "      <th></th>\n",
       "      <th></th>\n",
       "      <th></th>\n",
       "      <th></th>\n",
       "      <th></th>\n",
       "      <th></th>\n",
       "      <th></th>\n",
       "      <th></th>\n",
       "      <th></th>\n",
       "      <th></th>\n",
       "      <th></th>\n",
       "      <th></th>\n",
       "      <th></th>\n",
       "      <th></th>\n",
       "    </tr>\n",
       "  </thead>\n",
       "  <tbody>\n",
       "    <tr>\n",
       "      <th rowspan=\"2\" valign=\"top\">1</th>\n",
       "      <th>train</th>\n",
       "      <td>3063</td>\n",
       "      <td>3063</td>\n",
       "      <td>3063</td>\n",
       "      <td>3063</td>\n",
       "      <td>3063</td>\n",
       "      <td>3063</td>\n",
       "      <td>3063</td>\n",
       "      <td>3063</td>\n",
       "      <td>3063</td>\n",
       "      <td>3063</td>\n",
       "      <td>...</td>\n",
       "      <td>3063</td>\n",
       "      <td>3063</td>\n",
       "      <td>3063</td>\n",
       "      <td>3063</td>\n",
       "      <td>3063</td>\n",
       "      <td>3063</td>\n",
       "      <td>3063</td>\n",
       "      <td>3063</td>\n",
       "      <td>3063</td>\n",
       "      <td>3063</td>\n",
       "    </tr>\n",
       "    <tr>\n",
       "      <th>val</th>\n",
       "      <td>1021</td>\n",
       "      <td>1021</td>\n",
       "      <td>1021</td>\n",
       "      <td>1021</td>\n",
       "      <td>1021</td>\n",
       "      <td>1021</td>\n",
       "      <td>1021</td>\n",
       "      <td>1021</td>\n",
       "      <td>1021</td>\n",
       "      <td>1021</td>\n",
       "      <td>...</td>\n",
       "      <td>1021</td>\n",
       "      <td>1021</td>\n",
       "      <td>1021</td>\n",
       "      <td>1021</td>\n",
       "      <td>1021</td>\n",
       "      <td>1021</td>\n",
       "      <td>1021</td>\n",
       "      <td>1021</td>\n",
       "      <td>1021</td>\n",
       "      <td>1021</td>\n",
       "    </tr>\n",
       "    <tr>\n",
       "      <th rowspan=\"2\" valign=\"top\">2</th>\n",
       "      <th>train</th>\n",
       "      <td>1399</td>\n",
       "      <td>1399</td>\n",
       "      <td>1399</td>\n",
       "      <td>1399</td>\n",
       "      <td>1399</td>\n",
       "      <td>1399</td>\n",
       "      <td>1399</td>\n",
       "      <td>1399</td>\n",
       "      <td>1399</td>\n",
       "      <td>1399</td>\n",
       "      <td>...</td>\n",
       "      <td>1399</td>\n",
       "      <td>1399</td>\n",
       "      <td>1399</td>\n",
       "      <td>1399</td>\n",
       "      <td>1399</td>\n",
       "      <td>1399</td>\n",
       "      <td>1399</td>\n",
       "      <td>1399</td>\n",
       "      <td>1399</td>\n",
       "      <td>1399</td>\n",
       "    </tr>\n",
       "    <tr>\n",
       "      <th>val</th>\n",
       "      <td>466</td>\n",
       "      <td>466</td>\n",
       "      <td>466</td>\n",
       "      <td>466</td>\n",
       "      <td>466</td>\n",
       "      <td>466</td>\n",
       "      <td>466</td>\n",
       "      <td>466</td>\n",
       "      <td>466</td>\n",
       "      <td>466</td>\n",
       "      <td>...</td>\n",
       "      <td>466</td>\n",
       "      <td>466</td>\n",
       "      <td>466</td>\n",
       "      <td>466</td>\n",
       "      <td>466</td>\n",
       "      <td>466</td>\n",
       "      <td>466</td>\n",
       "      <td>466</td>\n",
       "      <td>466</td>\n",
       "      <td>466</td>\n",
       "    </tr>\n",
       "    <tr>\n",
       "      <th rowspan=\"2\" valign=\"top\">3</th>\n",
       "      <th>train</th>\n",
       "      <td>1595</td>\n",
       "      <td>1595</td>\n",
       "      <td>1595</td>\n",
       "      <td>1595</td>\n",
       "      <td>1595</td>\n",
       "      <td>1595</td>\n",
       "      <td>1595</td>\n",
       "      <td>1595</td>\n",
       "      <td>1595</td>\n",
       "      <td>1595</td>\n",
       "      <td>...</td>\n",
       "      <td>1595</td>\n",
       "      <td>1595</td>\n",
       "      <td>1595</td>\n",
       "      <td>1595</td>\n",
       "      <td>1595</td>\n",
       "      <td>1595</td>\n",
       "      <td>1595</td>\n",
       "      <td>1595</td>\n",
       "      <td>1595</td>\n",
       "      <td>1595</td>\n",
       "    </tr>\n",
       "    <tr>\n",
       "      <th>val</th>\n",
       "      <td>532</td>\n",
       "      <td>532</td>\n",
       "      <td>532</td>\n",
       "      <td>532</td>\n",
       "      <td>532</td>\n",
       "      <td>532</td>\n",
       "      <td>532</td>\n",
       "      <td>532</td>\n",
       "      <td>532</td>\n",
       "      <td>532</td>\n",
       "      <td>...</td>\n",
       "      <td>532</td>\n",
       "      <td>532</td>\n",
       "      <td>532</td>\n",
       "      <td>532</td>\n",
       "      <td>532</td>\n",
       "      <td>532</td>\n",
       "      <td>532</td>\n",
       "      <td>532</td>\n",
       "      <td>532</td>\n",
       "      <td>532</td>\n",
       "    </tr>\n",
       "    <tr>\n",
       "      <th rowspan=\"2\" valign=\"top\">4</th>\n",
       "      <th>train</th>\n",
       "      <td>2723</td>\n",
       "      <td>2723</td>\n",
       "      <td>2723</td>\n",
       "      <td>2723</td>\n",
       "      <td>2723</td>\n",
       "      <td>2723</td>\n",
       "      <td>2723</td>\n",
       "      <td>2723</td>\n",
       "      <td>2723</td>\n",
       "      <td>2723</td>\n",
       "      <td>...</td>\n",
       "      <td>2723</td>\n",
       "      <td>2723</td>\n",
       "      <td>2723</td>\n",
       "      <td>2723</td>\n",
       "      <td>2723</td>\n",
       "      <td>2723</td>\n",
       "      <td>2723</td>\n",
       "      <td>2723</td>\n",
       "      <td>2723</td>\n",
       "      <td>2723</td>\n",
       "    </tr>\n",
       "    <tr>\n",
       "      <th>val</th>\n",
       "      <td>908</td>\n",
       "      <td>908</td>\n",
       "      <td>908</td>\n",
       "      <td>908</td>\n",
       "      <td>908</td>\n",
       "      <td>908</td>\n",
       "      <td>908</td>\n",
       "      <td>908</td>\n",
       "      <td>908</td>\n",
       "      <td>908</td>\n",
       "      <td>...</td>\n",
       "      <td>908</td>\n",
       "      <td>908</td>\n",
       "      <td>908</td>\n",
       "      <td>908</td>\n",
       "      <td>908</td>\n",
       "      <td>908</td>\n",
       "      <td>908</td>\n",
       "      <td>908</td>\n",
       "      <td>908</td>\n",
       "      <td>908</td>\n",
       "    </tr>\n",
       "    <tr>\n",
       "      <th rowspan=\"2\" valign=\"top\">5</th>\n",
       "      <th>train</th>\n",
       "      <td>7750</td>\n",
       "      <td>7750</td>\n",
       "      <td>7750</td>\n",
       "      <td>7750</td>\n",
       "      <td>7750</td>\n",
       "      <td>7750</td>\n",
       "      <td>7750</td>\n",
       "      <td>7750</td>\n",
       "      <td>7750</td>\n",
       "      <td>7750</td>\n",
       "      <td>...</td>\n",
       "      <td>7750</td>\n",
       "      <td>7750</td>\n",
       "      <td>7750</td>\n",
       "      <td>7750</td>\n",
       "      <td>7750</td>\n",
       "      <td>7750</td>\n",
       "      <td>7750</td>\n",
       "      <td>7750</td>\n",
       "      <td>7750</td>\n",
       "      <td>7750</td>\n",
       "    </tr>\n",
       "    <tr>\n",
       "      <th>val</th>\n",
       "      <td>2584</td>\n",
       "      <td>2584</td>\n",
       "      <td>2584</td>\n",
       "      <td>2584</td>\n",
       "      <td>2584</td>\n",
       "      <td>2584</td>\n",
       "      <td>2584</td>\n",
       "      <td>2584</td>\n",
       "      <td>2584</td>\n",
       "      <td>2584</td>\n",
       "      <td>...</td>\n",
       "      <td>2584</td>\n",
       "      <td>2584</td>\n",
       "      <td>2584</td>\n",
       "      <td>2584</td>\n",
       "      <td>2584</td>\n",
       "      <td>2584</td>\n",
       "      <td>2584</td>\n",
       "      <td>2584</td>\n",
       "      <td>2584</td>\n",
       "      <td>2584</td>\n",
       "    </tr>\n",
       "  </tbody>\n",
       "</table>\n",
       "<p>10 rows × 23 columns</p>\n",
       "</div>"
      ],
      "text/plain": [
       "                  asin  name  date  verified  review_title  body  \\\n",
       "rating data_type                                                   \n",
       "1      train      3063  3063  3063      3063          3063  3063   \n",
       "       val        1021  1021  1021      1021          1021  1021   \n",
       "2      train      1399  1399  1399      1399          1399  1399   \n",
       "       val         466   466   466       466           466   466   \n",
       "3      train      1595  1595  1595      1595          1595  1595   \n",
       "       val         532   532   532       532           532   532   \n",
       "4      train      2723  2723  2723      2723          2723  2723   \n",
       "       val         908   908   908       908           908   908   \n",
       "5      train      7750  7750  7750      7750          7750  7750   \n",
       "       val        2584  2584  2584      2584          2584  2584   \n",
       "\n",
       "                  helpfulVotes  brand  item_title   url  ...  price  \\\n",
       "rating data_type                                         ...          \n",
       "1      train              3063   3063        3063  3063  ...   3063   \n",
       "       val                1021   1021        1021  1021  ...   1021   \n",
       "2      train              1399   1399        1399  1399  ...   1399   \n",
       "       val                 466    466         466   466  ...    466   \n",
       "3      train              1595   1595        1595  1595  ...   1595   \n",
       "       val                 532    532         532   532  ...    532   \n",
       "4      train              2723   2723        2723  2723  ...   2723   \n",
       "       val                 908    908         908   908  ...    908   \n",
       "5      train              7750   7750        7750  7750  ...   7750   \n",
       "       val                2584   2584        2584  2584  ...   2584   \n",
       "\n",
       "                  originalPrice  sellers  reviews  cleaned_reviews  \\\n",
       "rating data_type                                                     \n",
       "1      train               3063     3063     3063             3063   \n",
       "       val                 1021     1021     1021             1021   \n",
       "2      train               1399     1399     1399             1399   \n",
       "       val                  466      466      466              466   \n",
       "3      train               1595     1595     1595             1595   \n",
       "       val                  532      532      532              532   \n",
       "4      train               2723     2723     2723             2723   \n",
       "       val                  908      908      908              908   \n",
       "5      train               7750     7750     7750             7750   \n",
       "       val                 2584     2584     2584             2584   \n",
       "\n",
       "                  pos_neg_reviews  tokens  summary  features_and_sentiments  \\\n",
       "rating data_type                                                              \n",
       "1      train                 3063    3063     3063                     3063   \n",
       "       val                   1021    1021     1021                     1021   \n",
       "2      train                 1399    1399     1399                     1399   \n",
       "       val                    466     466      466                      466   \n",
       "3      train                 1595    1595     1595                     1595   \n",
       "       val                    532     532      532                      532   \n",
       "4      train                 2723    2723     2723                     2723   \n",
       "       val                    908     908      908                      908   \n",
       "5      train                 7750    7750     7750                     7750   \n",
       "       val                   2584    2584     2584                     2584   \n",
       "\n",
       "                  filter summary  \n",
       "rating data_type                  \n",
       "1      train                3063  \n",
       "       val                  1021  \n",
       "2      train                1399  \n",
       "       val                   466  \n",
       "3      train                1595  \n",
       "       val                   532  \n",
       "4      train                2723  \n",
       "       val                   908  \n",
       "5      train                7750  \n",
       "       val                  2584  \n",
       "\n",
       "[10 rows x 23 columns]"
      ]
     },
     "execution_count": 43,
     "metadata": {},
     "output_type": "execute_result"
    }
   ],
   "source": [
    "new_reviews.groupby(['rating', 'data_type']).count()"
   ]
  },
  {
   "cell_type": "markdown",
   "metadata": {},
   "source": [
    "## Loading Tokenizer and"
   ]
  },
  {
   "cell_type": "code",
   "execution_count": 2,
   "metadata": {},
   "outputs": [],
   "source": [
    "from transformers import BertTokenizer\n",
    "from torch.utils.data import TensorDataset"
   ]
  },
  {
   "cell_type": "code",
   "execution_count": 3,
   "metadata": {},
   "outputs": [
    {
     "data": {
      "application/vnd.jupyter.widget-view+json": {
       "model_id": "68e1a721a74d46e6a5ccf132f9df355e",
       "version_major": 2,
       "version_minor": 0
      },
      "text/plain": [
       "HBox(children=(FloatProgress(value=0.0, description='Downloading', max=231508.0, style=ProgressStyle(descripti…"
      ]
     },
     "metadata": {},
     "output_type": "display_data"
    },
    {
     "name": "stdout",
     "output_type": "stream",
     "text": [
      "\n"
     ]
    }
   ],
   "source": [
    "tokenizer = BertTokenizer.from_pretrained('bert-base-uncased', \n",
    "                                          do_lower_case=True)"
   ]
  },
  {
   "cell_type": "code",
   "execution_count": 36,
   "metadata": {},
   "outputs": [
    {
     "data": {
      "text/plain": [
       "Index(['asin', 'name', 'rating', 'date', 'verified', 'review_title', 'body',\n",
       "       'helpfulVotes', 'brand', 'item_title', 'url', 'image', 'reviewUrl',\n",
       "       'totalReviews', 'price', 'originalPrice', 'sellers', 'reviews',\n",
       "       'cleaned_reviews', 'pos_neg_reviews', 'tokens', 'summary',\n",
       "       'features_and_sentiments', 'filter summary'],\n",
       "      dtype='object')"
      ]
     },
     "execution_count": 36,
     "metadata": {},
     "output_type": "execute_result"
    }
   ],
   "source": [
    "new_reviews.columns"
   ]
  },
  {
   "cell_type": "code",
   "execution_count": 46,
   "metadata": {},
   "outputs": [],
   "source": [
    "encoded_data_train = tokenizer.batch_encode_plus(\n",
    "    new_reviews[new_reviews.data_type=='train'].reviews.values, \n",
    "    add_special_tokens=True, \n",
    "    return_attention_mask=True, \n",
    "    pad_to_max_length=True, \n",
    "    max_length=256, \n",
    "    return_tensors='pt'\n",
    ")\n",
    "\n",
    "encoded_data_val = tokenizer.batch_encode_plus(\n",
    "    new_reviews[new_reviews.data_type=='val'].reviews.values, \n",
    "    add_special_tokens=True, \n",
    "    return_attention_mask=True, \n",
    "    pad_to_max_length=True, \n",
    "    max_length=256, \n",
    "    return_tensors='pt'\n",
    ")\n",
    "\n",
    "input_ids_train = encoded_data_train['input_ids']\n",
    "attention_masks_train = encoded_data_train['attention_mask']\n",
    "labels_train = torch.tensor(new_reviews[new_reviews.data_type=='train'].rating.values)\n",
    "\n",
    "input_ids_val = encoded_data_val['input_ids']\n",
    "attention_masks_val = encoded_data_val['attention_mask']\n",
    "labels_val= torch.tensor(new_reviews[new_reviews.data_type=='val'].rating.values)"
   ]
  },
  {
   "cell_type": "code",
   "execution_count": 128,
   "metadata": {},
   "outputs": [],
   "source": [
    "dataset_train = TensorDataset(input_ids_train, attention_masks_train, labels_train-1)\n",
    "dataset_val = TensorDataset(input_ids_val, attention_masks_val, labels_val-1)"
   ]
  },
  {
   "cell_type": "code",
   "execution_count": 129,
   "metadata": {},
   "outputs": [
    {
     "data": {
      "text/plain": [
       "16530"
      ]
     },
     "execution_count": 129,
     "metadata": {},
     "output_type": "execute_result"
    }
   ],
   "source": [
    "len(dataset_train)"
   ]
  },
  {
   "cell_type": "code",
   "execution_count": 130,
   "metadata": {},
   "outputs": [
    {
     "data": {
      "text/plain": [
       "5511"
      ]
     },
     "execution_count": 130,
     "metadata": {},
     "output_type": "execute_result"
    }
   ],
   "source": [
    "len(dataset_val)"
   ]
  },
  {
   "cell_type": "markdown",
   "metadata": {},
   "source": [
    "## Setting up BERT Pretrained Model"
   ]
  },
  {
   "cell_type": "code",
   "execution_count": 131,
   "metadata": {},
   "outputs": [],
   "source": [
    "from transformers import BertForSequenceClassification"
   ]
  },
  {
   "cell_type": "code",
   "execution_count": 132,
   "metadata": {},
   "outputs": [],
   "source": [
    "model = BertForSequenceClassification.from_pretrained(\"bert-base-uncased\",\n",
    "                                                      num_labels=5,\n",
    "                                                      output_attentions=False,\n",
    "                                                      output_hidden_states=False)\n"
   ]
  },
  {
   "cell_type": "markdown",
   "metadata": {},
   "source": [
    "## Creating Data Loaders"
   ]
  },
  {
   "cell_type": "code",
   "execution_count": 133,
   "metadata": {},
   "outputs": [],
   "source": [
    "from torch.utils.data import DataLoader, RandomSampler, SequentialSampler"
   ]
  },
  {
   "cell_type": "code",
   "execution_count": 134,
   "metadata": {},
   "outputs": [],
   "source": [
    "batch_size = 32\n",
    "\n",
    "dataloader_train = DataLoader(dataset_train, \n",
    "                              sampler=RandomSampler(dataset_train), \n",
    "                              batch_size=batch_size)\n",
    "\n",
    "dataloader_validation = DataLoader(dataset_val, \n",
    "                                   sampler=SequentialSampler(dataset_val), \n",
    "                                   batch_size=batch_size)"
   ]
  },
  {
   "cell_type": "code",
   "execution_count": 135,
   "metadata": {},
   "outputs": [
    {
     "data": {
      "text/plain": [
       "<torch.utils.data.dataloader.DataLoader at 0x7fe129585dd0>"
      ]
     },
     "execution_count": 135,
     "metadata": {},
     "output_type": "execute_result"
    }
   ],
   "source": [
    "dataloader_train "
   ]
  },
  {
   "cell_type": "code",
   "execution_count": 136,
   "metadata": {},
   "outputs": [
    {
     "data": {
      "text/plain": [
       "516.5625"
      ]
     },
     "execution_count": 136,
     "metadata": {},
     "output_type": "execute_result"
    }
   ],
   "source": [
    "16530/32"
   ]
  },
  {
   "cell_type": "markdown",
   "metadata": {},
   "source": [
    "## Setting Up Optimiser and Scheduler"
   ]
  },
  {
   "cell_type": "code",
   "execution_count": 137,
   "metadata": {},
   "outputs": [],
   "source": [
    "from transformers import AdamW, get_linear_schedule_with_warmup"
   ]
  },
  {
   "cell_type": "code",
   "execution_count": 138,
   "metadata": {},
   "outputs": [],
   "source": [
    "optimizer = AdamW(model.parameters(),\n",
    "                  lr=1e-5, \n",
    "                  eps=1e-8)"
   ]
  },
  {
   "cell_type": "code",
   "execution_count": 139,
   "metadata": {},
   "outputs": [],
   "source": [
    "epochs = 3\n",
    "\n",
    "scheduler = get_linear_schedule_with_warmup(optimizer, \n",
    "                                            num_warmup_steps=0,\n",
    "                                            num_training_steps=len(dataloader_train)*epochs)"
   ]
  },
  {
   "cell_type": "markdown",
   "metadata": {},
   "source": [
    "## Defining our Performance Metrics"
   ]
  },
  {
   "cell_type": "code",
   "execution_count": 165,
   "metadata": {},
   "outputs": [],
   "source": [
    "def accuracy_per_class(preds, labels):\n",
    "    #label_dict_inverse = {v: k for k, v in label_dict.items()}\n",
    "    \n",
    "    preds_flat = np.argmax(preds, axis=1).flatten()\n",
    "    labels_flat = labels.flatten()\n",
    "    \n",
    "    correct_pred = 0\n",
    "    total_count = 0\n",
    "    for label in np.unique(labels_flat):\n",
    "        y_preds = preds_flat[labels_flat==label]\n",
    "        y_true = labels_flat[labels_flat==label]\n",
    "        print(f'Class: {label}')\n",
    "        print(f'Accuracy: {len(y_preds[y_preds==label])}/{len(y_true)}\\n')\n",
    "        \n",
    "        correct_pred = correct_pred + len(y_preds[y_preds==label])\n",
    "        total_count = total_count + len(y_true)\n",
    "        \n",
    "    print(f'Total Accuracy:{correct_pred/total_count}' )"
   ]
  },
  {
   "cell_type": "code",
   "execution_count": null,
   "metadata": {},
   "outputs": [],
   "source": []
  },
  {
   "cell_type": "markdown",
   "metadata": {},
   "source": [
    "## Creating Training Loop"
   ]
  },
  {
   "cell_type": "code",
   "execution_count": 141,
   "metadata": {},
   "outputs": [],
   "source": [
    "import random\n",
    "\n",
    "seed_val = 42\n",
    "random.seed(seed_val)\n",
    "np.random.seed(seed_val)\n",
    "torch.manual_seed(seed_val)\n",
    "torch.cuda.manual_seed_all(seed_val)"
   ]
  },
  {
   "cell_type": "code",
   "execution_count": 142,
   "metadata": {},
   "outputs": [
    {
     "name": "stdout",
     "output_type": "stream",
     "text": [
      "cpu\n"
     ]
    }
   ],
   "source": [
    "device = torch.device('cuda' if torch.cuda.is_available() else 'cpu')\n",
    "model.to(device)\n",
    "\n",
    "print(device)"
   ]
  },
  {
   "cell_type": "code",
   "execution_count": 152,
   "metadata": {},
   "outputs": [],
   "source": [
    "def evaluate(dataloader_val):\n",
    "\n",
    "    model.eval()\n",
    "    \n",
    "    loss_val_total = 0\n",
    "    predictions, true_vals = [], []\n",
    "    \n",
    "    for batch in tqdm(dataloader_val):\n",
    "        \n",
    "        batch = tuple(b.to(device) for b in batch)\n",
    "        \n",
    "        inputs = {'input_ids':      batch[0],\n",
    "                  'attention_mask': batch[1],\n",
    "                  'labels':         batch[2],\n",
    "                 }\n",
    "\n",
    "        with torch.no_grad():        \n",
    "            outputs = model(**inputs)\n",
    "            \n",
    "        loss = outputs[0]\n",
    "        logits = outputs[1]\n",
    "        loss_val_total += loss.item()\n",
    "\n",
    "        logits = logits.detach().cpu().numpy()\n",
    "        label_ids = inputs['labels'].cpu().numpy()\n",
    "        predictions.append(logits)\n",
    "        true_vals.append(label_ids)\n",
    "    \n",
    "    loss_val_avg = loss_val_total/len(dataloader_val) \n",
    "    \n",
    "    predictions = np.concatenate(predictions, axis=0)\n",
    "    true_vals = np.concatenate(true_vals, axis=0)\n",
    "            \n",
    "    return loss_val_avg, predictions, true_vals"
   ]
  },
  {
   "cell_type": "code",
   "execution_count": 148,
   "metadata": {},
   "outputs": [
    {
     "data": {
      "text/plain": [
       "BertForSequenceClassification(\n",
       "  (bert): BertModel(\n",
       "    (embeddings): BertEmbeddings(\n",
       "      (word_embeddings): Embedding(30522, 768, padding_idx=0)\n",
       "      (position_embeddings): Embedding(512, 768)\n",
       "      (token_type_embeddings): Embedding(2, 768)\n",
       "      (LayerNorm): LayerNorm((768,), eps=1e-12, elementwise_affine=True)\n",
       "      (dropout): Dropout(p=0.1, inplace=False)\n",
       "    )\n",
       "    (encoder): BertEncoder(\n",
       "      (layer): ModuleList(\n",
       "        (0): BertLayer(\n",
       "          (attention): BertAttention(\n",
       "            (self): BertSelfAttention(\n",
       "              (query): Linear(in_features=768, out_features=768, bias=True)\n",
       "              (key): Linear(in_features=768, out_features=768, bias=True)\n",
       "              (value): Linear(in_features=768, out_features=768, bias=True)\n",
       "              (dropout): Dropout(p=0.1, inplace=False)\n",
       "            )\n",
       "            (output): BertSelfOutput(\n",
       "              (dense): Linear(in_features=768, out_features=768, bias=True)\n",
       "              (LayerNorm): LayerNorm((768,), eps=1e-12, elementwise_affine=True)\n",
       "              (dropout): Dropout(p=0.1, inplace=False)\n",
       "            )\n",
       "          )\n",
       "          (intermediate): BertIntermediate(\n",
       "            (dense): Linear(in_features=768, out_features=3072, bias=True)\n",
       "          )\n",
       "          (output): BertOutput(\n",
       "            (dense): Linear(in_features=3072, out_features=768, bias=True)\n",
       "            (LayerNorm): LayerNorm((768,), eps=1e-12, elementwise_affine=True)\n",
       "            (dropout): Dropout(p=0.1, inplace=False)\n",
       "          )\n",
       "        )\n",
       "        (1): BertLayer(\n",
       "          (attention): BertAttention(\n",
       "            (self): BertSelfAttention(\n",
       "              (query): Linear(in_features=768, out_features=768, bias=True)\n",
       "              (key): Linear(in_features=768, out_features=768, bias=True)\n",
       "              (value): Linear(in_features=768, out_features=768, bias=True)\n",
       "              (dropout): Dropout(p=0.1, inplace=False)\n",
       "            )\n",
       "            (output): BertSelfOutput(\n",
       "              (dense): Linear(in_features=768, out_features=768, bias=True)\n",
       "              (LayerNorm): LayerNorm((768,), eps=1e-12, elementwise_affine=True)\n",
       "              (dropout): Dropout(p=0.1, inplace=False)\n",
       "            )\n",
       "          )\n",
       "          (intermediate): BertIntermediate(\n",
       "            (dense): Linear(in_features=768, out_features=3072, bias=True)\n",
       "          )\n",
       "          (output): BertOutput(\n",
       "            (dense): Linear(in_features=3072, out_features=768, bias=True)\n",
       "            (LayerNorm): LayerNorm((768,), eps=1e-12, elementwise_affine=True)\n",
       "            (dropout): Dropout(p=0.1, inplace=False)\n",
       "          )\n",
       "        )\n",
       "        (2): BertLayer(\n",
       "          (attention): BertAttention(\n",
       "            (self): BertSelfAttention(\n",
       "              (query): Linear(in_features=768, out_features=768, bias=True)\n",
       "              (key): Linear(in_features=768, out_features=768, bias=True)\n",
       "              (value): Linear(in_features=768, out_features=768, bias=True)\n",
       "              (dropout): Dropout(p=0.1, inplace=False)\n",
       "            )\n",
       "            (output): BertSelfOutput(\n",
       "              (dense): Linear(in_features=768, out_features=768, bias=True)\n",
       "              (LayerNorm): LayerNorm((768,), eps=1e-12, elementwise_affine=True)\n",
       "              (dropout): Dropout(p=0.1, inplace=False)\n",
       "            )\n",
       "          )\n",
       "          (intermediate): BertIntermediate(\n",
       "            (dense): Linear(in_features=768, out_features=3072, bias=True)\n",
       "          )\n",
       "          (output): BertOutput(\n",
       "            (dense): Linear(in_features=3072, out_features=768, bias=True)\n",
       "            (LayerNorm): LayerNorm((768,), eps=1e-12, elementwise_affine=True)\n",
       "            (dropout): Dropout(p=0.1, inplace=False)\n",
       "          )\n",
       "        )\n",
       "        (3): BertLayer(\n",
       "          (attention): BertAttention(\n",
       "            (self): BertSelfAttention(\n",
       "              (query): Linear(in_features=768, out_features=768, bias=True)\n",
       "              (key): Linear(in_features=768, out_features=768, bias=True)\n",
       "              (value): Linear(in_features=768, out_features=768, bias=True)\n",
       "              (dropout): Dropout(p=0.1, inplace=False)\n",
       "            )\n",
       "            (output): BertSelfOutput(\n",
       "              (dense): Linear(in_features=768, out_features=768, bias=True)\n",
       "              (LayerNorm): LayerNorm((768,), eps=1e-12, elementwise_affine=True)\n",
       "              (dropout): Dropout(p=0.1, inplace=False)\n",
       "            )\n",
       "          )\n",
       "          (intermediate): BertIntermediate(\n",
       "            (dense): Linear(in_features=768, out_features=3072, bias=True)\n",
       "          )\n",
       "          (output): BertOutput(\n",
       "            (dense): Linear(in_features=3072, out_features=768, bias=True)\n",
       "            (LayerNorm): LayerNorm((768,), eps=1e-12, elementwise_affine=True)\n",
       "            (dropout): Dropout(p=0.1, inplace=False)\n",
       "          )\n",
       "        )\n",
       "        (4): BertLayer(\n",
       "          (attention): BertAttention(\n",
       "            (self): BertSelfAttention(\n",
       "              (query): Linear(in_features=768, out_features=768, bias=True)\n",
       "              (key): Linear(in_features=768, out_features=768, bias=True)\n",
       "              (value): Linear(in_features=768, out_features=768, bias=True)\n",
       "              (dropout): Dropout(p=0.1, inplace=False)\n",
       "            )\n",
       "            (output): BertSelfOutput(\n",
       "              (dense): Linear(in_features=768, out_features=768, bias=True)\n",
       "              (LayerNorm): LayerNorm((768,), eps=1e-12, elementwise_affine=True)\n",
       "              (dropout): Dropout(p=0.1, inplace=False)\n",
       "            )\n",
       "          )\n",
       "          (intermediate): BertIntermediate(\n",
       "            (dense): Linear(in_features=768, out_features=3072, bias=True)\n",
       "          )\n",
       "          (output): BertOutput(\n",
       "            (dense): Linear(in_features=3072, out_features=768, bias=True)\n",
       "            (LayerNorm): LayerNorm((768,), eps=1e-12, elementwise_affine=True)\n",
       "            (dropout): Dropout(p=0.1, inplace=False)\n",
       "          )\n",
       "        )\n",
       "        (5): BertLayer(\n",
       "          (attention): BertAttention(\n",
       "            (self): BertSelfAttention(\n",
       "              (query): Linear(in_features=768, out_features=768, bias=True)\n",
       "              (key): Linear(in_features=768, out_features=768, bias=True)\n",
       "              (value): Linear(in_features=768, out_features=768, bias=True)\n",
       "              (dropout): Dropout(p=0.1, inplace=False)\n",
       "            )\n",
       "            (output): BertSelfOutput(\n",
       "              (dense): Linear(in_features=768, out_features=768, bias=True)\n",
       "              (LayerNorm): LayerNorm((768,), eps=1e-12, elementwise_affine=True)\n",
       "              (dropout): Dropout(p=0.1, inplace=False)\n",
       "            )\n",
       "          )\n",
       "          (intermediate): BertIntermediate(\n",
       "            (dense): Linear(in_features=768, out_features=3072, bias=True)\n",
       "          )\n",
       "          (output): BertOutput(\n",
       "            (dense): Linear(in_features=3072, out_features=768, bias=True)\n",
       "            (LayerNorm): LayerNorm((768,), eps=1e-12, elementwise_affine=True)\n",
       "            (dropout): Dropout(p=0.1, inplace=False)\n",
       "          )\n",
       "        )\n",
       "        (6): BertLayer(\n",
       "          (attention): BertAttention(\n",
       "            (self): BertSelfAttention(\n",
       "              (query): Linear(in_features=768, out_features=768, bias=True)\n",
       "              (key): Linear(in_features=768, out_features=768, bias=True)\n",
       "              (value): Linear(in_features=768, out_features=768, bias=True)\n",
       "              (dropout): Dropout(p=0.1, inplace=False)\n",
       "            )\n",
       "            (output): BertSelfOutput(\n",
       "              (dense): Linear(in_features=768, out_features=768, bias=True)\n",
       "              (LayerNorm): LayerNorm((768,), eps=1e-12, elementwise_affine=True)\n",
       "              (dropout): Dropout(p=0.1, inplace=False)\n",
       "            )\n",
       "          )\n",
       "          (intermediate): BertIntermediate(\n",
       "            (dense): Linear(in_features=768, out_features=3072, bias=True)\n",
       "          )\n",
       "          (output): BertOutput(\n",
       "            (dense): Linear(in_features=3072, out_features=768, bias=True)\n",
       "            (LayerNorm): LayerNorm((768,), eps=1e-12, elementwise_affine=True)\n",
       "            (dropout): Dropout(p=0.1, inplace=False)\n",
       "          )\n",
       "        )\n",
       "        (7): BertLayer(\n",
       "          (attention): BertAttention(\n",
       "            (self): BertSelfAttention(\n",
       "              (query): Linear(in_features=768, out_features=768, bias=True)\n",
       "              (key): Linear(in_features=768, out_features=768, bias=True)\n",
       "              (value): Linear(in_features=768, out_features=768, bias=True)\n",
       "              (dropout): Dropout(p=0.1, inplace=False)\n",
       "            )\n",
       "            (output): BertSelfOutput(\n",
       "              (dense): Linear(in_features=768, out_features=768, bias=True)\n",
       "              (LayerNorm): LayerNorm((768,), eps=1e-12, elementwise_affine=True)\n",
       "              (dropout): Dropout(p=0.1, inplace=False)\n",
       "            )\n",
       "          )\n",
       "          (intermediate): BertIntermediate(\n",
       "            (dense): Linear(in_features=768, out_features=3072, bias=True)\n",
       "          )\n",
       "          (output): BertOutput(\n",
       "            (dense): Linear(in_features=3072, out_features=768, bias=True)\n",
       "            (LayerNorm): LayerNorm((768,), eps=1e-12, elementwise_affine=True)\n",
       "            (dropout): Dropout(p=0.1, inplace=False)\n",
       "          )\n",
       "        )\n",
       "        (8): BertLayer(\n",
       "          (attention): BertAttention(\n",
       "            (self): BertSelfAttention(\n",
       "              (query): Linear(in_features=768, out_features=768, bias=True)\n",
       "              (key): Linear(in_features=768, out_features=768, bias=True)\n",
       "              (value): Linear(in_features=768, out_features=768, bias=True)\n",
       "              (dropout): Dropout(p=0.1, inplace=False)\n",
       "            )\n",
       "            (output): BertSelfOutput(\n",
       "              (dense): Linear(in_features=768, out_features=768, bias=True)\n",
       "              (LayerNorm): LayerNorm((768,), eps=1e-12, elementwise_affine=True)\n",
       "              (dropout): Dropout(p=0.1, inplace=False)\n",
       "            )\n",
       "          )\n",
       "          (intermediate): BertIntermediate(\n",
       "            (dense): Linear(in_features=768, out_features=3072, bias=True)\n",
       "          )\n",
       "          (output): BertOutput(\n",
       "            (dense): Linear(in_features=3072, out_features=768, bias=True)\n",
       "            (LayerNorm): LayerNorm((768,), eps=1e-12, elementwise_affine=True)\n",
       "            (dropout): Dropout(p=0.1, inplace=False)\n",
       "          )\n",
       "        )\n",
       "        (9): BertLayer(\n",
       "          (attention): BertAttention(\n",
       "            (self): BertSelfAttention(\n",
       "              (query): Linear(in_features=768, out_features=768, bias=True)\n",
       "              (key): Linear(in_features=768, out_features=768, bias=True)\n",
       "              (value): Linear(in_features=768, out_features=768, bias=True)\n",
       "              (dropout): Dropout(p=0.1, inplace=False)\n",
       "            )\n",
       "            (output): BertSelfOutput(\n",
       "              (dense): Linear(in_features=768, out_features=768, bias=True)\n",
       "              (LayerNorm): LayerNorm((768,), eps=1e-12, elementwise_affine=True)\n",
       "              (dropout): Dropout(p=0.1, inplace=False)\n",
       "            )\n",
       "          )\n",
       "          (intermediate): BertIntermediate(\n",
       "            (dense): Linear(in_features=768, out_features=3072, bias=True)\n",
       "          )\n",
       "          (output): BertOutput(\n",
       "            (dense): Linear(in_features=3072, out_features=768, bias=True)\n",
       "            (LayerNorm): LayerNorm((768,), eps=1e-12, elementwise_affine=True)\n",
       "            (dropout): Dropout(p=0.1, inplace=False)\n",
       "          )\n",
       "        )\n",
       "        (10): BertLayer(\n",
       "          (attention): BertAttention(\n",
       "            (self): BertSelfAttention(\n",
       "              (query): Linear(in_features=768, out_features=768, bias=True)\n",
       "              (key): Linear(in_features=768, out_features=768, bias=True)\n",
       "              (value): Linear(in_features=768, out_features=768, bias=True)\n",
       "              (dropout): Dropout(p=0.1, inplace=False)\n",
       "            )\n",
       "            (output): BertSelfOutput(\n",
       "              (dense): Linear(in_features=768, out_features=768, bias=True)\n",
       "              (LayerNorm): LayerNorm((768,), eps=1e-12, elementwise_affine=True)\n",
       "              (dropout): Dropout(p=0.1, inplace=False)\n",
       "            )\n",
       "          )\n",
       "          (intermediate): BertIntermediate(\n",
       "            (dense): Linear(in_features=768, out_features=3072, bias=True)\n",
       "          )\n",
       "          (output): BertOutput(\n",
       "            (dense): Linear(in_features=3072, out_features=768, bias=True)\n",
       "            (LayerNorm): LayerNorm((768,), eps=1e-12, elementwise_affine=True)\n",
       "            (dropout): Dropout(p=0.1, inplace=False)\n",
       "          )\n",
       "        )\n",
       "        (11): BertLayer(\n",
       "          (attention): BertAttention(\n",
       "            (self): BertSelfAttention(\n",
       "              (query): Linear(in_features=768, out_features=768, bias=True)\n",
       "              (key): Linear(in_features=768, out_features=768, bias=True)\n",
       "              (value): Linear(in_features=768, out_features=768, bias=True)\n",
       "              (dropout): Dropout(p=0.1, inplace=False)\n",
       "            )\n",
       "            (output): BertSelfOutput(\n",
       "              (dense): Linear(in_features=768, out_features=768, bias=True)\n",
       "              (LayerNorm): LayerNorm((768,), eps=1e-12, elementwise_affine=True)\n",
       "              (dropout): Dropout(p=0.1, inplace=False)\n",
       "            )\n",
       "          )\n",
       "          (intermediate): BertIntermediate(\n",
       "            (dense): Linear(in_features=768, out_features=3072, bias=True)\n",
       "          )\n",
       "          (output): BertOutput(\n",
       "            (dense): Linear(in_features=3072, out_features=768, bias=True)\n",
       "            (LayerNorm): LayerNorm((768,), eps=1e-12, elementwise_affine=True)\n",
       "            (dropout): Dropout(p=0.1, inplace=False)\n",
       "          )\n",
       "        )\n",
       "      )\n",
       "    )\n",
       "    (pooler): BertPooler(\n",
       "      (dense): Linear(in_features=768, out_features=768, bias=True)\n",
       "      (activation): Tanh()\n",
       "    )\n",
       "  )\n",
       "  (dropout): Dropout(p=0.1, inplace=False)\n",
       "  (classifier): Linear(in_features=768, out_features=5, bias=True)\n",
       ")"
      ]
     },
     "execution_count": 148,
     "metadata": {},
     "output_type": "execute_result"
    }
   ],
   "source": [
    "model = BertForSequenceClassification.from_pretrained(\"bert-base-uncased\",\n",
    "                                                      num_labels=5,\n",
    "                                                      output_attentions=False,\n",
    "                                                      output_hidden_states=False)\n",
    "\n",
    "model.to(device)"
   ]
  },
  {
   "cell_type": "code",
   "execution_count": 167,
   "metadata": {},
   "outputs": [
    {
     "data": {
      "text/plain": [
       "<All keys matched successfully>"
      ]
     },
     "execution_count": 167,
     "metadata": {},
     "output_type": "execute_result"
    }
   ],
   "source": [
    "model.load_state_dict(torch.load('../data/finetuned_BERT_epoch_2.model', map_location=torch.device('cpu')))"
   ]
  },
  {
   "cell_type": "code",
   "execution_count": 230,
   "metadata": {},
   "outputs": [
    {
     "data": {
      "application/vnd.jupyter.widget-view+json": {
       "model_id": "125aa260c0814cafa956681abf4c5b69",
       "version_major": 2,
       "version_minor": 0
      },
      "text/plain": [
       "HBox(children=(FloatProgress(value=0.0, max=173.0), HTML(value='')))"
      ]
     },
     "metadata": {},
     "output_type": "display_data"
    },
    {
     "name": "stdout",
     "output_type": "stream",
     "text": [
      "\n"
     ]
    }
   ],
   "source": [
    "_, predictions, true_vals = evaluate(dataloader_validation)"
   ]
  },
  {
   "cell_type": "code",
   "execution_count": 231,
   "metadata": {},
   "outputs": [
    {
     "name": "stdout",
     "output_type": "stream",
     "text": [
      "Class: 0\n",
      "Accuracy: 840/1021\n",
      "\n",
      "Class: 1\n",
      "Accuracy: 123/466\n",
      "\n",
      "Class: 2\n",
      "Accuracy: 193/532\n",
      "\n",
      "Class: 3\n",
      "Accuracy: 434/908\n",
      "\n",
      "Class: 4\n",
      "Accuracy: 2268/2584\n",
      "\n",
      "Total Accuracy:0.7000544365813827\n"
     ]
    }
   ],
   "source": [
    "accuracy_per_class(predictions, true_vals)"
   ]
  },
  {
   "cell_type": "markdown",
   "metadata": {},
   "source": [
    "## Loading Tokenizer and Encoding Data by Sentences"
   ]
  },
  {
   "cell_type": "code",
   "execution_count": 178,
   "metadata": {},
   "outputs": [],
   "source": [
    "tokenizer = BertTokenizer.from_pretrained('bert-base-uncased', \n",
    "                                          do_lower_case=True)"
   ]
  },
  {
   "cell_type": "code",
   "execution_count": 345,
   "metadata": {},
   "outputs": [
    {
     "data": {
      "text/plain": [
       "{(5.0, 'battery'), (5.0, 'screen')}"
      ]
     },
     "execution_count": 345,
     "metadata": {},
     "output_type": "execute_result"
    }
   ],
   "source": [
    "def bert_sentiments (summarised_reviews):\n",
    "    list_of_keywords = ['camera','screen','battery','simcard','touchscreen','fingerprint','fingerprints',\n",
    "                        'ringtones','charger']\n",
    "    \n",
    "    summary = set()\n",
    "    \n",
    "    encoded_data_features = tokenizer.batch_encode_plus(\n",
    "    summarised_reviews, \n",
    "    add_special_tokens=True, \n",
    "    return_attention_mask=True, \n",
    "    pad_to_max_length=True, \n",
    "    max_length=256, \n",
    "    return_tensors='pt'\n",
    ")\n",
    "\n",
    "    input_ids_features = encoded_data_features['input_ids']\n",
    "    attention_masks_features = encoded_data_features['attention_mask']\n",
    "    #labels_features = torch.tensor(df[df.data_type=='val'].label.values)\n",
    "\n",
    "    dataset_features = TensorDataset(input_ids_features, attention_masks_features)\n",
    "\n",
    "    dataloader_features = DataLoader(dataset_features , \n",
    "                                       sampler=SequentialSampler(dataset_features ), \n",
    "                                       batch_size=batch_size)\n",
    "\n",
    "    \n",
    "    model.eval()\n",
    "    \n",
    "    predictions = []\n",
    "\n",
    "    for batch in dataloader_features:\n",
    "\n",
    "        batch = tuple(b.to(device) for b in batch)\n",
    "\n",
    "        inputs = {'input_ids':      batch[0],\n",
    "                  'attention_mask': batch[1],\n",
    "                     }\n",
    "\n",
    "    with torch.no_grad():        \n",
    "        outputs = model(**inputs)\n",
    "        \n",
    "        \n",
    "    \n",
    "    predict_v2 = torch.argmax(outputs[0],dim=1)\n",
    "\n",
    "    \n",
    "    rating_score = predict_v2 + 1\n",
    "    \n",
    "    for i,cleaned_sentence in enumerate(summarised_reviews):        \n",
    "        for word in list_of_keywords:\n",
    "            if word in cleaned_sentence:\n",
    "                summary.add((float(rating_score[i]),word))\n",
    "                \n",
    "    \n",
    "    return summary\n",
    "\n",
    "\n",
    "\n",
    "features_and_sentiments (new_reviews.sentences_with_keywords.values[0])   "
   ]
  },
  {
   "cell_type": "code",
   "execution_count": 346,
   "metadata": {},
   "outputs": [
    {
     "name": "stderr",
     "output_type": "stream",
     "text": [
      "/Users/elisenerissa/opt/anaconda3/lib/python3.7/site-packages/ipykernel_launcher.py:1: SettingWithCopyWarning: \n",
      "A value is trying to be set on a copy of a slice from a DataFrame.\n",
      "Try using .loc[row_indexer,col_indexer] = value instead\n",
      "\n",
      "See the caveats in the documentation: https://pandas.pydata.org/pandas-docs/stable/user_guide/indexing.html#returning-a-view-versus-a-copy\n",
      "  \"\"\"Entry point for launching an IPython kernel.\n"
     ]
    }
   ],
   "source": [
    "iphone_xs['bert_analysis'] = iphone_xs['sentences_with_keywords'].apply(bert_sentiments)"
   ]
  },
  {
   "cell_type": "code",
   "execution_count": 356,
   "metadata": {},
   "outputs": [
    {
     "data": {
      "text/plain": [
       "63213                                                                                                                                                                                                                                                                                                                                                                                                                                                                                                                                                                                                                                                                                                                Charging cable isn’t original! Firstly, this iphone is really like new. Battery life %100. But i don’t believe the charging cable is original. Cuz as seen in the photos, The material is really poor quality, the cable shape is distorted with a slight bending. As is known, it is a factor that affects charging and phone performance.\n",
       "63214                                                                                                                                                                                                                                                                                                                                                                                                                                                      Phone never turned on. I really would leave 0 stars if it were possible. Be careful with \"renewed\" phones on Amazon. I left it charging almost 2 whole days and it never turned on. And yes I tried different chargers. Went to different outlets and the phone would never turn on. It also did not look new as mentioned. I will never ever buy a \"renewed\" product off of anyone on Amazon. It is just really frustrating because what if I needed a phone by a certain day and I am relying on Amazon do deliver a perfectly working phone. And now I am unfortunately just involved in a hassle.\n",
       "63216                                                                                                                                                                                                                                                                                                                                                                                                                                                                                                                                                                                                                                                                                                                                                                                                                                            Terrible it won’t even charge from the port anymore Do not buy this phone. It has so many problems like it won’t charge and the battery life is terrible. Just buy it from apple itself because it will be new.\n",
       "63217    It's an iPhone This is a great iPhone. I got it for my grandpa who upgraded from an iPhone 6. The 11 was already announced when we got this, but he didn't like the 11 (not pro) because it was bigger and more expensive and the screen on this is a lot better. The phone as a whole is alright. The cameras are what you can expect from an iPhone (awesome). It's just hard to explain to him why it doesn't have a headphone jack and what happened to the fingerprint scanner. If it had those two it'd be a great phone, but it'll have to settle for being just a great iPhone. Also, the price stung a lot. He says sometimes regrets not getting a Samsung S10 because that did have all the features he wanted for less price and arguably similar quality. Yet, he really likes iOS, and that transition would be a little difficult for him. So to wrap it up, if you're tied into the iOS ecosystem, this is a great phone. This can be a good deal over the iPhone 11 pro, especially if you aren't going to be using a wide angle lens.\n",
       "63218                                                                                                                                                                                                                                                                                                                                                                                                                                                                                                                                                                                                                                                                                                                 Almost good enough but not like new The phone had a larger than expected scratch on the screen. Scratch was about 1 inch and half. Maybe i had a bad unit. It was clean everywhere else and they put the screen protector on top of the screen But for the price and like new condition it stated on the description it was disappointing.\n",
       "Name: reviews, dtype: object"
      ]
     },
     "execution_count": 356,
     "metadata": {},
     "output_type": "execute_result"
    }
   ],
   "source": [
    "iphone_xs['reviews'][5:10]"
   ]
  },
  {
   "cell_type": "code",
   "execution_count": 353,
   "metadata": {},
   "outputs": [
    {
     "data": {
      "text/plain": [
       "63213                                                                                                                                                                                                                                                                                                                                         [battery life %100.]\n",
       "63214                                                                                                                                                                                                                                                                                                                        [and yes i tried different chargers.]\n",
       "63216                                                                                                                                                                                                                                                                             [it has so many problems like it won’t charge and the battery life is terrible.]\n",
       "63217    [the cameras are what you can expect from an iphone (awesome)., it's just hard to explain to him why it doesn't have a headphone jack and what happened to the fingerprint scanner., the 11 was already announced when we got this, but he didn't like the 11 (not pro) because it was bigger and more expensive and the screen on this is a lot better.]\n",
       "63218                                                                           [almost good enough but not like new the phone had a larger than expected scratch on the screen., it was clean everywhere else and they put the screen protector on top of the screen but for the price and like new condition it stated on the description it was disappointing.]\n",
       "Name: sentences_with_keywords, dtype: object"
      ]
     },
     "execution_count": 353,
     "metadata": {},
     "output_type": "execute_result"
    }
   ],
   "source": [
    "iphone_xs['sentences_with_keywords'][5:10]"
   ]
  },
  {
   "cell_type": "code",
   "execution_count": 355,
   "metadata": {},
   "outputs": [
    {
     "data": {
      "text/plain": [
       "63213                                  [(3, battery)]\n",
       "63214                                  [(5, charger)]\n",
       "63216                                  [(1, battery)]\n",
       "63217    [(1, fingerprint), (5, screen), (5, camera)]\n",
       "63218                      [(5, screen), (1, screen)]\n",
       "Name: features_and_sentiments, dtype: object"
      ]
     },
     "execution_count": 355,
     "metadata": {},
     "output_type": "execute_result"
    }
   ],
   "source": [
    "iphone_xs['features_and_sentiments'][5:10] #vader"
   ]
  },
  {
   "cell_type": "code",
   "execution_count": 354,
   "metadata": {
    "scrolled": true
   },
   "outputs": [
    {
     "data": {
      "text/plain": [
       "63213                                      {(5.0, battery)}\n",
       "63214                                      {(5.0, charger)}\n",
       "63216                                      {(2.0, battery)}\n",
       "63217    {(3.0, fingerprint), (4.0, screen), (5.0, camera)}\n",
       "63218                        {(3.0, screen), (4.0, screen)}\n",
       "Name: bert_analysis, dtype: object"
      ]
     },
     "execution_count": 354,
     "metadata": {},
     "output_type": "execute_result"
    }
   ],
   "source": [
    "iphone_xs['bert_analysis'][5:10]"
   ]
  },
  {
   "cell_type": "code",
   "execution_count": null,
   "metadata": {},
   "outputs": [],
   "source": []
  }
 ],
 "metadata": {
  "kernelspec": {
   "display_name": "Python 3",
   "language": "python",
   "name": "python3"
  },
  "language_info": {
   "codemirror_mode": {
    "name": "ipython",
    "version": 3
   },
   "file_extension": ".py",
   "mimetype": "text/x-python",
   "name": "python",
   "nbconvert_exporter": "python",
   "pygments_lexer": "ipython3",
   "version": "3.7.6"
  }
 },
 "nbformat": 4,
 "nbformat_minor": 4
}
