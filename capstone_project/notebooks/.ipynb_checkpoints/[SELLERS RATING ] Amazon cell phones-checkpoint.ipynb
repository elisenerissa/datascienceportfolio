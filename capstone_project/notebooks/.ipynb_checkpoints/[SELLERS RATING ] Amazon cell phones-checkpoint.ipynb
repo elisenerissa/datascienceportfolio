{
 "cells": [
  {
   "cell_type": "markdown",
   "metadata": {},
   "source": [
    "Ideas:\n",
    "- Find out what people are looking for in a certain products by analysing the reviews (may improve search engine or helpful for marketing the products/bringing the right products)\n",
    "- Find out what people are saying about these products (especially the negative comments) to find out how to improve services or even the product itself\n",
    "- sellers rating\n",
    "\n",
    "By: sentiment analysis and topic modelling \n",
    "\n",
    "\n",
    "- Help sellers and Amazon bring in the right products for customers - find out the most popular brands/phone types \n",
    "- "
   ]
  },
  {
   "cell_type": "code",
   "execution_count": 1,
   "metadata": {},
   "outputs": [],
   "source": [
    "import pandas as pd \n",
    "import matplotlib.pyplot as plt\n",
    "import numpy as np\n",
    "import seaborn as sns\n",
    "\n",
    "plt.style.use('fivethirtyeight')\n",
    "%matplotlib inline\n",
    "\n",
    "#pd.set_option('display.max_colwidth',None)"
   ]
  },
  {
   "cell_type": "code",
   "execution_count": 2,
   "metadata": {},
   "outputs": [],
   "source": [
    "sellers = pd.read_csv('../data/sellers_information_selenium_all.csv')"
   ]
  },
  {
   "cell_type": "code",
   "execution_count": 3,
   "metadata": {},
   "outputs": [],
   "source": [
    "reviews = pd.read_csv('../data/amazon_cells_v2.csv')\n",
    "items = pd.read_csv('../data/amazon_items_v2.csv')"
   ]
  },
  {
   "cell_type": "code",
   "execution_count": 4,
   "metadata": {},
   "outputs": [
    {
     "data": {
      "text/plain": [
       "url          0\n",
       "sellers    214\n",
       "dtype: int64"
      ]
     },
     "execution_count": 4,
     "metadata": {},
     "output_type": "execute_result"
    }
   ],
   "source": [
    "sellers.isnull().sum()"
   ]
  },
  {
   "cell_type": "code",
   "execution_count": 5,
   "metadata": {},
   "outputs": [
    {
     "data": {
      "text/plain": [
       "163"
      ]
     },
     "execution_count": 5,
     "metadata": {},
     "output_type": "execute_result"
    }
   ],
   "source": [
    "len(sellers['sellers'].unique())"
   ]
  },
  {
   "cell_type": "code",
   "execution_count": 6,
   "metadata": {},
   "outputs": [
    {
     "data": {
      "text/plain": [
       "(720, 2)"
      ]
     },
     "execution_count": 6,
     "metadata": {},
     "output_type": "execute_result"
    }
   ],
   "source": [
    "sellers.shape"
   ]
  },
  {
   "cell_type": "code",
   "execution_count": 7,
   "metadata": {},
   "outputs": [
    {
     "data": {
      "text/html": [
       "<div>\n",
       "<style scoped>\n",
       "    .dataframe tbody tr th:only-of-type {\n",
       "        vertical-align: middle;\n",
       "    }\n",
       "\n",
       "    .dataframe tbody tr th {\n",
       "        vertical-align: top;\n",
       "    }\n",
       "\n",
       "    .dataframe thead th {\n",
       "        text-align: right;\n",
       "    }\n",
       "</style>\n",
       "<table border=\"1\" class=\"dataframe\">\n",
       "  <thead>\n",
       "    <tr style=\"text-align: right;\">\n",
       "      <th></th>\n",
       "      <th>url</th>\n",
       "      <th>sellers</th>\n",
       "    </tr>\n",
       "  </thead>\n",
       "  <tbody>\n",
       "    <tr>\n",
       "      <th>0</th>\n",
       "      <td>https://www.amazon.com/Dual-Band-Tri-Mode-Acti...</td>\n",
       "      <td>Flip n Smart Phones</td>\n",
       "    </tr>\n",
       "    <tr>\n",
       "      <th>1</th>\n",
       "      <td>https://www.amazon.com/Motorola-i265-I265-phon...</td>\n",
       "      <td>FOREVER ITEMS</td>\n",
       "    </tr>\n",
       "    <tr>\n",
       "      <th>2</th>\n",
       "      <td>https://www.amazon.com/MOTOROLA-C168i-CINGULAR...</td>\n",
       "      <td>DiscountGoods4U</td>\n",
       "    </tr>\n",
       "    <tr>\n",
       "      <th>3</th>\n",
       "      <td>https://www.amazon.com/Motorola-i335-Phone-Boo...</td>\n",
       "      <td>Deals on OEM</td>\n",
       "    </tr>\n",
       "    <tr>\n",
       "      <th>4</th>\n",
       "      <td>https://www.amazon.com/Motorola-V365-contract-...</td>\n",
       "      <td>Maverick Macs</td>\n",
       "    </tr>\n",
       "  </tbody>\n",
       "</table>\n",
       "</div>"
      ],
      "text/plain": [
       "                                                 url              sellers\n",
       "0  https://www.amazon.com/Dual-Band-Tri-Mode-Acti...  Flip n Smart Phones\n",
       "1  https://www.amazon.com/Motorola-i265-I265-phon...        FOREVER ITEMS\n",
       "2  https://www.amazon.com/MOTOROLA-C168i-CINGULAR...      DiscountGoods4U\n",
       "3  https://www.amazon.com/Motorola-i335-Phone-Boo...         Deals on OEM\n",
       "4  https://www.amazon.com/Motorola-V365-contract-...        Maverick Macs"
      ]
     },
     "execution_count": 7,
     "metadata": {},
     "output_type": "execute_result"
    }
   ],
   "source": [
    "sellers.head()"
   ]
  },
  {
   "cell_type": "code",
   "execution_count": 8,
   "metadata": {},
   "outputs": [
    {
     "data": {
      "text/plain": [
       "'https://www.amazon.com/Dual-Band-Tri-Mode-Activated-Dialing-Backlit/dp/B0000SX2UC'"
      ]
     },
     "execution_count": 8,
     "metadata": {},
     "output_type": "execute_result"
    }
   ],
   "source": [
    "sellers.loc[0,'url']"
   ]
  },
  {
   "cell_type": "code",
   "execution_count": 9,
   "metadata": {},
   "outputs": [
    {
     "data": {
      "text/plain": [
       "(67986, 8)"
      ]
     },
     "execution_count": 9,
     "metadata": {},
     "output_type": "execute_result"
    }
   ],
   "source": [
    "reviews.shape"
   ]
  },
  {
   "cell_type": "code",
   "execution_count": 10,
   "metadata": {},
   "outputs": [
    {
     "data": {
      "text/plain": [
       "(720, 10)"
      ]
     },
     "execution_count": 10,
     "metadata": {},
     "output_type": "execute_result"
    }
   ],
   "source": [
    "items.shape"
   ]
  },
  {
   "cell_type": "code",
   "execution_count": 11,
   "metadata": {},
   "outputs": [],
   "source": [
    "new_items = pd.merge(items,sellers,on='url',how='left')"
   ]
  },
  {
   "cell_type": "code",
   "execution_count": 12,
   "metadata": {},
   "outputs": [],
   "source": [
    "#reviews.head(2)"
   ]
  },
  {
   "cell_type": "code",
   "execution_count": 13,
   "metadata": {},
   "outputs": [
    {
     "data": {
      "text/plain": [
       "(720, 11)"
      ]
     },
     "execution_count": 13,
     "metadata": {},
     "output_type": "execute_result"
    }
   ],
   "source": [
    "new_items.shape"
   ]
  },
  {
   "cell_type": "code",
   "execution_count": 14,
   "metadata": {},
   "outputs": [],
   "source": [
    "new_items.rename(columns={'title':'item_title'},inplace=True)\n",
    "reviews.rename(columns={'title':'review_title'},inplace=True)"
   ]
  },
  {
   "cell_type": "code",
   "execution_count": 15,
   "metadata": {},
   "outputs": [
    {
     "data": {
      "text/plain": [
       "(720, 10)"
      ]
     },
     "execution_count": 15,
     "metadata": {},
     "output_type": "execute_result"
    }
   ],
   "source": [
    "new_items.drop('rating',axis=1,inplace=True)\n",
    "items.shape"
   ]
  },
  {
   "cell_type": "code",
   "execution_count": 16,
   "metadata": {},
   "outputs": [
    {
     "data": {
      "text/plain": [
       "39"
      ]
     },
     "execution_count": 16,
     "metadata": {},
     "output_type": "execute_result"
    }
   ],
   "source": [
    "reviews.duplicated(subset=['name','asin','date','review_title','body']).sum()"
   ]
  },
  {
   "cell_type": "code",
   "execution_count": 17,
   "metadata": {},
   "outputs": [
    {
     "data": {
      "text/plain": [
       "(67947, 8)"
      ]
     },
     "execution_count": 17,
     "metadata": {},
     "output_type": "execute_result"
    }
   ],
   "source": [
    "reviews.drop_duplicates(subset=['name','asin','date','review_title','body'],keep='first',inplace=True)\n",
    "reviews.shape"
   ]
  },
  {
   "cell_type": "code",
   "execution_count": 18,
   "metadata": {},
   "outputs": [],
   "source": [
    "new_reviews = pd.merge(reviews,new_items,on='asin',how='left')"
   ]
  },
  {
   "cell_type": "code",
   "execution_count": 19,
   "metadata": {},
   "outputs": [
    {
     "data": {
      "text/html": [
       "<div>\n",
       "<style scoped>\n",
       "    .dataframe tbody tr th:only-of-type {\n",
       "        vertical-align: middle;\n",
       "    }\n",
       "\n",
       "    .dataframe tbody tr th {\n",
       "        vertical-align: top;\n",
       "    }\n",
       "\n",
       "    .dataframe thead th {\n",
       "        text-align: right;\n",
       "    }\n",
       "</style>\n",
       "<table border=\"1\" class=\"dataframe\">\n",
       "  <thead>\n",
       "    <tr style=\"text-align: right;\">\n",
       "      <th></th>\n",
       "      <th>asin</th>\n",
       "      <th>brand</th>\n",
       "      <th>item_title</th>\n",
       "      <th>url</th>\n",
       "      <th>image</th>\n",
       "      <th>reviewUrl</th>\n",
       "      <th>totalReviews</th>\n",
       "      <th>price</th>\n",
       "      <th>originalPrice</th>\n",
       "      <th>sellers</th>\n",
       "    </tr>\n",
       "  </thead>\n",
       "  <tbody>\n",
       "    <tr>\n",
       "      <th>0</th>\n",
       "      <td>B0000SX2UC</td>\n",
       "      <td>NaN</td>\n",
       "      <td>Dual-Band / Tri-Mode Sprint PCS Phone w/ Voice...</td>\n",
       "      <td>https://www.amazon.com/Dual-Band-Tri-Mode-Acti...</td>\n",
       "      <td>https://m.media-amazon.com/images/I/2143EBQ210...</td>\n",
       "      <td>https://www.amazon.com/product-reviews/B0000SX2UC</td>\n",
       "      <td>14</td>\n",
       "      <td>0.00</td>\n",
       "      <td>0.0</td>\n",
       "      <td>Flip n Smart Phones</td>\n",
       "    </tr>\n",
       "    <tr>\n",
       "      <th>1</th>\n",
       "      <td>B0009N5L7K</td>\n",
       "      <td>Motorola</td>\n",
       "      <td>Motorola I265 phone</td>\n",
       "      <td>https://www.amazon.com/Motorola-i265-I265-phon...</td>\n",
       "      <td>https://m.media-amazon.com/images/I/419WBAVDAR...</td>\n",
       "      <td>https://www.amazon.com/product-reviews/B0009N5L7K</td>\n",
       "      <td>7</td>\n",
       "      <td>49.95</td>\n",
       "      <td>0.0</td>\n",
       "      <td>FOREVER ITEMS</td>\n",
       "    </tr>\n",
       "  </tbody>\n",
       "</table>\n",
       "</div>"
      ],
      "text/plain": [
       "         asin     brand                                         item_title  \\\n",
       "0  B0000SX2UC       NaN  Dual-Band / Tri-Mode Sprint PCS Phone w/ Voice...   \n",
       "1  B0009N5L7K  Motorola                                Motorola I265 phone   \n",
       "\n",
       "                                                 url  \\\n",
       "0  https://www.amazon.com/Dual-Band-Tri-Mode-Acti...   \n",
       "1  https://www.amazon.com/Motorola-i265-I265-phon...   \n",
       "\n",
       "                                               image  \\\n",
       "0  https://m.media-amazon.com/images/I/2143EBQ210...   \n",
       "1  https://m.media-amazon.com/images/I/419WBAVDAR...   \n",
       "\n",
       "                                           reviewUrl  totalReviews  price  \\\n",
       "0  https://www.amazon.com/product-reviews/B0000SX2UC            14   0.00   \n",
       "1  https://www.amazon.com/product-reviews/B0009N5L7K             7  49.95   \n",
       "\n",
       "   originalPrice              sellers  \n",
       "0            0.0  Flip n Smart Phones  \n",
       "1            0.0        FOREVER ITEMS  "
      ]
     },
     "execution_count": 19,
     "metadata": {},
     "output_type": "execute_result"
    }
   ],
   "source": [
    "new_items.head(2)"
   ]
  },
  {
   "cell_type": "code",
   "execution_count": 20,
   "metadata": {},
   "outputs": [
    {
     "name": "stdout",
     "output_type": "stream",
     "text": [
      "(67947, 17)\n"
     ]
    }
   ],
   "source": [
    "print(new_reviews.shape)\n",
    "#new_reviews.head(2)"
   ]
  },
  {
   "cell_type": "code",
   "execution_count": 21,
   "metadata": {},
   "outputs": [
    {
     "data": {
      "text/plain": [
       "asin                 0\n",
       "name                 2\n",
       "rating               0\n",
       "date                 0\n",
       "verified             0\n",
       "review_title        14\n",
       "body                21\n",
       "helpfulVotes     40761\n",
       "brand              200\n",
       "item_title           0\n",
       "url                  0\n",
       "image                0\n",
       "reviewUrl            0\n",
       "totalReviews         0\n",
       "price                0\n",
       "originalPrice        0\n",
       "sellers          19423\n",
       "dtype: int64"
      ]
     },
     "execution_count": 21,
     "metadata": {},
     "output_type": "execute_result"
    }
   ],
   "source": [
    "new_reviews.isnull().sum()"
   ]
  },
  {
   "cell_type": "code",
   "execution_count": 22,
   "metadata": {},
   "outputs": [
    {
     "data": {
      "text/plain": [
       "48524"
      ]
     },
     "execution_count": 22,
     "metadata": {},
     "output_type": "execute_result"
    }
   ],
   "source": [
    "67947-19423"
   ]
  },
  {
   "cell_type": "code",
   "execution_count": 23,
   "metadata": {},
   "outputs": [
    {
     "data": {
      "text/plain": [
       "Edge Cellular                4942\n",
       "Maverick Macs                2366\n",
       "Battcell                     1894\n",
       "Cell Universal               1876\n",
       "MegaElectron.                1800\n",
       "                             ... \n",
       "RoamtheWorld                    1\n",
       "Seller1ON1                      1\n",
       "Fabulous Finds of the PNW       1\n",
       "cellulartech                    1\n",
       "KICKmobiles®                    1\n",
       "Name: sellers, Length: 162, dtype: int64"
      ]
     },
     "execution_count": 23,
     "metadata": {},
     "output_type": "execute_result"
    }
   ],
   "source": [
    "new_reviews['sellers'].value_counts()"
   ]
  },
  {
   "cell_type": "code",
   "execution_count": 24,
   "metadata": {},
   "outputs": [
    {
     "data": {
      "text/plain": [
       "720"
      ]
     },
     "execution_count": 24,
     "metadata": {},
     "output_type": "execute_result"
    }
   ],
   "source": [
    "len(reviews['asin'].unique())"
   ]
  },
  {
   "cell_type": "code",
   "execution_count": 25,
   "metadata": {},
   "outputs": [
    {
     "data": {
      "text/plain": [
       "720"
      ]
     },
     "execution_count": 25,
     "metadata": {},
     "output_type": "execute_result"
    }
   ],
   "source": [
    "len(items['asin'].unique())"
   ]
  },
  {
   "cell_type": "code",
   "execution_count": 26,
   "metadata": {},
   "outputs": [
    {
     "data": {
      "text/plain": [
       "\"I had the Samsung A600 for awhile which is absolute doo doo. You can read my review on it and detect my rage at the stupid thing. It finally died on me so I used this Nokia phone I bought in a garage sale for $1. I wonder y she sold it so cheap?... Bad: ===> I hate the menu. It takes forever to get to what you want because you have to scroll endlessly. Usually phones have numbered categories so u can simply press the # and get where you want to go. ===> It's a pain to put it on silent or vibrate. If you're in class and it rings, you have to turn it off immediately. There's no fast way to silence the damn thing. Always remember to put it on silent! I learned that the hard way. ===> It's so true about the case. It's a mission to get off and will break ur nails in the process. Also, you'll damage the case each time u try. For some reason the phone started giving me problems once I did succeed in opening it. ===> Buttons could be a bit bigger. Vibration could be stronger. Good: ===> Reception is not too shabby. I was using it in the elevator which is a remarkable feat considering my old phone would lose service by simply putting it in my pocket. ===> Compared to my old Samsung, this phone works quite well. The ring tones are loud enough to hear and the phone actually charges quickly and has great battery life. It doesn't heat up like a potatoe in the oven either during long phone convos. ===> Nice bright, large screen. ===> Cute ways to customize it. Scroll bar can be set to purple, pink, aqua, orange, etc. Overall: Okay phone. It serves its purpose but definitely pales in comparison to these new phones coming out from Sprint. Why get so so when you can get great?\""
      ]
     },
     "execution_count": 26,
     "metadata": {},
     "output_type": "execute_result"
    }
   ],
   "source": [
    "reviews.loc[0,'body']"
   ]
  },
  {
   "cell_type": "code",
   "execution_count": 27,
   "metadata": {},
   "outputs": [],
   "source": [
    "date_columns = pd.to_datetime(new_reviews['date'])"
   ]
  },
  {
   "cell_type": "code",
   "execution_count": 28,
   "metadata": {},
   "outputs": [
    {
     "data": {
      "text/plain": [
       "2019    29688\n",
       "2018    13732\n",
       "2017     8181\n",
       "2016     5508\n",
       "2015     4439\n",
       "2014     3314\n",
       "2013     2144\n",
       "2012      721\n",
       "2011      102\n",
       "2010       54\n",
       "2009       36\n",
       "2004        9\n",
       "2008        6\n",
       "2007        5\n",
       "2005        4\n",
       "2006        2\n",
       "2003        2\n",
       "Name: date, dtype: int64"
      ]
     },
     "execution_count": 28,
     "metadata": {},
     "output_type": "execute_result"
    }
   ],
   "source": [
    "date_columns.dt.year.value_counts()"
   ]
  },
  {
   "cell_type": "code",
   "execution_count": 29,
   "metadata": {},
   "outputs": [
    {
     "data": {
      "text/plain": [
       "Timestamp('2003-11-24 00:00:00')"
      ]
     },
     "execution_count": 29,
     "metadata": {},
     "output_type": "execute_result"
    }
   ],
   "source": [
    "date_columns.min()"
   ]
  },
  {
   "cell_type": "code",
   "execution_count": 30,
   "metadata": {},
   "outputs": [
    {
     "data": {
      "text/plain": [
       "Timestamp('2019-12-25 00:00:00')"
      ]
     },
     "execution_count": 30,
     "metadata": {},
     "output_type": "execute_result"
    }
   ],
   "source": [
    "date_columns.max()"
   ]
  },
  {
   "cell_type": "markdown",
   "metadata": {},
   "source": [
    "## EDA"
   ]
  },
  {
   "cell_type": "code",
   "execution_count": 31,
   "metadata": {},
   "outputs": [
    {
     "data": {
      "text/plain": [
       "brand\n",
       "ASUS          5\n",
       "OnePlus      10\n",
       "Sony         27\n",
       "HUAWEI       32\n",
       "Google       38\n",
       "Nokia        44\n",
       "Xiaomi       46\n",
       "Apple        63\n",
       "Motorola    105\n",
       "Samsung     346\n",
       "Name: asin, dtype: int64"
      ]
     },
     "execution_count": 31,
     "metadata": {},
     "output_type": "execute_result"
    }
   ],
   "source": [
    "items.groupby('brand')['asin'].count().sort_values()"
   ]
  },
  {
   "cell_type": "code",
   "execution_count": 32,
   "metadata": {},
   "outputs": [
    {
     "data": {
      "image/png": "[encoded data removed]",
      "text/plain": [
       "<Figure size 576x720 with 12 Axes>"
      ]
     },
     "metadata": {
      "needs_background": "light"
     },
     "output_type": "display_data"
    }
   ],
   "source": [
    "new_reviews.hist(column='helpfulVotes', by='brand',figsize=(8,10),range=(0,20));"
   ]
  },
  {
   "cell_type": "code",
   "execution_count": 33,
   "metadata": {},
   "outputs": [
    {
     "data": {
      "image/png": "[encoded data removed]",
      "text/plain": [
       "<Figure size 720x432 with 1 Axes>"
      ]
     },
     "metadata": {
      "needs_background": "light"
     },
     "output_type": "display_data"
    }
   ],
   "source": [
    "plt.figure(figsize=(10,6))\n",
    "\n",
    "reviews['helpfulVotes'].plot.hist(label='Helpful Votes',range=(0,40),bins=30)\n",
    "plt.show()"
   ]
  },
  {
   "cell_type": "code",
   "execution_count": 34,
   "metadata": {},
   "outputs": [
    {
     "data": {
      "image/png": "[encoded data removed]",
      "text/plain": [
       "<Figure size 504x360 with 1 Axes>"
      ]
     },
     "metadata": {
      "needs_background": "light"
     },
     "output_type": "display_data"
    }
   ],
   "source": [
    "items.groupby('brand')['asin'].count().sort_values().plot(kind='barh',\n",
    "                                                          figsize=(7,5),\n",
    "                                                         color='xkcd:rust')\n",
    "\n",
    "\n",
    "plt.show()"
   ]
  },
  {
   "cell_type": "code",
   "execution_count": 35,
   "metadata": {},
   "outputs": [
    {
     "data": {
      "text/plain": [
       "Index(['asin', 'name', 'rating', 'date', 'verified', 'review_title', 'body',\n",
       "       'helpfulVotes', 'brand', 'item_title', 'url', 'image', 'reviewUrl',\n",
       "       'totalReviews', 'price', 'originalPrice', 'sellers'],\n",
       "      dtype='object')"
      ]
     },
     "execution_count": 35,
     "metadata": {},
     "output_type": "execute_result"
    }
   ],
   "source": [
    "new_reviews.columns"
   ]
  },
  {
   "cell_type": "code",
   "execution_count": 36,
   "metadata": {},
   "outputs": [
    {
     "data": {
      "image/png": "[encoded data removed]",
      "text/plain": [
       "<Figure size 504x360 with 1 Axes>"
      ]
     },
     "metadata": {
      "needs_background": "light"
     },
     "output_type": "display_data"
    }
   ],
   "source": [
    "new_reviews.groupby('brand')['rating'].mean().sort_values().plot(kind='barh',\n",
    "                                                          figsize=(7,5),\n",
    "                                                          title=\"Average rating per brand\",\n",
    "                                                          color='xkcd:rust')\n",
    "\n",
    "\n",
    "plt.show()"
   ]
  },
  {
   "cell_type": "code",
   "execution_count": 37,
   "metadata": {},
   "outputs": [
    {
     "data": {
      "text/plain": [
       "brand\n",
       "Xiaomi      4.371202\n",
       "HUAWEI      4.240899\n",
       "OnePlus     4.213256\n",
       "Motorola    3.817792\n",
       "Sony        3.786921\n",
       "Samsung     3.781689\n",
       "ASUS        3.721116\n",
       "Apple       3.701263\n",
       "Google      3.585205\n",
       "Nokia       3.583996\n",
       "Name: rating, dtype: float64"
      ]
     },
     "execution_count": 37,
     "metadata": {},
     "output_type": "execute_result"
    }
   ],
   "source": [
    "# Average rating per brand\n",
    "ratings_by_brand = new_reviews.groupby(\"brand\")['rating'].mean()\n",
    "ratings_by_brand.sort_values(ascending=False)"
   ]
  },
  {
   "cell_type": "markdown",
   "metadata": {},
   "source": [
    "### Pre-processing of Reviews"
   ]
  },
  {
   "cell_type": "code",
   "execution_count": 39,
   "metadata": {},
   "outputs": [],
   "source": [
    "import re\n",
    "from bs4 import BeautifulSoup\n",
    "from nltk.corpus import stopwords \n",
    "from nltk.stem import WordNetLemmatizer\n",
    "from nltk.stem.porter import PorterStemmer\n",
    "from sklearn.feature_extraction.text import CountVectorizer,TfidfVectorizer"
   ]
  },
  {
   "cell_type": "code",
   "execution_count": 40,
   "metadata": {},
   "outputs": [
    {
     "data": {
      "text/plain": [
       "Index(['asin', 'name', 'rating', 'date', 'verified', 'review_title', 'body',\n",
       "       'helpfulVotes', 'brand', 'item_title', 'url', 'image', 'reviewUrl',\n",
       "       'totalReviews', 'price', 'originalPrice', 'sellers'],\n",
       "      dtype='object')"
      ]
     },
     "execution_count": 40,
     "metadata": {},
     "output_type": "execute_result"
    }
   ],
   "source": [
    "new_reviews.columns"
   ]
  },
  {
   "cell_type": "code",
   "execution_count": 41,
   "metadata": {},
   "outputs": [],
   "source": [
    "def all_text(row):\n",
    "    \"\"\" a function to merge the title and selftext of the posts\"\"\"\n",
    "    row['reviews'] = str(row['review_title']) + \" \" + str(row['body'])\n",
    "    return row "
   ]
  },
  {
   "cell_type": "code",
   "execution_count": 42,
   "metadata": {},
   "outputs": [],
   "source": [
    "new_reviews= new_reviews.apply(all_text, axis=1)"
   ]
  },
  {
   "cell_type": "code",
   "execution_count": 43,
   "metadata": {},
   "outputs": [
    {
     "data": {
      "text/plain": [
       "Samsung     33608\n",
       "Motorola     8869\n",
       "Nokia        5911\n",
       "Apple        5145\n",
       "Xiaomi       4410\n",
       "Google       3785\n",
       "Sony         3196\n",
       "HUAWEI       2225\n",
       "OnePlus       347\n",
       "ASUS          251\n",
       "Name: brand, dtype: int64"
      ]
     },
     "execution_count": 43,
     "metadata": {},
     "output_type": "execute_result"
    }
   ],
   "source": [
    "new_reviews['brand'].value_counts()"
   ]
  },
  {
   "cell_type": "code",
   "execution_count": 44,
   "metadata": {},
   "outputs": [],
   "source": [
    "samsung_reviews = new_reviews[new_reviews['brand']=='Samsung']\n",
    "motorola_reviews = new_reviews[new_reviews['brand']=='Motorola']\n",
    "nokia_reviews = new_reviews[new_reviews['brand']=='Nokia']\n",
    "apple_reviews = new_reviews[new_reviews['brand']=='Apple']\n",
    "xiaomi_reviews = new_reviews[new_reviews['brand']=='Xiaomi']\n",
    "google_reviews = new_reviews[new_reviews['brand']=='Google']\n",
    "sony_reviews = new_reviews[new_reviews['brand']=='Sony']\n",
    "huawei_reviews = new_reviews[new_reviews['brand']=='HUAWEI']\n",
    "oneplus_reviews = new_reviews[new_reviews['brand']=='Oneplus']\n",
    "asus_reviews = new_reviews[new_reviews['brand']=='Asus']"
   ]
  },
  {
   "cell_type": "code",
   "execution_count": 45,
   "metadata": {},
   "outputs": [
    {
     "data": {
      "text/plain": [
       "179"
      ]
     },
     "execution_count": 45,
     "metadata": {},
     "output_type": "execute_result"
    }
   ],
   "source": [
    "stop_words = stopwords.words('english')\n",
    "len(stop_words)"
   ]
  },
  {
   "cell_type": "code",
   "execution_count": 46,
   "metadata": {},
   "outputs": [],
   "source": [
    "add_words = ['phone','one','two','three','four','five','star']\n",
    "\n",
    "stop_words.extend(add_words)"
   ]
  },
  {
   "cell_type": "code",
   "execution_count": 47,
   "metadata": {},
   "outputs": [
    {
     "data": {
      "text/plain": [
       "186"
      ]
     },
     "execution_count": 47,
     "metadata": {},
     "output_type": "execute_result"
    }
   ],
   "source": [
    "len(stop_words)"
   ]
  },
  {
   "cell_type": "code",
   "execution_count": 48,
   "metadata": {},
   "outputs": [],
   "source": [
    "def clean_reviews(raw_text):\n",
    "    \"\"\"\n",
    "    Function to convert a raw review to a string of words that have been cleaned. \n",
    "    - HTML, non-letters will be removed\n",
    "    - words will be converted to lowercase\n",
    "    - stopwords will be removed \n",
    "    - words will be stemmed to their root words\n",
    "    \n",
    "    The input is a single string, and \n",
    "    the output is a single string \n",
    "    \n",
    "    \"\"\"\n",
    "    \n",
    "    # Remove HTML.\n",
    "    post_text = BeautifulSoup(raw_text).get_text()\n",
    "    \n",
    "    # Remove non-letters.\n",
    "    letters_only = re.sub(\"[^a-zA-Z]\", \" \", post_text)\n",
    "    \n",
    "    # Convert to lower case, split into individual words.\n",
    "    words = letters_only.lower().split()\n",
    "    \n",
    "    # convert the stopwords to a set.\n",
    "    stops = set(stop_words)\n",
    "    \n",
    "    # Remove stopwords.\n",
    "    meaningful_words = [w for w in words if w not in stops]\n",
    "    \n",
    "    # Stemming \n",
    "    #p_stemmer = PorterStemmer()\n",
    "    #meaningful_words = [p_stemmer.stem(w) for w in meaningful_words]\n",
    "    \n",
    "    #Lemmatize\n",
    "    lemmatizer = WordNetLemmatizer()\n",
    "    meaningful_words = [lemmatizer.lemmatize(word) for word in \n",
    "                        meaningful_words]\n",
    "    \n",
    "    \n",
    "    \n",
    "    \n",
    "    # Join the words back into one string separated by space, \n",
    "    # and return the result.\n",
    "    return(\" \".join(meaningful_words))"
   ]
  },
  {
   "cell_type": "code",
   "execution_count": 49,
   "metadata": {},
   "outputs": [
    {
     "data": {
      "text/plain": [
       "Index(['asin', 'name', 'rating', 'date', 'verified', 'review_title', 'body',\n",
       "       'helpfulVotes', 'brand', 'item_title', 'url', 'image', 'reviewUrl',\n",
       "       'totalReviews', 'price', 'originalPrice', 'sellers', 'reviews'],\n",
       "      dtype='object')"
      ]
     },
     "execution_count": 49,
     "metadata": {},
     "output_type": "execute_result"
    }
   ],
   "source": [
    "new_reviews.columns"
   ]
  },
  {
   "cell_type": "code",
   "execution_count": 50,
   "metadata": {},
   "outputs": [
    {
     "name": "stdout",
     "output_type": "stream",
     "text": [
      "Cleaning and parsing all reviews...\n",
      "Completed\n"
     ]
    }
   ],
   "source": [
    "cleaned_reviews = []\n",
    "\n",
    "print(\"Cleaning and parsing all reviews...\")\n",
    "\n",
    "# Instantiate counter.\n",
    "j = 0\n",
    "\n",
    "# For every review in our combined dataframe\n",
    "\n",
    "for review in new_reviews['reviews']:\n",
    "    \n",
    "    # Apply the function that we created earlier to clean the reviews\n",
    "    cleaned_reviews.append(clean_reviews(review))\n",
    "    j += 1\n",
    "    \n",
    "print(\"Completed\")"
   ]
  },
  {
   "cell_type": "code",
   "execution_count": 51,
   "metadata": {},
   "outputs": [],
   "source": [
    "new_reviews['cleaned_reviews'] = cleaned_reviews"
   ]
  },
  {
   "cell_type": "code",
   "execution_count": 52,
   "metadata": {},
   "outputs": [
    {
     "name": "stdout",
     "output_type": "stream",
     "text": [
      "Cleaning and parsing xiaomi reviews...\n",
      "Completed\n",
      "Cleaning and parsing apple reviews...\n",
      "Completed\n"
     ]
    }
   ],
   "source": [
    "google_cleaned_reviews = []\n",
    "\n",
    "print(\"Cleaning and parsing xiaomi reviews...\")\n",
    "\n",
    "# Instantiate counter.\n",
    "j = 0\n",
    "\n",
    "# For every review in our combined dataframe\n",
    "\n",
    "for review in google_reviews['reviews']:\n",
    "    \n",
    "    # Apply the function that we created earlier to clean the reviews\n",
    "    google_cleaned_reviews.append(clean_reviews(review))\n",
    "    j += 1\n",
    "    \n",
    "print(\"Completed\")\n",
    "\n",
    "#Repeating the same steps for the other brands\n",
    "apple_cleaned_reviews = []\n",
    "print(\"Cleaning and parsing apple reviews...\")\n",
    "j = 0\n",
    "for review in apple_reviews['reviews']:\n",
    "    apple_cleaned_reviews.append(clean_reviews(review))\n",
    "    j += 1\n",
    "print(\"Completed\")"
   ]
  },
  {
   "cell_type": "code",
   "execution_count": 53,
   "metadata": {},
   "outputs": [],
   "source": [
    "def get_one_gram(corpus, n=None):\n",
    "    \"\"\"\n",
    "    List the top n words in a vocabulary according to occurrence in a text corpus.\n",
    "    \"\"\"\n",
    "    vec = CountVectorizer().fit(corpus)\n",
    "    bag_of_words = vec.transform(corpus)\n",
    "    sum_words = bag_of_words.sum(axis=0) \n",
    "    words_freq = [(word, sum_words[0, idx]) for word, idx in vec.vocabulary_.items()]\n",
    "    words_freq =sorted(words_freq, key = lambda x: x[1], reverse=True)\n",
    "    return words_freq[:n]\n",
    "\n",
    "\n",
    "def get_phrase(corpus, n=None):\n",
    "    \"\"\"\n",
    "    List the top n words in a vocabulary according to occurrence in a text corpus.\n",
    "    \"\"\"\n",
    "    vec = CountVectorizer(ngram_range=(2, 4)).fit(corpus)\n",
    "    bag_of_words = vec.transform(corpus)\n",
    "    sum_words = bag_of_words.sum(axis=0) \n",
    "    words_freq = [(word, sum_words[0, idx]) for word, idx in vec.vocabulary_.items()]\n",
    "    words_freq =sorted(words_freq, key = lambda x: x[1], reverse=True)\n",
    "    return words_freq[:n]"
   ]
  },
  {
   "cell_type": "code",
   "execution_count": 54,
   "metadata": {},
   "outputs": [],
   "source": [
    "top_google_words = dict(get_one_gram(google_cleaned_reviews,20))\n",
    "top_google_phrase = dict(get_phrase(google_cleaned_reviews,20))"
   ]
  },
  {
   "cell_type": "code",
   "execution_count": 55,
   "metadata": {},
   "outputs": [],
   "source": [
    "top_apple_words = dict(get_one_gram(apple_cleaned_reviews,20))\n",
    "top_apple_phrase = dict(get_phrase(apple_cleaned_reviews,20))"
   ]
  },
  {
   "cell_type": "code",
   "execution_count": 56,
   "metadata": {},
   "outputs": [
    {
     "data": {
      "image/png": "[encoded data removed]",
      "text/plain": [
       "<Figure size 1080x648 with 2 Axes>"
      ]
     },
     "metadata": {
      "needs_background": "light"
     },
     "output_type": "display_data"
    }
   ],
   "source": [
    "#Create subplots\n",
    "fig, axes = plt.subplots(1,2, figsize=(15,9));\n",
    "\n",
    "#plot google reviews top 20 most frequently occuring words\n",
    "plt.subplot(1,2,1)\n",
    "covid_pos = plt.barh(range(len(top_google_words)), top_google_words.values(),align = 'center',color='xkcd:rust');\n",
    "\n",
    "#Label axes \n",
    "plt.yticks(range(len(top_google_words)),top_google_words.keys(),fontsize=12);\n",
    "plt.title('Top 20 words in Google Reviews')\n",
    "plt.xlabel('Frequency')\n",
    "plt.gca().invert_yaxis()\n",
    "\n",
    "\n",
    "#plot apple reviews top 20 most frequently occuring words\n",
    "plt.subplot(1,2,2)\n",
    "covid_pos = plt.barh(range(len(top_apple_words)), top_apple_words.values(),align = 'center',color='xkcd:light orange');\n",
    "\n",
    "#Label axes\n",
    "plt.yticks(range(len(top_apple_words)),top_apple_words.keys(),fontsize=12);\n",
    "plt.title('Top 20 words in Apple Reviews')\n",
    "plt.xlabel('Frequency')\n",
    "plt.gca().invert_yaxis()\n",
    "\n",
    "plt.subplots_adjust(wspace=0.9)\n",
    "plt.show()"
   ]
  },
  {
   "cell_type": "code",
   "execution_count": 59,
   "metadata": {
    "scrolled": false
   },
   "outputs": [
    {
     "data": {
      "image/png": "[encoded data removed]",
      "text/plain": [
       "<Figure size 1080x648 with 2 Axes>"
      ]
     },
     "metadata": {
      "needs_background": "light"
     },
     "output_type": "display_data"
    }
   ],
   "source": [
    "#Create subplots\n",
    "fig, axes = plt.subplots(1,2, figsize=(15,9));\n",
    "\n",
    "#plot xiaomi reviews top 20 most frequently occuring words\n",
    "plt.subplot(1,2,1)\n",
    "covid_pos = plt.barh(range(len(top_google_phrase)), top_google_phrase.values(),align = 'center',color='xkcd:rust');\n",
    "\n",
    "#Label axes \n",
    "plt.yticks(range(len(top_google_phrase)),top_google_phrase.keys(),fontsize=12);\n",
    "plt.title('Top 20 phrases in Google Reviews')\n",
    "plt.xlabel('Frequency')\n",
    "plt.gca().invert_yaxis()\n",
    "\n",
    "\n",
    "#plot apple reviews top 20 most frequently occuring words\n",
    "plt.subplot(1,2,2)\n",
    "covid_pos = plt.barh(range(len(top_apple_phrase)), top_apple_phrase.values(),align = 'center',color='xkcd:light orange');\n",
    "\n",
    "#Label axes\n",
    "plt.yticks(range(len(top_apple_phrase)),top_apple_phrase.keys(),fontsize=12);\n",
    "plt.title('Top 20 phrases in Apple Reviews')\n",
    "plt.xlabel('Frequency')\n",
    "plt.gca().invert_yaxis()\n",
    "\n",
    "plt.subplots_adjust(wspace=0.9)\n",
    "plt.show()"
   ]
  },
  {
   "cell_type": "markdown",
   "metadata": {},
   "source": [
    "From the most frequently occuring words, we can see that battery life, sim card seems to something that is very frequently discussed in reviews. "
   ]
  },
  {
   "cell_type": "markdown",
   "metadata": {},
   "source": [
    "## Modeling - Classification Technique"
   ]
  },
  {
   "cell_type": "code",
   "execution_count": 60,
   "metadata": {},
   "outputs": [],
   "source": [
    "from sklearn.model_selection import train_test_split, GridSearchCV\n",
    "from sklearn.linear_model import LogisticRegression\n",
    "from sklearn.pipeline import Pipeline"
   ]
  },
  {
   "cell_type": "code",
   "execution_count": 61,
   "metadata": {},
   "outputs": [
    {
     "data": {
      "text/plain": [
       "array([3, 1, 5, 4, 2])"
      ]
     },
     "execution_count": 61,
     "metadata": {},
     "output_type": "execute_result"
    }
   ],
   "source": [
    "#map the ratings to positive vs negative ratings\n",
    "new_reviews['rating'].unique()"
   ]
  },
  {
   "cell_type": "code",
   "execution_count": 62,
   "metadata": {},
   "outputs": [],
   "source": [
    "def positive_or_negative(rating):\n",
    "    if rating >= 4:\n",
    "        return 1\n",
    "    else:\n",
    "        return 0\n",
    "    \n",
    "\n",
    "new_reviews['pos_neg_reviews'] = new_reviews['rating'].map(positive_or_negative)"
   ]
  },
  {
   "cell_type": "code",
   "execution_count": 63,
   "metadata": {},
   "outputs": [],
   "source": [
    "# Create the feature and target variable\n",
    "X = new_reviews['cleaned_reviews']\n",
    "y = new_reviews['pos_neg_reviews']"
   ]
  },
  {
   "cell_type": "code",
   "execution_count": 64,
   "metadata": {},
   "outputs": [],
   "source": [
    "# Create train_test_split.\n",
    "X_train, X_test, y_train, y_test = train_test_split(X,\n",
    "                                                    y,\n",
    "                                                    test_size = 0.25,\n",
    "                                                    random_state = 42,\n",
    "                                                    stratify= y)"
   ]
  },
  {
   "cell_type": "code",
   "execution_count": 65,
   "metadata": {},
   "outputs": [
    {
     "data": {
      "text/plain": [
       "35934    everything great except yellow spot top left e...\n",
       "17706                             star buy new new plastic\n",
       "38743           star nice got great deal thanks amazon nov\n",
       "48793                                             bad good\n",
       "41018    great shape great shape several month still pr...\n",
       "                               ...                        \n",
       "45306    star came mail fast clean scratch glass screen...\n",
       "67848                                            good good\n",
       "5504                                   star exactly wanted\n",
       "10304    nokia first window purchased still many apps i...\n",
       "9538                                 star excited got good\n",
       "Name: cleaned_reviews, Length: 50960, dtype: object"
      ]
     },
     "execution_count": 65,
     "metadata": {},
     "output_type": "execute_result"
    }
   ],
   "source": [
    "X_train"
   ]
  },
  {
   "cell_type": "code",
   "execution_count": 66,
   "metadata": {},
   "outputs": [
    {
     "data": {
      "text/plain": [
       "1    0.685027\n",
       "0    0.314973\n",
       "Name: pos_neg_reviews, dtype: float64"
      ]
     },
     "execution_count": 66,
     "metadata": {},
     "output_type": "execute_result"
    }
   ],
   "source": [
    "y_train.value_counts(normalize=True)"
   ]
  },
  {
   "cell_type": "code",
   "execution_count": 67,
   "metadata": {},
   "outputs": [
    {
     "name": "stdout",
     "output_type": "stream",
     "text": [
      "Baseline accuracy: 0.315\n"
     ]
    }
   ],
   "source": [
    "baseline_model = y_train.value_counts(normalize=True)\n",
    "baseline_accuracy = round(baseline_model[0],3)\n",
    "\n",
    "print(f\"Baseline accuracy: {baseline_accuracy}\")"
   ]
  },
  {
   "cell_type": "code",
   "execution_count": 66,
   "metadata": {},
   "outputs": [
    {
     "name": "stdout",
     "output_type": "stream",
     "text": [
      "Fitting 5 folds for each of 256 candidates, totalling 1280 fits\n"
     ]
    },
    {
     "name": "stderr",
     "output_type": "stream",
     "text": [
      "[Parallel(n_jobs=-1)]: Using backend LokyBackend with 8 concurrent workers.\n",
      "[Parallel(n_jobs=-1)]: Done  34 tasks      | elapsed:   18.3s\n",
      "[Parallel(n_jobs=-1)]: Done 184 tasks      | elapsed:  2.7min\n",
      "[Parallel(n_jobs=-1)]: Done 434 tasks      | elapsed:  7.2min\n",
      "[Parallel(n_jobs=-1)]: Done 784 tasks      | elapsed: 13.4min\n",
      "[Parallel(n_jobs=-1)]: Done 1234 tasks      | elapsed: 21.2min\n",
      "[Parallel(n_jobs=-1)]: Done 1280 out of 1280 | elapsed: 22.4min finished\n"
     ]
    },
    {
     "data": {
      "text/plain": [
       "GridSearchCV(cv=5, error_score=nan,\n",
       "             estimator=Pipeline(memory=None,\n",
       "                                steps=[('cvec',\n",
       "                                        CountVectorizer(analyzer='word',\n",
       "                                                        binary=False,\n",
       "                                                        decode_error='strict',\n",
       "                                                        dtype=<class 'numpy.int64'>,\n",
       "                                                        encoding='utf-8',\n",
       "                                                        input='content',\n",
       "                                                        lowercase=True,\n",
       "                                                        max_df=1.0,\n",
       "                                                        max_features=None,\n",
       "                                                        min_df=1,\n",
       "                                                        ngram_range=(1, 1),\n",
       "                                                        preprocessor=None,\n",
       "                                                        stop_words=None,\n",
       "                                                        strip_accents=None,\n",
       "                                                        token_pattern='(?u)...\n",
       "                                                           tol=0.0001,\n",
       "                                                           verbose=0,\n",
       "                                                           warm_start=False))],\n",
       "                                verbose=False),\n",
       "             iid='deprecated', n_jobs=-1,\n",
       "             param_grid={'cvec__max_df': [0.9, 0.95],\n",
       "                         'cvec__max_features': [2000, 3000, 4000, 5000],\n",
       "                         'cvec__min_df': [2, 3],\n",
       "                         'cvec__ngram_range': [(1, 1), (1, 2)],\n",
       "                         'lr__C': [0.01, 0.1, 1, 10],\n",
       "                         'lr__penalty': ['l1', 'l2']},\n",
       "             pre_dispatch='2*n_jobs', refit=True, return_train_score=False,\n",
       "             scoring=None, verbose=1)"
      ]
     },
     "execution_count": 66,
     "metadata": {},
     "output_type": "execute_result"
    }
   ],
   "source": [
    "#Instantiate the pipeline\n",
    "lr_cvec_pipe = Pipeline([\n",
    "    ('cvec', CountVectorizer()),\n",
    "    ('lr',LogisticRegression(random_state=42,solver='liblinear', max_iter=10000))\n",
    "])\n",
    "\n",
    "#create hyperparameters for gridsearch\n",
    "lr_cvec_params = {\n",
    "    'cvec__max_features': [2000,3000,4000,5000],\n",
    "    'cvec__min_df':[2,3],\n",
    "    'cvec__max_df':[0.9,0.95],\n",
    "    'cvec__ngram_range': [(1,1), (1,2)],\n",
    "    'lr__C':[0.01,0.1,1,10],\n",
    "    'lr__penalty': ['l1', 'l2']\n",
    "}\n",
    "\n",
    "# Instantiate GridSearchCV.\n",
    "lr_cvec_gs = GridSearchCV(lr_cvec_pipe, # what object are we optimizing?\n",
    "                  param_grid=lr_cvec_params , # what parameters values are we searching?\n",
    "                  cv=5,\n",
    "                 n_jobs=-1,verbose=1) \n",
    "\n",
    "#fit the model\n",
    "lr_cvec_gs.fit(X_train,y_train)"
   ]
  },
  {
   "cell_type": "code",
   "execution_count": 67,
   "metadata": {},
   "outputs": [
    {
     "name": "stdout",
     "output_type": "stream",
     "text": [
      "Logistic Regression CVEC Train Accuracy Score: 0.919\n",
      "Logistic Regression CVEC Test Accuracy Score: 0.899\n"
     ]
    }
   ],
   "source": [
    "training_accuracy_score = round(lr_cvec_gs.score(X_train,y_train),3)\n",
    "testing_accuracy_score = round(lr_cvec_gs.score(X_test,y_test),3)\n",
    "\n",
    "print(f\"Logistic Regression CVEC Train Accuracy Score: {training_accuracy_score}\")\n",
    "print(f\"Logistic Regression CVEC Test Accuracy Score: {testing_accuracy_score}\")"
   ]
  },
  {
   "cell_type": "code",
   "execution_count": 68,
   "metadata": {},
   "outputs": [
    {
     "data": {
      "text/plain": [
       "{'cvec__max_df': 0.9,\n",
       " 'cvec__max_features': 5000,\n",
       " 'cvec__min_df': 3,\n",
       " 'cvec__ngram_range': (1, 2),\n",
       " 'lr__C': 0.1,\n",
       " 'lr__penalty': 'l2'}"
      ]
     },
     "execution_count": 68,
     "metadata": {},
     "output_type": "execute_result"
    }
   ],
   "source": [
    "lr_cvec_gs.best_params_"
   ]
  },
  {
   "cell_type": "code",
   "execution_count": 68,
   "metadata": {},
   "outputs": [
    {
     "data": {
      "text/plain": [
       "Pipeline(memory=None,\n",
       "         steps=[('cvec',\n",
       "                 CountVectorizer(analyzer='word', binary=False,\n",
       "                                 decode_error='strict',\n",
       "                                 dtype=<class 'numpy.int64'>, encoding='utf-8',\n",
       "                                 input='content', lowercase=True, max_df=0.9,\n",
       "                                 max_features=5000, min_df=3,\n",
       "                                 ngram_range=(1, 2), preprocessor=None,\n",
       "                                 stop_words=None, strip_accents=None,\n",
       "                                 token_pattern='(?u)\\\\b\\\\w\\\\w+\\\\b',\n",
       "                                 tokenizer=None, vocabulary=None)),\n",
       "                ('lr',\n",
       "                 LogisticRegression(C=0.1, class_weight=None, dual=False,\n",
       "                                    fit_intercept=True, intercept_scaling=1,\n",
       "                                    l1_ratio=None, max_iter=10000,\n",
       "                                    multi_class='auto', n_jobs=None,\n",
       "                                    penalty='l2', random_state=42,\n",
       "                                    solver='liblinear', tol=0.0001, verbose=0,\n",
       "                                    warm_start=False))],\n",
       "         verbose=False)"
      ]
     },
     "execution_count": 68,
     "metadata": {},
     "output_type": "execute_result"
    }
   ],
   "source": [
    "best_lr_cvec = Pipeline([\n",
    "    ('cvec', CountVectorizer(max_df=0.9, max_features=5000, min_df= 3, ngram_range=(1, 2))),\n",
    "    ('lr',LogisticRegression(random_state=42,solver='liblinear', max_iter=10000,C=0.1,penalty='l2'))\n",
    "     ])\n",
    "\n",
    "\n",
    "best_lr_cvec.fit(X_train,y_train)"
   ]
  },
  {
   "cell_type": "code",
   "execution_count": 69,
   "metadata": {},
   "outputs": [
    {
     "name": "stdout",
     "output_type": "stream",
     "text": [
      "Logistic Regression CVEC Train Accuracy Score: 0.919\n",
      "Logistic Regression CVEC Test Accuracy Score: 0.899\n"
     ]
    }
   ],
   "source": [
    "training_accuracy_score = round(best_lr_cvec.score(X_train,y_train),3)\n",
    "testing_accuracy_score = round(best_lr_cvec.score(X_test,y_test),3)\n",
    "\n",
    "print(f\"Logistic Regression CVEC Train Accuracy Score: {training_accuracy_score}\")\n",
    "print(f\"Logistic Regression CVEC Test Accuracy Score: {testing_accuracy_score}\")"
   ]
  },
  {
   "cell_type": "markdown",
   "metadata": {},
   "source": [
    "# Inferential Findings and Analysis"
   ]
  },
  {
   "cell_type": "code",
   "execution_count": 70,
   "metadata": {},
   "outputs": [],
   "source": [
    "reviews_vocab = best_lr_cvec.named_steps['lr'].coef_"
   ]
  },
  {
   "cell_type": "code",
   "execution_count": 71,
   "metadata": {},
   "outputs": [],
   "source": [
    "neg_reviews = reviews_vocab * -1"
   ]
  },
  {
   "cell_type": "code",
   "execution_count": 72,
   "metadata": {},
   "outputs": [],
   "source": [
    "features = best_lr_cvec.named_steps['cvec'].get_feature_names()"
   ]
  },
  {
   "cell_type": "code",
   "execution_count": 73,
   "metadata": {},
   "outputs": [
    {
     "data": {
      "text/plain": [
       "{'excelente': 7.281891191821546,\n",
       " 'perfect': 4.633808507875369,\n",
       " 'love': 4.582322713981343,\n",
       " 'excellent': 4.36598649875193,\n",
       " 'awesome': 4.101115563300656,\n",
       " 'perfecto': 4.007874453309709,\n",
       " 'buen': 3.5803254677985135,\n",
       " 'perfectly': 3.4330790705520133,\n",
       " 'best': 3.42426046098763,\n",
       " 'amazing': 3.357642115349369,\n",
       " 'excelent': 3.2823313834626484,\n",
       " 'great': 3.146537978930548,\n",
       " 'pleased': 2.949117647880734,\n",
       " 'fantastic': 2.7211795938767636,\n",
       " 'ok ok': 2.7037928597133187,\n",
       " 'good product': 2.700909955126458,\n",
       " 'star great': 2.689205322054001,\n",
       " 'bueno': 2.67348890850472,\n",
       " 'exactly': 2.669281240076912,\n",
       " 'exelente': 2.55553492935437}"
      ]
     },
     "execution_count": 73,
     "metadata": {},
     "output_type": "execute_result"
    }
   ],
   "source": [
    "positive_reviews = dict(pd.Series(np.exp(reviews_vocab[0]), features).sort_values(ascending=False).head(20))\n",
    "positive_reviews"
   ]
  },
  {
   "cell_type": "code",
   "execution_count": 74,
   "metadata": {},
   "outputs": [
    {
     "data": {
      "text/plain": [
       "{'worst': 5.059468887945482,\n",
       " 'horrible': 4.006615938443121,\n",
       " 'terrible': 3.642576479449214,\n",
       " 'returning': 3.5789935101502075,\n",
       " 'disappointed': 3.5662123823583727,\n",
       " 'waste': 3.32627187705018,\n",
       " 'returned': 3.2959860633734372,\n",
       " 'defective': 3.0012638535919556,\n",
       " 'poor': 2.9610352194846272,\n",
       " 'worse': 2.927674440163418,\n",
       " 'junk': 2.7892473414399657,\n",
       " 'useless': 2.739064595054626,\n",
       " 'disappointing': 2.6757898423328466,\n",
       " 'fragile': 2.636542238325216,\n",
       " 'hear': 2.5926085116429,\n",
       " 'slow': 2.572317700011709,\n",
       " 'return': 2.5668472219646437,\n",
       " 'beware': 2.5491243661403735,\n",
       " 'faulty': 2.4828589271843318,\n",
       " 'awful': 2.471631254536516}"
      ]
     },
     "execution_count": 74,
     "metadata": {},
     "output_type": "execute_result"
    }
   ],
   "source": [
    "negative_reviews = dict(pd.Series(np.exp(neg_reviews[0]), features).sort_values(ascending=False).head(20))\n",
    "negative_reviews"
   ]
  },
  {
   "cell_type": "code",
   "execution_count": 75,
   "metadata": {},
   "outputs": [],
   "source": [
    "cvec = CountVectorizer()"
   ]
  },
  {
   "cell_type": "code",
   "execution_count": 76,
   "metadata": {},
   "outputs": [],
   "source": [
    "X_train_corpus = cvec.fit_transform(X_train)\n",
    "X_test_corpus = cvec.transform(X_test)"
   ]
  },
  {
   "cell_type": "code",
   "execution_count": 77,
   "metadata": {},
   "outputs": [
    {
     "data": {
      "text/plain": [
       "LatentDirichletAllocation(batch_size=128, doc_topic_prior=None,\n",
       "                          evaluate_every=-1, learning_decay=0.7,\n",
       "                          learning_method='batch', learning_offset=10.0,\n",
       "                          max_doc_update_iter=100, max_iter=10,\n",
       "                          mean_change_tol=0.001, n_components=10, n_jobs=None,\n",
       "                          perp_tol=0.1, random_state=None,\n",
       "                          topic_word_prior=None, total_samples=1000000.0,\n",
       "                          verbose=0)"
      ]
     },
     "execution_count": 77,
     "metadata": {},
     "output_type": "execute_result"
    }
   ],
   "source": [
    "from sklearn.decomposition import LatentDirichletAllocation\n",
    "\n",
    "lda = LatentDirichletAllocation()\n",
    "lda.fit(X_train_corpus)"
   ]
  },
  {
   "cell_type": "code",
   "execution_count": 78,
   "metadata": {},
   "outputs": [
    {
     "data": {
      "text/plain": [
       "(10, 26898)"
      ]
     },
     "execution_count": 78,
     "metadata": {},
     "output_type": "execute_result"
    }
   ],
   "source": [
    "lda.components_.shape"
   ]
  },
  {
   "cell_type": "code",
   "execution_count": 79,
   "metadata": {},
   "outputs": [
    {
     "data": {
      "text/plain": [
       "{'excelente': 7.281891191821546,\n",
       " 'perfect': 4.633808507875369,\n",
       " 'love': 4.582322713981343,\n",
       " 'excellent': 4.36598649875193,\n",
       " 'awesome': 4.101115563300656,\n",
       " 'perfecto': 4.007874453309709,\n",
       " 'buen': 3.5803254677985135,\n",
       " 'perfectly': 3.4330790705520133,\n",
       " 'best': 3.42426046098763,\n",
       " 'amazing': 3.357642115349369,\n",
       " 'excelent': 3.2823313834626484,\n",
       " 'great': 3.146537978930548,\n",
       " 'pleased': 2.949117647880734,\n",
       " 'fantastic': 2.7211795938767636,\n",
       " 'ok ok': 2.7037928597133187,\n",
       " 'good product': 2.700909955126458,\n",
       " 'star great': 2.689205322054001,\n",
       " 'bueno': 2.67348890850472,\n",
       " 'exactly': 2.669281240076912,\n",
       " 'exelente': 2.55553492935437}"
      ]
     },
     "execution_count": 79,
     "metadata": {},
     "output_type": "execute_result"
    }
   ],
   "source": [
    "dict(pd.Series(np.exp(reviews_vocab[0]), features).sort_values(ascending=False).head(20))"
   ]
  },
  {
   "cell_type": "code",
   "execution_count": 80,
   "metadata": {},
   "outputs": [
    {
     "data": {
      "text/plain": [
       "26898"
      ]
     },
     "execution_count": 80,
     "metadata": {},
     "output_type": "execute_result"
    }
   ],
   "source": [
    "len(cvec.get_feature_names())"
   ]
  },
  {
   "cell_type": "code",
   "execution_count": 81,
   "metadata": {},
   "outputs": [],
   "source": [
    "def print_topn_words(model, feature_names, topn):\n",
    "    for topic_idx, topic in enumerate(model.components_):\n",
    "        message = \"Topic #%d: \" % topic_idx\n",
    "        message += \" \".join([feature_names[i]\n",
    "                             for i in topic.argsort()[:-topn - 1:-1]])\n",
    "        print(message)\n",
    "    print()"
   ]
  },
  {
   "cell_type": "code",
   "execution_count": 82,
   "metadata": {},
   "outputs": [
    {
     "name": "stdout",
     "output_type": "stream",
     "text": [
      "Topic #0: new good like work charger came brand look great box\n",
      "Topic #1: call work use get like time text button thing problem\n",
      "Topic #2: month screen buy back time working day bought never get\n",
      "Topic #3: unlocked work mobile network carrier wifi version verizon lte locked\n",
      "Topic #4: best samsung great excellent love note battery galaxy camera price\n",
      "Topic #5: sim card verizon service work amazon would get new could\n",
      "Topic #6: camera screen like android use apps good battery great get\n",
      "Topic #7: el de la muy excelente que en lo con un\n",
      "Topic #8: battery great life good day new charge screen scratch condition\n",
      "Topic #9: great star love good price work nice product easy perfect\n",
      "\n"
     ]
    }
   ],
   "source": [
    "print_topn_words(lda, cvec.get_feature_names(), 10)"
   ]
  },
  {
   "cell_type": "markdown",
   "metadata": {},
   "source": [
    "### With Gensim"
   ]
  },
  {
   "cell_type": "code",
   "execution_count": 84,
   "metadata": {},
   "outputs": [],
   "source": [
    "# Gensim\n",
    "import gensim, spacy, logging, warnings\n",
    "from gensim.models.ldamodel import LdaModel\n",
    "from gensim.models.ldamulticore import LdaMulticore\n",
    "import gensim.corpora as corpora\n",
    "from gensim.utils import lemmatize, simple_preprocess\n",
    "from gensim.models import CoherenceModel\n",
    "from gensim.models.phrases import Phrases, Phraser\n",
    "from pprint import pprint"
   ]
  },
  {
   "cell_type": "code",
   "execution_count": 85,
   "metadata": {},
   "outputs": [],
   "source": [
    "new_reviews['tokens'] = new_reviews['cleaned_reviews'].map(lambda x:x.split())"
   ]
  },
  {
   "cell_type": "code",
   "execution_count": 86,
   "metadata": {},
   "outputs": [],
   "source": [
    "tokens = list(new_reviews['tokens'])"
   ]
  },
  {
   "cell_type": "code",
   "execution_count": 87,
   "metadata": {},
   "outputs": [
    {
     "data": {
      "text/plain": [
       "67947"
      ]
     },
     "execution_count": 87,
     "metadata": {},
     "output_type": "execute_result"
    }
   ],
   "source": [
    "len(tokens)"
   ]
  },
  {
   "cell_type": "code",
   "execution_count": 88,
   "metadata": {},
   "outputs": [],
   "source": [
    "#Build the bigram and trigram models\n",
    "bigram = Phrases(tokens, min_count=5, threshold=100) # higher threshold fewer phrases.\n",
    "trigram = Phrases(bigram[tokens], threshold=100)  \n",
    "bigram_mod = Phraser(bigram)\n",
    "trigram_mod = Phraser(trigram)"
   ]
  },
  {
   "cell_type": "code",
   "execution_count": 89,
   "metadata": {},
   "outputs": [],
   "source": [
    "def process_words(texts, stop_words=stop_words, allowed_postags=['NOUN', 'ADJ', 'VERB', 'ADV']):\n",
    "    \"\"\"Remove Stopwords, Form Bigrams, Trigrams and Lemmatization\"\"\"\n",
    "    texts = [[word for word in simple_preprocess(str(doc)) if word not in stop_words] for doc in texts]\n",
    "    texts = [bigram_mod[doc] for doc in texts]\n",
    "    texts = [trigram_mod[bigram_mod[doc]] for doc in texts]\n",
    "    texts_out = []\n",
    "    nlp = spacy.load('en', disable=['parser', 'ner'])\n",
    "    for sent in texts:\n",
    "        doc = nlp(\" \".join(sent)) \n",
    "        texts_out.append([token.lemma_ for token in doc if token.pos_ in allowed_postags])\n",
    "    # remove stopwords once more after lemmatization\n",
    "    texts_out = [[word for word in simple_preprocess(str(doc)) if word not in stop_words] for doc in texts_out]    \n",
    "    return texts_out\n",
    "\n",
    "data_ready = process_words(tokens)  # processed Text Data!"
   ]
  },
  {
   "cell_type": "code",
   "execution_count": 90,
   "metadata": {},
   "outputs": [],
   "source": [
    "dct = corpora.Dictionary(data_ready)\n",
    "corpus = [dct.doc2bow(line) for line in data_ready]"
   ]
  },
  {
   "cell_type": "code",
   "execution_count": 128,
   "metadata": {},
   "outputs": [
    {
     "data": {
      "text/plain": [
       "<gensim.corpora.dictionary.Dictionary at 0x7fbce265d4d0>"
      ]
     },
     "execution_count": 128,
     "metadata": {},
     "output_type": "execute_result"
    }
   ],
   "source": [
    "dct "
   ]
  },
  {
   "cell_type": "code",
   "execution_count": 91,
   "metadata": {},
   "outputs": [
    {
     "data": {
      "text/plain": [
       "(67947, 21)"
      ]
     },
     "execution_count": 91,
     "metadata": {},
     "output_type": "execute_result"
    }
   ],
   "source": [
    "new_reviews.shape"
   ]
  },
  {
   "cell_type": "code",
   "execution_count": 92,
   "metadata": {},
   "outputs": [
    {
     "data": {
      "text/plain": [
       "67947"
      ]
     },
     "execution_count": 92,
     "metadata": {},
     "output_type": "execute_result"
    }
   ],
   "source": [
    "len(corpus)"
   ]
  },
  {
   "cell_type": "code",
   "execution_count": 93,
   "metadata": {},
   "outputs": [
    {
     "name": "stdout",
     "output_type": "stream",
     "text": [
      "[(0,\n",
      "  '0.205*\"great\" + 0.130*\"work\" + 0.034*\"price\" + 0.029*\"new\" + 0.027*\"look\" + '\n",
      "  '0.025*\"awesome\" + 0.023*\"fast\" + 0.022*\"well\" + 0.019*\"use\" + 0.018*\"buy\"'),\n",
      " (1,\n",
      "  '0.033*\"work\" + 0.020*\"get\" + 0.020*\"buy\" + 0.017*\"say\" + 0.015*\"return\" + '\n",
      "  '0.014*\"go\" + 0.014*\"would\" + 0.013*\"use\" + 0.012*\"service\" + '\n",
      "  '0.012*\"unlocked\"'),\n",
      " (2,\n",
      "  '0.127*\"card\" + 0.070*\"sim\" + 0.035*\"come\" + 0.028*\"memory\" + 0.028*\"usb\" + '\n",
      "  '0.024*\"dual\" + 0.023*\"transfer\" + 0.022*\"storage\" + 0.020*\"cable\" + '\n",
      "  '0.018*\"adapter\"'),\n",
      " (3,\n",
      "  '0.206*\"battery\" + 0.096*\"life\" + 0.075*\"charge\" + 0.056*\"day\" + '\n",
      "  '0.046*\"last\" + 0.023*\"long\" + 0.022*\"hour\" + 0.021*\"good\" + 0.020*\"use\" + '\n",
      "  '0.018*\"flagship\"'),\n",
      " (4,\n",
      "  '0.033*\"screen\" + 0.032*\"buy\" + 0.030*\"new\" + 0.022*\"come\" + 0.020*\"month\" + '\n",
      "  '0.018*\"get\" + 0.017*\"charger\" + 0.016*\"scratch\" + 0.014*\"charge\" + '\n",
      "  '0.014*\"would\"'),\n",
      " (5,\n",
      "  '0.028*\"issue\" + 0.028*\"call\" + 0.021*\"time\" + 0.017*\"problem\" + '\n",
      "  '0.015*\"button\" + 0.012*\"speaker\" + 0.011*\"sound\" + 0.011*\"turn\" + '\n",
      "  '0.011*\"work\" + 0.011*\"bluetooth\"'),\n",
      " (6,\n",
      "  '0.031*\"screen\" + 0.027*\"camera\" + 0.016*\"good\" + 0.013*\"use\" + 0.012*\"get\" '\n",
      "  '+ 0.011*\"take\" + 0.011*\"quality\" + 0.011*\"really\" + 0.010*\"well\" + '\n",
      "  '0.009*\"also\"'),\n",
      " (7,\n",
      "  '0.185*\"good\" + 0.065*\"price\" + 0.051*\"great\" + 0.044*\"excellent\" + '\n",
      "  '0.041*\"product\" + 0.033*\"value\" + 0.029*\"quality\" + 0.026*\"perfect\" + '\n",
      "  '0.025*\"money\" + 0.023*\"condition\"'),\n",
      " (8,\n",
      "  '0.296*\"love\" + 0.052*\"note\" + 0.033*\"best\" + 0.030*\"amazing\" + 0.026*\"ever\" '\n",
      "  '+ 0.022*\"buy\" + 0.018*\"nice\" + 0.017*\"thank\" + 0.016*\"happy\" + 0.013*\"son\"'),\n",
      " (9,\n",
      "  '0.041*\"use\" + 0.023*\"app\" + 0.015*\"want\" + 0.015*\"need\" + 0.014*\"feature\" + '\n",
      "  '0.011*\"easy\" + 0.011*\"make\" + 0.010*\"android\" + 0.009*\"set\" + 0.009*\"find\"')]\n"
     ]
    }
   ],
   "source": [
    "#Train the LDA model\n",
    "# Build LDA model\n",
    "lda_model = LdaMulticore(corpus=corpus,\n",
    "                         id2word=dct,\n",
    "                         num_topics=10, \n",
    "                         random_state=100,\n",
    "                        #update_every=1,\n",
    "                         chunksize=100,\n",
    "                         passes=10,\n",
    "                         alpha='symmetric',\n",
    "                         iterations=100,\n",
    "                         per_word_topics=True)\n",
    "\n",
    "pprint(lda_model.print_topics())"
   ]
  },
  {
   "cell_type": "code",
   "execution_count": 94,
   "metadata": {},
   "outputs": [
    {
     "data": {
      "text/plain": [
       "True"
      ]
     },
     "execution_count": 94,
     "metadata": {},
     "output_type": "execute_result"
    }
   ],
   "source": [
    "lda_model.per_word_topics"
   ]
  },
  {
   "cell_type": "code",
   "execution_count": 95,
   "metadata": {},
   "outputs": [
    {
     "data": {
      "text/html": [
       "<div>\n",
       "<style scoped>\n",
       "    .dataframe tbody tr th:only-of-type {\n",
       "        vertical-align: middle;\n",
       "    }\n",
       "\n",
       "    .dataframe tbody tr th {\n",
       "        vertical-align: top;\n",
       "    }\n",
       "\n",
       "    .dataframe thead th {\n",
       "        text-align: right;\n",
       "    }\n",
       "</style>\n",
       "<table border=\"1\" class=\"dataframe\">\n",
       "  <thead>\n",
       "    <tr style=\"text-align: right;\">\n",
       "      <th></th>\n",
       "      <th>Document_No</th>\n",
       "      <th>Dominant_Topic</th>\n",
       "      <th>Topic_Perc_Contrib</th>\n",
       "      <th>Keywords</th>\n",
       "      <th>Text</th>\n",
       "    </tr>\n",
       "  </thead>\n",
       "  <tbody>\n",
       "    <tr>\n",
       "      <th>0</th>\n",
       "      <td>0</td>\n",
       "      <td>6.0</td>\n",
       "      <td>0.3997</td>\n",
       "      <td>screen, camera, good, use, get, take, quality,...</td>\n",
       "      <td>[best, bad, samsung, awhile, absolute, review,...</td>\n",
       "    </tr>\n",
       "    <tr>\n",
       "      <th>1</th>\n",
       "      <td>1</td>\n",
       "      <td>1.0</td>\n",
       "      <td>0.5105</td>\n",
       "      <td>work, get, buy, say, return, go, would, use, s...</td>\n",
       "      <td>[text, messaging, work, due, software, issue, ...</td>\n",
       "    </tr>\n",
       "    <tr>\n",
       "      <th>2</th>\n",
       "      <td>2</td>\n",
       "      <td>9.0</td>\n",
       "      <td>0.5820</td>\n",
       "      <td>use, app, want, need, feature, easy, make, and...</td>\n",
       "      <td>[love, also, purchase, die, menu, easily, comp...</td>\n",
       "    </tr>\n",
       "    <tr>\n",
       "      <th>3</th>\n",
       "      <td>3</td>\n",
       "      <td>1.0</td>\n",
       "      <td>0.5380</td>\n",
       "      <td>work, get, buy, say, return, go, would, use, s...</td>\n",
       "      <td>[love, love, really, need, expect, price, bill...</td>\n",
       "    </tr>\n",
       "    <tr>\n",
       "      <th>4</th>\n",
       "      <td>4</td>\n",
       "      <td>6.0</td>\n",
       "      <td>0.4861</td>\n",
       "      <td>screen, camera, good, use, get, take, quality,...</td>\n",
       "      <td>[great, option, lousy, case, great, purpose, o...</td>\n",
       "    </tr>\n",
       "    <tr>\n",
       "      <th>5</th>\n",
       "      <td>5</td>\n",
       "      <td>4.0</td>\n",
       "      <td>0.4952</td>\n",
       "      <td>screen, buy, new, come, month, get, charger, s...</td>\n",
       "      <td>[work, great, use, decide, buy, flip, problem,...</td>\n",
       "    </tr>\n",
       "    <tr>\n",
       "      <th>6</th>\n",
       "      <td>6</td>\n",
       "      <td>9.0</td>\n",
       "      <td>0.2646</td>\n",
       "      <td>use, app, want, need, feature, easy, make, and...</td>\n",
       "      <td>[cool, cheap, color, word, describe, perfectly...</td>\n",
       "    </tr>\n",
       "    <tr>\n",
       "      <th>7</th>\n",
       "      <td>7</td>\n",
       "      <td>5.0</td>\n",
       "      <td>0.4416</td>\n",
       "      <td>issue, call, time, problem, button, speaker, s...</td>\n",
       "      <td>[headset, overall, nice, make, incompatible, u...</td>\n",
       "    </tr>\n",
       "    <tr>\n",
       "      <th>8</th>\n",
       "      <td>8</td>\n",
       "      <td>5.0</td>\n",
       "      <td>0.4469</td>\n",
       "      <td>issue, call, time, problem, button, speaker, s...</td>\n",
       "      <td>[never, first, really, alot, reception, great,...</td>\n",
       "    </tr>\n",
       "    <tr>\n",
       "      <th>9</th>\n",
       "      <td>9</td>\n",
       "      <td>9.0</td>\n",
       "      <td>0.6844</td>\n",
       "      <td>use, app, want, need, feature, easy, make, and...</td>\n",
       "      <td>[pissed, little, bit, school, need, text, mess...</td>\n",
       "    </tr>\n",
       "  </tbody>\n",
       "</table>\n",
       "</div>"
      ],
      "text/plain": [
       "   Document_No  Dominant_Topic  Topic_Perc_Contrib  \\\n",
       "0            0             6.0              0.3997   \n",
       "1            1             1.0              0.5105   \n",
       "2            2             9.0              0.5820   \n",
       "3            3             1.0              0.5380   \n",
       "4            4             6.0              0.4861   \n",
       "5            5             4.0              0.4952   \n",
       "6            6             9.0              0.2646   \n",
       "7            7             5.0              0.4416   \n",
       "8            8             5.0              0.4469   \n",
       "9            9             9.0              0.6844   \n",
       "\n",
       "                                            Keywords  \\\n",
       "0  screen, camera, good, use, get, take, quality,...   \n",
       "1  work, get, buy, say, return, go, would, use, s...   \n",
       "2  use, app, want, need, feature, easy, make, and...   \n",
       "3  work, get, buy, say, return, go, would, use, s...   \n",
       "4  screen, camera, good, use, get, take, quality,...   \n",
       "5  screen, buy, new, come, month, get, charger, s...   \n",
       "6  use, app, want, need, feature, easy, make, and...   \n",
       "7  issue, call, time, problem, button, speaker, s...   \n",
       "8  issue, call, time, problem, button, speaker, s...   \n",
       "9  use, app, want, need, feature, easy, make, and...   \n",
       "\n",
       "                                                Text  \n",
       "0  [best, bad, samsung, awhile, absolute, review,...  \n",
       "1  [text, messaging, work, due, software, issue, ...  \n",
       "2  [love, also, purchase, die, menu, easily, comp...  \n",
       "3  [love, love, really, need, expect, price, bill...  \n",
       "4  [great, option, lousy, case, great, purpose, o...  \n",
       "5  [work, great, use, decide, buy, flip, problem,...  \n",
       "6  [cool, cheap, color, word, describe, perfectly...  \n",
       "7  [headset, overall, nice, make, incompatible, u...  \n",
       "8  [never, first, really, alot, reception, great,...  \n",
       "9  [pissed, little, bit, school, need, text, mess...  "
      ]
     },
     "execution_count": 95,
     "metadata": {},
     "output_type": "execute_result"
    }
   ],
   "source": [
    "def format_topics_sentences(ldamodel=None, corpus=corpus, texts=None):\n",
    "    # Init output\n",
    "    sent_topics_df = pd.DataFrame()\n",
    "\n",
    "    # Get main topic in each document\n",
    "    for i, row_list in enumerate(ldamodel[corpus]):\n",
    "        row = row_list[0] if ldamodel.per_word_topics else row_list            \n",
    "        # print(row)\n",
    "        row = sorted(row, key=lambda x: (x[1]), reverse=True)\n",
    "        # Get the Dominant topic, Perc Contribution and Keywords for each document\n",
    "        for j, (topic_num, prop_topic) in enumerate(row):\n",
    "            if j == 0:  # => dominant topic\n",
    "                wp = ldamodel.show_topic(topic_num)\n",
    "                topic_keywords = \", \".join([word for word, prop in wp])\n",
    "                sent_topics_df = sent_topics_df.append(pd.Series([int(topic_num), round(prop_topic,4), topic_keywords]), ignore_index=True)\n",
    "            else:\n",
    "                break\n",
    "    sent_topics_df.columns = ['Dominant_Topic', 'Perc_Contribution', 'Topic_Keywords']\n",
    "\n",
    "    # Add original text to the end of the output\n",
    "    contents = pd.Series(texts)\n",
    "    sent_topics_df = pd.concat([sent_topics_df, contents], axis=1)\n",
    "    return(sent_topics_df)\n",
    "\n",
    "\n",
    "df_topic_sents_keywords = format_topics_sentences(ldamodel=lda_model, corpus=corpus, texts=data_ready)\n",
    "\n",
    "# Format\n",
    "df_dominant_topic = df_topic_sents_keywords.reset_index()\n",
    "df_dominant_topic.columns = ['Document_No', 'Dominant_Topic', 'Topic_Perc_Contrib', 'Keywords', 'Text']\n",
    "df_dominant_topic.head(10)"
   ]
  },
  {
   "cell_type": "code",
   "execution_count": 122,
   "metadata": {},
   "outputs": [
    {
     "data": {
      "text/html": [
       "<div>\n",
       "<style scoped>\n",
       "    .dataframe tbody tr th:only-of-type {\n",
       "        vertical-align: middle;\n",
       "    }\n",
       "\n",
       "    .dataframe tbody tr th {\n",
       "        vertical-align: top;\n",
       "    }\n",
       "\n",
       "    .dataframe thead th {\n",
       "        text-align: right;\n",
       "    }\n",
       "</style>\n",
       "<table border=\"1\" class=\"dataframe\">\n",
       "  <thead>\n",
       "    <tr style=\"text-align: right;\">\n",
       "      <th></th>\n",
       "      <th>Document_No</th>\n",
       "      <th>Dominant_Topic</th>\n",
       "      <th>Topic_Perc_Contrib</th>\n",
       "      <th>Keywords</th>\n",
       "      <th>Text</th>\n",
       "    </tr>\n",
       "  </thead>\n",
       "  <tbody>\n",
       "    <tr>\n",
       "      <th>26610</th>\n",
       "      <td>26610</td>\n",
       "      <td>9.0</td>\n",
       "      <td>0.6546</td>\n",
       "      <td>use, app, want, need, feature, easy, make, android, set, find</td>\n",
       "      <td>[android, crash, android, update, recover, admit, fault, leave]</td>\n",
       "    </tr>\n",
       "    <tr>\n",
       "      <th>39944</th>\n",
       "      <td>39944</td>\n",
       "      <td>9.0</td>\n",
       "      <td>0.6708</td>\n",
       "      <td>use, app, want, need, feature, easy, make, android, set, find</td>\n",
       "      <td>[smart, smart, easy, use, age]</td>\n",
       "    </tr>\n",
       "    <tr>\n",
       "      <th>61387</th>\n",
       "      <td>61387</td>\n",
       "      <td>9.0</td>\n",
       "      <td>0.3299</td>\n",
       "      <td>use, app, want, need, feature, easy, make, android, set, find</td>\n",
       "      <td>[adequate, connection, love, make]</td>\n",
       "    </tr>\n",
       "    <tr>\n",
       "      <th>67637</th>\n",
       "      <td>67637</td>\n",
       "      <td>9.0</td>\n",
       "      <td>0.4340</td>\n",
       "      <td>use, app, want, need, feature, easy, make, android, set, find</td>\n",
       "      <td>[call, record, feature, available, overall, good, basic, function, call, recording, release, basic, function, much, disappointed]</td>\n",
       "    </tr>\n",
       "    <tr>\n",
       "      <th>52009</th>\n",
       "      <td>52009</td>\n",
       "      <td>9.0</td>\n",
       "      <td>0.4738</td>\n",
       "      <td>use, app, want, need, feature, easy, make, android, set, find</td>\n",
       "      <td>[smart, option, wonderful, work, soon, service, provider, chip, insert, look, replacement, window, overall, great, choice, well, construct, even, ...</td>\n",
       "    </tr>\n",
       "  </tbody>\n",
       "</table>\n",
       "</div>"
      ],
      "text/plain": [
       "       Document_No  Dominant_Topic  Topic_Perc_Contrib  \\\n",
       "26610        26610             9.0              0.6546   \n",
       "39944        39944             9.0              0.6708   \n",
       "61387        61387             9.0              0.3299   \n",
       "67637        67637             9.0              0.4340   \n",
       "52009        52009             9.0              0.4738   \n",
       "\n",
       "                                                            Keywords  \\\n",
       "26610  use, app, want, need, feature, easy, make, android, set, find   \n",
       "39944  use, app, want, need, feature, easy, make, android, set, find   \n",
       "61387  use, app, want, need, feature, easy, make, android, set, find   \n",
       "67637  use, app, want, need, feature, easy, make, android, set, find   \n",
       "52009  use, app, want, need, feature, easy, make, android, set, find   \n",
       "\n",
       "                                                                                                                                                        Text  \n",
       "26610                                                                                        [android, crash, android, update, recover, admit, fault, leave]  \n",
       "39944                                                                                                                         [smart, smart, easy, use, age]  \n",
       "61387                                                                                                                     [adequate, connection, love, make]  \n",
       "67637                      [call, record, feature, available, overall, good, basic, function, call, recording, release, basic, function, much, disappointed]  \n",
       "52009  [smart, option, wonderful, work, soon, service, provider, chip, insert, look, replacement, window, overall, great, choice, well, construct, even, ...  "
      ]
     },
     "execution_count": 122,
     "metadata": {},
     "output_type": "execute_result"
    }
   ],
   "source": [
    "pd.options.display.max_colwidth = 150\n",
    "df_dominant_topic[df_dominant_topic['Dominant_Topic'] == 9].sample(5)"
   ]
  },
  {
   "cell_type": "code",
   "execution_count": 123,
   "metadata": {},
   "outputs": [
    {
     "data": {
      "text/plain": [
       "'Bites the dust on Android update- Buyer Beware Phone crashes during Android 8.1 update and cannot be recovered. Google will not admit fault and you will be left with a very expensive paperweight. Buyer beware!!!'"
      ]
     },
     "execution_count": 123,
     "metadata": {},
     "output_type": "execute_result"
    }
   ],
   "source": [
    "new_reviews.loc[26610,'reviews']"
   ]
  },
  {
   "cell_type": "code",
   "execution_count": 105,
   "metadata": {},
   "outputs": [
    {
     "data": {
      "text/plain": [
       "[(0,\n",
       "  [('great', 0.20506534),\n",
       "   ('work', 0.13030064),\n",
       "   ('price', 0.03446199),\n",
       "   ('new', 0.028807268),\n",
       "   ('look', 0.02672395),\n",
       "   ('awesome', 0.025262464),\n",
       "   ('fast', 0.023276819),\n",
       "   ('well', 0.022117116),\n",
       "   ('use', 0.019429093),\n",
       "   ('buy', 0.018375624)]),\n",
       " (1,\n",
       "  [('work', 0.03327754),\n",
       "   ('get', 0.020090096),\n",
       "   ('buy', 0.019789016),\n",
       "   ('say', 0.016513808),\n",
       "   ('return', 0.0153471045),\n",
       "   ('go', 0.013893918),\n",
       "   ('would', 0.013760693),\n",
       "   ('use', 0.013380009),\n",
       "   ('service', 0.012417897),\n",
       "   ('unlocked', 0.011792428)]),\n",
       " (2,\n",
       "  [('card', 0.12691405),\n",
       "   ('sim', 0.07022356),\n",
       "   ('come', 0.035035834),\n",
       "   ('memory', 0.028449485),\n",
       "   ('usb', 0.027858794),\n",
       "   ('dual', 0.024229772),\n",
       "   ('transfer', 0.022614093),\n",
       "   ('storage', 0.021768363),\n",
       "   ('cable', 0.020411935),\n",
       "   ('adapter', 0.017927716)]),\n",
       " (3,\n",
       "  [('battery', 0.20569156),\n",
       "   ('life', 0.09570706),\n",
       "   ('charge', 0.07540205),\n",
       "   ('day', 0.056353275),\n",
       "   ('last', 0.045620468),\n",
       "   ('long', 0.022516817),\n",
       "   ('hour', 0.022320887),\n",
       "   ('good', 0.021082204),\n",
       "   ('use', 0.019584183),\n",
       "   ('flagship', 0.017716317)]),\n",
       " (4,\n",
       "  [('screen', 0.032948464),\n",
       "   ('buy', 0.032176282),\n",
       "   ('new', 0.030094026),\n",
       "   ('come', 0.022399286),\n",
       "   ('month', 0.019563964),\n",
       "   ('get', 0.017812494),\n",
       "   ('charger', 0.016545983),\n",
       "   ('scratch', 0.015540204),\n",
       "   ('charge', 0.0143344775),\n",
       "   ('would', 0.014258391)]),\n",
       " (5,\n",
       "  [('issue', 0.028076656),\n",
       "   ('call', 0.027969753),\n",
       "   ('time', 0.020823702),\n",
       "   ('problem', 0.016887857),\n",
       "   ('button', 0.015079281),\n",
       "   ('speaker', 0.012137996),\n",
       "   ('sound', 0.011311292),\n",
       "   ('turn', 0.011266527),\n",
       "   ('work', 0.010639881),\n",
       "   ('bluetooth', 0.010606589)]),\n",
       " (6,\n",
       "  [('screen', 0.030551694),\n",
       "   ('camera', 0.026928693),\n",
       "   ('good', 0.016473357),\n",
       "   ('use', 0.013284076),\n",
       "   ('get', 0.011984454),\n",
       "   ('take', 0.011004017),\n",
       "   ('quality', 0.010970128),\n",
       "   ('really', 0.010660115),\n",
       "   ('well', 0.009618307),\n",
       "   ('also', 0.009232265)]),\n",
       " (7,\n",
       "  [('good', 0.18483514),\n",
       "   ('price', 0.06458067),\n",
       "   ('great', 0.050524283),\n",
       "   ('excellent', 0.044407483),\n",
       "   ('product', 0.041468848),\n",
       "   ('value', 0.03310556),\n",
       "   ('quality', 0.028737983),\n",
       "   ('perfect', 0.026088819),\n",
       "   ('money', 0.024871603),\n",
       "   ('condition', 0.022711163)]),\n",
       " (8,\n",
       "  [('love', 0.2957593),\n",
       "   ('note', 0.05220323),\n",
       "   ('best', 0.033382747),\n",
       "   ('amazing', 0.02950302),\n",
       "   ('ever', 0.026239108),\n",
       "   ('buy', 0.02193177),\n",
       "   ('nice', 0.017588375),\n",
       "   ('thank', 0.01654369),\n",
       "   ('happy', 0.0155364),\n",
       "   ('son', 0.012709281)]),\n",
       " (9,\n",
       "  [('use', 0.040614676),\n",
       "   ('app', 0.022843119),\n",
       "   ('want', 0.015202026),\n",
       "   ('need', 0.014931181),\n",
       "   ('feature', 0.014087403),\n",
       "   ('easy', 0.011152154),\n",
       "   ('make', 0.011084938),\n",
       "   ('android', 0.010408054),\n",
       "   ('set', 0.009363016),\n",
       "   ('find', 0.008572098)])]"
      ]
     },
     "execution_count": 105,
     "metadata": {},
     "output_type": "execute_result"
    }
   ],
   "source": [
    "topics"
   ]
  },
  {
   "cell_type": "code",
   "execution_count": 107,
   "metadata": {},
   "outputs": [
    {
     "data": {
      "image/png": "[encoded data removed]",
      "text/plain": [
       "<Figure size 1080x1080 with 10 Axes>"
      ]
     },
     "metadata": {
      "needs_background": "light"
     },
     "output_type": "display_data"
    }
   ],
   "source": [
    "# 1. Wordcloud of Top N words in each topic\n",
    "from wordcloud import WordCloud, STOPWORDS\n",
    "import matplotlib.colors as mcolors\n",
    "\n",
    "cols = [color for name, color in mcolors.TABLEAU_COLORS.items()]  # more colors: 'mcolors.XKCD_COLORS'\n",
    "\n",
    "cloud = WordCloud(stopwords=stop_words,\n",
    "                  background_color='white',\n",
    "                  width=2500,\n",
    "                  height=1800,\n",
    "                  max_words=10,\n",
    "                  colormap='tab10',\n",
    "                  color_func=lambda *args, **kwargs: cols[i],\n",
    "                  prefer_horizontal=1.0)\n",
    "\n",
    "topics = lda_model.show_topics(formatted=False)\n",
    "\n",
    "fig, axes = plt.subplots(5, 2, figsize=(15,15), sharex=True, sharey=True)\n",
    "\n",
    "for i, ax in enumerate(axes.flatten()):\n",
    "    fig.add_subplot(ax)\n",
    "    topic_words = dict(topics[i][1])\n",
    "    cloud.generate_from_frequencies(topic_words, max_font_size=300)\n",
    "    plt.gca().imshow(cloud)\n",
    "    plt.gca().set_title('Topic ' + str(i), fontdict=dict(size=16))\n",
    "    plt.gca().axis('off')\n",
    "\n",
    "\n",
    "plt.subplots_adjust(wspace=0, hspace=0)\n",
    "plt.axis('off')\n",
    "plt.margins(x=0, y=0)\n",
    "plt.tight_layout()\n",
    "plt.show()"
   ]
  },
  {
   "cell_type": "code",
   "execution_count": 111,
   "metadata": {},
   "outputs": [
    {
     "data": {
      "text/html": [
       "\n",
       "<link rel=\"stylesheet\" type=\"text/css\" href=\"https://cdn.rawgit.com/bmabey/pyLDAvis/files/ldavis.v1.0.0.css\">\n",
       "\n",
       "\n",
       "<div id=\"ldavis_el54541404500804576807610517086\"></div>\n",
       "<script type=\"text/javascript\">\n",
       "\n",
       "var ldavis_el54541404500804576807610517086_data = {\"mdsDat\": {\"x\": [-0.06194760606370641, -0.1559001216405078, -0.15552374007802633, -0.0895241140204311, -0.22523668646110073, 0.207015229078065, 0.26387938947132644, -0.028062917143458436, -0.03624885535142538, 0.2815494222092641], \"y\": [0.0705116287263032, 0.09007901884616629, -0.005547797881883493, 0.0925914989461097, 0.055713082526740926, 0.09860574341683453, 0.12344697360532542, -0.01318060240164229, -0.4066843084816437, -0.10553523730231058], \"topics\": [1, 2, 3, 4, 5, 6, 7, 8, 9, 10], \"cluster\": [1, 1, 1, 1, 1, 1, 1, 1, 1, 1], \"Freq\": [24.055599212646484, 15.50407886505127, 14.826883316040039, 12.141322135925293, 9.866710662841797, 6.457132816314697, 5.76533317565918, 5.445485591888428, 3.151928663253784, 2.7855167388916016]}, \"tinfo\": {\"Term\": [\"great\", \"good\", \"battery\", \"love\", \"work\", \"life\", \"price\", \"card\", \"charge\", \"screen\", \"day\", \"buy\", \"note\", \"come\", \"product\", \"last\", \"excellent\", \"new\", \"sim\", \"quality\", \"camera\", \"call\", \"fast\", \"amazing\", \"look\", \"app\", \"value\", \"issue\", \"perfect\", \"best\", \"hand\", \"solid\", \"bright\", \"galaxy\", \"movie\", \"resolution\", \"brightness\", \"premium\", \"slippery\", \"sensor\", \"sharp\", \"inch\", \"lag\", \"bezel\", \"wide\", \"spec\", \"comparison\", \"thin\", \"oneplus\", \"tall\", \"gorgeous\", \"lens\", \"gaming\", \"width\", \"max\", \"narrow\", \"zoom\", \"gesture\", \"oled\", \"graphic\", \"display\", \"level\", \"shoot\", \"light\", \"camera\", \"feel\", \"color\", \"big\", \"dark\", \"design\", \"pro\", \"heavy\", \"screen\", \"picture\", \"side\", \"photo\", \"size\", \"build\", \"video\", \"compare\", \"high\", \"game\", \"bit\", \"quality\", \"large\", \"case\", \"take\", \"really\", \"also\", \"much\", \"well\", \"pretty\", \"moto\", \"good\", \"nice\", \"get\", \"make\", \"look\", \"use\", \"see\", \"go\", \"fast\", \"price\", \"feature\", \"thing\", \"still\", \"would\", \"say\", \"great\", \"verizon\", \"compatible\", \"activate\", \"provider\", \"att\", \"international\", \"country\", \"cricket\", \"tray\", \"huawei\", \"wifi_calling\", \"gsm\", \"sprint\", \"phenomenal\", \"general\", \"garbage\", \"fake\", \"spanish\", \"fair\", \"firmware\", \"unlocked\", \"restore\", \"scam\", \"advise\", \"google\", \"unlocking\", \"warm\", \"overprice\", \"unacceptable\", \"technician\", \"customer\", \"carrier\", \"service\", \"renew\", \"network\", \"unlock\", \"lock\", \"return\", \"send\", \"support\", \"tell\", \"receive\", \"mobile\", \"say\", \"store\", \"try\", \"work\", \"refund\", \"help\", \"could\", \"buy\", \"get\", \"go\", \"would\", \"back\", \"update\", \"call\", \"able\", \"use\", \"purchase\", \"take\", \"issue\", \"time\", \"problem\", \"window\", \"processor\", \"youtube\", \"sense\", \"redmi\", \"aspect\", \"outdoors\", \"content\", \"language\", \"create\", \"ear\", \"pc\", \"loss\", \"interest\", \"tablet\", \"expand\", \"reviewer\", \"natural\", \"font\", \"chat\", \"triple\", \"clue\", \"lumia\", \"browser\", \"theme\", \"round\", \"attractive\", \"laptop\", \"map\", \"unbelievable\", \"nokia\", \"limit\", \"smart\", \"basic\", \"simple\", \"download\", \"accurate\", \"app\", \"default\", \"manual\", \"smartphone\", \"user\", \"available\", \"access\", \"android\", \"easy\", \"want\", \"setting\", \"feature\", \"need\", \"use\", \"apple\", \"option\", \"many\", \"set\", \"iphone\", \"year\", \"find\", \"old\", \"make\", \"allow\", \"update\", \"lot\", \"thing\", \"much\", \"text\", \"get\", \"go\", \"well\", \"still\", \"know\", \"would\", \"time\", \"refurbish\", \"crack\", \"damage\", \"cord\", \"wise\", \"mark\", \"purchasing\", \"sin\", \"shatter\", \"refurb\", \"unbox\", \"productivity\", \"brother\", \"earbud\", \"insurance\", \"willing\", \"malfunction\", \"shift\", \"table\", \"glitche\", \"nearby\", \"protective\", \"spill\", \"wet\", \"contacted\", \"scuff\", \"gmail\", \"smh\", \"router\", \"cracked\", \"scratch\", \"break\", \"charger\", \"seal\", \"original\", \"dead\", \"repair\", \"burn\", \"box\", \"month\", \"replacement\", \"defective\", \"protector\", \"new\", \"warranty\", \"port\", \"brand\", \"buy\", \"come\", \"screen\", \"replace\", \"drop\", \"week\", \"cover\", \"accessory\", \"purchase\", \"charge\", \"case\", \"would\", \"get\", \"order\", \"never\", \"back\", \"first\", \"go\", \"year\", \"work\", \"use\", \"look\", \"day\", \"product\", \"time\", \"even\", \"issue\", \"bluetooth\", \"headphone\", \"volume\", \"audio\", \"reception\", \"bloatware\", \"grip\", \"crisp\", \"pair\", \"connectivity\", \"ring\", \"recording\", \"vibrate\", \"vibration\", \"thinking\", \"rotate\", \"loyal\", \"detect\", \"output\", \"louder\", \"filter\", \"earphone_jack\", \"slick\", \"editor\", \"headset\", \"navigation\", \"certify\", \"tower\", \"antenna\", \"steady\", \"tmo\", \"press\", \"restart\", \"hear\", \"wifi\", \"notification\", \"button\", \"connection\", \"signal\", \"freeze\", \"constantly\", \"sometimes\", \"car\", \"bar\", \"often\", \"speaker\", \"call\", \"annoying\", \"sound\", \"gps\", \"issue\", \"turn\", \"problem\", \"connect\", \"time\", \"fix\", \"home\", \"text\", \"bad\", \"start\", \"make\", \"even\", \"play\", \"drop\", \"work\", \"get\", \"use\", \"app\", \"try\", \"awesome\", \"pie\", \"protection\", \"minimal\", \"microphone\", \"earphone\", \"deep\", \"bang_buck\", \"tho\", \"elegant\", \"gripe\", \"charm\", \"miui\", \"competition\", \"rock\", \"specification\", \"scan\", \"birthday\", \"alright\", \"cousin\", \"brainer\", \"reliability\", \"long_lasting\", \"cosmetic\", \"xiaomi_redmi\", \"front_facing\", \"caution\", \"laggy\", \"starter\", \"juice\", \"perfectly\", \"great\", \"gift\", \"affordable\", \"daughter\", \"work\", \"wonderful\", \"flawless\", \"shipping\", \"fine\", \"fast\", \"look\", \"price\", \"skeptical\", \"new\", \"far\", \"brand\", \"well\", \"perfect\", \"flawlessly\", \"easy\", \"absolutely\", \"buy\", \"nice\", \"happy\", \"use\", \"problem\", \"amazing\", \"camera\", \"super\", \"complaint\", \"come\", \"really\", \"issue\", \"get\", \"picture\", \"feature\", \"satisfied\", \"delivery\", \"ratio\", \"excelent\", \"omg\", \"bunch\", \"superb\", \"retailer\", \"comfortably\", \"grate\", \"convert\", \"straight_talk\", \"noticed\", \"girl\", \"target\", \"reccomend\", \"gray\", \"presentation\", \"tank\", \"edition\", \"documentation\", \"heart\", \"value\", \"strength\", \"charg\", \"impeccable\", \"recomende\", \"lil\", \"ex\", \"teenager\", \"describe\", \"cellphone\", \"excellent\", \"condition\", \"good\", \"product\", \"perfect\", \"satisfy\", \"price\", \"money\", \"deliver\", \"overseas\", \"worth\", \"performance\", \"quality\", \"arrive\", \"expect\", \"exactly\", \"far\", \"thank\", \"great\", \"recommend\", \"happy\", \"definitely\", \"overall\", \"purchase\", \"advertise\", \"buy\", \"seller\", \"really\", \"fast\", \"come\", \"nice\", \"amazing\", \"new\", \"life\", \"battery\", \"flagship\", \"drain\", \"lte\", \"selfie\", \"rear\", \"capture\", \"amazed\", \"height\", \"recharge\", \"earlier\", \"health\", \"lcd\", \"label\", \"gold\", \"tape\", \"specially\", \"lovely\", \"act\", \"mm\", \"exit\", \"pocophone\", \"advice\", \"title\", \"calibrate\", \"convince\", \"anti\", \"gain\", \"winner\", \"last\", \"charge\", \"instantly\", \"hour\", \"day\", \"long\", \"competitor\", \"suck\", \"capacity\", \"quickly\", \"bad\", \"full\", \"fast\", \"hide\", \"hold\", \"slow\", \"good\", \"night\", \"use\", \"charger\", \"decent\", \"terrible\", \"short\", \"power\", \"run\", \"time\", \"really\", \"go\", \"get\", \"take\", \"need\", \"card\", \"sim\", \"memory\", \"dual\", \"cable\", \"adapter\", \"slot\", \"sd\", \"blue\", \"notch\", \"insert\", \"stunning\", \"defect\", \"cpu\", \"massive\", \"policy\", \"usb_cable\", \"cloud\", \"vivid\", \"bricke\", \"detection\", \"dimension\", \"pattern\", \"wherever\", \"expansion\", \"grey\", \"implement\", \"magnificent\", \"outlet\", \"comfort\", \"usb\", \"transfer\", \"storage\", \"band\", \"microsd\", \"include\", \"free\", \"come\", \"management\", \"space\", \"put\", \"plug\", \"old\", \"miss\", \"box\", \"datum\", \"add\", \"mobile\", \"need\", \"power\", \"love\", \"mom\", \"pero\", \"metropc\", \"para\", \"todo\", \"smoothly\", \"bonus\", \"european\", \"spotty\", \"worse\", \"como\", \"recomendable\", \"excelente\", \"encant\", \"unbeatable\", \"telefono\", \"region\", \"genial\", \"dent\", \"happier\", \"nuevo\", \"dice\", \"este\", \"tengo\", \"tie\", \"unplugged\", \"adaptor\", \"dise\", \"deserve\", \"son\", \"please\", \"note\", \"best\", \"thank\", \"ever\", \"amazing\", \"wife\", \"fantastic\", \"husband\", \"happy\", \"nice\", \"pleased\", \"beautiful\", \"like\", \"buy\", \"super\", \"much\", \"purchase\", \"really\", \"far\", \"upgrade\", \"new\", \"get\", \"feature\"], \"Freq\": [26376.0, 24500.0, 16821.0, 12366.0, 24273.0, 7825.0, 11424.0, 6005.0, 8867.0, 17097.0, 8728.0, 15665.0, 4129.0, 10306.0, 6065.0, 4956.0, 4424.0, 10551.0, 3323.0, 7248.0, 11475.0, 6527.0, 6528.0, 4387.0, 7867.0, 6826.0, 2936.0, 8452.0, 3773.0, 2576.0, 2520.126708984375, 1028.99853515625, 867.706787109375, 745.3200073242188, 742.9899291992188, 669.2692260742188, 555.8909301757812, 498.26141357421875, 476.3809509277344, 449.3069763183594, 448.8230285644531, 434.2411804199219, 422.4990539550781, 411.0516357421875, 397.5711364746094, 390.9627685546875, 427.27117919921875, 360.7223815917969, 354.7207946777344, 353.5396728515625, 340.137939453125, 335.1731262207031, 332.90740966796875, 322.4112243652344, 314.797607421875, 299.8008728027344, 282.5252685546875, 275.0106201171875, 264.65887451171875, 263.61737060546875, 3017.566162109375, 683.029296875, 542.5510864257812, 1349.0985107421875, 9723.0947265625, 3194.083740234375, 1526.652099609375, 2687.04345703125, 482.1519775390625, 1558.85205078125, 898.9911499023438, 717.6216430664062, 11031.2451171875, 3211.5224609375, 1850.8643798828125, 1887.4735107421875, 1596.607421875, 1254.70068359375, 2308.4384765625, 1275.4449462890625, 1612.17041015625, 1632.2496337890625, 1562.22509765625, 3960.964111328125, 1073.9923095703125, 2675.931884765625, 3973.200439453125, 3849.0283203125, 3333.47705078125, 2821.698974609375, 3472.86474609375, 1708.591552734375, 1365.38671875, 5948.0048828125, 2289.958740234375, 4327.205078125, 3028.944091796875, 2854.843994140625, 4796.45703125, 2002.788818359375, 2524.835205078125, 2197.32666015625, 2476.31640625, 2085.449462890625, 2011.7125244140625, 2039.6053466796875, 2296.425537109375, 2042.244140625, 2117.026123046875, 2118.693603515625, 1430.896484375, 1260.1517333984375, 745.9854125976562, 631.7622680664062, 519.2445678710938, 499.4663391113281, 484.15350341796875, 461.9708557128906, 446.8091125488281, 380.86444091796875, 353.2206115722656, 340.5196533203125, 312.36865234375, 290.5975036621094, 362.89825439453125, 259.7682800292969, 235.12210083007812, 193.42144775390625, 180.20286560058594, 2744.24072265625, 170.6506805419922, 152.1910858154297, 150.8834228515625, 144.79534912109375, 143.71922302246094, 136.97271728515625, 134.7731475830078, 134.57264709472656, 133.76918029785156, 1740.7308349609375, 2330.226318359375, 2889.794921875, 690.1778564453125, 2138.256591796875, 2260.9599609375, 1398.4219970703125, 3571.45703125, 2505.31689453125, 2114.817138671875, 1646.402587890625, 2567.41845703125, 2060.8896484375, 3842.963134765625, 1268.0609130859375, 2674.463623046875, 7744.0869140625, 678.0986938476562, 992.7381591796875, 2123.7587890625, 4605.1435546875, 4675.20849609375, 3233.282958984375, 3202.280029296875, 1990.8658447265625, 1968.6265869140625, 2139.360107421875, 1323.159912109375, 3113.68994140625, 1771.0009765625, 1810.008544921875, 1682.40283203125, 1619.455810546875, 1553.3631591796875, 1060.361083984375, 969.9611206054688, 767.0086059570312, 561.1650390625, 385.5610656738281, 331.1136779785156, 330.1557922363281, 318.689453125, 297.29998779296875, 272.59716796875, 266.2329406738281, 253.79782104492188, 252.7492218017578, 246.51318359375, 245.17340087890625, 239.16636657714844, 229.3386688232422, 214.4750213623047, 205.2860107421875, 199.1498260498047, 186.54197692871094, 178.51632690429688, 177.05331420898438, 173.7216796875, 170.7971649169922, 169.53012084960938, 168.4888458251953, 170.61595153808594, 163.18637084960938, 160.98348999023438, 501.2288818359375, 257.3312683105469, 1060.9727783203125, 772.8404541015625, 873.737548828125, 949.139404296875, 367.6843566894531, 5083.68115234375, 412.59307861328125, 511.5751647949219, 1327.9759521484375, 1377.7470703125, 868.940673828125, 744.5245361328125, 2316.287353515625, 2481.885009765625, 3383.17431640625, 496.3640441894531, 3135.11767578125, 3322.8984375, 9038.6982421875, 1067.0240478515625, 1307.2135009765625, 1797.8323974609375, 2083.716796875, 1317.61767578125, 1856.387939453125, 1907.69970703125, 1788.3524169921875, 2466.92626953125, 742.7572631835938, 1702.8165283203125, 1363.109130859375, 1562.258544921875, 1611.6666259765625, 1093.629150390625, 1897.1475830078125, 1575.939208984375, 1489.2713623046875, 1349.418212890625, 1223.1932373046875, 1163.1385498046875, 1112.3330078125, 1884.3585205078125, 1042.0361328125, 874.137451171875, 471.1335754394531, 342.7228088378906, 255.09524536132812, 239.13473510742188, 237.0146942138672, 229.66403198242188, 195.203369140625, 183.0366973876953, 179.162353515625, 169.75494384765625, 162.38348388671875, 153.40274047851562, 148.06593322753906, 145.18386840820312, 137.60874938964844, 117.6024169921875, 115.96762084960938, 101.59976959228516, 98.22196197509766, 97.30304718017578, 97.16265106201172, 94.54125213623047, 90.71239471435547, 88.27314758300781, 86.61280822753906, 83.47549438476562, 82.44353485107422, 2832.01611328125, 1395.980224609375, 3015.307373046875, 430.89935302734375, 1233.7864990234375, 423.8970031738281, 776.7147827148438, 273.24615478515625, 1779.8726806640625, 3565.298095703125, 1100.4398193359375, 641.79150390625, 1010.5217895507812, 5484.27587890625, 1266.7567138671875, 849.118896484375, 1983.1005859375, 5863.7421875, 4082.001708984375, 6004.46337890625, 1294.3248291015625, 1229.9991455078125, 1448.0491943359375, 822.3512573242188, 467.779296875, 2105.04248046875, 2612.286865234375, 1672.66650390625, 2598.421142578125, 3246.11376953125, 1141.0853271484375, 1303.9697265625, 1544.0372314453125, 1361.0126953125, 1877.7620849609375, 1289.4541015625, 2300.1494140625, 2254.352294921875, 1517.0819091796875, 1549.705322265625, 1392.975341796875, 1485.9842529296875, 1400.5728759765625, 1402.41015625, 1570.801025390625, 1532.9656982421875, 1515.3277587890625, 945.9681396484375, 830.4927978515625, 603.7011108398438, 363.44189453125, 353.1793518066406, 334.33209228515625, 309.05426025390625, 245.18589782714844, 240.65220642089844, 216.06361389160156, 213.58641052246094, 193.23382568359375, 179.18301391601562, 175.1210174560547, 165.20904541015625, 163.57688903808594, 150.83932495117188, 144.21890258789062, 136.53111267089844, 136.09725952148438, 126.3010482788086, 122.5654296875, 118.65231323242188, 111.38558197021484, 110.67998504638672, 109.86243438720703, 103.86441040039062, 430.6786804199219, 574.7823486328125, 653.6309204101562, 1142.311279296875, 1529.3853759765625, 1084.040771484375, 2233.192138671875, 697.1809692382812, 928.0274047851562, 528.908447265625, 618.0582885742188, 1120.7958984375, 551.9347534179688, 489.29986572265625, 633.24267578125, 1797.597412109375, 4142.228515625, 518.42724609375, 1675.1651611328125, 564.1262817382812, 4158.060546875, 1668.53564453125, 2501.0361328125, 1018.2003784179688, 3083.921875, 1216.9901123046875, 835.1624145507812, 1088.4495849609375, 1231.1744384765625, 946.1624755859375, 1445.52294921875, 1291.6444091796875, 891.2369995117188, 861.6521606445312, 1575.7314453125, 1439.103759765625, 1487.3277587890625, 1032.8739013671875, 936.7921752929688, 2448.434326171875, 514.4838256835938, 240.47357177734375, 238.53102111816406, 215.38473510742188, 178.16162109375, 177.4472198486328, 154.09356689453125, 146.74644470214844, 137.61651611328125, 120.76953887939453, 113.87389373779297, 112.26956939697266, 103.26156616210938, 92.49880981445312, 92.28645324707031, 84.90294647216797, 77.94318389892578, 77.15740203857422, 74.97038269042969, 74.79755401611328, 72.58758544921875, 72.07477569580078, 71.94500732421875, 67.87950134277344, 67.07352447509766, 65.31893920898438, 64.88697814941406, 64.11831665039062, 60.40187454223633, 1372.7017822265625, 19874.90234375, 594.8483276367188, 422.4409484863281, 355.9363708496094, 12628.71875, 518.3615112304688, 197.1604461669922, 463.16265869140625, 1213.9703369140625, 2255.98583984375, 2590.081298828125, 3340.051025390625, 195.01022338867188, 2791.99609375, 1624.7784423828125, 1230.3994140625, 2143.587646484375, 1127.7613525390625, 243.2236785888672, 1054.5819091796875, 533.676025390625, 1780.9627685546875, 950.8243408203125, 766.6682739257812, 1883.0648193359375, 922.8643798828125, 763.8438110351562, 1151.9951171875, 488.5907897949219, 419.1296691894531, 860.967041015625, 744.99951171875, 704.6663818359375, 788.9611206054688, 570.2899169921875, 570.1464233398438, 766.31787109375, 582.1024169921875, 494.47723388671875, 219.5995635986328, 151.62612915039062, 131.02650451660156, 96.66100311279297, 92.0855941772461, 75.72330474853516, 73.41827392578125, 59.88343811035156, 55.13589096069336, 54.60263442993164, 46.54240417480469, 45.817928314208984, 43.849937438964844, 40.31723403930664, 39.5604133605957, 39.51496887207031, 39.19899368286133, 38.71369171142578, 38.2780647277832, 2864.826904296875, 32.9595947265625, 30.022750854492188, 28.67910385131836, 26.909643173217773, 26.107555389404297, 24.597339630126953, 23.825748443603516, 682.5472412109375, 542.5829467773438, 3842.8515625, 1965.3360595703125, 15994.916015625, 3588.553466796875, 2257.625244140625, 197.09706115722656, 5588.56103515625, 2152.292236328125, 368.3389587402344, 110.12779235839844, 1240.7158203125, 1098.510986328125, 2486.873779296875, 844.8798828125, 1176.008544921875, 394.65570068359375, 1479.5440673828125, 628.7889404296875, 4372.17578125, 950.9727172851562, 968.0040283203125, 626.5352172851562, 743.1053466796875, 1097.908935546875, 425.8432922363281, 1596.2574462890625, 667.5147094726562, 877.5048217773438, 791.5590209960938, 840.7360229492188, 726.5411376953125, 694.7286376953125, 705.58447265625, 7822.64501953125, 16812.26171875, 1448.04833984375, 578.9458618164062, 421.9908142089844, 363.9049072265625, 339.8529357910156, 170.33827209472656, 168.90814208984375, 151.86395263671875, 147.9654541015625, 147.6182403564453, 142.795166015625, 139.4540252685547, 131.9610595703125, 128.7423095703125, 125.2457504272461, 124.66411590576172, 122.85240173339844, 119.95926666259766, 99.8880386352539, 84.33248901367188, 83.4166030883789, 83.18030548095703, 82.85348510742188, 81.70665740966797, 77.45589447021484, 76.82855987548828, 72.52877044677734, 71.9532699584961, 3728.802490234375, 6163.00927734375, 139.32591247558594, 1824.404296875, 4606.0517578125, 1840.418701171875, 127.24284362792969, 426.4642639160156, 274.9505615234375, 555.9705810546875, 1350.592041015625, 633.4073486328125, 1282.747802734375, 172.0484619140625, 596.732666015625, 493.148681640625, 1723.16015625, 346.3371887207031, 1600.718994140625, 602.6748657226562, 383.6592712402344, 305.6052551269531, 253.1472625732422, 390.5157775878906, 407.772705078125, 595.065185546875, 537.3895263671875, 462.321044921875, 463.51873779296875, 387.4852294921875, 350.2642517089844, 6004.2548828125, 3322.24951171875, 1345.93408203125, 1146.3011474609375, 965.6807250976562, 848.1533203125, 706.268310546875, 481.5958251953125, 412.54156494140625, 356.97210693359375, 300.1158752441406, 299.88262939453125, 290.33819580078125, 165.2216339111328, 152.45864868164062, 132.86773681640625, 127.07018280029297, 121.69384002685547, 108.13656616210938, 104.81468200683594, 102.45166778564453, 96.88005065917969, 92.54610443115234, 92.01156616210938, 88.87706756591797, 84.03311157226562, 83.15492248535156, 80.80897521972656, 78.00547790527344, 76.40158081054688, 1317.98876953125, 1069.864013671875, 1029.8529052734375, 459.0760803222656, 97.43254089355469, 796.739501953125, 433.0653381347656, 1657.53173828125, 144.79605102539062, 291.4752502441406, 517.5296630859375, 312.1708679199219, 672.0234985351562, 367.3952331542969, 495.8841857910156, 369.4313659667969, 338.8271789550781, 451.06640625, 492.4404602050781, 291.6609191894531, 12365.65625, 330.08160400390625, 293.0238952636719, 289.7646179199219, 221.71127319335938, 219.08770751953125, 189.23081970214844, 167.8355712890625, 129.8432159423828, 125.55801391601562, 122.70333862304688, 119.86456298828125, 102.59175109863281, 98.91320037841797, 96.88569641113281, 94.015869140625, 93.11544799804688, 91.3936996459961, 90.06578063964844, 87.37606811523438, 84.5747299194336, 82.10924530029297, 80.38760375976562, 78.98173522949219, 78.95927429199219, 78.1200942993164, 74.25370025634766, 72.63032531738281, 70.80317687988281, 69.03569030761719, 531.3733520507812, 274.8254699707031, 2182.610107421875, 1395.728271484375, 691.6895141601562, 1097.0535888671875, 1233.517333984375, 477.4909362792969, 410.4361572265625, 212.4813232421875, 649.5748291015625, 735.3676147460938, 234.67333984375, 391.17822265625, 295.26739501953125, 916.96435546875, 345.5225524902344, 520.1264038085938, 491.3543395996094, 484.878173828125, 399.3519287109375, 281.4993896484375, 417.3052978515625, 415.4895935058594, 277.9052734375], \"Total\": [26376.0, 24500.0, 16821.0, 12366.0, 24273.0, 7825.0, 11424.0, 6005.0, 8867.0, 17097.0, 8728.0, 15665.0, 4129.0, 10306.0, 6065.0, 4956.0, 4424.0, 10551.0, 3323.0, 7248.0, 11475.0, 6527.0, 6528.0, 4387.0, 7867.0, 6826.0, 2936.0, 8452.0, 3773.0, 2576.0, 2521.253173828125, 1029.9423828125, 868.6292114257812, 746.2423706054688, 743.9124755859375, 670.1915283203125, 556.8132934570312, 499.1836853027344, 477.3033142089844, 450.2294006347656, 449.74530029296875, 435.1634826660156, 423.4223327636719, 411.9739685058594, 398.49346923828125, 391.8851318359375, 428.2970886230469, 361.6446838378906, 355.64324951171875, 354.4620056152344, 341.0630187988281, 336.0954895019531, 333.82977294921875, 323.33367919921875, 315.7201843261719, 300.7232360839844, 283.44757080078125, 275.9329833984375, 265.5812683105469, 264.5397644042969, 3056.1142578125, 687.0227661132812, 547.3343505859375, 1442.3759765625, 11475.21484375, 3607.4453125, 1674.63427734375, 3138.372314453125, 495.6681213378906, 1799.77294921875, 1004.1944580078125, 780.4954833984375, 17097.6796875, 4259.21142578125, 2317.124755859375, 2372.819091796875, 1970.047119140625, 1520.5706787109375, 3158.463623046875, 1568.5166015625, 2083.67578125, 2187.802734375, 2151.656494140625, 7248.34619140625, 1341.3321533203125, 4515.2646484375, 8242.5068359375, 8217.9462890625, 6940.7373046875, 5883.46240234375, 8384.205078125, 2791.036865234375, 1987.4322509765625, 24500.921875, 4936.2998046875, 17443.634765625, 8795.5947265625, 7867.9970703125, 24489.19921875, 4307.263671875, 10201.490234375, 6528.251953125, 11424.3349609375, 6151.88232421875, 5395.1826171875, 5820.17724609375, 10753.95703125, 7123.1953125, 26376.994140625, 2119.586181640625, 1431.789306640625, 1261.0445556640625, 746.8782958984375, 632.6551513671875, 520.137451171875, 500.35943603515625, 485.0465087890625, 462.8653869628906, 447.7023620605469, 381.7573547363281, 354.1192321777344, 341.4124450683594, 313.26263427734375, 291.49066162109375, 364.13232421875, 260.661376953125, 236.0150604248047, 194.3145294189453, 181.09576416015625, 2758.101318359375, 171.54371643066406, 153.08384704589844, 151.7762908935547, 145.68832397460938, 144.61233520507812, 137.86578369140625, 135.66629028320312, 135.46554565429688, 134.66207885742188, 1823.2392578125, 2509.89404296875, 3178.48681640625, 731.7310791015625, 2389.5078125, 2587.328857421875, 1609.772705078125, 4477.09033203125, 3119.481689453125, 2940.52685546875, 2257.5478515625, 3997.695068359375, 3291.099609375, 7123.1953125, 1901.019287109375, 5100.1142578125, 24273.890625, 863.6828002929688, 1475.5946044921875, 4329.50537109375, 15665.294921875, 17443.634765625, 10201.490234375, 10753.95703125, 5572.12255859375, 5501.853515625, 6527.45849609375, 2762.672607421875, 24489.19921875, 6173.767578125, 8242.5068359375, 8452.828125, 10013.0849609375, 6393.47705078125, 1061.2442626953125, 970.84423828125, 767.891845703125, 562.0484619140625, 386.44464111328125, 331.9968566894531, 331.0397033691406, 319.5726318359375, 298.18316650390625, 273.4801940917969, 267.1162109375, 254.68243408203125, 253.63320922851562, 247.39657592773438, 246.05712890625, 240.0498809814453, 230.22178649902344, 215.3583526611328, 206.16920471191406, 200.0330352783203, 187.42568969726562, 179.39988708496094, 177.93629455566406, 174.60525512695312, 171.68023681640625, 170.413330078125, 169.37205505371094, 171.51065063476562, 164.0694122314453, 161.86666870117188, 508.60260009765625, 262.4510498046875, 1153.9844970703125, 846.0949096679688, 969.1826171875, 1087.7001953125, 392.11651611328125, 6826.02392578125, 454.5822448730469, 604.1089477539062, 1861.4918212890625, 1958.6649169921875, 1143.3701171875, 965.1589965820312, 3905.918212890625, 4288.5107421875, 6346.111328125, 592.6852416992188, 6151.88232421875, 6710.2568359375, 24489.19921875, 1599.8197021484375, 2099.324462890625, 3274.97998046875, 4097.34326171875, 2325.946533203125, 4068.794189453125, 4455.7451171875, 4229.802734375, 8795.5947265625, 1176.3494873046875, 5501.853515625, 3783.945556640625, 5395.1826171875, 5883.46240234375, 2491.21875, 17443.634765625, 10201.490234375, 8384.205078125, 5820.17724609375, 4441.57763671875, 10753.95703125, 10013.0849609375, 1885.2398681640625, 1042.964599609375, 875.018798828125, 472.01513671875, 343.604736328125, 255.97665405273438, 240.01622009277344, 237.89639282226562, 230.54537963867188, 196.08470153808594, 183.9189910888672, 180.04698181152344, 170.63645935058594, 163.2651824951172, 154.2841033935547, 148.94760131835938, 146.22372436523438, 138.63792419433594, 118.48407745361328, 116.85044860839844, 102.48236083984375, 99.10340118408203, 98.18515014648438, 98.04409790039062, 95.42267608642578, 91.59371948242188, 89.1549072265625, 87.49498748779297, 84.35722351074219, 83.32482147216797, 2915.699462890625, 1548.2908935546875, 3639.903076171875, 471.5362548828125, 1459.5648193359375, 478.9725036621094, 928.2877197265625, 299.95037841796875, 2449.831298828125, 5637.10693359375, 1501.1585693359375, 829.6699829101562, 1431.734130859375, 10551.2509765625, 1875.0772705078125, 1181.2916259765625, 3460.167724609375, 15665.294921875, 10306.9375, 17097.6796875, 2451.6513671875, 2358.905029296875, 3065.25048828125, 1393.222900390625, 637.950927734375, 6173.767578125, 8867.5849609375, 4515.2646484375, 10753.95703125, 17443.634765625, 2838.674072265625, 3849.446533203125, 5572.12255859375, 4426.48681640625, 10201.490234375, 4068.794189453125, 24273.890625, 24489.19921875, 7867.9970703125, 8728.80859375, 6065.58642578125, 10013.0849609375, 6960.62109375, 8452.828125, 1571.7073974609375, 1533.8748779296875, 1516.234130859375, 946.87451171875, 831.3990478515625, 604.6075439453125, 364.3486633300781, 354.0859375, 335.23846435546875, 309.9605712890625, 246.0921630859375, 241.5587158203125, 216.96994018554688, 214.49290466308594, 194.14035034179688, 180.08946228027344, 176.02777099609375, 166.1153564453125, 164.48330688476562, 151.74569702148438, 145.12527465820312, 137.43775939941406, 137.00367736816406, 127.20823669433594, 123.4716796875, 119.55863952636719, 112.29200744628906, 111.5863265991211, 110.76883697509766, 104.77078247070312, 438.2194519042969, 593.9944458007812, 677.9886474609375, 1213.228759765625, 1695.5650634765625, 1185.89453125, 2587.64990234375, 786.2603149414062, 1070.9903564453125, 586.364013671875, 693.5498657226562, 1377.60791015625, 629.846435546875, 551.8558959960938, 752.560546875, 2479.58935546875, 6527.45849609375, 608.1132202148438, 2582.4326171875, 695.9761352539062, 8452.828125, 3372.8232421875, 6393.47705078125, 1736.1390380859375, 10013.0849609375, 2453.08349609375, 1445.378662109375, 2491.21875, 4791.8994140625, 2687.349853515625, 8795.5947265625, 6960.62109375, 2551.460205078125, 2358.905029296875, 24273.890625, 17443.634765625, 24489.19921875, 6826.02392578125, 5100.1142578125, 2449.3369140625, 515.3869018554688, 241.37606811523438, 239.43362426757812, 216.28712463378906, 179.06398010253906, 178.34974670410156, 154.9959716796875, 147.6488800048828, 138.5189666748047, 121.67201232910156, 114.77616882324219, 113.17237854003906, 104.16407012939453, 93.40116882324219, 93.18898010253906, 85.8055419921875, 78.84547424316406, 78.05987548828125, 75.87286376953125, 75.70188903808594, 73.49004364013672, 72.97713470458984, 72.8472671508789, 68.78216552734375, 67.97611236572266, 66.22136688232422, 65.78939056396484, 65.02072143554688, 61.30442810058594, 1508.1708984375, 26376.994140625, 696.327880859375, 487.8992004394531, 416.50433349609375, 24273.890625, 678.214111328125, 238.46566772460938, 669.0079345703125, 2777.21240234375, 6528.251953125, 7867.9970703125, 11424.3349609375, 266.97564697265625, 10551.2509765625, 5070.044921875, 3460.167724609375, 8384.205078125, 3773.6572265625, 372.5860595703125, 4288.5107421875, 1496.6236572265625, 15665.294921875, 4936.2998046875, 3307.40185546875, 24489.19921875, 6393.47705078125, 4387.42724609375, 11475.21484375, 1711.66162109375, 1217.6627197265625, 10306.9375, 8217.9462890625, 8452.828125, 17443.634765625, 4259.21142578125, 6151.88232421875, 767.231201171875, 583.0248413085938, 495.3884582519531, 220.50839233398438, 152.53721618652344, 131.9359588623047, 97.57011413574219, 92.99468994140625, 76.63520050048828, 74.329833984375, 60.793052673339844, 56.04513931274414, 55.512123107910156, 47.451393127441406, 46.727413177490234, 44.75896453857422, 41.2265739440918, 40.46980667114258, 40.42412567138672, 40.10824966430664, 39.622947692871094, 39.18730545043945, 2936.5810546875, 33.869022369384766, 30.9318904876709, 29.58806610107422, 27.81850242614746, 27.01676368713379, 25.50655746459961, 24.734764099121094, 735.5018920898438, 592.6026000976562, 4424.0087890625, 2377.96923828125, 24500.921875, 6065.58642578125, 3773.6572265625, 250.99070739746094, 11424.3349609375, 3920.15478515625, 516.7599487304688, 130.194580078125, 2438.89404296875, 2378.193603515625, 7248.34619140625, 1992.44287109375, 3152.330322265625, 798.1500244140625, 5070.044921875, 1588.255615234375, 26376.994140625, 2946.115966796875, 3307.40185546875, 1922.11083984375, 2729.242919921875, 6173.767578125, 1124.166015625, 15665.294921875, 3011.948974609375, 8217.9462890625, 6528.251953125, 10306.9375, 4936.2998046875, 4387.42724609375, 10551.2509765625, 7825.30712890625, 16821.736328125, 1448.9449462890625, 579.8421020507812, 422.8872985839844, 364.8013610839844, 340.74932861328125, 171.23463439941406, 169.80453491210938, 152.7621307373047, 148.86170959472656, 148.51458740234375, 143.69142150878906, 140.3504180908203, 132.85784912109375, 129.63861083984375, 126.14244842529297, 125.56065368652344, 123.74879455566406, 120.85567474365234, 100.7854232788086, 85.23267364501953, 84.3131332397461, 84.07675170898438, 83.74987030029297, 82.603271484375, 78.35228729248047, 77.72549438476562, 73.42508697509766, 72.84967041015625, 4956.07421875, 8867.5849609375, 149.50970458984375, 2626.166015625, 8728.80859375, 3268.452392578125, 139.80667114257812, 608.4146118164062, 361.7798156738281, 1162.5833740234375, 4791.8994140625, 1913.9354248046875, 6528.251953125, 223.4753875732422, 2157.5771484375, 1796.0955810546875, 24500.921875, 962.7837524414062, 24489.19921875, 3639.903076171875, 1383.10400390625, 947.9583129882812, 628.9826049804688, 2056.92041015625, 2567.882080078125, 10013.0849609375, 8217.9462890625, 10201.490234375, 17443.634765625, 8242.5068359375, 6710.2568359375, 6005.17041015625, 3323.148681640625, 1346.833251953125, 1147.2003173828125, 966.5799560546875, 849.052490234375, 707.1674194335938, 482.494873046875, 413.44085693359375, 357.8714599609375, 301.01495361328125, 300.7825927734375, 291.23736572265625, 166.1208953857422, 153.35794067382812, 133.7675323486328, 127.96927642822266, 122.59297943115234, 109.03573608398438, 105.71385192871094, 103.3521728515625, 97.78069305419922, 93.44535827636719, 92.91094970703125, 89.77629852294922, 84.93244934082031, 84.05426025390625, 81.70835876464844, 78.90464782714844, 77.30109405517578, 1338.381103515625, 1104.557861328125, 1559.1494140625, 654.13525390625, 103.8441390991211, 2075.762451171875, 1115.977783203125, 10306.9375, 197.11265563964844, 689.2659912109375, 2241.861572265625, 886.7275390625, 4229.802734375, 1282.441162109375, 2449.831298828125, 1335.1435546875, 1326.499755859375, 3291.099609375, 6710.2568359375, 2056.92041015625, 12366.556640625, 330.98065185546875, 293.9228515625, 290.66375732421875, 222.61024475097656, 219.98667907714844, 190.13009643554688, 168.73507690429688, 130.74246215820312, 126.45816040039062, 123.60313415527344, 120.7635269165039, 103.49071502685547, 99.81217193603516, 97.78466033935547, 94.91515350341797, 94.01441192626953, 92.29299926757812, 90.9647445678711, 88.27519226074219, 85.4785385131836, 83.00821685791016, 81.28866577148438, 79.88069915771484, 79.85823822021484, 79.01944732666016, 75.15533447265625, 73.52952575683594, 71.70214080810547, 69.93489837646484, 653.9200439453125, 331.0751037597656, 4129.0048828125, 2576.34326171875, 1588.255615234375, 3636.02734375, 4387.42724609375, 1107.4097900390625, 969.5552978515625, 386.6031799316406, 3307.40185546875, 4936.2998046875, 583.70703125, 1853.458251953125, 1149.578857421875, 15665.294921875, 1711.66162109375, 5883.46240234375, 6173.767578125, 8217.9462890625, 5070.044921875, 1770.32568359375, 10551.2509765625, 17443.634765625, 6151.88232421875], \"Category\": [\"Default\", \"Default\", \"Default\", \"Default\", \"Default\", \"Default\", \"Default\", \"Default\", \"Default\", \"Default\", \"Default\", \"Default\", \"Default\", \"Default\", \"Default\", \"Default\", \"Default\", \"Default\", \"Default\", \"Default\", \"Default\", \"Default\", \"Default\", \"Default\", \"Default\", \"Default\", \"Default\", \"Default\", \"Default\", \"Default\", \"Topic1\", \"Topic1\", \"Topic1\", \"Topic1\", \"Topic1\", \"Topic1\", \"Topic1\", \"Topic1\", \"Topic1\", \"Topic1\", \"Topic1\", \"Topic1\", \"Topic1\", \"Topic1\", \"Topic1\", \"Topic1\", \"Topic1\", \"Topic1\", \"Topic1\", \"Topic1\", \"Topic1\", \"Topic1\", \"Topic1\", \"Topic1\", \"Topic1\", \"Topic1\", \"Topic1\", \"Topic1\", \"Topic1\", \"Topic1\", \"Topic1\", \"Topic1\", \"Topic1\", \"Topic1\", \"Topic1\", \"Topic1\", \"Topic1\", \"Topic1\", \"Topic1\", \"Topic1\", \"Topic1\", \"Topic1\", \"Topic1\", \"Topic1\", \"Topic1\", \"Topic1\", \"Topic1\", \"Topic1\", \"Topic1\", \"Topic1\", \"Topic1\", \"Topic1\", \"Topic1\", \"Topic1\", \"Topic1\", \"Topic1\", \"Topic1\", \"Topic1\", \"Topic1\", \"Topic1\", \"Topic1\", \"Topic1\", \"Topic1\", \"Topic1\", \"Topic1\", \"Topic1\", \"Topic1\", \"Topic1\", \"Topic1\", \"Topic1\", \"Topic1\", \"Topic1\", \"Topic1\", \"Topic1\", \"Topic1\", \"Topic1\", \"Topic1\", \"Topic1\", \"Topic1\", \"Topic2\", \"Topic2\", \"Topic2\", \"Topic2\", \"Topic2\", \"Topic2\", \"Topic2\", \"Topic2\", \"Topic2\", \"Topic2\", \"Topic2\", \"Topic2\", \"Topic2\", \"Topic2\", \"Topic2\", \"Topic2\", \"Topic2\", \"Topic2\", \"Topic2\", \"Topic2\", \"Topic2\", \"Topic2\", \"Topic2\", \"Topic2\", \"Topic2\", \"Topic2\", \"Topic2\", \"Topic2\", \"Topic2\", \"Topic2\", \"Topic2\", \"Topic2\", \"Topic2\", \"Topic2\", \"Topic2\", \"Topic2\", \"Topic2\", \"Topic2\", \"Topic2\", \"Topic2\", \"Topic2\", \"Topic2\", \"Topic2\", \"Topic2\", \"Topic2\", \"Topic2\", \"Topic2\", \"Topic2\", \"Topic2\", \"Topic2\", \"Topic2\", \"Topic2\", \"Topic2\", \"Topic2\", \"Topic2\", \"Topic2\", \"Topic2\", \"Topic2\", \"Topic2\", \"Topic2\", \"Topic2\", \"Topic2\", \"Topic2\", \"Topic2\", \"Topic3\", \"Topic3\", \"Topic3\", \"Topic3\", \"Topic3\", \"Topic3\", \"Topic3\", \"Topic3\", \"Topic3\", \"Topic3\", \"Topic3\", \"Topic3\", \"Topic3\", \"Topic3\", \"Topic3\", \"Topic3\", \"Topic3\", \"Topic3\", \"Topic3\", \"Topic3\", \"Topic3\", \"Topic3\", \"Topic3\", \"Topic3\", \"Topic3\", \"Topic3\", \"Topic3\", \"Topic3\", \"Topic3\", \"Topic3\", \"Topic3\", \"Topic3\", \"Topic3\", \"Topic3\", \"Topic3\", \"Topic3\", \"Topic3\", \"Topic3\", \"Topic3\", \"Topic3\", \"Topic3\", \"Topic3\", \"Topic3\", \"Topic3\", \"Topic3\", \"Topic3\", \"Topic3\", \"Topic3\", \"Topic3\", \"Topic3\", \"Topic3\", \"Topic3\", \"Topic3\", \"Topic3\", \"Topic3\", \"Topic3\", \"Topic3\", \"Topic3\", \"Topic3\", \"Topic3\", \"Topic3\", \"Topic3\", \"Topic3\", \"Topic3\", \"Topic3\", \"Topic3\", \"Topic3\", \"Topic3\", \"Topic3\", \"Topic3\", \"Topic3\", \"Topic3\", \"Topic3\", \"Topic4\", \"Topic4\", \"Topic4\", \"Topic4\", \"Topic4\", \"Topic4\", \"Topic4\", \"Topic4\", \"Topic4\", \"Topic4\", \"Topic4\", \"Topic4\", \"Topic4\", \"Topic4\", \"Topic4\", \"Topic4\", \"Topic4\", \"Topic4\", \"Topic4\", \"Topic4\", \"Topic4\", \"Topic4\", \"Topic4\", \"Topic4\", \"Topic4\", \"Topic4\", \"Topic4\", \"Topic4\", \"Topic4\", \"Topic4\", \"Topic4\", \"Topic4\", \"Topic4\", \"Topic4\", \"Topic4\", \"Topic4\", \"Topic4\", \"Topic4\", \"Topic4\", \"Topic4\", \"Topic4\", \"Topic4\", \"Topic4\", \"Topic4\", \"Topic4\", \"Topic4\", \"Topic4\", \"Topic4\", \"Topic4\", \"Topic4\", \"Topic4\", \"Topic4\", \"Topic4\", \"Topic4\", \"Topic4\", \"Topic4\", \"Topic4\", \"Topic4\", \"Topic4\", \"Topic4\", \"Topic4\", \"Topic4\", \"Topic4\", \"Topic4\", \"Topic4\", \"Topic4\", \"Topic4\", \"Topic4\", \"Topic4\", \"Topic4\", \"Topic4\", \"Topic4\", \"Topic4\", \"Topic4\", \"Topic5\", \"Topic5\", \"Topic5\", \"Topic5\", \"Topic5\", \"Topic5\", \"Topic5\", \"Topic5\", \"Topic5\", \"Topic5\", \"Topic5\", \"Topic5\", \"Topic5\", \"Topic5\", \"Topic5\", \"Topic5\", \"Topic5\", \"Topic5\", \"Topic5\", \"Topic5\", \"Topic5\", \"Topic5\", \"Topic5\", \"Topic5\", \"Topic5\", \"Topic5\", \"Topic5\", \"Topic5\", \"Topic5\", \"Topic5\", \"Topic5\", \"Topic5\", \"Topic5\", \"Topic5\", \"Topic5\", \"Topic5\", \"Topic5\", \"Topic5\", \"Topic5\", \"Topic5\", \"Topic5\", \"Topic5\", \"Topic5\", \"Topic5\", \"Topic5\", \"Topic5\", \"Topic5\", \"Topic5\", \"Topic5\", \"Topic5\", \"Topic5\", \"Topic5\", \"Topic5\", \"Topic5\", \"Topic5\", \"Topic5\", \"Topic5\", \"Topic5\", \"Topic5\", \"Topic5\", \"Topic5\", \"Topic5\", \"Topic5\", \"Topic5\", \"Topic5\", \"Topic5\", \"Topic5\", \"Topic5\", \"Topic5\", \"Topic6\", \"Topic6\", \"Topic6\", \"Topic6\", \"Topic6\", \"Topic6\", \"Topic6\", \"Topic6\", \"Topic6\", \"Topic6\", \"Topic6\", \"Topic6\", \"Topic6\", \"Topic6\", \"Topic6\", \"Topic6\", \"Topic6\", \"Topic6\", \"Topic6\", \"Topic6\", \"Topic6\", \"Topic6\", \"Topic6\", \"Topic6\", \"Topic6\", \"Topic6\", \"Topic6\", \"Topic6\", \"Topic6\", \"Topic6\", \"Topic6\", \"Topic6\", \"Topic6\", \"Topic6\", \"Topic6\", \"Topic6\", \"Topic6\", \"Topic6\", \"Topic6\", \"Topic6\", \"Topic6\", \"Topic6\", \"Topic6\", \"Topic6\", \"Topic6\", \"Topic6\", \"Topic6\", \"Topic6\", \"Topic6\", \"Topic6\", \"Topic6\", \"Topic6\", \"Topic6\", \"Topic6\", \"Topic6\", \"Topic6\", \"Topic6\", \"Topic6\", \"Topic6\", \"Topic6\", \"Topic6\", \"Topic6\", \"Topic6\", \"Topic6\", \"Topic6\", \"Topic6\", \"Topic6\", \"Topic7\", \"Topic7\", \"Topic7\", \"Topic7\", \"Topic7\", \"Topic7\", \"Topic7\", \"Topic7\", \"Topic7\", \"Topic7\", \"Topic7\", \"Topic7\", \"Topic7\", \"Topic7\", \"Topic7\", \"Topic7\", \"Topic7\", \"Topic7\", \"Topic7\", \"Topic7\", \"Topic7\", \"Topic7\", \"Topic7\", \"Topic7\", \"Topic7\", \"Topic7\", \"Topic7\", \"Topic7\", \"Topic7\", \"Topic7\", \"Topic7\", \"Topic7\", \"Topic7\", \"Topic7\", \"Topic7\", \"Topic7\", \"Topic7\", \"Topic7\", \"Topic7\", \"Topic7\", \"Topic7\", \"Topic7\", \"Topic7\", \"Topic7\", \"Topic7\", \"Topic7\", \"Topic7\", \"Topic7\", \"Topic7\", \"Topic7\", \"Topic7\", \"Topic7\", \"Topic7\", \"Topic7\", \"Topic7\", \"Topic7\", \"Topic7\", \"Topic7\", \"Topic7\", \"Topic7\", \"Topic7\", \"Topic7\", \"Topic7\", \"Topic7\", \"Topic7\", \"Topic8\", \"Topic8\", \"Topic8\", \"Topic8\", \"Topic8\", \"Topic8\", \"Topic8\", \"Topic8\", \"Topic8\", \"Topic8\", \"Topic8\", \"Topic8\", \"Topic8\", \"Topic8\", \"Topic8\", \"Topic8\", \"Topic8\", \"Topic8\", \"Topic8\", \"Topic8\", \"Topic8\", \"Topic8\", \"Topic8\", \"Topic8\", \"Topic8\", \"Topic8\", \"Topic8\", \"Topic8\", \"Topic8\", \"Topic8\", \"Topic8\", \"Topic8\", \"Topic8\", \"Topic8\", \"Topic8\", \"Topic8\", \"Topic8\", \"Topic8\", \"Topic8\", \"Topic8\", \"Topic8\", \"Topic8\", \"Topic8\", \"Topic8\", \"Topic8\", \"Topic8\", \"Topic8\", \"Topic8\", \"Topic8\", \"Topic8\", \"Topic8\", \"Topic8\", \"Topic8\", \"Topic8\", \"Topic8\", \"Topic8\", \"Topic8\", \"Topic8\", \"Topic8\", \"Topic8\", \"Topic8\", \"Topic9\", \"Topic9\", \"Topic9\", \"Topic9\", \"Topic9\", \"Topic9\", \"Topic9\", \"Topic9\", \"Topic9\", \"Topic9\", \"Topic9\", \"Topic9\", \"Topic9\", \"Topic9\", \"Topic9\", \"Topic9\", \"Topic9\", \"Topic9\", \"Topic9\", \"Topic9\", \"Topic9\", \"Topic9\", \"Topic9\", \"Topic9\", \"Topic9\", \"Topic9\", \"Topic9\", \"Topic9\", \"Topic9\", \"Topic9\", \"Topic9\", \"Topic9\", \"Topic9\", \"Topic9\", \"Topic9\", \"Topic9\", \"Topic9\", \"Topic9\", \"Topic9\", \"Topic9\", \"Topic9\", \"Topic9\", \"Topic9\", \"Topic9\", \"Topic9\", \"Topic9\", \"Topic9\", \"Topic9\", \"Topic9\", \"Topic9\", \"Topic10\", \"Topic10\", \"Topic10\", \"Topic10\", \"Topic10\", \"Topic10\", \"Topic10\", \"Topic10\", \"Topic10\", \"Topic10\", \"Topic10\", \"Topic10\", \"Topic10\", \"Topic10\", \"Topic10\", \"Topic10\", \"Topic10\", \"Topic10\", \"Topic10\", \"Topic10\", \"Topic10\", \"Topic10\", \"Topic10\", \"Topic10\", \"Topic10\", \"Topic10\", \"Topic10\", \"Topic10\", \"Topic10\", \"Topic10\", \"Topic10\", \"Topic10\", \"Topic10\", \"Topic10\", \"Topic10\", \"Topic10\", \"Topic10\", \"Topic10\", \"Topic10\", \"Topic10\", \"Topic10\", \"Topic10\", \"Topic10\", \"Topic10\", \"Topic10\", \"Topic10\", \"Topic10\", \"Topic10\", \"Topic10\", \"Topic10\", \"Topic10\", \"Topic10\", \"Topic10\", \"Topic10\", \"Topic10\"], \"logprob\": [30.0, 29.0, 28.0, 27.0, 26.0, 25.0, 24.0, 23.0, 22.0, 21.0, 20.0, 19.0, 18.0, 17.0, 16.0, 15.0, 14.0, 13.0, 12.0, 11.0, 10.0, 9.0, 8.0, 7.0, 6.0, 5.0, 4.0, 3.0, 2.0, 1.0, -4.964799880981445, -5.860499858856201, -6.031000137329102, -6.183000087738037, -6.186100006103516, -6.290599822998047, -6.476200103759766, -6.585700035095215, -6.6305999755859375, -6.6890997886657715, -6.690199851989746, -6.723199844360352, -6.7505998611450195, -6.77810001373291, -6.811399936676025, -6.828199863433838, -6.7393999099731445, -6.908699989318848, -6.92549991607666, -6.928800106048584, -6.96750020980835, -6.9822001457214355, -6.988999843597412, -7.020999908447266, -7.044899940490723, -7.093699932098389, -7.15310001373291, -7.179999828338623, -7.218400001525879, -7.222300052642822, -4.784599781036377, -6.270299911499023, -6.500500202178955, -5.589600086212158, -3.6145999431610107, -4.727799892425537, -5.466000080108643, -4.900599956512451, -6.618599891662598, -5.445099830627441, -5.995500087738037, -6.220900058746338, -3.488300085067749, -4.722300052642822, -5.273399829864502, -5.253799915313721, -5.421199798583984, -5.662199974060059, -5.052499771118164, -5.6458001136779785, -5.411499977111816, -5.399099826812744, -5.442999839782715, -4.512599945068359, -5.817699909210205, -4.904799938201904, -4.509500026702881, -4.541200160980225, -4.685100078582764, -4.8516998291015625, -4.644100189208984, -5.353400230407715, -5.577600002288818, -4.105999946594238, -5.060500144958496, -4.424099922180176, -4.780900001525879, -4.840000152587891, -4.321199893951416, -5.194499969482422, -4.962900161743164, -5.101799964904785, -4.9822998046875, -5.154099941253662, -5.190100193023682, -5.176300048828125, -5.057700157165527, -5.175000190734863, -5.139100074768066, -4.698999881744385, -5.0914998054504395, -5.218599796295166, -5.7428998947143555, -5.908999919891357, -6.105199813842773, -6.144000053405762, -6.17519998550415, -6.222099781036377, -6.25540018081665, -6.41510009765625, -6.490499973297119, -6.527100086212158, -6.613399982452393, -6.6855998039245605, -6.463399887084961, -6.797800064086914, -6.897500038146973, -7.092700004577637, -7.16349983215332, -4.440299987792969, -7.217899799346924, -7.332399845123291, -7.341000080108643, -7.382199764251709, -7.389699935913086, -7.43779993057251, -7.453999996185303, -7.45550012588501, -7.461400032043457, -4.895500183105469, -4.603799819946289, -4.388599872589111, -5.8206000328063965, -4.689799785614014, -4.633999824523926, -5.114500045776367, -4.176799774169922, -4.531400203704834, -4.700799942016602, -4.951200008392334, -4.506899833679199, -4.7266998291015625, -4.103600025177002, -5.212299823760986, -4.466100215911865, -3.402899980545044, -5.8383002281188965, -5.457099914550781, -4.696599960327148, -3.922600030899048, -3.9075000286102295, -4.276299953460693, -4.285900115966797, -4.761199951171875, -4.772500038146973, -4.689300060272217, -5.1697998046875, -4.314000129699707, -4.878300189971924, -4.856500148773193, -4.929599761962891, -4.967700004577637, -5.009399890899658, -5.346499919891357, -5.4355998039245605, -5.670400142669678, -5.982900142669678, -6.3582000732421875, -6.51039981842041, -6.513299942016602, -6.548699855804443, -6.618199825286865, -6.704899787902832, -6.728499889373779, -6.776400089263916, -6.7804999351501465, -6.805500030517578, -6.8109002113342285, -6.835700035095215, -6.877699851989746, -6.944699764251709, -6.988500118255615, -7.018799781799316, -7.084199905395508, -7.128200054168701, -7.13640022277832, -7.155399799346924, -7.172399997711182, -7.179900169372559, -7.185999870300293, -7.173500061035156, -7.2179999351501465, -7.231599807739258, -6.095799922943115, -6.762499809265137, -5.3460001945495605, -5.662799835205078, -5.54010009765625, -5.457300186157227, -6.405700206756592, -3.779099941253662, -6.29040002822876, -6.075399875640869, -5.121500015258789, -5.084700107574463, -5.545599937438965, -5.700200080871582, -4.565199851989746, -4.496099948883057, -4.186299800872803, -6.105599880218506, -4.262499809265137, -4.2042999267578125, -3.2035999298095703, -5.3403000831604, -5.137199878692627, -4.818600177764893, -4.671000003814697, -5.129300117492676, -4.786499977111816, -4.759200096130371, -4.823800086975098, -4.502200126647949, -5.702499866485596, -4.872900009155273, -5.095399856567383, -4.959000110626221, -4.9278998374938965, -5.3155999183654785, -4.764800071716309, -4.950300216674805, -5.006899833679199, -5.105500221252441, -5.203700065612793, -5.254000186920166, -5.298699855804443, -4.571700096130371, -5.164100170135498, -5.339799880981445, -5.957900047302246, -6.276100158691406, -6.571400165557861, -6.636000156402588, -6.644899845123291, -6.676499843597412, -6.839000225067139, -6.90339994430542, -6.924799919128418, -6.978700160980225, -7.023099899291992, -7.079999923706055, -7.1153998374938965, -7.1350998878479, -7.188700199127197, -7.345799922943115, -7.359799861907959, -7.492000102996826, -7.5258002281188965, -7.535200119018555, -7.5366997718811035, -7.564000129699707, -7.605400085449219, -7.632599830627441, -7.651599884033203, -7.688499927520752, -7.701000213623047, -4.164299964904785, -4.871699810028076, -4.101600170135498, -6.0472002029418945, -4.995200157165527, -6.063600063323975, -5.458000183105469, -6.502699851989746, -4.628799915313721, -3.9340999126434326, -5.109600067138672, -5.648799896240234, -5.194799900054932, -3.5034000873565674, -4.968900203704834, -5.368899822235107, -4.520699977874756, -3.436500072479248, -3.7987000942230225, -3.4128000736236572, -4.947299957275391, -4.998300075531006, -4.835100173950195, -5.400899887084961, -5.965099811553955, -4.460999965667725, -4.245100021362305, -4.690899848937988, -4.250400066375732, -4.027900218963623, -5.073299884796143, -4.939899921417236, -4.770899772644043, -4.89709997177124, -4.575200080871582, -4.951099872589111, -4.372300148010254, -4.392499923706055, -4.78849983215332, -4.767199993133545, -4.873899936676025, -4.809199810028076, -4.8684000968933105, -4.867099761962891, -4.546299934387207, -4.570700168609619, -4.582200050354004, -5.053400039672852, -5.183599948883057, -5.502500057220459, -6.010000228881836, -6.038599967956543, -6.093500137329102, -6.172100067138672, -6.403600215911865, -6.422299861907959, -6.53000020980835, -6.541600227355957, -6.64169979095459, -6.717199802398682, -6.740099906921387, -6.798399925231934, -6.808300018310547, -6.889400005340576, -6.934299945831299, -6.989099979400635, -6.992300033569336, -7.066999912261963, -7.0970001220703125, -7.12939977645874, -7.192599773406982, -7.198999881744385, -7.206399917602539, -7.262499809265137, -5.8403000831604, -5.551599979400635, -5.423099994659424, -4.864799976348877, -4.572999954223633, -4.917200088500977, -4.194399833679199, -5.35860013961792, -5.0725998878479, -5.634799957275391, -5.479000091552734, -4.883800029754639, -5.592199802398682, -5.712600231170654, -5.454800128936768, -4.411399841308594, -3.5766000747680664, -5.654799938201904, -4.48199987411499, -5.570300102233887, -3.5727999210357666, -4.485899925231934, -4.081200122833252, -4.979800224304199, -3.8717000484466553, -4.801499843597412, -5.177999973297119, -4.913099765777588, -4.789899826049805, -5.053199768066406, -4.62939977645874, -4.7418999671936035, -5.11299991607666, -5.1468000411987305, -4.543099880218506, -4.633800029754639, -4.600900173187256, -4.9654998779296875, -5.063199996948242, -3.6784000396728516, -5.238500118255615, -5.999000072479248, -6.0071001052856445, -6.1092000007629395, -6.298900127410889, -6.302999973297119, -6.4440999031066895, -6.4928998947143555, -6.557199954986572, -6.68779993057251, -6.746500015258789, -6.760700225830078, -6.844399929046631, -6.954400062561035, -6.956699848175049, -7.04010009765625, -7.125699996948242, -7.135799884796143, -7.1645002365112305, -7.166900157928467, -7.196800231933594, -7.20389986038208, -7.205699920654297, -7.263899803161621, -7.2758002281188965, -7.3024001121521, -7.309000015258789, -7.320899963378906, -7.3805999755859375, -4.2571001052856445, -1.5844000577926636, -5.093299865722656, -5.4355998039245605, -5.606900215148926, -2.037899971008301, -5.230999946594238, -6.1975998878479, -5.343599796295166, -4.380000114440918, -3.7602999210357666, -3.6222000122070312, -3.3678998947143555, -6.208600044250488, -3.547100067138672, -4.088500022888184, -4.366499900817871, -3.8113999366760254, -4.45359992980957, -5.98769998550415, -4.520699977874756, -5.201900005340576, -3.9967000484466553, -4.624300003051758, -4.839600086212158, -3.940999984741211, -4.654200077056885, -4.843299865722656, -4.432400226593018, -5.29010009765625, -5.44350004196167, -4.723599910736084, -4.868299961090088, -4.923900127410889, -4.8109002113342285, -5.135499954223633, -5.135700225830078, -4.7266998291015625, -5.001699924468994, -5.16480016708374, -5.976500034332275, -6.34689998626709, -6.4928998947143555, -6.797100067138672, -6.845600128173828, -7.041200160980225, -7.0721001625061035, -7.275899887084961, -7.358500003814697, -7.368199825286865, -7.5279998779296875, -7.543600082397461, -7.587500095367432, -7.671500205993652, -7.690499782562256, -7.6915998458862305, -7.699699878692627, -7.712100028991699, -7.723400115966797, -3.408099889755249, -7.873000144958496, -7.966400146484375, -8.012100219726562, -8.075799942016602, -8.106100082397461, -8.16569995880127, -8.197600364685059, -4.84250020980835, -5.072000026702881, -3.114300012588501, -3.784899950027466, -1.6883000135421753, -3.182800054550171, -3.646199941635132, -6.08459997177124, -2.739799976348877, -3.694000005722046, -5.4593000411987305, -6.6666998863220215, -4.244900226593018, -4.366600036621094, -3.549499988555908, -4.6290998458862305, -4.298399925231934, -5.3902997970581055, -4.06879997253418, -4.924499988555908, -2.985300064086914, -4.510799884796143, -4.493100166320801, -4.928100109100342, -4.757500171661377, -4.367199897766113, -5.314199924468994, -3.9928998947143555, -4.864799976348877, -4.59119987487793, -4.694300174713135, -4.633999824523926, -4.78000020980835, -4.82480001449585, -4.809299945831299, -2.3464999198913574, -1.5814000368118286, -4.033299922943115, -4.949999809265137, -5.266300201416016, -5.414299964904785, -5.482699871063232, -6.173500061035156, -6.1819000244140625, -6.288300037384033, -6.314300060272217, -6.3165998458862305, -6.349800109863281, -6.373499870300293, -6.428699970245361, -6.453400135040283, -6.480999946594238, -6.485599994659424, -6.50029993057251, -6.524099826812744, -6.707200050354004, -6.876500129699707, -6.887400150299072, -6.890200138092041, -6.894199848175049, -6.908100128173828, -6.96150016784668, -6.969699859619141, -7.027299880981445, -7.035200119018555, -3.087399959564209, -2.58489990234375, -6.3744001388549805, -3.8022000789642334, -2.8761000633239746, -3.7934999465942383, -6.465099811553955, -5.25570011138916, -5.6946001052856445, -4.990499973297119, -4.10290002822876, -4.860099792480469, -4.1545000076293945, -6.16349983215332, -4.9197998046875, -5.110400199890137, -3.859299898147583, -5.463799953460693, -3.933000087738037, -4.909900188446045, -5.361499786376953, -5.588900089263916, -5.777299880981445, -5.343800067901611, -5.30049991607666, -4.922599792480469, -5.024499893188477, -5.175000190734863, -5.172399997711182, -5.351600170135498, -5.452600002288818, -2.064199924468994, -2.656100034713745, -3.5596001148223877, -3.7202000617980957, -3.8915998935699463, -4.021399974822998, -4.204500198364258, -4.587399959564209, -4.742099761962891, -4.8867998123168945, -5.060299873352051, -5.061100006103516, -5.093400001525879, -5.657199859619141, -5.737599849700928, -5.875100135803223, -5.9197001457214355, -5.9629998207092285, -6.081099987030029, -6.112299919128418, -6.1350998878479, -6.190999984741211, -6.236800193786621, -6.242599964141846, -6.277200222015381, -6.3333001136779785, -6.343800067901611, -6.372399806976318, -6.407700061798096, -6.428500175476074, -3.5806000232696533, -3.7892000675201416, -3.8273000717163086, -4.635300159454346, -6.185299873352051, -4.083899974822998, -4.693600177764893, -3.3513998985290527, -5.789100170135498, -5.0894999504089355, -4.515399932861328, -5.020899772644043, -4.254199981689453, -4.857999801635742, -4.55810022354126, -4.852499961853027, -4.939000129699707, -4.652900218963623, -4.565100193023682, -5.088900089263916, -1.2181999683380127, -4.8414998054504395, -4.960599899291992, -4.971799850463867, -5.239500045776367, -5.251399993896484, -5.397900104522705, -5.517899990081787, -5.774600028991699, -5.80810022354126, -5.831099987030029, -5.854499816894531, -6.0100998878479, -6.046599864959717, -6.067399978637695, -6.097400188446045, -6.10699987411499, -6.125699996948242, -6.1402997970581055, -6.1707000732421875, -6.2032999992370605, -6.232800006866455, -6.254000186920166, -6.271699905395508, -6.271999835968018, -6.282599925994873, -6.333399772644043, -6.355500221252441, -6.38100004196167, -6.406300067901611, -4.3653998374938965, -5.024799823760986, -2.9526000022888184, -3.3996999263763428, -4.101799964904785, -3.640500068664551, -3.5232999324798584, -4.472300052642822, -4.623700141906738, -5.2820000648498535, -4.164599895477295, -4.040500164031982, -5.182700157165527, -4.6717000007629395, -4.953000068664551, -3.8197999000549316, -4.79580020904541, -4.3867998123168945, -4.443699836730957, -4.456999778747559, -4.651000022888184, -5.000800132751465, -4.607100009918213, -4.611400127410889, -5.013599872589111], \"loglift\": [30.0, 29.0, 28.0, 27.0, 26.0, 25.0, 24.0, 23.0, 22.0, 21.0, 20.0, 19.0, 18.0, 17.0, 16.0, 15.0, 14.0, 13.0, 12.0, 11.0, 10.0, 9.0, 8.0, 7.0, 6.0, 5.0, 4.0, 3.0, 2.0, 1.0, 1.424399971961975, 1.4239000082015991, 1.423699975013733, 1.4235999584197998, 1.4235999584197998, 1.4234000444412231, 1.4230999946594238, 1.4229999780654907, 1.4228999614715576, 1.4227999448776245, 1.422700047492981, 1.422700047492981, 1.4226000308990479, 1.4226000308990479, 1.4225000143051147, 1.4223999977111816, 1.4223999977111816, 1.4221999645233154, 1.4221999645233154, 1.4221999645233154, 1.4220999479293823, 1.4220999479293823, 1.4220000505447388, 1.4219000339508057, 1.4219000339508057, 1.4217000007629395, 1.4214999675750732, 1.4214999675750732, 1.4213000535964966, 1.4213000535964966, 1.4120999574661255, 1.4190000295639038, 1.4160000085830688, 1.3579000234603882, 1.2590999603271484, 1.3030999898910522, 1.3322999477386475, 1.2695000171661377, 1.3971999883651733, 1.2811000347137451, 1.3141000270843506, 1.3408000469207764, 0.9865999817848206, 1.1425000429153442, 1.2000999450683594, 1.1959999799728394, 1.2145999670028687, 1.2325999736785889, 1.111299991607666, 1.218000054359436, 1.1682000160217285, 1.1318999528884888, 1.104699969291687, 0.8205000162124634, 1.2024999856948853, 0.9016000032424927, 0.6951000094413757, 0.6662999987602234, 0.6913999915122986, 0.6899999976158142, 0.54339998960495, 0.9340999722480774, 1.049399971961975, 0.009100000374019146, 0.6567000150680542, 0.030700000002980232, 0.3587999939918518, 0.41100001335144043, -0.20559999346733093, 0.6589999794960022, 0.0284000001847744, 0.3359000086784363, -0.10419999808073044, 0.34299999475479126, 0.4383000135421753, 0.37619999051094055, -0.11909999698400497, 0.17550000548362732, -1.0976999998092651, 1.8636000156402588, 1.8633999824523926, 1.8633999824523926, 1.8629000186920166, 1.8626999855041504, 1.8623000383377075, 1.8623000383377075, 1.8622000217437744, 1.8621000051498413, 1.8621000051498413, 1.8617000579833984, 1.8615000247955322, 1.8614000082015991, 1.861199975013733, 1.8609999418258667, 1.860700011253357, 1.8605999946594238, 1.8602999448776245, 1.8595000505447388, 1.8590999841690063, 1.8589999675750732, 1.8588000535964966, 1.858199954032898, 1.858199954032898, 1.8579000234603882, 1.8579000234603882, 1.8575999736785889, 1.8574999570846558, 1.8574999570846558, 1.8573999404907227, 1.8178000450134277, 1.7898000478744507, 1.7688000202178955, 1.8056000471115112, 1.753000020980835, 1.729200005531311, 1.7232999801635742, 1.638100028038025, 1.6447999477386475, 1.5343999862670898, 1.5484000444412231, 1.4212000370025635, 1.3960000276565552, 1.246999979019165, 1.4592000246047974, 1.2186000347137451, 0.7215999960899353, 1.6222000122070312, 1.4677000045776367, 1.1518000364303589, 0.6398000121116638, 0.5473999977111816, 0.7149999737739563, 0.6527000069618225, 0.8349000215530396, 0.8363000154495239, 0.7486000061035156, 1.1279000043869019, -0.19840000569820404, 0.6152999997138977, 0.3481000065803528, 0.24979999661445618, 0.04230000078678131, 0.44920000433921814, 1.9078999757766724, 1.9077999591827393, 1.9076000452041626, 1.9071999788284302, 1.9063999652862549, 1.9061000347137451, 1.9061000347137451, 1.906000018119812, 1.9057999849319458, 1.905500054359436, 1.905400037765503, 1.9052000045776367, 1.9052000045776367, 1.9052000045776367, 1.9050999879837036, 1.9049999713897705, 1.9048999547958374, 1.9046000242233276, 1.9043999910354614, 1.9042999744415283, 1.9040000438690186, 1.9038000106811523, 1.9038000106811523, 1.9036999940872192, 1.9035999774932861, 1.903499960899353, 1.903499960899353, 1.903499960899353, 1.9033000469207764, 1.9033000469207764, 1.8940999507904053, 1.8890000581741333, 1.8246999979019165, 1.8181999921798706, 1.8050999641418457, 1.7725000381469727, 1.8444000482559204, 1.6139999628067017, 1.8118000030517578, 1.7424999475479126, 1.5709999799728394, 1.5569000244140625, 1.6342999935150146, 1.6491999626159668, 1.386199951171875, 1.361799955368042, 1.2797000408172607, 1.7314000129699707, 1.2345999479293823, 1.205899953842163, 0.9120000004768372, 1.5037000179290771, 1.434999942779541, 1.309000015258789, 1.2324999570846558, 1.340399980545044, 1.1239999532699585, 1.0604000091552734, 1.0478999614715576, 0.637499988079071, 1.4488999843597412, 0.7358999848365784, 0.8877000212669373, 0.6693999767303467, 0.6139000058174133, 1.0855000019073486, -0.3098999857902527, 0.04100000113248825, 0.18070000410079956, 0.4471000134944916, 0.6191999912261963, -0.31540000438690186, -0.28870001435279846, 2.108099937438965, 2.1077001094818115, 2.1075000762939453, 2.1066999435424805, 2.1059999465942383, 2.10509991645813, 2.1048998832702637, 2.10479998588562, 2.1047000885009766, 2.104099988937378, 2.1036999225616455, 2.103600025177002, 2.1033999919891357, 2.103100061416626, 2.102799892425537, 2.10260009765625, 2.1013998985290527, 2.101099967956543, 2.101099967956543, 2.1010000705718994, 2.099900007247925, 2.099600076675415, 2.0994999408721924, 2.0994999408721924, 2.099299907684326, 2.098900079727173, 2.098599910736084, 2.098400115966797, 2.0980000495910645, 2.097899913787842, 2.079400062561035, 2.005000114440918, 1.920300006866455, 2.018399953842163, 1.940500020980835, 1.9864000082015991, 1.930299997329712, 2.0153000354766846, 1.7891000509262085, 1.6504000425338745, 1.7979999780654907, 1.8517999649047852, 1.76010000705719, 1.454200029373169, 1.7164000272750854, 1.77839994430542, 1.551900029182434, 1.1259000301361084, 1.1822999715805054, 1.0621000528335571, 1.4697999954223633, 1.4573999643325806, 1.3586000204086304, 1.5813000202178955, 1.79830002784729, 1.0326000452041626, 0.8863999843597412, 1.1154999732971191, 0.6881999969482422, 0.4269999861717224, 1.1971999406814575, 1.0260000228881836, 0.8252000212669373, 0.9291999936103821, 0.41609999537467957, 0.9593999981880188, -0.24789999425411224, -0.2768000066280365, 0.4625000059604645, 0.3799999952316284, 0.6373999714851379, 0.20069999992847443, 0.5052000284194946, 0.31220000982284546, 2.3153998851776123, 2.3153998851776123, 2.3153998851776123, 2.315000057220459, 2.3148999214172363, 2.314500093460083, 2.313499927520752, 2.3134000301361084, 2.3132998943328857, 2.3131000995635986, 2.312299966812134, 2.3122000694274902, 2.311800003051758, 2.311800003051758, 2.311300039291382, 2.311000108718872, 2.310800075531006, 2.310499906539917, 2.310499906539917, 2.309999942779541, 2.3097000122070312, 2.3094000816345215, 2.3094000816345215, 2.308799982070923, 2.3085999488830566, 2.3083999156951904, 2.3078999519348145, 2.307800054550171, 2.307800054550171, 2.307300090789795, 2.2985999584198, 2.283099889755249, 2.279400110244751, 2.2558000087738037, 2.212899923324585, 2.2262001037597656, 2.1686999797821045, 2.1958000659942627, 2.1726999282836914, 2.212899923324585, 2.2007999420166016, 2.1096999645233154, 2.184000015258789, 2.19569993019104, 2.143399953842163, 1.9944000244140625, 1.861199975013733, 2.156399965286255, 1.8832000494003296, 2.1059999465942383, 1.606600046157837, 1.6122000217437744, 1.3774000406265259, 1.7824000120162964, 1.1382999420166016, 1.6150000095367432, 1.7675000429153442, 1.4880000352859497, 0.9570000171661377, 1.2720999717712402, 0.510200023651123, 0.6316999793052673, 1.26419997215271, 1.308899998664856, -0.4187000095844269, -0.17900000512599945, -0.4851999878883362, 0.4275999963283539, 0.621399998664856, 2.7395999431610107, 2.7381999492645264, 2.7362000942230225, 2.7362000942230225, 2.73580002784729, 2.7348999977111816, 2.7348999977111816, 2.734100103378296, 2.7339000701904297, 2.7334001064300537, 2.7325000762939453, 2.732100009918213, 2.7320001125335693, 2.731300115585327, 2.730299949645996, 2.730299949645996, 2.7293999195098877, 2.7284998893737793, 2.7283999919891357, 2.7279999256134033, 2.7279999256134033, 2.72760009765625, 2.7274999618530273, 2.7274999618530273, 2.726799964904785, 2.726599931716919, 2.726300001144409, 2.7262001037597656, 2.7260000705718994, 2.7251999378204346, 2.645900011062622, 2.4570000171661377, 2.5824999809265137, 2.595900058746338, 2.5827999114990234, 2.0866000652313232, 2.4711999893188477, 2.549799919128418, 2.372299909591675, 1.9124000072479248, 1.67739999294281, 1.6289000511169434, 1.510200023651123, 2.4258999824523926, 1.4105000495910645, 1.6019999980926514, 1.7059999704360962, 1.376099944114685, 1.5321999788284302, 2.313499927520752, 1.3372000455856323, 1.708799958229065, 0.5656999945640564, 1.092900037765503, 1.2781000137329102, 0.17470000684261322, 0.8044000267982483, 0.9918000102043152, 0.44130000472068787, 1.486299991607666, 1.6734999418258667, 0.2574999928474426, 0.3393000066280365, 0.2554999887943268, -0.35600000619888306, 0.7293000221252441, 0.3614000082015991, 2.852099895477295, 2.8517000675201416, 2.8515000343322754, 2.8492000102996826, 2.8473000526428223, 2.846400022506714, 2.843899965286255, 2.8434998989105225, 2.8413000106811523, 2.8410000801086426, 2.838200092315674, 2.8369998931884766, 2.8368000984191895, 2.8340001106262207, 2.833699941635132, 2.8327999114990234, 2.8310000896453857, 2.8306000232696533, 2.8306000232696533, 2.830399990081787, 2.8301000595092773, 2.8297998905181885, 2.8285999298095703, 2.8261001110076904, 2.823499917984009, 2.8220999240875244, 2.8201000690460205, 2.8190999031066895, 2.816999912261963, 2.8159000873565674, 2.778599977493286, 2.7651000022888184, 2.7125000953674316, 2.6626999378204346, 2.4268999099731445, 2.328399896621704, 2.339600086212158, 2.611599922180176, 2.1382999420166016, 2.253700017929077, 2.514699935913086, 2.6858999729156494, 2.177500009536743, 2.080899953842163, 1.7835999727249146, 1.9953999519348145, 1.867300033569336, 2.1489999294281006, 1.6217000484466553, 1.9266999959945679, 1.0561000108718872, 1.722499966621399, 1.6246000528335571, 1.732300043106079, 1.55239999294281, 1.1263999938964844, 1.882599949836731, 0.5695000290870667, 1.346500039100647, 0.6162999868392944, 0.743399977684021, 0.34700000286102295, 0.9372000098228455, 1.0103000402450562, 0.14830000698566437, 2.9100000858306885, 2.9098000526428223, 2.9098000526428223, 2.908799886703491, 2.9082999229431152, 2.907900094985962, 2.9077000617980957, 2.905100107192993, 2.905100107192993, 2.9045000076293945, 2.9042999744415283, 2.9042999744415283, 2.904099941253662, 2.9040000438690186, 2.903599977493286, 2.90339994430542, 2.9031999111175537, 2.9031999111175537, 2.90310001373291, 2.902899980545044, 2.901400089263916, 2.8998000621795654, 2.8996999263763428, 2.8996999263763428, 2.899600028991699, 2.8994998931884766, 2.898900032043457, 2.8987998962402344, 2.898099899291992, 2.8980000019073486, 2.6259000301361084, 2.5464999675750732, 2.8397998809814453, 2.546099901199341, 2.2711000442504883, 2.3361001014709473, 2.816200017929077, 2.5550999641418457, 2.6359000205993652, 2.1726999282836914, 1.6440000534057617, 1.8046000003814697, 1.2832000255584717, 2.648900032043457, 1.625100016593933, 1.617799997329712, 0.2558000087738037, 1.8880000114440918, 0.1826000064611435, 1.1119999885559082, 1.628100037574768, 1.77839994430542, 2.0002999305725098, 1.248900055885315, 1.0702999830245972, 0.08739999681711197, 0.18299999833106995, -0.18359999358654022, -0.7174999713897705, -0.1469999998807907, -0.04230000078678131, 3.4570000171661377, 3.456899881362915, 3.4565000534057617, 3.456399917602539, 3.456199884414673, 3.4560999870300293, 3.455899953842163, 3.4553000926971436, 3.4549999237060547, 3.4546000957489014, 3.454200029373169, 3.454200029373169, 3.4540998935699463, 3.45169997215271, 3.4512999057769775, 3.4504001140594482, 3.4500999450683594, 3.4498000144958496, 3.448899984359741, 3.4486000537872314, 3.4484000205993652, 3.4479000568389893, 3.447499990463257, 3.4474000930786133, 3.4470999240875244, 3.446500062942505, 3.4463999271392822, 3.4460999965667725, 3.44569993019104, 3.445499897003174, 3.441800117492676, 3.4251999855041504, 3.0423998832702637, 3.103100061416626, 3.393399953842163, 2.4995999336242676, 2.5106000900268555, 1.629699945449829, 3.148699998855591, 2.5964999198913574, 1.9911999702453613, 2.4131999015808105, 1.6174999475479126, 2.2070999145507812, 1.8596999645233154, 2.172300100326538, 2.0922999382019043, 1.4697999954223633, 0.8450999855995178, 1.5038000345230103, 3.580699920654297, 3.578000068664551, 3.577699899673462, 3.5776000022888184, 3.57669997215271, 3.5766000747680664, 3.5759999752044678, 3.5754001140594482, 3.5738000869750977, 3.5736000537872314, 3.5734000205993652, 3.5732998847961426, 3.572000026702881, 3.571700096130371, 3.571500062942505, 3.571199893951416, 3.5710999965667725, 3.5708999633789062, 3.5708000659942627, 3.570499897003174, 3.5701000690460205, 3.5697999000549316, 3.5696001052856445, 3.5694000720977783, 3.5694000720977783, 3.5692999362945557, 3.568700075149536, 3.5683999061584473, 3.5680999755859375, 3.5678000450134277, 3.373199939727783, 3.3945000171661377, 2.94320011138916, 2.9677999019622803, 2.749500036239624, 2.382499933242798, 2.3118999004364014, 2.739500045776367, 2.721100091934204, 2.9821999073028564, 1.9530999660491943, 1.6766999959945679, 2.6695001125335693, 2.025099992752075, 2.2214999198913574, 0.7426000237464905, 1.9805999994277954, 1.1548999547958374, 1.0498000383377075, 0.7505999803543091, 1.0394999980926514, 1.7418999671936035, 0.350600004196167, -0.15649999678134918, 0.48350000381469727]}, \"token.table\": {\"Topic\": [1, 2, 3, 4, 5, 9, 1, 2, 4, 5, 6, 8, 2, 3, 5, 9, 1, 3, 4, 9, 2, 3, 8, 2, 9, 10, 1, 2, 3, 9, 2, 4, 7, 8, 2, 3, 6, 1, 2, 3, 5, 9, 6, 1, 2, 3, 4, 5, 6, 8, 9, 8, 1, 6, 7, 8, 10, 1, 3, 1, 3, 5, 5, 8, 1, 3, 5, 8, 9, 1, 2, 3, 7, 8, 2, 4, 6, 7, 3, 2, 3, 5, 1, 2, 3, 6, 1, 2, 3, 4, 5, 1, 2, 3, 4, 5, 8, 1, 9, 6, 1, 5, 3, 5, 1, 8, 1, 6, 10, 1, 7, 10, 1, 1, 2, 3, 4, 5, 6, 8, 9, 6, 1, 3, 4, 5, 7, 8, 9, 5, 9, 5, 10, 1, 2, 4, 9, 6, 4, 6, 7, 10, 1, 3, 4, 5, 9, 1, 1, 4, 3, 1, 3, 7, 1, 4, 1, 3, 5, 1, 2, 3, 4, 5, 6, 7, 8, 10, 9, 8, 2, 3, 5, 1, 3, 5, 6, 7, 8, 8, 9, 8, 1, 4, 5, 9, 2, 6, 9, 1, 2, 3, 4, 9, 6, 2, 7, 5, 7, 1, 4, 8, 9, 1, 4, 8, 9, 6, 3, 9, 3, 1, 9, 10, 1, 2, 3, 4, 5, 6, 7, 9, 9, 7, 10, 1, 3, 1, 2, 6, 6, 8, 1, 2, 3, 4, 5, 6, 7, 10, 4, 7, 2, 5, 2, 5, 5, 5, 8, 4, 3, 7, 8, 4, 6, 1, 2, 3, 4, 5, 7, 8, 2, 6, 1, 3, 4, 5, 9, 9, 4, 4, 3, 2, 5, 2, 7, 4, 1, 3, 4, 2, 3, 5, 9, 4, 6, 7, 1, 2, 3, 4, 5, 8, 1, 2, 4, 1, 3, 5, 6, 8, 6, 1, 3, 5, 9, 2, 4, 1, 3, 4, 6, 7, 1, 2, 3, 4, 7, 7, 10, 4, 7, 10, 1, 3, 5, 7, 5, 9, 10, 9, 10, 1, 3, 4, 5, 8, 9, 7, 2, 3, 5, 9, 8, 1, 4, 5, 9, 3, 4, 8, 6, 5, 1, 3, 6, 9, 10, 7, 5, 6, 10, 10, 10, 1, 2, 3, 4, 5, 8, 9, 1, 2, 3, 4, 5, 7, 8, 10, 7, 1, 2, 3, 4, 6, 7, 10, 7, 10, 1, 3, 7, 8, 3, 9, 1, 2, 3, 4, 5, 6, 7, 8, 9, 2, 2, 1, 10, 1, 2, 3, 4, 5, 6, 7, 8, 10, 1, 6, 7, 8, 1, 3, 5, 6, 9, 10, 1, 2, 3, 4, 6, 8, 5, 1, 2, 3, 4, 5, 9, 1, 2, 3, 4, 5, 6, 8, 2, 1, 2, 3, 4, 5, 6, 8, 1, 2, 4, 5, 8, 1, 6, 1, 2, 5, 6, 3, 1, 2, 3, 4, 9, 4, 5, 6, 1, 2, 3, 4, 5, 8, 9, 8, 1, 1, 3, 1, 2, 2, 10, 1, 1, 2, 3, 4, 5, 6, 7, 8, 9, 10, 2, 6, 7, 4, 4, 1, 2, 3, 4, 5, 8, 9, 8, 1, 3, 5, 7, 8, 2, 1, 3, 5, 1, 7, 7, 1, 3, 5, 6, 7, 8, 9, 5, 6, 2, 1, 10, 1, 2, 3, 4, 6, 7, 9, 10, 5, 5, 8, 2, 5, 7, 1, 3, 8, 1, 2, 3, 4, 5, 6, 8, 1, 3, 5, 7, 1, 2, 3, 4, 5, 8, 1, 2, 3, 4, 5, 1, 2, 4, 8, 2, 2, 4, 6, 10, 7, 9, 1, 1, 2, 3, 4, 5, 9, 9, 6, 8, 4, 3, 2, 1, 3, 6, 10, 1, 2, 3, 4, 5, 6, 7, 8, 6, 1, 2, 3, 4, 5, 8, 8, 1, 6, 3, 3, 1, 3, 9, 1, 4, 5, 8, 8, 1, 1, 9, 1, 8, 1, 5, 1, 2, 3, 4, 5, 10, 7, 1, 3, 9, 1, 2, 5, 1, 2, 3, 4, 5, 8, 6, 1, 2, 3, 4, 6, 7, 9, 10, 3, 1, 2, 3, 4, 5, 6, 8, 10, 5, 10, 8, 5, 8, 3, 9, 1, 2, 3, 4, 5, 10, 4, 8, 9, 3, 9, 1, 2, 3, 4, 5, 3, 4, 9, 1, 9, 10, 6, 1, 9, 6, 1, 2, 3, 4, 5, 9, 6, 8, 1, 2, 3, 5, 6, 7, 9, 10, 1, 2, 4, 7, 1, 2, 3, 4, 5, 6, 8, 1, 5, 1, 1, 2, 3, 4, 5, 6, 7, 8, 10, 1, 3, 5, 4, 1, 2, 3, 4, 5, 6, 7, 8, 9, 10, 2, 5, 1, 2, 3, 4, 5, 8, 1, 2, 3, 4, 6, 7, 9, 10, 1, 2, 3, 5, 6, 7, 8, 9, 10, 1, 4, 8, 1, 3, 9, 1, 2, 5, 9, 10, 7, 1, 5, 10, 1, 3, 5, 1, 2, 3, 4, 5, 6, 8, 9, 10, 1, 7, 1, 1, 2, 3, 5, 9, 1, 2, 4, 6, 7, 9, 10, 2, 3, 4, 3, 9, 5, 1, 3, 5, 6, 7, 8, 2, 1, 7, 5, 10, 9, 3, 1, 6, 7, 9, 2, 4, 6, 3, 5, 7, 10, 2, 1, 3, 9, 1, 2, 3, 5, 6, 8, 9, 6, 1, 3, 5, 1, 10, 3, 4, 7, 10, 1, 4, 5, 8, 9, 8, 9, 1, 4, 5, 9, 1, 3, 4, 5, 8, 9, 1, 7, 1, 5, 1, 3, 4, 5, 6, 7, 8, 1, 3, 6, 7, 1, 3, 5, 8, 1, 2, 3, 4, 5, 6, 7, 8, 3, 2, 4, 7, 4, 6, 4, 1, 4, 2, 1, 2, 3, 4, 6, 7, 10, 4, 1, 2, 3, 4, 5, 9, 1, 3, 5, 6, 7, 1, 2, 3, 4, 5, 7, 8, 9, 10, 7, 1, 2, 3, 4, 5, 6, 7, 8, 10, 8, 7, 2, 4, 7, 5, 8, 10, 7, 1, 2, 3, 4, 5, 6, 7, 8, 10, 5, 3, 2, 4, 4, 4, 10, 6, 2, 9, 2, 4, 1, 2, 3, 4, 5, 6, 8, 10, 2, 4, 10, 1, 4, 5, 2, 7, 2, 4, 3, 5, 6, 5, 3, 4, 1, 2, 3, 4, 5, 6, 8, 9, 7, 1, 3, 7, 1, 2, 3, 4, 5, 6, 7, 8, 10, 2, 6, 4, 7, 1, 3, 4, 5, 4, 9, 4, 9, 1, 2, 3, 4, 5, 8, 2, 4, 7, 2, 4, 3, 1, 2, 7, 1, 2, 3, 5, 6, 9, 2, 3, 1, 4, 4, 2, 4, 6, 1, 5, 1, 2, 3, 4, 5, 8, 1, 4, 5, 2, 5, 9, 2, 3, 5, 6, 4, 1, 3, 6, 9, 10, 1, 2, 6, 5, 1, 9, 1, 3, 4, 5, 8, 3, 6, 10, 1, 3, 7, 4, 10, 1, 1, 4, 5, 8, 4, 10, 1, 5, 1, 3, 9, 2, 1, 5, 1, 8, 6, 4, 10, 2, 1, 2, 3, 4, 5, 8, 6, 5, 1, 2, 3, 4, 5, 6, 8, 1, 9, 1, 2, 3, 9, 7, 7, 9, 1, 2, 8, 1, 6, 10, 7, 1, 2, 3, 5, 9, 4, 3, 1, 2, 3, 4, 5, 6, 8, 9, 1, 7, 8, 7, 2, 7, 10, 1, 2, 3, 4, 5, 10, 2, 4, 5, 8, 2, 3, 5, 2, 6, 7, 10, 3, 1, 1, 2, 3, 4, 5, 6, 8, 9, 10, 5, 6, 10, 1, 2, 3, 4, 5, 6, 7, 8, 8, 2, 5, 10, 5, 2, 9, 2, 3, 1, 2, 3, 4, 5, 1, 2, 3, 4, 5, 2, 10, 3, 4, 1, 2, 9, 2, 7, 2, 10, 1, 2, 3, 4, 5, 1, 2, 3, 5, 6, 7, 10, 1, 5, 9, 9, 1, 2, 3, 4, 5, 6, 7, 8, 9, 10, 1, 3, 3, 7, 2, 5, 5, 1, 3, 5, 9, 5, 1, 2, 3, 4, 5, 6, 7, 10, 2, 2, 4, 1, 2, 3, 4, 5, 6, 8, 1, 2, 3, 4, 5, 6, 7, 8, 4, 9, 1, 1, 1, 2, 3, 5, 6, 10, 2, 3, 5, 2, 4, 3, 8, 4, 1, 3, 6, 1, 2, 3, 4, 5, 6, 7, 10, 1, 2, 3, 4, 5, 7, 1, 2, 3, 4, 5, 6, 7, 8, 10, 6, 1, 2, 3, 4, 5, 6, 8, 10, 3, 1], \"Freq\": [0.10026522725820541, 0.47888410091400146, 0.2522919178009033, 0.01701251231133938, 0.10026522725820541, 0.051037535071372986, 0.31337204575538635, 0.04543560370802879, 0.1583564430475235, 0.1055709645152092, 0.35680311918258667, 0.02138146013021469, 0.10050157457590103, 0.7718935608863831, 0.1253679394721985, 0.0020721973851323128, 0.048593077808618546, 0.01097263116389513, 0.7335987687110901, 0.20691247284412384, 0.06120629608631134, 0.9384965300559998, 0.9929198622703552, 0.9991716742515564, 0.9987604022026062, 0.9927984476089478, 0.2140972912311554, 0.08744818717241287, 0.4425179958343506, 0.2555598020553589, 0.4928097724914551, 0.12809495627880096, 0.37894758582115173, 0.98719322681427, 0.994885265827179, 0.1332242339849472, 0.8649327754974365, 0.04250437393784523, 0.11731207370758057, 0.6316150426864624, 0.04760489985346794, 0.1606665402650833, 0.9864223003387451, 0.4802083373069763, 0.09638745337724686, 0.14796699583530426, 0.10114198923110962, 0.11108329892158508, 0.00028815382393077016, 0.023628612980246544, 0.039188921451568604, 0.9952619671821594, 0.3858753442764282, 0.17413394153118134, 0.15840718150138855, 0.00045584802865050733, 0.281258225440979, 0.40681856870651245, 0.5929463505744934, 0.13484330475330353, 0.011511014774441719, 0.8518150448799133, 0.9930590987205505, 0.9906659126281738, 0.10372070223093033, 0.7447966933250427, 0.15133260190486908, 0.00014649816148448735, 0.00014649816148448735, 0.039379436522722244, 0.21752451360225677, 0.6669501662254333, 0.018752112984657288, 0.056881409138441086, 0.09937549382448196, 0.47529593110084534, 0.0010037928586825728, 0.4241024851799011, 0.9969974160194397, 0.9989644289016724, 0.9918991923332214, 0.9990764260292053, 0.1871659904718399, 0.05247644707560539, 0.7600338459014893, 0.9994542002677917, 0.31137147545814514, 0.35731446743011475, 0.027278654277324677, 0.27709367871284485, 0.02691972441971302, 0.04298921674489975, 0.20555523037910461, 0.00041737101855687797, 0.21223317086696625, 0.2568918764591217, 0.28193414211273193, 0.29657474160194397, 0.7016897201538086, 0.9935742020606995, 0.11234816908836365, 0.8861008882522583, 0.9136090874671936, 0.08509683609008789, 0.0005350220599211752, 0.9994211792945862, 0.6334105730056763, 0.15538521111011505, 0.21095700562000275, 0.34972047805786133, 0.10790487378835678, 0.5418532490730286, 0.9976358413696289, 0.8561763167381287, 0.06818821281194687, 0.04524638503789902, 0.0028677284717559814, 0.0050981841050088406, 0.00796591304242611, 0.004779547452926636, 0.009877732023596764, 0.9892768263816833, 0.7259523272514343, 0.12316092103719711, 0.103641077876091, 0.0004647581954486668, 0.02370266802608967, 0.0027885492891073227, 0.01998460292816162, 0.9989951252937317, 0.9989336729049683, 0.999549925327301, 0.9956436157226562, 0.019593186676502228, 0.05143211409449577, 0.7265806198120117, 0.20246292650699615, 0.9907282590866089, 0.573093593120575, 0.3554740846157074, 0.07080581784248352, 0.0005780066712759435, 0.009042228572070599, 0.01679271087050438, 0.9016393423080444, 0.07233782857656479, 0.9932473301887512, 0.9992756247520447, 0.998539388179779, 0.9962700605392456, 0.9965335726737976, 0.8253480195999146, 0.1742766797542572, 0.9929059743881226, 0.08668100088834763, 0.9101505279541016, 0.1310068964958191, 0.005410314537584782, 0.8629451990127563, 0.026874693110585213, 0.29396191239356995, 0.011873380281031132, 0.37433063983917236, 0.0009575306321494281, 0.1136908084154129, 0.10188125818967819, 0.01787390559911728, 0.058537039905786514, 0.9994000196456909, 0.9926967620849609, 0.3276926279067993, 0.037533748894929886, 0.6345502138137817, 0.8473044037818909, 0.004095783922821283, 0.002004319801926613, 0.10039027780294418, 0.03677491098642349, 0.009411588311195374, 0.7601308822631836, 0.23771364986896515, 0.9927898049354553, 0.05398141220211983, 0.06827060878276825, 0.8764041066169739, 0.9998050928115845, 0.9283260703086853, 0.03904547169804573, 0.032272279262542725, 0.5926563143730164, 0.013509728945791721, 0.001771767740137875, 0.3705209195613861, 0.0214826837182045, 0.9815562963485718, 0.08268610388040543, 0.9162970185279846, 0.9884942173957825, 0.9698728322982788, 0.00969824381172657, 0.2945559620857239, 0.6950032114982605, 0.0006766216247342527, 0.0005494651850312948, 0.8283187747001648, 0.16566374897956848, 0.005494651850312948, 0.9932375550270081, 0.9948356747627258, 0.9951630234718323, 0.9977709650993347, 0.9118408560752869, 0.0005971452919766307, 0.08718321472406387, 0.18550612032413483, 0.06694520264863968, 0.024740617722272873, 0.39604392647743225, 0.0008731982670724392, 0.08353596925735474, 0.0815955251455307, 0.1608625203371048, 0.9831684827804565, 0.9917113780975342, 0.9936774969100952, 0.8128699660301208, 0.18616315722465515, 0.9969715476036072, 0.9994487166404724, 0.9888246655464172, 0.08583281189203262, 0.9083972573280334, 0.25622859597206116, 0.009033700451254845, 0.11825934797525406, 0.013139927759766579, 0.04845348373055458, 0.34410184621810913, 0.15193040668964386, 0.0583084300160408, 0.17325708270072937, 0.8263353109359741, 0.41298535466194153, 0.5863585472106934, 0.11192221939563751, 0.8864748477935791, 0.9969009757041931, 0.8910678625106812, 0.10813930630683899, 0.9955704808235168, 0.9982081055641174, 0.9869548678398132, 0.9827409386634827, 0.9978493452072144, 0.9883692860603333, 0.26746705174446106, 0.4905872046947479, 0.0778379887342453, 0.09192735701799393, 0.049197304993867874, 0.016168128699064255, 0.006698224693536758, 0.9972831010818481, 0.9884957075119019, 0.40338125824928284, 0.004306561313569546, 0.5899989008903503, 0.0007177602383308113, 0.0014355204766616225, 0.9932525157928467, 0.9990751147270203, 0.9841005206108093, 0.9982441067695618, 0.9978424310684204, 0.996933102607727, 0.9548938870429993, 0.04497489705681801, 0.9988356828689575, 0.9724248647689819, 0.0020174789242446423, 0.024209747090935707, 0.30633410811424255, 0.2554032504558563, 0.16028238832950592, 0.27637478709220886, 0.14165519177913666, 0.8547329902648926, 0.0024009353946894407, 0.12624861299991608, 0.15889911353588104, 0.00011456316860858351, 0.17757292091846466, 0.009508742950856686, 0.5276779532432556, 0.006263407412916422, 0.10856573283672333, 0.8852282762527466, 0.48586368560791016, 0.13592614233493805, 0.07808523625135422, 0.02313636615872383, 0.2776363790035248, 0.9924319982528687, 0.004399643745273352, 0.9085264801979065, 0.08579305559396744, 0.9957513213157654, 0.22539082169532776, 0.7738016247749329, 0.464073121547699, 0.0031215681228786707, 0.13214638829231262, 0.07491763681173325, 0.3262038826942444, 0.032897286117076874, 0.040637824684381485, 0.011610806919634342, 0.19931885600090027, 0.7121294736862183, 0.998242199420929, 0.9855543375015259, 0.0707000195980072, 0.9286175966262817, 0.9866318702697754, 0.8662203550338745, 0.08001009374856949, 0.043338801711797714, 0.010001261718571186, 0.9932856559753418, 0.9869168400764465, 0.9841470718383789, 0.9920158982276917, 0.9902075529098511, 0.9875285029411316, 0.0006544258212670684, 0.0013088516425341368, 0.007525896653532982, 0.0019632773473858833, 0.0006544258212670684, 0.9842780828475952, 0.020226161926984787, 0.8724830746650696, 0.10388892143964767, 0.002758112968876958, 0.9985477328300476, 0.11318811029195786, 0.5214283466339111, 0.3654237687587738, 0.9989537000656128, 0.9958212375640869, 0.9922507405281067, 0.9965351223945618, 0.9940580725669861, 0.9968148469924927, 0.09164020419120789, 0.5787556767463684, 0.24600614607334137, 0.04896804690361023, 0.034510813653469086, 0.9723685383796692, 0.990501880645752, 0.996253490447998, 0.9919756054878235, 0.9889748096466064, 0.9943211674690247, 0.26391324400901794, 0.17311672866344452, 0.12886780500411987, 0.20127514004707336, 0.18561561405658722, 0.04654756933450699, 0.0005746613605879247, 0.20846928656101227, 0.05280488356947899, 0.06683117896318436, 0.07508194446563721, 0.1289869248867035, 0.08168255537748337, 0.08443281054496765, 0.3017028868198395, 0.9801400899887085, 0.007517383899539709, 0.026310842484235764, 0.18292300403118134, 0.2104867398738861, 0.010023178532719612, 0.494894415140152, 0.06765644997358322, 0.9976944327354431, 0.9918630123138428, 0.12997262179851532, 0.0011301966151222587, 0.8686691522598267, 0.9855375289916992, 0.9956263899803162, 0.9913529753684998, 0.20841725170612335, 0.012689025141298771, 0.020619666203856468, 0.16527456045150757, 0.022523019462823868, 0.1617850810289383, 0.37305736541748047, 0.03521204739809036, 0.00031722564017400146, 0.9932350516319275, 0.9974626898765564, 0.5755215883255005, 0.4228742718696594, 0.2220887690782547, 0.0003944738127756864, 0.08086713403463364, 0.002761316718533635, 0.0017751321429386735, 0.32050997018814087, 0.2919106185436249, 0.0009861845755949616, 0.07869752496480942, 0.33653724193573, 0.34557488560676575, 0.12131884694099426, 0.19653040170669556, 0.3389206528663635, 0.5096001029014587, 0.013166701421141624, 0.09265457093715668, 0.0003251037560403347, 0.045189421623945236, 0.885391116142273, 0.03797701373696327, 0.011365383863449097, 0.06347982585430145, 0.0013860224280506372, 0.0002772044681478292, 0.9922462105751038, 0.20602615177631378, 0.23991498351097107, 0.4282112121582031, 0.09650462120771408, 0.027380380779504776, 0.002019864274188876, 0.05833187326788902, 0.19804030656814575, 0.053290847688913345, 0.18435752391815186, 0.05473113805055618, 0.4371289610862732, 0.01404285803437233, 0.9939492344856262, 0.17237146198749542, 0.17982658743858337, 0.23901572823524475, 0.3074673116207123, 0.08087678253650665, 0.0031627791468054056, 0.017169373109936714, 0.0004076502227690071, 0.3460950255393982, 0.1573529839515686, 0.49611029028892517, 0.9993478655815125, 0.16773903369903564, 0.8261147141456604, 0.19324395060539246, 0.09662197530269623, 0.0563628189265728, 0.652198314666748, 0.9943289160728455, 0.0600370392203331, 0.11290547251701355, 0.4381807744503021, 0.000896075158379972, 0.3880005478858948, 0.09720923751592636, 0.902169942855835, 0.9856403470039368, 0.3620811700820923, 0.16771726310253143, 0.0005224836640991271, 0.035528890788555145, 0.10136183351278305, 0.33073216676712036, 0.0010449673281982541, 0.9942106008529663, 0.9983351826667786, 0.7459539175033569, 0.25367918610572815, 0.9975143671035767, 0.9968903660774231, 0.9983167052268982, 0.9893943071365356, 0.9966188073158264, 0.248056098818779, 0.2680060565471649, 0.10875026881694794, 0.1860850751399994, 0.08249427378177643, 0.045231398195028305, 0.010605587624013424, 0.026599960401654243, 0.0003439650172367692, 0.023790912702679634, 0.14504660665988922, 0.8544825315475464, 0.990487277507782, 0.9927219152450562, 0.9870460629463196, 0.24751286208629608, 0.31691446900367737, 0.1544872373342514, 0.1840907484292984, 0.05116899311542511, 0.04528750106692314, 0.0005881493561901152, 0.9950739145278931, 0.2427663803100586, 0.028856057673692703, 0.0051834783516824245, 0.652832567691803, 0.0703238844871521, 0.9952753782272339, 0.99688321352005, 0.18822485208511353, 0.8103725910186768, 0.9979596138000488, 0.982109010219574, 0.9702479839324951, 0.08025933802127838, 0.00011373547749826685, 0.0002653827832546085, 0.7534975409507751, 0.16575050354003906, 0.00011373547749826685, 0.9890213012695312, 0.9962984323501587, 0.994476854801178, 0.9968394041061401, 0.999502956867218, 0.9944016337394714, 0.02237405814230442, 0.01662936806678772, 0.05956336855888367, 0.1768759936094284, 0.23190408945083618, 0.2926768660545349, 0.0033258735202252865, 0.19652888178825378, 0.9994296431541443, 0.9961798787117004, 0.9951881766319275, 0.05769728124141693, 0.9412899017333984, 0.9697017669677734, 0.9199284315109253, 0.07943671941757202, 0.9950109720230103, 0.09487700462341309, 0.6729490756988525, 0.15112552046775818, 0.004743850324302912, 0.07590160518884659, 0.22821305692195892, 0.769659698009491, 0.773632824420929, 0.07486769556999207, 0.03647400438785553, 0.11470114439725876, 0.5135390162467957, 0.0064887600019574165, 0.022247176617383957, 0.08110950142145157, 0.10011229664087296, 0.2766992449760437, 0.09340112656354904, 0.09201741218566895, 0.22623829543590546, 0.009686043485999107, 0.5777032971382141, 0.0064733149483799934, 0.2970109283924103, 0.0019039162434637547, 0.6945486068725586, 0.9984312057495117, 0.10863852500915527, 0.14743800461292267, 0.1939973682165146, 0.5483658909797668, 0.9801248908042908, 0.9874573945999146, 0.9973263144493103, 0.21823306381702423, 0.009635013528168201, 0.22931332886219025, 0.1450069546699524, 0.013970769941806793, 0.38395529985427856, 0.9966282248497009, 0.060196761041879654, 0.9297055602073669, 0.9916770458221436, 0.9983969926834106, 0.9978131651878357, 0.35340452194213867, 0.5666510462760925, 0.037834059447050095, 0.042563315480947495, 0.03572768718004227, 0.19898664951324463, 0.003430804470553994, 0.16586165130138397, 0.49190637469291687, 0.083404041826725, 0.018573665991425514, 0.002011161297559738, 0.978722095489502, 0.1479204148054123, 0.28976190090179443, 0.2753525972366333, 0.21568912267684937, 0.07092074304819107, 0.00022514522424899042, 0.9935430884361267, 0.9966408610343933, 0.9880012273788452, 0.9960320591926575, 0.9970226287841797, 0.8006965517997742, 0.17147132754325867, 0.026838989928364754, 0.11501038074493408, 0.1309504210948944, 0.0016141808591783047, 0.7524100542068481, 0.9903782606124878, 0.9967405200004578, 0.9941446185112, 0.004366667475551367, 0.000255581020610407, 0.9997051954269409, 0.9352623820304871, 0.06378364562988281, 0.25922536849975586, 0.09307756274938583, 0.2731435000896454, 0.09307756274938583, 0.024356745183467865, 0.2566157281398773, 0.962365448474884, 0.01524093747138977, 0.9792302250862122, 0.0038102343678474426, 0.011181702837347984, 0.8684455752372742, 0.11927149444818497, 0.1670515388250351, 0.07067564874887466, 0.10892005264759064, 0.02906574308872223, 0.06088508293032646, 0.5629575848579407, 0.9866104125976562, 0.36286234855651855, 0.03634978458285332, 0.03634978458285332, 0.19280637800693512, 0.32918161153793335, 0.0414336696267128, 0.000254194310400635, 0.0007625828729942441, 0.9975034594535828, 0.40222567319869995, 0.04307673126459122, 0.3602060377597809, 0.019820580258965492, 0.06369013339281082, 0.07478965818881989, 0.035677045583724976, 0.0005285488441586494, 0.9950858950614929, 0.9999549984931946, 0.9939490556716919, 0.9941613078117371, 0.9979017972946167, 0.9947380423545837, 0.991330623626709, 0.34437695145606995, 0.17497394979000092, 0.2804813086986542, 0.035017531365156174, 0.16440047323703766, 0.0006821596762165427, 0.9916311502456665, 0.2638085186481476, 0.7356199622154236, 0.8475292325019836, 0.15229040384292603, 0.18687136471271515, 0.053435441106557846, 0.5490109920501709, 0.048855260014534, 0.16152770817279816, 0.9934819340705872, 0.9961845874786377, 0.9911453127861023, 0.9977189302444458, 0.9993813037872314, 0.9977164268493652, 0.9940490126609802, 0.05777889862656593, 0.9340922236442566, 0.9981889724731445, 0.12008348107337952, 0.021833360195159912, 0.18090498447418213, 0.14035731554031372, 0.24952411651611328, 0.2861729860305786, 0.9896407723426819, 0.9922069907188416, 0.03980432450771332, 0.6262344717979431, 0.10209354013204575, 0.0021269486751407385, 0.08902799338102341, 0.0033423479180783033, 0.1370362639427185, 0.9970371127128601, 0.009693494997918606, 0.26555073261260986, 0.17575836181640625, 0.5489579439163208, 0.0070958384312689304, 0.11406560242176056, 0.02394845522940159, 0.6324166059494019, 0.13890103995800018, 0.06474952399730682, 0.01862657628953457, 0.6868158578872681, 0.3124634921550751, 0.9987733960151672, 0.47964954376220703, 0.037562914192676544, 0.2739883363246918, 0.02889455109834671, 0.007988492958247662, 0.0035693268291652203, 0.05167025327682495, 0.028384646400809288, 0.08838333189487457, 0.9975950121879578, 0.9936925768852234, 0.9953274726867676, 0.9952932596206665, 0.11534580588340759, 0.1193694993853569, 0.49521204829216003, 0.03040122054517269, 0.01147497072815895, 0.07332058995962143, 0.028761940076947212, 0.05215895548462868, 0.07332058995962143, 0.00044707677443511784, 0.8947449326515198, 0.10462405532598495, 0.20236675441265106, 0.2410736232995987, 0.09170149266719818, 0.3387500047683716, 0.1161205917596817, 0.009871548973023891, 0.00398057047277689, 0.043407175689935684, 0.059139907360076904, 0.5197488069534302, 0.26461318135261536, 0.0669114962220192, 0.0026537138037383556, 0.03952138125896454, 0.46391022205352783, 0.0014180662110447884, 0.004659360274672508, 0.013167757540941238, 0.19265443086624146, 0.14727631211280823, 0.003443875117227435, 0.024512287229299545, 0.1488969475030899, 0.5909945964813232, 0.04777812212705612, 0.3593745827674866, 0.013763201422989368, 0.9850519895553589, 0.9975648522377014, 0.43351849913597107, 0.037297122180461884, 0.0002421891113044694, 0.0002421891113044694, 0.5286988019943237, 0.9907745718955994, 0.0851677730679512, 0.9140779376029968, 0.98785400390625, 0.04385029152035713, 0.11427652090787888, 0.8411283493041992, 0.07589006423950195, 0.05579456314444542, 0.4227147400379181, 0.1479974389076233, 0.02978862263262272, 0.08061841875314713, 0.014185058884322643, 0.15887266397476196, 0.014185058884322643, 0.9978113174438477, 0.9964781403541565, 0.9981912970542908, 0.2286449819803238, 0.07335693389177322, 0.6225812435150146, 0.06097199395298958, 0.014290311373770237, 0.027829894796013832, 0.4273121654987335, 0.4019482135772705, 0.014795640483498573, 0.04051187261939049, 0.04826197028160095, 0.03980731591582298, 0.04658922925591469, 0.10756631195545197, 0.8454574942588806, 0.9968592524528503, 0.9885349273681641, 0.9970616698265076, 0.5499693751335144, 0.005862431600689888, 0.03260977566242218, 0.05825791507959366, 0.2722366750240326, 0.08060843497514725, 0.9950887560844421, 0.14593541622161865, 0.844889223575592, 0.9963057041168213, 0.9972586631774902, 0.9952340126037598, 0.9973204731941223, 0.09751813113689423, 0.2989142835140228, 0.5983585119247437, 0.0052998983301222324, 0.001989164389669895, 0.08752323687076569, 0.9103742837905884, 0.40492919087409973, 0.13287395238876343, 0.46211543679237366, 0.9968602061271667, 0.9959694147109985, 0.7952565550804138, 0.13991795480251312, 0.064480260014534, 0.7541301846504211, 0.012208832427859306, 0.06456594169139862, 0.030052511021494865, 0.1338275969028473, 0.00046957048471085727, 0.004695705138146877, 0.9973090291023254, 0.44014012813568115, 0.21046771109104156, 0.34921178221702576, 0.16612544655799866, 0.8306272625923157, 0.10793085396289825, 0.03426376357674599, 0.45399487018585205, 0.4025992155075073, 0.03270452097058296, 0.29434069991111755, 0.0733032375574112, 0.24584777653217316, 0.3518555462360382, 0.9844255447387695, 0.9942622184753418, 0.011004903353750706, 0.7187048196792603, 0.05079185962677002, 0.21840500831604004, 0.2591252326965332, 0.01020943745970726, 0.0870232954621315, 0.3116309344768524, 0.19009000062942505, 0.1419598013162613, 0.9976287484169006, 0.9883911609649658, 0.030303314328193665, 0.9680225253105164, 0.6123172640800476, 0.043353065848350525, 0.07703230530023575, 0.025080284103751183, 0.05159372836351395, 0.07631572335958481, 0.11393614858388901, 0.21673034131526947, 0.001663116505369544, 0.2923583686351776, 0.4892188608646393, 0.8952449560165405, 0.09759066253900528, 0.0019916461315006018, 0.0039832922630012035, 0.0017205035546794534, 0.24290381371974945, 0.0003128188254777342, 0.17330163717269897, 0.3911799490451813, 0.14436589181423187, 0.0359741635620594, 0.010323021560907364, 0.9991304278373718, 0.17854827642440796, 0.22965627908706665, 0.5916987657546997, 0.9941849708557129, 0.994299054145813, 0.9888661503791809, 0.29335054755210876, 0.7061367034912109, 0.9988240599632263, 0.0032395129092037678, 0.28685885667800903, 0.044219352304935455, 0.34095874428749084, 0.06721989065408707, 0.17784926295280457, 0.07953004539012909, 0.9957660436630249, 0.28547704219818115, 0.19938786327838898, 0.020964719355106354, 0.18511401116847992, 0.07806012779474258, 0.23105797171592712, 0.546469509601593, 0.001517587574198842, 0.09726356714963913, 0.01172681339085102, 0.3431127369403839, 0.1496666818857193, 0.013762453570961952, 0.06537165492773056, 0.10149809718132019, 0.015482760965824127, 0.15826821327209473, 0.47824525833129883, 0.010321840643882751, 0.006881226785480976, 0.9971972107887268, 0.4683651924133301, 0.07021219283342361, 0.0940624326467514, 0.012411859817802906, 0.03309829533100128, 0.09065525233745575, 0.10683934390544891, 0.06534479558467865, 0.05901717767119408, 0.9978009462356567, 0.9830433130264282, 0.6421200037002563, 0.2889164686203003, 0.06853949278593063, 0.9983172416687012, 0.9942113161087036, 0.9952583909034729, 0.9705770611763, 0.21961118280887604, 0.07772945612668991, 0.040052734315395355, 0.17921900749206543, 0.026136105880141258, 0.10522328317165375, 0.32279789447784424, 0.023081237450242043, 0.005770309362560511, 0.997687041759491, 0.9988493919372559, 0.7850103974342346, 0.2141990065574646, 0.9944682121276855, 0.9993423223495483, 0.9859902858734131, 0.9933318495750427, 0.9429693818092346, 0.05603151395916939, 0.16266508400440216, 0.837024986743927, 0.055880703032016754, 0.08932754397392273, 0.19986528158187866, 0.5278075337409973, 0.02773640677332878, 0.0004078883503098041, 0.08361710608005524, 0.015091868117451668, 0.26379624009132385, 0.7327673435211182, 0.002664608648046851, 0.9982221126556396, 0.03392387181520462, 0.964617908000946, 0.9968304634094238, 0.9893038272857666, 0.7976162433624268, 0.202140212059021, 0.9946929812431335, 0.995561957359314, 0.9849984049797058, 0.9939504265785217, 0.9975745677947998, 0.9839109778404236, 0.39020484685897827, 0.06659184396266937, 0.1939341425895691, 0.024923263117671013, 0.06113987788558006, 0.03855317085981369, 0.15888580679893494, 0.06581299006938934, 0.9983952641487122, 0.18327371776103973, 0.03187369182705879, 0.7848896384239197, 0.2866691052913666, 0.5395050644874573, 0.029059991240501404, 0.12073233723640442, 0.0023865695111453533, 0.004351979587227106, 0.00028077285969629884, 0.00014038642984814942, 0.016705986112356186, 0.992919921875, 0.9906120300292969, 0.9712935090065002, 0.02846658229827881, 0.6451752781867981, 0.000233949875109829, 0.3511587679386139, 0.0033922730945050716, 0.9935178756713867, 0.9989743232727051, 0.9140336513519287, 0.08482910692691803, 0.46502840518951416, 0.16414132714271545, 0.15717636048793793, 0.1855006068944931, 0.02809208072721958, 0.997803270816803, 0.4362623691558838, 0.3419712781906128, 0.22178331017494202, 0.8030180335044861, 0.19650700688362122, 0.9981345534324646, 0.9972693920135498, 0.9092376828193665, 0.09060915559530258, 0.06809290498495102, 0.18719446659088135, 0.5086222887039185, 0.09176678210496902, 0.08151623606681824, 0.0627235695719719, 0.1619746834039688, 0.8368691802024841, 0.9983428120613098, 0.9976344108581543, 0.9953986406326294, 0.17638057470321655, 0.13004329800605774, 0.6920695304870605, 0.9920809864997864, 0.007308147381991148, 0.2289411425590515, 0.001589869032613933, 0.1748856008052826, 0.1192401796579361, 0.0715441107749939, 0.4022368788719177, 0.7988348603248596, 0.10961861163377762, 0.09149269759654999, 0.13258756697177887, 0.8664877414703369, 0.9996543526649475, 0.002063594525679946, 0.9017908573150635, 0.030953919515013695, 0.06500323116779327, 0.9962320327758789, 0.8106405138969421, 0.04974500462412834, 0.12131689488887787, 0.011167245917022228, 0.00710642896592617, 0.15357205271720886, 0.11611545830965042, 0.73040372133255, 0.9926741123199463, 0.9972693920135498, 0.9983491897583008, 0.2126835584640503, 0.19709418714046478, 0.026167873293161392, 0.28896012902259827, 0.2744842767715454, 0.9194231033325195, 0.07799065113067627, 0.0017331255367025733, 0.1890956461429596, 0.7134063243865967, 0.0972338393330574, 0.9943426847457886, 0.9940561652183533, 0.999085009098053, 0.08638161420822144, 0.012340230867266655, 0.8137293457984924, 0.08710751682519913, 0.18656715750694275, 0.8120259046554565, 0.3508319854736328, 0.6486132740974426, 0.26840147376060486, 0.3075735569000244, 0.42218825221061707, 0.9956991672515869, 0.2746422588825226, 0.7251200675964355, 0.9977413415908813, 0.9955347776412964, 0.9872412085533142, 0.9879294633865356, 0.9963769912719727, 0.9987919330596924, 0.03944406285881996, 0.16298584640026093, 0.12205333262681961, 0.3144361674785614, 0.35201966762542725, 0.008930731564760208, 0.9843016266822815, 0.9926431775093079, 0.3505047857761383, 0.17387786507606506, 0.23177988827228546, 0.1582425981760025, 0.02886510081589222, 0.0548093281686306, 0.0018899767892435193, 0.33864617347717285, 0.6606166362762451, 0.00157810072414577, 0.6670106053352356, 0.28300607204437256, 0.04786905646324158, 0.9813518524169922, 0.9743416905403137, 0.9973981380462646, 0.10847865790128708, 0.18901583552360535, 0.7001804113388062, 0.5123676061630249, 0.28568729758262634, 0.20214276015758514, 0.9941568970680237, 0.002720600925385952, 0.7192588448524475, 0.20336492359638214, 0.03910863772034645, 0.03536781296133995, 0.9959143996238708, 0.9957036972045898, 0.4820135533809662, 0.21959339082241058, 0.08080065995454788, 0.0879586786031723, 0.03312098979949951, 0.02717619761824608, 0.04695173725485802, 0.022201983258128166, 0.9986966252326965, 0.9895080924034119, 0.990943193435669, 0.9844328165054321, 0.9950833916664124, 0.9702942967414856, 0.9892100095748901, 0.07751774042844772, 0.7291097044944763, 0.039866264909505844, 0.1324445903301239, 0.020819049328565598, 0.9892529845237732, 0.18355236947536469, 0.14346621930599213, 0.3491714596748352, 0.3227989971637726, 0.12363426387310028, 0.43914249539375305, 0.43673402070999146, 0.10955415666103363, 0.05855480581521988, 0.3960319757461548, 0.43569812178611755, 0.9960377812385559, 0.9982173442840576, 0.3729252815246582, 0.05097139626741409, 0.2895175516605377, 0.08248098939657211, 0.12399950623512268, 0.024095570668578148, 0.05319560319185257, 0.0005560516146942973, 0.002038855804130435, 0.9941261410713196, 0.9956052303314209, 0.987098753452301, 0.13662123680114746, 0.161688432097435, 0.1110546886920929, 0.14840580523014069, 0.3079969882965088, 0.014381182380020618, 0.06032107025384903, 0.05942224711179733, 0.9910463094711304, 0.015973731875419617, 0.9835255146026611, 0.9955148100852966, 0.9947455525398254, 0.030781546607613564, 0.9687134027481079, 0.9981303811073303, 0.9977287650108337, 0.1221541240811348, 0.5243020057678223, 0.110977903008461, 0.058822210878133774, 0.1837213784456253, 0.01897520199418068, 0.22266212105751038, 0.01571383886039257, 0.2478635609149933, 0.4948376715183258, 0.9965633749961853, 0.9903581738471985, 0.9946457743644714, 0.9950032830238342, 0.12329317629337311, 0.8738742470741272, 0.0023189939092844725, 0.9948872923851013, 0.004713387228548527, 0.9957656860351562, 0.984627366065979, 0.16812515258789062, 0.3578794002532959, 0.3095320463180542, 0.01690339483320713, 0.14776837825775146, 0.3874993324279785, 0.03389206901192665, 0.3259287178516388, 0.003389206947758794, 0.08981398493051529, 0.000564867805223912, 0.15872785449028015, 0.0127019127830863, 0.0014943426940590143, 0.9847718477249146, 0.9924256801605225, 0.19584143161773682, 0.12715810537338257, 0.36910149455070496, 0.09204057604074478, 0.060720644891262054, 0.07689104229211807, 4.083432941115461e-05, 0.06537576019763947, 0.008901883848011494, 0.003920095507055521, 0.2961200773715973, 0.7035404443740845, 0.024177776649594307, 0.9756243824958801, 0.9997234344482422, 0.9955295920372009, 0.9977020025253296, 0.7307350039482117, 0.10448117554187775, 0.1646370142698288, 0.9905009269714355, 0.9991860389709473, 0.16561323404312134, 0.1925588697195053, 0.5330823659896851, 0.04459423944354057, 0.014339489862322807, 0.0009454608662053943, 0.015442527830600739, 0.03340628370642662, 0.9937201142311096, 0.32425329089164734, 0.6757054924964905, 0.09721881151199341, 0.18660791218280792, 0.028382671996951103, 0.4723920524120331, 0.14354455471038818, 0.06818366050720215, 0.003262376179918647, 0.4142312705516815, 0.03184559568762779, 0.177595853805542, 0.05033273994922638, 0.015624618157744408, 0.2557189464569092, 0.0462774932384491, 0.008349032141268253, 0.9893507361412048, 0.9901954531669617, 0.9987616539001465, 0.9958752393722534, 0.11197300255298615, 0.12913015484809875, 0.10565194487571716, 0.009030081331729889, 0.2122069001197815, 0.43073487281799316, 0.09731268882751465, 0.0005897738737985492, 0.9017642736434937, 0.9980161190032959, 0.9936380386352539, 0.9988275170326233, 0.9883366823196411, 0.9982399940490723, 0.017693527042865753, 0.21674570441246033, 0.763770580291748, 4.1196526581188664e-05, 0.3190259039402008, 0.0009063236066140234, 0.09475201368331909, 0.06492573022842407, 0.5202709436416626, 4.1196526581188664e-05, 0.9951204061508179, 0.24232295155525208, 0.04264228045940399, 0.003280175384134054, 0.19845061004161835, 0.0041002193465828896, 0.5088372230529785, 0.21350280940532684, 0.297750860452652, 0.10814623534679413, 0.24158549308776855, 0.06155873462557793, 0.012553518638014793, 0.051050975918769836, 0.013483408838510513, 0.00027896708343178034, 0.9886283874511719, 0.154099702835083, 0.011305560357868671, 0.45615479350090027, 0.3168014883995056, 0.007373191881924868, 0.0004915461177006364, 0.0435018315911293, 0.010322468355298042, 0.9988386034965515, 0.9984209537506104], \"Term\": [\"able\", \"able\", \"able\", \"able\", \"able\", \"able\", \"absolutely\", \"absolutely\", \"absolutely\", \"absolutely\", \"absolutely\", \"absolutely\", \"access\", \"access\", \"access\", \"access\", \"accessory\", \"accessory\", \"accessory\", \"accessory\", \"accurate\", \"accurate\", \"act\", \"activate\", \"adapter\", \"adaptor\", \"add\", \"add\", \"add\", \"add\", \"advertise\", \"advertise\", \"advertise\", \"advice\", \"advise\", \"affordable\", \"affordable\", \"allow\", \"allow\", \"allow\", \"allow\", \"allow\", \"alright\", \"also\", \"also\", \"also\", \"also\", \"also\", \"also\", \"also\", \"also\", \"amazed\", \"amazing\", \"amazing\", \"amazing\", \"amazing\", \"amazing\", \"android\", \"android\", \"annoying\", \"annoying\", \"annoying\", \"antenna\", \"anti\", \"app\", \"app\", \"app\", \"app\", \"app\", \"apple\", \"apple\", \"apple\", \"apple\", \"apple\", \"arrive\", \"arrive\", \"arrive\", \"arrive\", \"aspect\", \"att\", \"attractive\", \"audio\", \"available\", \"available\", \"available\", \"awesome\", \"back\", \"back\", \"back\", \"back\", \"back\", \"bad\", \"bad\", \"bad\", \"bad\", \"bad\", \"bad\", \"band\", \"band\", \"bang_buck\", \"bar\", \"bar\", \"basic\", \"basic\", \"battery\", \"battery\", \"beautiful\", \"beautiful\", \"beautiful\", \"best\", \"best\", \"best\", \"bezel\", \"big\", \"big\", \"big\", \"big\", \"big\", \"big\", \"big\", \"big\", \"birthday\", \"bit\", \"bit\", \"bit\", \"bit\", \"bit\", \"bit\", \"bit\", \"bloatware\", \"blue\", \"bluetooth\", \"bonus\", \"box\", \"box\", \"box\", \"box\", \"brainer\", \"brand\", \"brand\", \"brand\", \"brand\", \"break\", \"break\", \"break\", \"break\", \"bricke\", \"bright\", \"brightness\", \"brother\", \"browser\", \"build\", \"build\", \"bunch\", \"burn\", \"burn\", \"button\", \"button\", \"button\", \"buy\", \"buy\", \"buy\", \"buy\", \"buy\", \"buy\", \"buy\", \"buy\", \"buy\", \"cable\", \"calibrate\", \"call\", \"call\", \"call\", \"camera\", \"camera\", \"camera\", \"camera\", \"camera\", \"camera\", \"capacity\", \"capacity\", \"capture\", \"car\", \"car\", \"car\", \"card\", \"carrier\", \"carrier\", \"carrier\", \"case\", \"case\", \"case\", \"case\", \"case\", \"caution\", \"cellphone\", \"cellphone\", \"certify\", \"charg\", \"charge\", \"charge\", \"charge\", \"charge\", \"charger\", \"charger\", \"charger\", \"charger\", \"charm\", \"chat\", \"cloud\", \"clue\", \"color\", \"color\", \"color\", \"come\", \"come\", \"come\", \"come\", \"come\", \"come\", \"come\", \"come\", \"comfort\", \"comfortably\", \"como\", \"compare\", \"compare\", \"comparison\", \"compatible\", \"competition\", \"competitor\", \"competitor\", \"complaint\", \"complaint\", \"complaint\", \"complaint\", \"complaint\", \"complaint\", \"complaint\", \"complaint\", \"condition\", \"condition\", \"connect\", \"connect\", \"connection\", \"connection\", \"connectivity\", \"constantly\", \"constantly\", \"contacted\", \"content\", \"convert\", \"convince\", \"cord\", \"cosmetic\", \"could\", \"could\", \"could\", \"could\", \"could\", \"could\", \"could\", \"country\", \"cousin\", \"cover\", \"cover\", \"cover\", \"cover\", \"cover\", \"cpu\", \"crack\", \"cracked\", \"create\", \"cricket\", \"crisp\", \"customer\", \"customer\", \"damage\", \"dark\", \"dark\", \"dark\", \"datum\", \"datum\", \"datum\", \"datum\", \"daughter\", \"daughter\", \"daughter\", \"day\", \"day\", \"day\", \"day\", \"day\", \"day\", \"dead\", \"dead\", \"dead\", \"decent\", \"decent\", \"decent\", \"decent\", \"decent\", \"deep\", \"default\", \"default\", \"default\", \"defect\", \"defective\", \"defective\", \"definitely\", \"definitely\", \"definitely\", \"definitely\", \"definitely\", \"deliver\", \"deliver\", \"deliver\", \"deliver\", \"deliver\", \"delivery\", \"dent\", \"describe\", \"describe\", \"deserve\", \"design\", \"design\", \"design\", \"design\", \"detect\", \"detection\", \"dice\", \"dimension\", \"dise\", \"display\", \"display\", \"display\", \"display\", \"display\", \"display\", \"documentation\", \"download\", \"download\", \"download\", \"download\", \"drain\", \"drop\", \"drop\", \"drop\", \"dual\", \"ear\", \"earbud\", \"earlier\", \"earphone\", \"earphone_jack\", \"easy\", \"easy\", \"easy\", \"easy\", \"easy\", \"edition\", \"editor\", \"elegant\", \"encant\", \"este\", \"european\", \"even\", \"even\", \"even\", \"even\", \"even\", \"even\", \"even\", \"ever\", \"ever\", \"ever\", \"ever\", \"ever\", \"ever\", \"ever\", \"ever\", \"ex\", \"exactly\", \"exactly\", \"exactly\", \"exactly\", \"exactly\", \"exactly\", \"exactly\", \"excelent\", \"excelente\", \"excellent\", \"excellent\", \"excellent\", \"exit\", \"expand\", \"expansion\", \"expect\", \"expect\", \"expect\", \"expect\", \"expect\", \"expect\", \"expect\", \"expect\", \"expect\", \"fair\", \"fake\", \"fantastic\", \"fantastic\", \"far\", \"far\", \"far\", \"far\", \"far\", \"far\", \"far\", \"far\", \"far\", \"fast\", \"fast\", \"fast\", \"fast\", \"feature\", \"feature\", \"feature\", \"feature\", \"feature\", \"feature\", \"feel\", \"feel\", \"feel\", \"feel\", \"feel\", \"feel\", \"filter\", \"find\", \"find\", \"find\", \"find\", \"find\", \"find\", \"fine\", \"fine\", \"fine\", \"fine\", \"fine\", \"fine\", \"fine\", \"firmware\", \"first\", \"first\", \"first\", \"first\", \"first\", \"first\", \"first\", \"fix\", \"fix\", \"fix\", \"fix\", \"flagship\", \"flawless\", \"flawless\", \"flawlessly\", \"flawlessly\", \"flawlessly\", \"flawlessly\", \"font\", \"free\", \"free\", \"free\", \"free\", \"free\", \"freeze\", \"freeze\", \"front_facing\", \"full\", \"full\", \"full\", \"full\", \"full\", \"full\", \"full\", \"gain\", \"galaxy\", \"game\", \"game\", \"gaming\", \"garbage\", \"general\", \"genial\", \"gesture\", \"get\", \"get\", \"get\", \"get\", \"get\", \"get\", \"get\", \"get\", \"get\", \"get\", \"gift\", \"gift\", \"girl\", \"glitche\", \"gmail\", \"go\", \"go\", \"go\", \"go\", \"go\", \"go\", \"go\", \"gold\", \"good\", \"good\", \"good\", \"good\", \"good\", \"google\", \"gorgeous\", \"gps\", \"gps\", \"graphic\", \"grate\", \"gray\", \"great\", \"great\", \"great\", \"great\", \"great\", \"great\", \"grey\", \"grip\", \"gripe\", \"gsm\", \"hand\", \"happier\", \"happy\", \"happy\", \"happy\", \"happy\", \"happy\", \"happy\", \"happy\", \"happy\", \"headphone\", \"headset\", \"health\", \"hear\", \"hear\", \"heart\", \"heavy\", \"heavy\", \"height\", \"help\", \"help\", \"help\", \"help\", \"help\", \"hide\", \"hide\", \"high\", \"high\", \"high\", \"high\", \"hold\", \"hold\", \"hold\", \"hold\", \"hold\", \"hold\", \"home\", \"home\", \"home\", \"home\", \"home\", \"hour\", \"hour\", \"hour\", \"hour\", \"huawei\", \"husband\", \"husband\", \"husband\", \"husband\", \"impeccable\", \"implement\", \"inch\", \"include\", \"include\", \"include\", \"include\", \"include\", \"include\", \"insert\", \"instantly\", \"instantly\", \"insurance\", \"interest\", \"international\", \"iphone\", \"iphone\", \"iphone\", \"iphone\", \"issue\", \"issue\", \"issue\", \"issue\", \"issue\", \"issue\", \"issue\", \"issue\", \"juice\", \"know\", \"know\", \"know\", \"know\", \"know\", \"know\", \"label\", \"lag\", \"laggy\", \"language\", \"laptop\", \"large\", \"large\", \"large\", \"last\", \"last\", \"last\", \"last\", \"lcd\", \"lens\", \"level\", \"level\", \"life\", \"life\", \"light\", \"light\", \"like\", \"like\", \"like\", \"like\", \"like\", \"like\", \"lil\", \"limit\", \"limit\", \"limit\", \"lock\", \"lock\", \"lock\", \"long\", \"long\", \"long\", \"long\", \"long\", \"long\", \"long_lasting\", \"look\", \"look\", \"look\", \"look\", \"look\", \"look\", \"look\", \"look\", \"loss\", \"lot\", \"lot\", \"lot\", \"lot\", \"lot\", \"lot\", \"lot\", \"lot\", \"louder\", \"love\", \"lovely\", \"loyal\", \"lte\", \"lumia\", \"magnificent\", \"make\", \"make\", \"make\", \"make\", \"make\", \"make\", \"malfunction\", \"management\", \"management\", \"manual\", \"manual\", \"many\", \"many\", \"many\", \"many\", \"many\", \"map\", \"mark\", \"massive\", \"max\", \"memory\", \"metropc\", \"microphone\", \"microsd\", \"microsd\", \"minimal\", \"miss\", \"miss\", \"miss\", \"miss\", \"miss\", \"miss\", \"miui\", \"mm\", \"mobile\", \"mobile\", \"mobile\", \"mobile\", \"mobile\", \"mobile\", \"mobile\", \"mom\", \"money\", \"money\", \"money\", \"money\", \"month\", \"month\", \"month\", \"month\", \"month\", \"month\", \"month\", \"moto\", \"moto\", \"movie\", \"much\", \"much\", \"much\", \"much\", \"much\", \"much\", \"much\", \"much\", \"much\", \"narrow\", \"natural\", \"navigation\", \"nearby\", \"need\", \"need\", \"need\", \"need\", \"need\", \"need\", \"need\", \"need\", \"need\", \"need\", \"network\", \"network\", \"never\", \"never\", \"never\", \"never\", \"never\", \"never\", \"new\", \"new\", \"new\", \"new\", \"new\", \"new\", \"new\", \"new\", \"nice\", \"nice\", \"nice\", \"nice\", \"nice\", \"nice\", \"nice\", \"nice\", \"nice\", \"night\", \"night\", \"night\", \"nokia\", \"nokia\", \"notch\", \"note\", \"note\", \"note\", \"note\", \"note\", \"noticed\", \"notification\", \"notification\", \"nuevo\", \"often\", \"often\", \"often\", \"old\", \"old\", \"old\", \"old\", \"old\", \"old\", \"old\", \"old\", \"old\", \"oled\", \"omg\", \"oneplus\", \"option\", \"option\", \"option\", \"option\", \"option\", \"order\", \"order\", \"order\", \"order\", \"order\", \"order\", \"order\", \"original\", \"original\", \"original\", \"outdoors\", \"outlet\", \"output\", \"overall\", \"overall\", \"overall\", \"overall\", \"overall\", \"overall\", \"overprice\", \"overseas\", \"overseas\", \"pair\", \"para\", \"pattern\", \"pc\", \"perfect\", \"perfect\", \"perfect\", \"perfect\", \"perfectly\", \"perfectly\", \"perfectly\", \"performance\", \"performance\", \"performance\", \"pero\", \"phenomenal\", \"photo\", \"photo\", \"photo\", \"picture\", \"picture\", \"picture\", \"picture\", \"picture\", \"picture\", \"picture\", \"pie\", \"play\", \"play\", \"play\", \"please\", \"please\", \"pleased\", \"pleased\", \"pleased\", \"pleased\", \"plug\", \"plug\", \"plug\", \"plug\", \"plug\", \"pocophone\", \"policy\", \"port\", \"port\", \"port\", \"port\", \"power\", \"power\", \"power\", \"power\", \"power\", \"power\", \"premium\", \"presentation\", \"press\", \"press\", \"pretty\", \"pretty\", \"pretty\", \"pretty\", \"pretty\", \"pretty\", \"pretty\", \"price\", \"price\", \"price\", \"price\", \"pro\", \"pro\", \"pro\", \"pro\", \"problem\", \"problem\", \"problem\", \"problem\", \"problem\", \"problem\", \"problem\", \"problem\", \"processor\", \"product\", \"product\", \"product\", \"productivity\", \"protection\", \"protective\", \"protector\", \"protector\", \"provider\", \"purchase\", \"purchase\", \"purchase\", \"purchase\", \"purchase\", \"purchase\", \"purchase\", \"purchasing\", \"put\", \"put\", \"put\", \"put\", \"put\", \"put\", \"quality\", \"quality\", \"quality\", \"quality\", \"quality\", \"quickly\", \"quickly\", \"quickly\", \"quickly\", \"quickly\", \"quickly\", \"quickly\", \"quickly\", \"quickly\", \"ratio\", \"really\", \"really\", \"really\", \"really\", \"really\", \"really\", \"really\", \"really\", \"really\", \"rear\", \"reccomend\", \"receive\", \"receive\", \"receive\", \"reception\", \"recharge\", \"recomendable\", \"recomende\", \"recommend\", \"recommend\", \"recommend\", \"recommend\", \"recommend\", \"recommend\", \"recommend\", \"recommend\", \"recommend\", \"recording\", \"redmi\", \"refund\", \"refund\", \"refurb\", \"refurbish\", \"region\", \"reliability\", \"renew\", \"renew\", \"repair\", \"repair\", \"replace\", \"replace\", \"replace\", \"replace\", \"replace\", \"replace\", \"replace\", \"replace\", \"replacement\", \"replacement\", \"replacement\", \"resolution\", \"restart\", \"restart\", \"restore\", \"retailer\", \"return\", \"return\", \"reviewer\", \"ring\", \"rock\", \"rotate\", \"round\", \"router\", \"run\", \"run\", \"run\", \"run\", \"run\", \"run\", \"run\", \"run\", \"satisfied\", \"satisfy\", \"satisfy\", \"satisfy\", \"say\", \"say\", \"say\", \"say\", \"say\", \"say\", \"say\", \"say\", \"say\", \"scam\", \"scan\", \"scratch\", \"scratch\", \"screen\", \"screen\", \"screen\", \"screen\", \"scuff\", \"sd\", \"seal\", \"seal\", \"see\", \"see\", \"see\", \"see\", \"see\", \"selfie\", \"seller\", \"seller\", \"seller\", \"send\", \"send\", \"sense\", \"sensor\", \"service\", \"service\", \"set\", \"set\", \"set\", \"set\", \"set\", \"set\", \"setting\", \"setting\", \"sharp\", \"shatter\", \"shift\", \"shipping\", \"shipping\", \"shipping\", \"shoot\", \"shoot\", \"short\", \"short\", \"short\", \"short\", \"short\", \"short\", \"side\", \"side\", \"side\", \"signal\", \"signal\", \"sim\", \"simple\", \"simple\", \"simple\", \"simple\", \"sin\", \"size\", \"size\", \"size\", \"size\", \"size\", \"skeptical\", \"skeptical\", \"skeptical\", \"slick\", \"slippery\", \"slot\", \"slow\", \"slow\", \"slow\", \"slow\", \"slow\", \"smart\", \"smart\", \"smart\", \"smartphone\", \"smartphone\", \"smartphone\", \"smh\", \"smoothly\", \"solid\", \"sometimes\", \"sometimes\", \"sometimes\", \"sometimes\", \"son\", \"son\", \"sound\", \"sound\", \"space\", \"space\", \"space\", \"spanish\", \"speaker\", \"speaker\", \"spec\", \"specially\", \"specification\", \"spill\", \"spotty\", \"sprint\", \"start\", \"start\", \"start\", \"start\", \"start\", \"start\", \"starter\", \"steady\", \"still\", \"still\", \"still\", \"still\", \"still\", \"still\", \"still\", \"storage\", \"storage\", \"store\", \"store\", \"store\", \"store\", \"straight_talk\", \"strength\", \"stunning\", \"suck\", \"suck\", \"suck\", \"super\", \"super\", \"super\", \"superb\", \"support\", \"support\", \"support\", \"support\", \"support\", \"table\", \"tablet\", \"take\", \"take\", \"take\", \"take\", \"take\", \"take\", \"take\", \"take\", \"tall\", \"tank\", \"tape\", \"target\", \"technician\", \"teenager\", \"telefono\", \"tell\", \"tell\", \"tell\", \"tell\", \"tell\", \"tengo\", \"terrible\", \"terrible\", \"terrible\", \"terrible\", \"text\", \"text\", \"text\", \"thank\", \"thank\", \"thank\", \"thank\", \"theme\", \"thin\", \"thing\", \"thing\", \"thing\", \"thing\", \"thing\", \"thing\", \"thing\", \"thing\", \"thing\", \"thinking\", \"tho\", \"tie\", \"time\", \"time\", \"time\", \"time\", \"time\", \"time\", \"time\", \"time\", \"title\", \"tmo\", \"tmo\", \"todo\", \"tower\", \"transfer\", \"transfer\", \"tray\", \"triple\", \"try\", \"try\", \"try\", \"try\", \"try\", \"turn\", \"turn\", \"turn\", \"turn\", \"turn\", \"unacceptable\", \"unbeatable\", \"unbelievable\", \"unbox\", \"unlock\", \"unlock\", \"unlock\", \"unlocked\", \"unlocked\", \"unlocking\", \"unplugged\", \"update\", \"update\", \"update\", \"update\", \"update\", \"upgrade\", \"upgrade\", \"upgrade\", \"upgrade\", \"upgrade\", \"upgrade\", \"upgrade\", \"usb\", \"usb\", \"usb\", \"usb_cable\", \"use\", \"use\", \"use\", \"use\", \"use\", \"use\", \"use\", \"use\", \"use\", \"use\", \"user\", \"user\", \"value\", \"value\", \"verizon\", \"vibrate\", \"vibration\", \"video\", \"video\", \"video\", \"vivid\", \"volume\", \"want\", \"want\", \"want\", \"want\", \"want\", \"want\", \"want\", \"want\", \"warm\", \"warranty\", \"warranty\", \"week\", \"week\", \"week\", \"week\", \"week\", \"week\", \"week\", \"well\", \"well\", \"well\", \"well\", \"well\", \"well\", \"well\", \"well\", \"wet\", \"wherever\", \"wide\", \"width\", \"wife\", \"wife\", \"wife\", \"wife\", \"wife\", \"wife\", \"wifi\", \"wifi\", \"wifi\", \"wifi_calling\", \"willing\", \"window\", \"winner\", \"wise\", \"wonderful\", \"wonderful\", \"wonderful\", \"work\", \"work\", \"work\", \"work\", \"work\", \"work\", \"work\", \"worse\", \"worth\", \"worth\", \"worth\", \"worth\", \"worth\", \"worth\", \"would\", \"would\", \"would\", \"would\", \"would\", \"would\", \"would\", \"would\", \"would\", \"xiaomi_redmi\", \"year\", \"year\", \"year\", \"year\", \"year\", \"year\", \"year\", \"year\", \"youtube\", \"zoom\"]}, \"R\": 30, \"lambda.step\": 0.01, \"plot.opts\": {\"xlab\": \"PC1\", \"ylab\": \"PC2\"}, \"topic.order\": [7, 2, 10, 5, 6, 1, 8, 4, 3, 9]};\n",
       "\n",
       "function LDAvis_load_lib(url, callback){\n",
       "  var s = document.createElement('script');\n",
       "  s.src = url;\n",
       "  s.async = true;\n",
       "  s.onreadystatechange = s.onload = callback;\n",
       "  s.onerror = function(){console.warn(\"failed to load library \" + url);};\n",
       "  document.getElementsByTagName(\"head\")[0].appendChild(s);\n",
       "}\n",
       "\n",
       "if(typeof(LDAvis) !== \"undefined\"){\n",
       "   // already loaded: just create the visualization\n",
       "   !function(LDAvis){\n",
       "       new LDAvis(\"#\" + \"ldavis_el54541404500804576807610517086\", ldavis_el54541404500804576807610517086_data);\n",
       "   }(LDAvis);\n",
       "}else if(typeof define === \"function\" && define.amd){\n",
       "   // require.js is available: use it to load d3/LDAvis\n",
       "   require.config({paths: {d3: \"https://cdnjs.cloudflare.com/ajax/libs/d3/3.5.5/d3.min\"}});\n",
       "   require([\"d3\"], function(d3){\n",
       "      window.d3 = d3;\n",
       "      LDAvis_load_lib(\"https://cdn.rawgit.com/bmabey/pyLDAvis/files/ldavis.v1.0.0.js\", function(){\n",
       "        new LDAvis(\"#\" + \"ldavis_el54541404500804576807610517086\", ldavis_el54541404500804576807610517086_data);\n",
       "      });\n",
       "    });\n",
       "}else{\n",
       "    // require.js not available: dynamically load d3 & LDAvis\n",
       "    LDAvis_load_lib(\"https://cdnjs.cloudflare.com/ajax/libs/d3/3.5.5/d3.min.js\", function(){\n",
       "         LDAvis_load_lib(\"https://cdn.rawgit.com/bmabey/pyLDAvis/files/ldavis.v1.0.0.js\", function(){\n",
       "                 new LDAvis(\"#\" + \"ldavis_el54541404500804576807610517086\", ldavis_el54541404500804576807610517086_data);\n",
       "            })\n",
       "         });\n",
       "}\n",
       "</script>"
      ],
      "text/plain": [
       "PreparedData(topic_coordinates=              x         y  topics  cluster       Freq\n",
       "topic                                                \n",
       "6     -0.061948  0.070512       1        1  24.055599\n",
       "1     -0.155900  0.090079       2        1  15.504079\n",
       "9     -0.155524 -0.005548       3        1  14.826883\n",
       "4     -0.089524  0.092591       4        1  12.141322\n",
       "5     -0.225237  0.055713       5        1   9.866711\n",
       "0      0.207015  0.098606       6        1   6.457133\n",
       "7      0.263879  0.123447       7        1   5.765333\n",
       "3     -0.028063 -0.013181       8        1   5.445486\n",
       "2     -0.036249 -0.406684       9        1   3.151929\n",
       "8      0.281549 -0.105535      10        1   2.785517, topic_info=        Term          Freq         Total Category  logprob  loglift\n",
       "45     great  26376.000000  26376.000000  Default  30.0000  30.0000\n",
       "44      good  24500.000000  24500.000000  Default  29.0000  29.0000\n",
       "8    battery  16821.000000  16821.000000  Default  28.0000  28.0000\n",
       "175     love  12366.000000  12366.000000  Default  27.0000  27.0000\n",
       "116     work  24273.000000  24273.000000  Default  26.0000  26.0000\n",
       "..       ...           ...           ...      ...      ...      ...\n",
       "434      far    399.351929   5070.044922  Topic10  -4.6510   1.0395\n",
       "485  upgrade    281.499390   1770.325684  Topic10  -5.0008   1.7419\n",
       "59       new    417.305298  10551.250977  Topic10  -4.6071   0.3506\n",
       "41       get    415.489594  17443.634766  Topic10  -4.6114  -0.1565\n",
       "172  feature    277.905273   6151.882324  Topic10  -5.0136   0.4835\n",
       "\n",
       "[687 rows x 6 columns], token_table=      Topic      Freq     Term\n",
       "term                          \n",
       "196       1  0.100265     able\n",
       "196       2  0.478884     able\n",
       "196       3  0.252292     able\n",
       "196       4  0.017013     able\n",
       "196       5  0.100265     able\n",
       "...     ...       ...      ...\n",
       "371       6  0.000492     year\n",
       "371       8  0.043502     year\n",
       "371      10  0.010322     year\n",
       "3227      3  0.998839  youtube\n",
       "2949      1  0.998421     zoom\n",
       "\n",
       "[1395 rows x 3 columns], R=30, lambda_step=0.01, plot_opts={'xlab': 'PC1', 'ylab': 'PC2'}, topic_order=[7, 2, 10, 5, 6, 1, 8, 4, 3, 9])"
      ]
     },
     "execution_count": 111,
     "metadata": {},
     "output_type": "execute_result"
    }
   ],
   "source": [
    "import pyLDAvis.gensim\n",
    "pyLDAvis.enable_notebook()\n",
    "vis = pyLDAvis.gensim.prepare(lda_model, corpus, dictionary=lda_model.id2word )\n",
    "vis"
   ]
  },
  {
   "cell_type": "code",
   "execution_count": 126,
   "metadata": {},
   "outputs": [],
   "source": [
    "#mallet_path = './data/mallet-2.0.8/bin/mallet' # update this path\n",
    "#ldamallet = gensim.models.wrappers.LdaMallet(mallet_path, corpus=corpus, num_topics=20, id2word=dct)"
   ]
  },
  {
   "cell_type": "code",
   "execution_count": 127,
   "metadata": {},
   "outputs": [],
   "source": [
    "def compute_coherence_values(dictionary, corpus, texts, limit, start=2, step=3):\n",
    "    \"\"\"\n",
    "    Compute c_v coherence for various number of topics\n",
    "\n",
    "    Parameters:\n",
    "    ----------\n",
    "    dictionary : Gensim dictionary\n",
    "    corpus : Gensim corpus\n",
    "    texts : List of input texts\n",
    "    limit : Max num of topics\n",
    "\n",
    "    Returns:\n",
    "    -------\n",
    "    model_list : List of LDA topic models\n",
    "    coherence_values : Coherence values corresponding to the LDA model with respective number of topics\n",
    "    \"\"\"\n",
    "    coherence_values = []\n",
    "    model_list = []\n",
    "    for num_topics in range(start, limit, step):\n",
    "        model=LdaMulticore(corpus=corpus, id2word=dct, num_topics=num_topics)\n",
    "        model_list.append(model)\n",
    "        coherencemodel = CoherenceModel(model=model, texts=texts, dictionary=dictionary, coherence='c_v')\n",
    "        coherence_values.append(coherencemodel.get_coherence())\n",
    "\n",
    "    return model_list, coherence_values"
   ]
  },
  {
   "cell_type": "code",
   "execution_count": null,
   "metadata": {},
   "outputs": [],
   "source": [
    "model_list, coherence_values = compute_coherence_values(dictionary=dct, corpus=corpus, texts=data_ready, start=2, limit=10, step=6)\n",
    "# Show graph\n",
    "import matplotlib.pyplot as plt\n",
    "limit=12; start=2; step=6;\n",
    "x = range(start, limit, step)\n",
    "plt.plot(x, coherence_values)\n",
    "plt.xlabel(\"Num Topics\")\n",
    "plt.ylabel(\"Coherence score\")\n",
    "plt.legend((\"coherence_values\"), loc='best')\n",
    "plt.show()"
   ]
  },
  {
   "cell_type": "code",
   "execution_count": null,
   "metadata": {},
   "outputs": [],
   "source": []
  }
 ],
 "metadata": {
  "kernelspec": {
   "display_name": "Python 3",
   "language": "python",
   "name": "python3"
  },
  "language_info": {
   "codemirror_mode": {
    "name": "ipython",
    "version": 3
   },
   "file_extension": ".py",
   "mimetype": "text/x-python",
   "name": "python",
   "nbconvert_exporter": "python",
   "pygments_lexer": "ipython3",
   "version": "3.7.6"
  }
 },
 "nbformat": 4,
 "nbformat_minor": 4
}
