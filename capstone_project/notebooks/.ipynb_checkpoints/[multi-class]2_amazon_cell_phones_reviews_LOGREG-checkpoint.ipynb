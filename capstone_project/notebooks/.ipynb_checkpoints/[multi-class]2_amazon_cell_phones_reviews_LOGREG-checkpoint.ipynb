{
 "cells": [
  {
   "cell_type": "markdown",
   "metadata": {},
   "source": [
    "Ideas:\n",
    "- Find out what people are looking for in a certain products by analysing the reviews (may improve search engine or helpful for marketing the products/bringing the right products)\n",
    "- Find out what people are saying about these products (especially the negative comments) to find out how to improve services or even the product itself\n",
    "- sellers rating\n",
    "\n",
    "By: sentiment analysis and topic modelling "
   ]
  },
  {
   "cell_type": "code",
   "execution_count": 7,
   "metadata": {},
   "outputs": [],
   "source": [
    "import pandas as pd \n",
    "import matplotlib.pyplot as plt\n",
    "import numpy as np\n",
    "import seaborn as sns\n",
    "\n",
    "plt.style.use('fivethirtyeight')\n",
    "%matplotlib inline\n",
    "\n",
    "#pd.set_option('display.max_colwidth',None)"
   ]
  },
  {
   "cell_type": "code",
   "execution_count": 8,
   "metadata": {},
   "outputs": [],
   "source": [
    "sellers = pd.read_csv('../data/sellers_information_selenium_all.csv')"
   ]
  },
  {
   "cell_type": "code",
   "execution_count": 9,
   "metadata": {},
   "outputs": [],
   "source": [
    "reviews = pd.read_csv('../data/amazon_cells_v2.csv')\n",
    "items = pd.read_csv('../data/amazon_items_v2.csv')"
   ]
  },
  {
   "cell_type": "code",
   "execution_count": 10,
   "metadata": {},
   "outputs": [
    {
     "data": {
      "text/plain": [
       "url          0\n",
       "sellers    214\n",
       "dtype: int64"
      ]
     },
     "execution_count": 10,
     "metadata": {},
     "output_type": "execute_result"
    }
   ],
   "source": [
    "sellers.isnull().sum()"
   ]
  },
  {
   "cell_type": "code",
   "execution_count": 11,
   "metadata": {},
   "outputs": [
    {
     "data": {
      "text/plain": [
       "163"
      ]
     },
     "execution_count": 11,
     "metadata": {},
     "output_type": "execute_result"
    }
   ],
   "source": [
    "len(sellers['sellers'].unique())"
   ]
  },
  {
   "cell_type": "code",
   "execution_count": 12,
   "metadata": {},
   "outputs": [
    {
     "data": {
      "text/plain": [
       "(720, 2)"
      ]
     },
     "execution_count": 12,
     "metadata": {},
     "output_type": "execute_result"
    }
   ],
   "source": [
    "sellers.shape"
   ]
  },
  {
   "cell_type": "code",
   "execution_count": 13,
   "metadata": {},
   "outputs": [
    {
     "data": {
      "text/html": [
       "<div>\n",
       "<style scoped>\n",
       "    .dataframe tbody tr th:only-of-type {\n",
       "        vertical-align: middle;\n",
       "    }\n",
       "\n",
       "    .dataframe tbody tr th {\n",
       "        vertical-align: top;\n",
       "    }\n",
       "\n",
       "    .dataframe thead th {\n",
       "        text-align: right;\n",
       "    }\n",
       "</style>\n",
       "<table border=\"1\" class=\"dataframe\">\n",
       "  <thead>\n",
       "    <tr style=\"text-align: right;\">\n",
       "      <th></th>\n",
       "      <th>url</th>\n",
       "      <th>sellers</th>\n",
       "    </tr>\n",
       "  </thead>\n",
       "  <tbody>\n",
       "    <tr>\n",
       "      <th>0</th>\n",
       "      <td>https://www.amazon.com/Dual-Band-Tri-Mode-Acti...</td>\n",
       "      <td>Flip n Smart Phones</td>\n",
       "    </tr>\n",
       "    <tr>\n",
       "      <th>1</th>\n",
       "      <td>https://www.amazon.com/Motorola-i265-I265-phon...</td>\n",
       "      <td>FOREVER ITEMS</td>\n",
       "    </tr>\n",
       "    <tr>\n",
       "      <th>2</th>\n",
       "      <td>https://www.amazon.com/MOTOROLA-C168i-CINGULAR...</td>\n",
       "      <td>DiscountGoods4U</td>\n",
       "    </tr>\n",
       "    <tr>\n",
       "      <th>3</th>\n",
       "      <td>https://www.amazon.com/Motorola-i335-Phone-Boo...</td>\n",
       "      <td>Deals on OEM</td>\n",
       "    </tr>\n",
       "    <tr>\n",
       "      <th>4</th>\n",
       "      <td>https://www.amazon.com/Motorola-V365-contract-...</td>\n",
       "      <td>Maverick Macs</td>\n",
       "    </tr>\n",
       "  </tbody>\n",
       "</table>\n",
       "</div>"
      ],
      "text/plain": [
       "                                                 url              sellers\n",
       "0  https://www.amazon.com/Dual-Band-Tri-Mode-Acti...  Flip n Smart Phones\n",
       "1  https://www.amazon.com/Motorola-i265-I265-phon...        FOREVER ITEMS\n",
       "2  https://www.amazon.com/MOTOROLA-C168i-CINGULAR...      DiscountGoods4U\n",
       "3  https://www.amazon.com/Motorola-i335-Phone-Boo...         Deals on OEM\n",
       "4  https://www.amazon.com/Motorola-V365-contract-...        Maverick Macs"
      ]
     },
     "execution_count": 13,
     "metadata": {},
     "output_type": "execute_result"
    }
   ],
   "source": [
    "sellers.head()"
   ]
  },
  {
   "cell_type": "code",
   "execution_count": 14,
   "metadata": {},
   "outputs": [
    {
     "data": {
      "text/plain": [
       "'https://www.amazon.com/Dual-Band-Tri-Mode-Activated-Dialing-Backlit/dp/B0000SX2UC'"
      ]
     },
     "execution_count": 14,
     "metadata": {},
     "output_type": "execute_result"
    }
   ],
   "source": [
    "sellers.loc[0,'url']"
   ]
  },
  {
   "cell_type": "code",
   "execution_count": 15,
   "metadata": {},
   "outputs": [
    {
     "data": {
      "text/plain": [
       "(67986, 8)"
      ]
     },
     "execution_count": 15,
     "metadata": {},
     "output_type": "execute_result"
    }
   ],
   "source": [
    "reviews.shape"
   ]
  },
  {
   "cell_type": "code",
   "execution_count": 16,
   "metadata": {},
   "outputs": [
    {
     "data": {
      "text/plain": [
       "(720, 10)"
      ]
     },
     "execution_count": 16,
     "metadata": {},
     "output_type": "execute_result"
    }
   ],
   "source": [
    "items.shape"
   ]
  },
  {
   "cell_type": "code",
   "execution_count": 17,
   "metadata": {},
   "outputs": [
    {
     "data": {
      "text/plain": [
       "Index(['asin', 'brand', 'title', 'url', 'image', 'rating', 'reviewUrl',\n",
       "       'totalReviews', 'price', 'originalPrice'],\n",
       "      dtype='object')"
      ]
     },
     "execution_count": 17,
     "metadata": {},
     "output_type": "execute_result"
    }
   ],
   "source": [
    "items.columns"
   ]
  },
  {
   "cell_type": "code",
   "execution_count": 18,
   "metadata": {},
   "outputs": [
    {
     "data": {
      "text/plain": [
       "Index(['asin', 'name', 'rating', 'date', 'verified', 'title', 'body',\n",
       "       'helpfulVotes'],\n",
       "      dtype='object')"
      ]
     },
     "execution_count": 18,
     "metadata": {},
     "output_type": "execute_result"
    }
   ],
   "source": [
    "reviews.columns"
   ]
  },
  {
   "cell_type": "code",
   "execution_count": 19,
   "metadata": {},
   "outputs": [
    {
     "data": {
      "text/plain": [
       "40771"
      ]
     },
     "execution_count": 19,
     "metadata": {},
     "output_type": "execute_result"
    }
   ],
   "source": [
    "reviews['helpfulVotes'].isnull().sum()"
   ]
  },
  {
   "cell_type": "code",
   "execution_count": 20,
   "metadata": {},
   "outputs": [],
   "source": [
    "new_items = pd.merge(items,sellers,on='url',how='left')"
   ]
  },
  {
   "cell_type": "code",
   "execution_count": 21,
   "metadata": {},
   "outputs": [],
   "source": [
    "#reviews.head(2)"
   ]
  },
  {
   "cell_type": "code",
   "execution_count": 22,
   "metadata": {},
   "outputs": [
    {
     "data": {
      "text/plain": [
       "(720, 11)"
      ]
     },
     "execution_count": 22,
     "metadata": {},
     "output_type": "execute_result"
    }
   ],
   "source": [
    "new_items.shape"
   ]
  },
  {
   "cell_type": "code",
   "execution_count": 23,
   "metadata": {},
   "outputs": [],
   "source": [
    "new_items.rename(columns={'title':'item_title'},inplace=True)\n",
    "reviews.rename(columns={'title':'review_title'},inplace=True)"
   ]
  },
  {
   "cell_type": "code",
   "execution_count": 24,
   "metadata": {},
   "outputs": [
    {
     "data": {
      "text/plain": [
       "(720, 10)"
      ]
     },
     "execution_count": 24,
     "metadata": {},
     "output_type": "execute_result"
    }
   ],
   "source": [
    "new_items.drop('rating',axis=1,inplace=True)\n",
    "items.shape"
   ]
  },
  {
   "cell_type": "code",
   "execution_count": 25,
   "metadata": {},
   "outputs": [
    {
     "data": {
      "text/plain": [
       "39"
      ]
     },
     "execution_count": 25,
     "metadata": {},
     "output_type": "execute_result"
    }
   ],
   "source": [
    "reviews.duplicated(subset=['name','asin','date','review_title','body']).sum()"
   ]
  },
  {
   "cell_type": "code",
   "execution_count": 26,
   "metadata": {},
   "outputs": [
    {
     "data": {
      "text/plain": [
       "(67947, 8)"
      ]
     },
     "execution_count": 26,
     "metadata": {},
     "output_type": "execute_result"
    }
   ],
   "source": [
    "reviews.drop_duplicates(subset=['name','asin','date','review_title','body'],keep='first',inplace=True)\n",
    "reviews.shape"
   ]
  },
  {
   "cell_type": "code",
   "execution_count": 27,
   "metadata": {},
   "outputs": [],
   "source": [
    "new_reviews = pd.merge(reviews,new_items,on='asin',how='left')"
   ]
  },
  {
   "cell_type": "code",
   "execution_count": 28,
   "metadata": {},
   "outputs": [
    {
     "data": {
      "text/html": [
       "<div>\n",
       "<style scoped>\n",
       "    .dataframe tbody tr th:only-of-type {\n",
       "        vertical-align: middle;\n",
       "    }\n",
       "\n",
       "    .dataframe tbody tr th {\n",
       "        vertical-align: top;\n",
       "    }\n",
       "\n",
       "    .dataframe thead th {\n",
       "        text-align: right;\n",
       "    }\n",
       "</style>\n",
       "<table border=\"1\" class=\"dataframe\">\n",
       "  <thead>\n",
       "    <tr style=\"text-align: right;\">\n",
       "      <th></th>\n",
       "      <th>asin</th>\n",
       "      <th>brand</th>\n",
       "      <th>item_title</th>\n",
       "      <th>url</th>\n",
       "      <th>image</th>\n",
       "      <th>reviewUrl</th>\n",
       "      <th>totalReviews</th>\n",
       "      <th>price</th>\n",
       "      <th>originalPrice</th>\n",
       "      <th>sellers</th>\n",
       "    </tr>\n",
       "  </thead>\n",
       "  <tbody>\n",
       "    <tr>\n",
       "      <th>0</th>\n",
       "      <td>B0000SX2UC</td>\n",
       "      <td>NaN</td>\n",
       "      <td>Dual-Band / Tri-Mode Sprint PCS Phone w/ Voice...</td>\n",
       "      <td>https://www.amazon.com/Dual-Band-Tri-Mode-Acti...</td>\n",
       "      <td>https://m.media-amazon.com/images/I/2143EBQ210...</td>\n",
       "      <td>https://www.amazon.com/product-reviews/B0000SX2UC</td>\n",
       "      <td>14</td>\n",
       "      <td>0.00</td>\n",
       "      <td>0.0</td>\n",
       "      <td>Flip n Smart Phones</td>\n",
       "    </tr>\n",
       "    <tr>\n",
       "      <th>1</th>\n",
       "      <td>B0009N5L7K</td>\n",
       "      <td>Motorola</td>\n",
       "      <td>Motorola I265 phone</td>\n",
       "      <td>https://www.amazon.com/Motorola-i265-I265-phon...</td>\n",
       "      <td>https://m.media-amazon.com/images/I/419WBAVDAR...</td>\n",
       "      <td>https://www.amazon.com/product-reviews/B0009N5L7K</td>\n",
       "      <td>7</td>\n",
       "      <td>49.95</td>\n",
       "      <td>0.0</td>\n",
       "      <td>FOREVER ITEMS</td>\n",
       "    </tr>\n",
       "  </tbody>\n",
       "</table>\n",
       "</div>"
      ],
      "text/plain": [
       "         asin     brand                                         item_title  \\\n",
       "0  B0000SX2UC       NaN  Dual-Band / Tri-Mode Sprint PCS Phone w/ Voice...   \n",
       "1  B0009N5L7K  Motorola                                Motorola I265 phone   \n",
       "\n",
       "                                                 url  \\\n",
       "0  https://www.amazon.com/Dual-Band-Tri-Mode-Acti...   \n",
       "1  https://www.amazon.com/Motorola-i265-I265-phon...   \n",
       "\n",
       "                                               image  \\\n",
       "0  https://m.media-amazon.com/images/I/2143EBQ210...   \n",
       "1  https://m.media-amazon.com/images/I/419WBAVDAR...   \n",
       "\n",
       "                                           reviewUrl  totalReviews  price  \\\n",
       "0  https://www.amazon.com/product-reviews/B0000SX2UC            14   0.00   \n",
       "1  https://www.amazon.com/product-reviews/B0009N5L7K             7  49.95   \n",
       "\n",
       "   originalPrice              sellers  \n",
       "0            0.0  Flip n Smart Phones  \n",
       "1            0.0        FOREVER ITEMS  "
      ]
     },
     "execution_count": 28,
     "metadata": {},
     "output_type": "execute_result"
    }
   ],
   "source": [
    "new_items.head(2)"
   ]
  },
  {
   "cell_type": "code",
   "execution_count": 29,
   "metadata": {},
   "outputs": [
    {
     "data": {
      "text/html": [
       "<div>\n",
       "<style scoped>\n",
       "    .dataframe tbody tr th:only-of-type {\n",
       "        vertical-align: middle;\n",
       "    }\n",
       "\n",
       "    .dataframe tbody tr th {\n",
       "        vertical-align: top;\n",
       "    }\n",
       "\n",
       "    .dataframe thead th {\n",
       "        text-align: right;\n",
       "    }\n",
       "</style>\n",
       "<table border=\"1\" class=\"dataframe\">\n",
       "  <thead>\n",
       "    <tr style=\"text-align: right;\">\n",
       "      <th></th>\n",
       "      <th>asin</th>\n",
       "      <th>brand</th>\n",
       "      <th>item_title</th>\n",
       "      <th>url</th>\n",
       "      <th>image</th>\n",
       "      <th>reviewUrl</th>\n",
       "      <th>totalReviews</th>\n",
       "      <th>price</th>\n",
       "      <th>originalPrice</th>\n",
       "      <th>sellers</th>\n",
       "    </tr>\n",
       "  </thead>\n",
       "  <tbody>\n",
       "    <tr>\n",
       "      <th>92</th>\n",
       "      <td>B00V8STWY8</td>\n",
       "      <td>Apple</td>\n",
       "      <td>Apple iPad Air MF529LL/A (32GB, Wi-Fi + at&amp;T, ...</td>\n",
       "      <td>https://www.amazon.com/Apple-MF529LL-Wi-Fi-Sil...</td>\n",
       "      <td>https://m.media-amazon.com/images/I/61ckVdsUlZ...</td>\n",
       "      <td>https://www.amazon.com/product-reviews/B00V8STWY8</td>\n",
       "      <td>6</td>\n",
       "      <td>219.95</td>\n",
       "      <td>0.00</td>\n",
       "      <td>NaN</td>\n",
       "    </tr>\n",
       "    <tr>\n",
       "      <th>94</th>\n",
       "      <td>B00VQQ294C</td>\n",
       "      <td>Apple</td>\n",
       "      <td>Apple iPod Touch 16GB (5th Generation) - Space...</td>\n",
       "      <td>https://www.amazon.com/Apple-iPod-Touch-16GB-G...</td>\n",
       "      <td>https://m.media-amazon.com/images/I/41iauuPg5I...</td>\n",
       "      <td>https://www.amazon.com/product-reviews/B00VQQ294C</td>\n",
       "      <td>60</td>\n",
       "      <td>0.00</td>\n",
       "      <td>0.00</td>\n",
       "      <td>NaN</td>\n",
       "    </tr>\n",
       "    <tr>\n",
       "      <th>119</th>\n",
       "      <td>B01AUOS8BI</td>\n",
       "      <td>Apple</td>\n",
       "      <td>Apple iPhone 6S Plus, 128GB, Rose Gold - For A...</td>\n",
       "      <td>https://www.amazon.com/Apple-iPhone-Plus-Unloc...</td>\n",
       "      <td>https://m.media-amazon.com/images/I/71371Brehx...</td>\n",
       "      <td>https://www.amazon.com/product-reviews/B01AUOS8BI</td>\n",
       "      <td>7</td>\n",
       "      <td>239.98</td>\n",
       "      <td>0.00</td>\n",
       "      <td>NaN</td>\n",
       "    </tr>\n",
       "    <tr>\n",
       "      <th>129</th>\n",
       "      <td>B01CR1FQMG</td>\n",
       "      <td>Apple</td>\n",
       "      <td>Apple iPhone 6S, 64GB, Rose Gold - For AT&amp;T / ...</td>\n",
       "      <td>https://www.amazon.com/Apple-iPhone-6S-Unlocke...</td>\n",
       "      <td>https://m.media-amazon.com/images/I/412jWjEIzK...</td>\n",
       "      <td>https://www.amazon.com/product-reviews/B01CR1FQMG</td>\n",
       "      <td>1</td>\n",
       "      <td>160.08</td>\n",
       "      <td>659.99</td>\n",
       "      <td>Hybrid IT</td>\n",
       "    </tr>\n",
       "    <tr>\n",
       "      <th>152</th>\n",
       "      <td>B01GXAT0CE</td>\n",
       "      <td>Apple</td>\n",
       "      <td>Apple iPhone SE, 16GB, Rose Gold - For AT&amp;T / ...</td>\n",
       "      <td>https://www.amazon.com/Apple-iPhone-Unlocked-P...</td>\n",
       "      <td>https://m.media-amazon.com/images/I/6165FLUs1+...</td>\n",
       "      <td>https://www.amazon.com/product-reviews/B01GXAT0CE</td>\n",
       "      <td>2</td>\n",
       "      <td>133.55</td>\n",
       "      <td>0.00</td>\n",
       "      <td>Networkstore</td>\n",
       "    </tr>\n",
       "    <tr>\n",
       "      <th>...</th>\n",
       "      <td>...</td>\n",
       "      <td>...</td>\n",
       "      <td>...</td>\n",
       "      <td>...</td>\n",
       "      <td>...</td>\n",
       "      <td>...</td>\n",
       "      <td>...</td>\n",
       "      <td>...</td>\n",
       "      <td>...</td>\n",
       "      <td>...</td>\n",
       "    </tr>\n",
       "    <tr>\n",
       "      <th>608</th>\n",
       "      <td>B07RT1X4FJ</td>\n",
       "      <td>Apple</td>\n",
       "      <td>Apple iPhone XS, 256GB, Gray - For AT&amp;T (Renewed)</td>\n",
       "      <td>https://www.amazon.com/Apple-iPhone-XS-256GB-G...</td>\n",
       "      <td>https://m.media-amazon.com/images/I/61xa10dafv...</td>\n",
       "      <td>https://www.amazon.com/product-reviews/B07RT1X4FJ</td>\n",
       "      <td>198</td>\n",
       "      <td>573.77</td>\n",
       "      <td>0.00</td>\n",
       "      <td>JemJem</td>\n",
       "    </tr>\n",
       "    <tr>\n",
       "      <th>629</th>\n",
       "      <td>B07SVPKTYK</td>\n",
       "      <td>Apple</td>\n",
       "      <td>Verizon Prepaid - Apple iPhone 6S (32GB) - Spa...</td>\n",
       "      <td>https://www.amazon.com/Verizon-Prepaid-Apple-i...</td>\n",
       "      <td>https://m.media-amazon.com/images/I/61ty1FGnI4...</td>\n",
       "      <td>https://www.amazon.com/product-reviews/B07SVPKTYK</td>\n",
       "      <td>4</td>\n",
       "      <td>211.63</td>\n",
       "      <td>249.99</td>\n",
       "      <td>NaN</td>\n",
       "    </tr>\n",
       "    <tr>\n",
       "      <th>714</th>\n",
       "      <td>B07ZPKBL9V</td>\n",
       "      <td>Apple</td>\n",
       "      <td>Apple iPhone 11, 64GB, Unlocked - Red (Renewed)</td>\n",
       "      <td>https://www.amazon.com/Apple-iPhone-11-64GB-Un...</td>\n",
       "      <td>https://m.media-amazon.com/images/I/41B2g2wqYS...</td>\n",
       "      <td>https://www.amazon.com/product-reviews/B07ZPKBL9V</td>\n",
       "      <td>1</td>\n",
       "      <td>659.99</td>\n",
       "      <td>0.00</td>\n",
       "      <td>REXI</td>\n",
       "    </tr>\n",
       "    <tr>\n",
       "      <th>715</th>\n",
       "      <td>B07ZPKZSSC</td>\n",
       "      <td>Apple</td>\n",
       "      <td>Apple iPhone 11 Pro, 64GB, Fully Unlocked - Sp...</td>\n",
       "      <td>https://www.amazon.com/Apple-iPhone-64GB-Fully...</td>\n",
       "      <td>https://m.media-amazon.com/images/I/41wDuEW9iZ...</td>\n",
       "      <td>https://www.amazon.com/product-reviews/B07ZPKZSSC</td>\n",
       "      <td>1</td>\n",
       "      <td>949.00</td>\n",
       "      <td>0.00</td>\n",
       "      <td>REXI</td>\n",
       "    </tr>\n",
       "    <tr>\n",
       "      <th>718</th>\n",
       "      <td>B081TJFVCJ</td>\n",
       "      <td>Apple</td>\n",
       "      <td>Apple iPhone X, 64GB, Gray - Fully Unlocked (R...</td>\n",
       "      <td>https://www.amazon.com/Apple-iPhone-64GB-Gray-...</td>\n",
       "      <td>https://m.media-amazon.com/images/I/71yMgOenT5...</td>\n",
       "      <td>https://www.amazon.com/product-reviews/B081TJFVCJ</td>\n",
       "      <td>1</td>\n",
       "      <td>478.97</td>\n",
       "      <td>0.00</td>\n",
       "      <td>NaN</td>\n",
       "    </tr>\n",
       "  </tbody>\n",
       "</table>\n",
       "<p>63 rows × 10 columns</p>\n",
       "</div>"
      ],
      "text/plain": [
       "           asin  brand                                         item_title  \\\n",
       "92   B00V8STWY8  Apple  Apple iPad Air MF529LL/A (32GB, Wi-Fi + at&T, ...   \n",
       "94   B00VQQ294C  Apple  Apple iPod Touch 16GB (5th Generation) - Space...   \n",
       "119  B01AUOS8BI  Apple  Apple iPhone 6S Plus, 128GB, Rose Gold - For A...   \n",
       "129  B01CR1FQMG  Apple  Apple iPhone 6S, 64GB, Rose Gold - For AT&T / ...   \n",
       "152  B01GXAT0CE  Apple  Apple iPhone SE, 16GB, Rose Gold - For AT&T / ...   \n",
       "..          ...    ...                                                ...   \n",
       "608  B07RT1X4FJ  Apple  Apple iPhone XS, 256GB, Gray - For AT&T (Renewed)   \n",
       "629  B07SVPKTYK  Apple  Verizon Prepaid - Apple iPhone 6S (32GB) - Spa...   \n",
       "714  B07ZPKBL9V  Apple    Apple iPhone 11, 64GB, Unlocked - Red (Renewed)   \n",
       "715  B07ZPKZSSC  Apple  Apple iPhone 11 Pro, 64GB, Fully Unlocked - Sp...   \n",
       "718  B081TJFVCJ  Apple  Apple iPhone X, 64GB, Gray - Fully Unlocked (R...   \n",
       "\n",
       "                                                   url  \\\n",
       "92   https://www.amazon.com/Apple-MF529LL-Wi-Fi-Sil...   \n",
       "94   https://www.amazon.com/Apple-iPod-Touch-16GB-G...   \n",
       "119  https://www.amazon.com/Apple-iPhone-Plus-Unloc...   \n",
       "129  https://www.amazon.com/Apple-iPhone-6S-Unlocke...   \n",
       "152  https://www.amazon.com/Apple-iPhone-Unlocked-P...   \n",
       "..                                                 ...   \n",
       "608  https://www.amazon.com/Apple-iPhone-XS-256GB-G...   \n",
       "629  https://www.amazon.com/Verizon-Prepaid-Apple-i...   \n",
       "714  https://www.amazon.com/Apple-iPhone-11-64GB-Un...   \n",
       "715  https://www.amazon.com/Apple-iPhone-64GB-Fully...   \n",
       "718  https://www.amazon.com/Apple-iPhone-64GB-Gray-...   \n",
       "\n",
       "                                                 image  \\\n",
       "92   https://m.media-amazon.com/images/I/61ckVdsUlZ...   \n",
       "94   https://m.media-amazon.com/images/I/41iauuPg5I...   \n",
       "119  https://m.media-amazon.com/images/I/71371Brehx...   \n",
       "129  https://m.media-amazon.com/images/I/412jWjEIzK...   \n",
       "152  https://m.media-amazon.com/images/I/6165FLUs1+...   \n",
       "..                                                 ...   \n",
       "608  https://m.media-amazon.com/images/I/61xa10dafv...   \n",
       "629  https://m.media-amazon.com/images/I/61ty1FGnI4...   \n",
       "714  https://m.media-amazon.com/images/I/41B2g2wqYS...   \n",
       "715  https://m.media-amazon.com/images/I/41wDuEW9iZ...   \n",
       "718  https://m.media-amazon.com/images/I/71yMgOenT5...   \n",
       "\n",
       "                                             reviewUrl  totalReviews   price  \\\n",
       "92   https://www.amazon.com/product-reviews/B00V8STWY8             6  219.95   \n",
       "94   https://www.amazon.com/product-reviews/B00VQQ294C            60    0.00   \n",
       "119  https://www.amazon.com/product-reviews/B01AUOS8BI             7  239.98   \n",
       "129  https://www.amazon.com/product-reviews/B01CR1FQMG             1  160.08   \n",
       "152  https://www.amazon.com/product-reviews/B01GXAT0CE             2  133.55   \n",
       "..                                                 ...           ...     ...   \n",
       "608  https://www.amazon.com/product-reviews/B07RT1X4FJ           198  573.77   \n",
       "629  https://www.amazon.com/product-reviews/B07SVPKTYK             4  211.63   \n",
       "714  https://www.amazon.com/product-reviews/B07ZPKBL9V             1  659.99   \n",
       "715  https://www.amazon.com/product-reviews/B07ZPKZSSC             1  949.00   \n",
       "718  https://www.amazon.com/product-reviews/B081TJFVCJ             1  478.97   \n",
       "\n",
       "     originalPrice       sellers  \n",
       "92            0.00           NaN  \n",
       "94            0.00           NaN  \n",
       "119           0.00           NaN  \n",
       "129         659.99     Hybrid IT  \n",
       "152           0.00  Networkstore  \n",
       "..             ...           ...  \n",
       "608           0.00        JemJem  \n",
       "629         249.99           NaN  \n",
       "714           0.00          REXI  \n",
       "715           0.00          REXI  \n",
       "718           0.00           NaN  \n",
       "\n",
       "[63 rows x 10 columns]"
      ]
     },
     "execution_count": 29,
     "metadata": {},
     "output_type": "execute_result"
    }
   ],
   "source": [
    "new_items[new_items['brand'] == 'Apple']"
   ]
  },
  {
   "cell_type": "code",
   "execution_count": 30,
   "metadata": {},
   "outputs": [
    {
     "name": "stdout",
     "output_type": "stream",
     "text": [
      "(67947, 17)\n"
     ]
    }
   ],
   "source": [
    "print(new_reviews.shape)\n",
    "#new_reviews.head(2)"
   ]
  },
  {
   "cell_type": "code",
   "execution_count": 31,
   "metadata": {},
   "outputs": [
    {
     "data": {
      "text/plain": [
       "asin                 0\n",
       "name                 2\n",
       "rating               0\n",
       "date                 0\n",
       "verified             0\n",
       "review_title        14\n",
       "body                21\n",
       "helpfulVotes     40761\n",
       "brand              200\n",
       "item_title           0\n",
       "url                  0\n",
       "image                0\n",
       "reviewUrl            0\n",
       "totalReviews         0\n",
       "price                0\n",
       "originalPrice        0\n",
       "sellers          19423\n",
       "dtype: int64"
      ]
     },
     "execution_count": 31,
     "metadata": {},
     "output_type": "execute_result"
    }
   ],
   "source": [
    "new_reviews.isnull().sum()"
   ]
  },
  {
   "cell_type": "code",
   "execution_count": 32,
   "metadata": {},
   "outputs": [
    {
     "data": {
      "text/plain": [
       "48524"
      ]
     },
     "execution_count": 32,
     "metadata": {},
     "output_type": "execute_result"
    }
   ],
   "source": [
    "67947-19423"
   ]
  },
  {
   "cell_type": "code",
   "execution_count": 33,
   "metadata": {},
   "outputs": [
    {
     "data": {
      "text/plain": [
       "Edge Cellular                4942\n",
       "Maverick Macs                2366\n",
       "Battcell                     1894\n",
       "Cell Universal               1876\n",
       "MegaElectron.                1800\n",
       "                             ... \n",
       "Fabulous Finds of the PNW       1\n",
       "KICKmobiles®                    1\n",
       "cellulartech                    1\n",
       "Seller1ON1                      1\n",
       "RoamtheWorld                    1\n",
       "Name: sellers, Length: 162, dtype: int64"
      ]
     },
     "execution_count": 33,
     "metadata": {},
     "output_type": "execute_result"
    }
   ],
   "source": [
    "new_reviews['sellers'].value_counts()"
   ]
  },
  {
   "cell_type": "code",
   "execution_count": 34,
   "metadata": {},
   "outputs": [
    {
     "data": {
      "text/plain": [
       "720"
      ]
     },
     "execution_count": 34,
     "metadata": {},
     "output_type": "execute_result"
    }
   ],
   "source": [
    "len(reviews['asin'].unique())"
   ]
  },
  {
   "cell_type": "code",
   "execution_count": 35,
   "metadata": {},
   "outputs": [
    {
     "data": {
      "text/plain": [
       "720"
      ]
     },
     "execution_count": 35,
     "metadata": {},
     "output_type": "execute_result"
    }
   ],
   "source": [
    "len(items['asin'].unique())"
   ]
  },
  {
   "cell_type": "code",
   "execution_count": 36,
   "metadata": {},
   "outputs": [
    {
     "data": {
      "text/plain": [
       "\"I had the Samsung A600 for awhile which is absolute doo doo. You can read my review on it and detect my rage at the stupid thing. It finally died on me so I used this Nokia phone I bought in a garage sale for $1. I wonder y she sold it so cheap?... Bad: ===> I hate the menu. It takes forever to get to what you want because you have to scroll endlessly. Usually phones have numbered categories so u can simply press the # and get where you want to go. ===> It's a pain to put it on silent or vibrate. If you're in class and it rings, you have to turn it off immediately. There's no fast way to silence the damn thing. Always remember to put it on silent! I learned that the hard way. ===> It's so true about the case. It's a mission to get off and will break ur nails in the process. Also, you'll damage the case each time u try. For some reason the phone started giving me problems once I did succeed in opening it. ===> Buttons could be a bit bigger. Vibration could be stronger. Good: ===> Reception is not too shabby. I was using it in the elevator which is a remarkable feat considering my old phone would lose service by simply putting it in my pocket. ===> Compared to my old Samsung, this phone works quite well. The ring tones are loud enough to hear and the phone actually charges quickly and has great battery life. It doesn't heat up like a potatoe in the oven either during long phone convos. ===> Nice bright, large screen. ===> Cute ways to customize it. Scroll bar can be set to purple, pink, aqua, orange, etc. Overall: Okay phone. It serves its purpose but definitely pales in comparison to these new phones coming out from Sprint. Why get so so when you can get great?\""
      ]
     },
     "execution_count": 36,
     "metadata": {},
     "output_type": "execute_result"
    }
   ],
   "source": [
    "reviews.loc[0,'body']"
   ]
  },
  {
   "cell_type": "code",
   "execution_count": 37,
   "metadata": {},
   "outputs": [],
   "source": [
    "date_columns = pd.to_datetime(new_reviews['date'])"
   ]
  },
  {
   "cell_type": "code",
   "execution_count": 38,
   "metadata": {},
   "outputs": [
    {
     "data": {
      "text/plain": [
       "2019    29688\n",
       "2018    13732\n",
       "2017     8181\n",
       "2016     5508\n",
       "2015     4439\n",
       "2014     3314\n",
       "2013     2144\n",
       "2012      721\n",
       "2011      102\n",
       "2010       54\n",
       "2009       36\n",
       "2004        9\n",
       "2008        6\n",
       "2007        5\n",
       "2005        4\n",
       "2006        2\n",
       "2003        2\n",
       "Name: date, dtype: int64"
      ]
     },
     "execution_count": 38,
     "metadata": {},
     "output_type": "execute_result"
    }
   ],
   "source": [
    "date_columns.dt.year.value_counts()"
   ]
  },
  {
   "cell_type": "code",
   "execution_count": 39,
   "metadata": {},
   "outputs": [
    {
     "data": {
      "text/plain": [
       "Timestamp('2003-11-24 00:00:00')"
      ]
     },
     "execution_count": 39,
     "metadata": {},
     "output_type": "execute_result"
    }
   ],
   "source": [
    "date_columns.min()"
   ]
  },
  {
   "cell_type": "code",
   "execution_count": 40,
   "metadata": {},
   "outputs": [
    {
     "data": {
      "text/plain": [
       "Timestamp('2019-12-25 00:00:00')"
      ]
     },
     "execution_count": 40,
     "metadata": {},
     "output_type": "execute_result"
    }
   ],
   "source": [
    "date_columns.max()"
   ]
  },
  {
   "cell_type": "markdown",
   "metadata": {},
   "source": [
    "## EDA"
   ]
  },
  {
   "cell_type": "code",
   "execution_count": 41,
   "metadata": {},
   "outputs": [
    {
     "data": {
      "text/plain": [
       "brand\n",
       "ASUS          5\n",
       "OnePlus      10\n",
       "Sony         27\n",
       "HUAWEI       32\n",
       "Google       38\n",
       "Nokia        44\n",
       "Xiaomi       46\n",
       "Apple        63\n",
       "Motorola    105\n",
       "Samsung     346\n",
       "Name: asin, dtype: int64"
      ]
     },
     "execution_count": 41,
     "metadata": {},
     "output_type": "execute_result"
    }
   ],
   "source": [
    "items.groupby('brand')['asin'].count().sort_values()"
   ]
  },
  {
   "cell_type": "code",
   "execution_count": 42,
   "metadata": {},
   "outputs": [
    {
     "data": {
      "image/png": "[encoded data removed]",
      "text/plain": [
       "<Figure size 576x720 with 12 Axes>"
      ]
     },
     "metadata": {
      "needs_background": "light"
     },
     "output_type": "display_data"
    }
   ],
   "source": [
    "new_reviews.hist(column='helpfulVotes', by='brand',figsize=(8,10),range=(0,20));"
   ]
  },
  {
   "cell_type": "code",
   "execution_count": 43,
   "metadata": {},
   "outputs": [
    {
     "data": {
      "text/plain": [
       "8.220959317295668"
      ]
     },
     "execution_count": 43,
     "metadata": {},
     "output_type": "execute_result"
    }
   ],
   "source": [
    "np.mean(reviews['helpfulVotes'])"
   ]
  },
  {
   "cell_type": "code",
   "execution_count": 44,
   "metadata": {},
   "outputs": [
    {
     "data": {
      "image/png": "[encoded data removed]",
      "text/plain": [
       "<Figure size 720x432 with 1 Axes>"
      ]
     },
     "metadata": {
      "needs_background": "light"
     },
     "output_type": "display_data"
    },
    {
     "data": {
      "image/png": "[encoded data removed]",
      "text/plain": [
       "<Figure size 432x288 with 1 Axes>"
      ]
     },
     "metadata": {
      "needs_background": "light"
     },
     "output_type": "display_data"
    }
   ],
   "source": [
    "plt.figure(figsize=(10,6))\n",
    "\n",
    "reviews['helpfulVotes'].plot.hist(label='Helpful Votes',range=(0,40),bins=30)\n",
    "plt.show()\n",
    "\n",
    "#set the mean line\n",
    "plt.vlines(np.mean(reviews['helpfulVotes']), ymin = 0, ymax = 12000,\n",
    "           color='blue', label = 'mean value(votes)',linestyle= '--', lw=1)\n",
    "\n",
    "plt.legend()\n",
    "plt.show()"
   ]
  },
  {
   "cell_type": "code",
   "execution_count": 45,
   "metadata": {},
   "outputs": [
    {
     "data": {
      "image/png": "[encoded data removed]",
      "text/plain": [
       "<Figure size 504x360 with 1 Axes>"
      ]
     },
     "metadata": {
      "needs_background": "light"
     },
     "output_type": "display_data"
    }
   ],
   "source": [
    "items.groupby('brand')['asin'].count().sort_values().plot(kind='barh',\n",
    "                                                          figsize=(7,5),\n",
    "                                                         color='xkcd:rust')\n",
    "\n",
    "\n",
    "plt.show()"
   ]
  },
  {
   "cell_type": "code",
   "execution_count": 46,
   "metadata": {},
   "outputs": [
    {
     "data": {
      "text/plain": [
       "Index(['asin', 'name', 'rating', 'date', 'verified', 'review_title', 'body',\n",
       "       'helpfulVotes', 'brand', 'item_title', 'url', 'image', 'reviewUrl',\n",
       "       'totalReviews', 'price', 'originalPrice', 'sellers'],\n",
       "      dtype='object')"
      ]
     },
     "execution_count": 46,
     "metadata": {},
     "output_type": "execute_result"
    }
   ],
   "source": [
    "new_reviews.columns"
   ]
  },
  {
   "cell_type": "code",
   "execution_count": 47,
   "metadata": {},
   "outputs": [
    {
     "data": {
      "image/png": "[encoded data removed]",
      "text/plain": [
       "<Figure size 504x360 with 1 Axes>"
      ]
     },
     "metadata": {
      "needs_background": "light"
     },
     "output_type": "display_data"
    }
   ],
   "source": [
    "new_reviews.groupby('brand')['rating'].mean().sort_values().plot(kind='barh',\n",
    "                                                          figsize=(7,5),\n",
    "                                                          title=\"Average rating per brand\",\n",
    "                                                          color='xkcd:rust')\n",
    "\n",
    "\n",
    "plt.show()"
   ]
  },
  {
   "cell_type": "code",
   "execution_count": 48,
   "metadata": {},
   "outputs": [
    {
     "data": {
      "text/plain": [
       "brand\n",
       "Xiaomi      4.371202\n",
       "HUAWEI      4.240899\n",
       "OnePlus     4.213256\n",
       "Motorola    3.817792\n",
       "Sony        3.786921\n",
       "Samsung     3.781689\n",
       "ASUS        3.721116\n",
       "Apple       3.701263\n",
       "Google      3.585205\n",
       "Nokia       3.583996\n",
       "Name: rating, dtype: float64"
      ]
     },
     "execution_count": 48,
     "metadata": {},
     "output_type": "execute_result"
    }
   ],
   "source": [
    "# Average rating per brand\n",
    "ratings_by_brand = new_reviews.groupby(\"brand\")['rating'].mean()\n",
    "ratings_by_brand.sort_values(ascending=False)"
   ]
  },
  {
   "cell_type": "code",
   "execution_count": 49,
   "metadata": {},
   "outputs": [
    {
     "data": {
      "text/plain": [
       "brand\n",
       "Xiaomi      4.415217\n",
       "HUAWEI      4.021875\n",
       "ASUS        3.860000\n",
       "Sony        3.788889\n",
       "Apple       3.782540\n",
       "Google      3.771053\n",
       "Motorola    3.643810\n",
       "Samsung     3.632659\n",
       "OnePlus     3.580000\n",
       "Nokia       3.386364\n",
       "Name: rating, dtype: float64"
      ]
     },
     "execution_count": 49,
     "metadata": {},
     "output_type": "execute_result"
    }
   ],
   "source": [
    "ratings_by_brand = items.groupby(\"brand\")['rating'].mean()\n",
    "ratings_by_brand.sort_values(ascending=False)"
   ]
  },
  {
   "cell_type": "code",
   "execution_count": 51,
   "metadata": {},
   "outputs": [
    {
     "data": {
      "text/plain": [
       "8403     983\n",
       "8248     983\n",
       "8276     983\n",
       "8275     983\n",
       "8274     983\n",
       "        ... \n",
       "43882      1\n",
       "43883      1\n",
       "43884      1\n",
       "43885      1\n",
       "67946      1\n",
       "Name: totalReviews, Length: 67947, dtype: int64"
      ]
     },
     "execution_count": 51,
     "metadata": {},
     "output_type": "execute_result"
    }
   ],
   "source": [
    "new_reviews['totalReviews'].sort_values(ascending=False)"
   ]
  },
  {
   "cell_type": "markdown",
   "metadata": {},
   "source": [
    "### Pre-processing of Reviews"
   ]
  },
  {
   "cell_type": "code",
   "execution_count": 52,
   "metadata": {},
   "outputs": [],
   "source": [
    "import re\n",
    "from bs4 import BeautifulSoup\n",
    "from nltk.corpus import stopwords \n",
    "from nltk.stem import WordNetLemmatizer\n",
    "from nltk.stem.porter import PorterStemmer\n",
    "from sklearn.feature_extraction.text import CountVectorizer,TfidfVectorizer"
   ]
  },
  {
   "cell_type": "code",
   "execution_count": 53,
   "metadata": {},
   "outputs": [
    {
     "data": {
      "text/plain": [
       "Index(['asin', 'name', 'rating', 'date', 'verified', 'review_title', 'body',\n",
       "       'helpfulVotes', 'brand', 'item_title', 'url', 'image', 'reviewUrl',\n",
       "       'totalReviews', 'price', 'originalPrice', 'sellers'],\n",
       "      dtype='object')"
      ]
     },
     "execution_count": 53,
     "metadata": {},
     "output_type": "execute_result"
    }
   ],
   "source": [
    "new_reviews.columns"
   ]
  },
  {
   "cell_type": "code",
   "execution_count": 54,
   "metadata": {},
   "outputs": [],
   "source": [
    "def all_text(row):\n",
    "    \"\"\" a function to merge the title and selftext of the posts\"\"\"\n",
    "    row['reviews'] = str(row['review_title']) + \" \" + str(row['body'])\n",
    "    return row "
   ]
  },
  {
   "cell_type": "code",
   "execution_count": 55,
   "metadata": {},
   "outputs": [],
   "source": [
    "new_reviews= new_reviews.apply(all_text, axis=1)"
   ]
  },
  {
   "cell_type": "code",
   "execution_count": 56,
   "metadata": {},
   "outputs": [
    {
     "data": {
      "text/plain": [
       "Samsung     33608\n",
       "Motorola     8869\n",
       "Nokia        5911\n",
       "Apple        5145\n",
       "Xiaomi       4410\n",
       "Google       3785\n",
       "Sony         3196\n",
       "HUAWEI       2225\n",
       "OnePlus       347\n",
       "ASUS          251\n",
       "Name: brand, dtype: int64"
      ]
     },
     "execution_count": 56,
     "metadata": {},
     "output_type": "execute_result"
    }
   ],
   "source": [
    "new_reviews['brand'].value_counts()"
   ]
  },
  {
   "cell_type": "code",
   "execution_count": 57,
   "metadata": {},
   "outputs": [],
   "source": [
    "new_reviews['word_count'] = new_reviews['reviews'].apply(lambda x: len(str(x).split()))"
   ]
  },
  {
   "cell_type": "code",
   "execution_count": 58,
   "metadata": {},
   "outputs": [
    {
     "data": {
      "image/png": "[encoded data removed]",
      "text/plain": [
       "<Figure size 720x432 with 1 Axes>"
      ]
     },
     "metadata": {
      "needs_background": "light"
     },
     "output_type": "display_data"
    }
   ],
   "source": [
    "#Set figure size\n",
    "plt.figure(figsize=(10,6))\n",
    "new_reviews['word_count'].plot.hist(label='no of words',range=(0,500),bins=30)\n",
    "\n",
    "\n",
    "#set the mean line\n",
    "plt.vlines(np.mean(new_reviews['word_count']), ymin = 0, ymax = 25000,\n",
    "           color='blue', label = 'mean value(wordcounts)',linestyle= '--', lw=1)\n",
    "\n",
    "plt.legend()\n",
    "plt.show()"
   ]
  },
  {
   "cell_type": "code",
   "execution_count": 59,
   "metadata": {},
   "outputs": [
    {
     "data": {
      "image/png": "[encoded data removed]",
      "text/plain": [
       "<Figure size 720x432 with 1 Axes>"
      ]
     },
     "metadata": {
      "needs_background": "light"
     },
     "output_type": "display_data"
    }
   ],
   "source": [
    "#Set figure size\n",
    "plt.figure(figsize=(10,6))\n",
    "new_reviews.groupby(\"asin\")['reviews'].count().plot.hist(label='no of reviews',range=(0,1000),bins=30)\n",
    "\n",
    "plt.legend()\n",
    "plt.show()"
   ]
  },
  {
   "cell_type": "code",
   "execution_count": 60,
   "metadata": {},
   "outputs": [],
   "source": [
    "samsung_reviews = new_reviews[new_reviews['brand']=='Samsung']\n",
    "motorola_reviews = new_reviews[new_reviews['brand']=='Motorola']\n",
    "nokia_reviews = new_reviews[new_reviews['brand']=='Nokia']\n",
    "apple_reviews = new_reviews[new_reviews['brand']=='Apple']\n",
    "xiaomi_reviews = new_reviews[new_reviews['brand']=='Xiaomi']\n",
    "google_reviews = new_reviews[new_reviews['brand']=='Google']\n",
    "sony_reviews = new_reviews[new_reviews['brand']=='Sony']\n",
    "huawei_reviews = new_reviews[new_reviews['brand']=='HUAWEI']\n",
    "oneplus_reviews = new_reviews[new_reviews['brand']=='Oneplus']\n",
    "asus_reviews = new_reviews[new_reviews['brand']=='Asus']"
   ]
  },
  {
   "cell_type": "code",
   "execution_count": 61,
   "metadata": {},
   "outputs": [
    {
     "data": {
      "text/plain": [
       "179"
      ]
     },
     "execution_count": 61,
     "metadata": {},
     "output_type": "execute_result"
    }
   ],
   "source": [
    "stop_words = stopwords.words('english')\n",
    "len(stop_words)"
   ]
  },
  {
   "cell_type": "code",
   "execution_count": 62,
   "metadata": {},
   "outputs": [],
   "source": [
    "add_words = ['phone','one','two','three','four','five','star']\n",
    "\n",
    "stop_words.extend(add_words)"
   ]
  },
  {
   "cell_type": "code",
   "execution_count": 63,
   "metadata": {},
   "outputs": [
    {
     "data": {
      "text/plain": [
       "186"
      ]
     },
     "execution_count": 63,
     "metadata": {},
     "output_type": "execute_result"
    }
   ],
   "source": [
    "len(stop_words)"
   ]
  },
  {
   "cell_type": "code",
   "execution_count": 64,
   "metadata": {},
   "outputs": [],
   "source": [
    "def clean_reviews(raw_text):\n",
    "    \"\"\"\n",
    "    Function to convert a raw review to a string of words that have been cleaned. \n",
    "    - HTML, non-letters will be removed\n",
    "    - words will be converted to lowercase\n",
    "    - stopwords will be removed \n",
    "    - words will be stemmed to their root words\n",
    "    \n",
    "    The input is a single string, and \n",
    "    the output is a single string \n",
    "    \n",
    "    \"\"\"\n",
    "    \n",
    "    # Remove HTML.\n",
    "    post_text = BeautifulSoup(raw_text).get_text()\n",
    "    \n",
    "    # Remove non-letters.\n",
    "    letters_only = re.sub(\"[^a-zA-Z]\", \" \", post_text)\n",
    "    \n",
    "    # Convert to lower case, split into individual words.\n",
    "    words = letters_only.lower().split()\n",
    "    \n",
    "    # convert the stopwords to a set.\n",
    "    stops = set(stop_words)\n",
    "    \n",
    "    # Remove stopwords.\n",
    "    meaningful_words = [w for w in words if w not in stops]\n",
    "    \n",
    "    # Stemming \n",
    "    #p_stemmer = PorterStemmer()\n",
    "    #meaningful_words = [p_stemmer.stem(w) for w in meaningful_words]\n",
    "    \n",
    "    #Lemmatize\n",
    "    lemmatizer = WordNetLemmatizer()\n",
    "    meaningful_words = [lemmatizer.lemmatize(word) for word in \n",
    "                        meaningful_words]\n",
    "    \n",
    "    \n",
    "    \n",
    "    \n",
    "    # Join the words back into one string separated by space, \n",
    "    # and return the result.\n",
    "    return(\" \".join(meaningful_words))"
   ]
  },
  {
   "cell_type": "code",
   "execution_count": 65,
   "metadata": {},
   "outputs": [
    {
     "data": {
      "text/plain": [
       "Index(['asin', 'name', 'rating', 'date', 'verified', 'review_title', 'body',\n",
       "       'helpfulVotes', 'brand', 'item_title', 'url', 'image', 'reviewUrl',\n",
       "       'totalReviews', 'price', 'originalPrice', 'sellers', 'reviews',\n",
       "       'word_count'],\n",
       "      dtype='object')"
      ]
     },
     "execution_count": 65,
     "metadata": {},
     "output_type": "execute_result"
    }
   ],
   "source": [
    "new_reviews.columns"
   ]
  },
  {
   "cell_type": "code",
   "execution_count": 66,
   "metadata": {},
   "outputs": [
    {
     "name": "stdout",
     "output_type": "stream",
     "text": [
      "Cleaning and parsing all reviews...\n",
      "Completed\n"
     ]
    }
   ],
   "source": [
    "cleaned_reviews = []\n",
    "\n",
    "print(\"Cleaning and parsing all reviews...\")\n",
    "\n",
    "# Instantiate counter.\n",
    "j = 0\n",
    "\n",
    "# For every review in our combined dataframe\n",
    "\n",
    "for review in new_reviews['reviews']:\n",
    "    \n",
    "    # Apply the function that we created earlier to clean the reviews\n",
    "    cleaned_reviews.append(clean_reviews(review))\n",
    "    j += 1\n",
    "    \n",
    "print(\"Completed\")"
   ]
  },
  {
   "cell_type": "code",
   "execution_count": 67,
   "metadata": {},
   "outputs": [],
   "source": [
    "new_reviews['cleaned_reviews'] = cleaned_reviews"
   ]
  },
  {
   "cell_type": "code",
   "execution_count": 68,
   "metadata": {},
   "outputs": [
    {
     "name": "stdout",
     "output_type": "stream",
     "text": [
      "Cleaning and parsing xiaomi reviews...\n",
      "Completed\n",
      "Cleaning and parsing apple reviews...\n",
      "Completed\n"
     ]
    }
   ],
   "source": [
    "google_cleaned_reviews = []\n",
    "\n",
    "print(\"Cleaning and parsing xiaomi reviews...\")\n",
    "\n",
    "# Instantiate counter.\n",
    "j = 0\n",
    "\n",
    "# For every review in our combined dataframe\n",
    "\n",
    "for review in google_reviews['reviews']:\n",
    "    \n",
    "    # Apply the function that we created earlier to clean the reviews\n",
    "    google_cleaned_reviews.append(clean_reviews(review))\n",
    "    j += 1\n",
    "    \n",
    "print(\"Completed\")\n",
    "\n",
    "#Repeating the same steps for the other brands\n",
    "apple_cleaned_reviews = []\n",
    "print(\"Cleaning and parsing apple reviews...\")\n",
    "j = 0\n",
    "for review in apple_reviews['reviews']:\n",
    "    apple_cleaned_reviews.append(clean_reviews(review))\n",
    "    j += 1\n",
    "print(\"Completed\")"
   ]
  },
  {
   "cell_type": "code",
   "execution_count": 69,
   "metadata": {},
   "outputs": [],
   "source": [
    "def get_one_gram(corpus, n=None):\n",
    "    \"\"\"\n",
    "    List the top n words in a vocabulary according to occurrence in a text corpus.\n",
    "    \"\"\"\n",
    "    vec = CountVectorizer().fit(corpus)\n",
    "    bag_of_words = vec.transform(corpus)\n",
    "    sum_words = bag_of_words.sum(axis=0) \n",
    "    words_freq = [(word, sum_words[0, idx]) for word, idx in vec.vocabulary_.items()]\n",
    "    words_freq =sorted(words_freq, key = lambda x: x[1], reverse=True)\n",
    "    return words_freq[:n]\n",
    "\n",
    "\n",
    "def get_phrase(corpus, n=None):\n",
    "    \"\"\"\n",
    "    List the top n words in a vocabulary according to occurrence in a text corpus.\n",
    "    \"\"\"\n",
    "    vec = CountVectorizer(ngram_range=(2, 4)).fit(corpus)\n",
    "    bag_of_words = vec.transform(corpus)\n",
    "    sum_words = bag_of_words.sum(axis=0) \n",
    "    words_freq = [(word, sum_words[0, idx]) for word, idx in vec.vocabulary_.items()]\n",
    "    words_freq =sorted(words_freq, key = lambda x: x[1], reverse=True)\n",
    "    return words_freq[:n]"
   ]
  },
  {
   "cell_type": "code",
   "execution_count": 70,
   "metadata": {},
   "outputs": [],
   "source": [
    "top_google_words = dict(get_one_gram(google_cleaned_reviews,20))\n",
    "top_google_phrase = dict(get_phrase(google_cleaned_reviews,20))"
   ]
  },
  {
   "cell_type": "code",
   "execution_count": 71,
   "metadata": {},
   "outputs": [],
   "source": [
    "top_apple_words = dict(get_one_gram(apple_cleaned_reviews,20))\n",
    "top_apple_phrase = dict(get_phrase(apple_cleaned_reviews,20))"
   ]
  },
  {
   "cell_type": "code",
   "execution_count": 72,
   "metadata": {},
   "outputs": [
    {
     "data": {
      "image/png": "[encoded data removed]",
      "text/plain": [
       "<Figure size 1080x648 with 2 Axes>"
      ]
     },
     "metadata": {
      "needs_background": "light"
     },
     "output_type": "display_data"
    }
   ],
   "source": [
    "#Create subplots\n",
    "fig, axes = plt.subplots(1,2, figsize=(15,9));\n",
    "\n",
    "#plot google reviews top 20 most frequently occuring words\n",
    "plt.subplot(1,2,1)\n",
    "covid_pos = plt.barh(range(len(top_google_words)), top_google_words.values(),align = 'center',color='xkcd:rust');\n",
    "\n",
    "#Label axes \n",
    "plt.yticks(range(len(top_google_words)),top_google_words.keys(),fontsize=12);\n",
    "plt.title('Top 20 words in Google Reviews')\n",
    "plt.xlabel('Frequency')\n",
    "plt.gca().invert_yaxis()\n",
    "\n",
    "\n",
    "#plot apple reviews top 20 most frequently occuring words\n",
    "plt.subplot(1,2,2)\n",
    "covid_pos = plt.barh(range(len(top_apple_words)), top_apple_words.values(),align = 'center',color='xkcd:light orange');\n",
    "\n",
    "#Label axes\n",
    "plt.yticks(range(len(top_apple_words)),top_apple_words.keys(),fontsize=12);\n",
    "plt.title('Top 20 words in Apple Reviews')\n",
    "plt.xlabel('Frequency')\n",
    "plt.gca().invert_yaxis()\n",
    "\n",
    "plt.subplots_adjust(wspace=0.9)\n",
    "plt.show()"
   ]
  },
  {
   "cell_type": "code",
   "execution_count": 73,
   "metadata": {
    "scrolled": false
   },
   "outputs": [
    {
     "data": {
      "image/png": "[encoded data removed]",
      "text/plain": [
       "<Figure size 1080x648 with 2 Axes>"
      ]
     },
     "metadata": {
      "needs_background": "light"
     },
     "output_type": "display_data"
    }
   ],
   "source": [
    "#Create subplots\n",
    "fig, axes = plt.subplots(1,2, figsize=(15,9));\n",
    "\n",
    "#plot xiaomi reviews top 20 most frequently occuring words\n",
    "plt.subplot(1,2,1)\n",
    "covid_pos = plt.barh(range(len(top_google_phrase)), top_google_phrase.values(),align = 'center',color='xkcd:rust');\n",
    "\n",
    "#Label axes \n",
    "plt.yticks(range(len(top_google_phrase)),top_google_phrase.keys(),fontsize=12);\n",
    "plt.title('Top 20 phrases in Google Reviews')\n",
    "plt.xlabel('Frequency')\n",
    "plt.gca().invert_yaxis()\n",
    "\n",
    "\n",
    "#plot apple reviews top 20 most frequently occuring words\n",
    "plt.subplot(1,2,2)\n",
    "covid_pos = plt.barh(range(len(top_apple_phrase)), top_apple_phrase.values(),align = 'center',color='xkcd:light orange');\n",
    "\n",
    "#Label axes\n",
    "plt.yticks(range(len(top_apple_phrase)),top_apple_phrase.keys(),fontsize=12);\n",
    "plt.title('Top 20 phrases in Apple Reviews')\n",
    "plt.xlabel('Frequency')\n",
    "plt.gca().invert_yaxis()\n",
    "\n",
    "plt.subplots_adjust(wspace=0.9)\n",
    "plt.show()"
   ]
  },
  {
   "cell_type": "markdown",
   "metadata": {},
   "source": [
    "From the most frequently occuring words, we can see that battery life, sim card seems to something that is very frequently discussed in reviews. "
   ]
  },
  {
   "cell_type": "code",
   "execution_count": 75,
   "metadata": {},
   "outputs": [],
   "source": [
    "def multi_class_sentiment(rating):\n",
    "    if rating >= 4:\n",
    "        return 2 #positive \n",
    "    elif rating == 3:\n",
    "        return 1 #neutral\n",
    "    else:\n",
    "        return 0 #negative\n",
    "    \n",
    "\n",
    "new_reviews['multi_class_sentiment'] = new_reviews['rating'].map(multi_class_sentiment)"
   ]
  },
  {
   "cell_type": "code",
   "execution_count": 76,
   "metadata": {},
   "outputs": [],
   "source": [
    "new_reviews['tokens'] = new_reviews['cleaned_reviews'].map(lambda x:x.split())"
   ]
  },
  {
   "cell_type": "code",
   "execution_count": 60,
   "metadata": {},
   "outputs": [],
   "source": [
    "#seller_reviews = new_reviews.groupby('sellers').agg({'cleaned_reviews':'sum','rating':'mean','reviews':'count','asin':'count'})"
   ]
  },
  {
   "cell_type": "code",
   "execution_count": 61,
   "metadata": {},
   "outputs": [],
   "source": [
    "#seller_reviews.sort_values(by='reviews').tail(20)"
   ]
  },
  {
   "cell_type": "code",
   "execution_count": 62,
   "metadata": {},
   "outputs": [],
   "source": [
    "#seller_reviews.sort_values(by='rating',ascending=False).head(10)"
   ]
  },
  {
   "cell_type": "code",
   "execution_count": 77,
   "metadata": {},
   "outputs": [
    {
     "data": {
      "text/plain": [
       "(67947, 22)"
      ]
     },
     "execution_count": 77,
     "metadata": {},
     "output_type": "execute_result"
    }
   ],
   "source": [
    "new_reviews.shape"
   ]
  },
  {
   "cell_type": "code",
   "execution_count": 78,
   "metadata": {},
   "outputs": [
    {
     "data": {
      "text/plain": [
       "''"
      ]
     },
     "execution_count": 78,
     "metadata": {},
     "output_type": "execute_result"
    }
   ],
   "source": [
    "new_reviews.loc[5106,'cleaned_reviews']"
   ]
  },
  {
   "cell_type": "code",
   "execution_count": 79,
   "metadata": {},
   "outputs": [],
   "source": [
    "#new_reviews.to_csv('../data/cleaned_combined_data.csv',index=False)"
   ]
  },
  {
   "cell_type": "markdown",
   "metadata": {},
   "source": [
    "## Modeling - Classification Technique"
   ]
  },
  {
   "cell_type": "code",
   "execution_count": 80,
   "metadata": {},
   "outputs": [],
   "source": [
    "from sklearn.model_selection import train_test_split, GridSearchCV\n",
    "from sklearn.linear_model import LogisticRegression\n",
    "from sklearn.pipeline import Pipeline"
   ]
  },
  {
   "cell_type": "code",
   "execution_count": 83,
   "metadata": {},
   "outputs": [
    {
     "data": {
      "text/plain": [
       "array([1, 0, 2])"
      ]
     },
     "execution_count": 83,
     "metadata": {},
     "output_type": "execute_result"
    }
   ],
   "source": [
    "#map the ratings to positive vs negative ratings\n",
    "new_reviews['multi_class_sentiment'].unique()"
   ]
  },
  {
   "cell_type": "code",
   "execution_count": 84,
   "metadata": {},
   "outputs": [],
   "source": [
    "# Create the feature and target variable\n",
    "X = new_reviews['cleaned_reviews']\n",
    "y = new_reviews['multi_class_sentiment']"
   ]
  },
  {
   "cell_type": "code",
   "execution_count": 85,
   "metadata": {},
   "outputs": [],
   "source": [
    "# Create train_test_split.\n",
    "X_train, X_test, y_train, y_test = train_test_split(X,\n",
    "                                                    y,\n",
    "                                                    test_size = 0.25,\n",
    "                                                    random_state = 42,\n",
    "                                                    stratify= y)"
   ]
  },
  {
   "cell_type": "code",
   "execution_count": 86,
   "metadata": {},
   "outputs": [
    {
     "data": {
      "text/plain": [
       "1526                      star learning use far going well\n",
       "30604                       star compatible mobile company\n",
       "44592    good horrible battery love battery life horrib...\n",
       "27255                                         star exelent\n",
       "57807    producto origonal de muy buena calidad excelen...\n",
       "                               ...                        \n",
       "32214                                            star love\n",
       "56626                                          great great\n",
       "626      simplicity best dropped hard surface even pail...\n",
       "45658    best budget android best budget owned buy budg...\n",
       "26177                                                 said\n",
       "Name: cleaned_reviews, Length: 50960, dtype: object"
      ]
     },
     "execution_count": 86,
     "metadata": {},
     "output_type": "execute_result"
    }
   ],
   "source": [
    "X_train"
   ]
  },
  {
   "cell_type": "code",
   "execution_count": 87,
   "metadata": {},
   "outputs": [
    {
     "data": {
      "text/plain": [
       "2    0.685027\n",
       "0    0.245035\n",
       "1    0.069937\n",
       "Name: multi_class_sentiment, dtype: float64"
      ]
     },
     "execution_count": 87,
     "metadata": {},
     "output_type": "execute_result"
    }
   ],
   "source": [
    "y_train.value_counts(normalize=True)"
   ]
  },
  {
   "cell_type": "code",
   "execution_count": 89,
   "metadata": {},
   "outputs": [
    {
     "name": "stdout",
     "output_type": "stream",
     "text": [
      "Baseline accuracy: 0.685\n"
     ]
    }
   ],
   "source": [
    "baseline_model = y_train.value_counts(normalize=True)\n",
    "baseline_accuracy = round(baseline_model[2],3)\n",
    "\n",
    "print(f\"Baseline accuracy: {baseline_accuracy}\")"
   ]
  },
  {
   "cell_type": "code",
   "execution_count": 90,
   "metadata": {},
   "outputs": [
    {
     "name": "stdout",
     "output_type": "stream",
     "text": [
      "Fitting 5 folds for each of 144 candidates, totalling 720 fits\n"
     ]
    },
    {
     "name": "stderr",
     "output_type": "stream",
     "text": [
      "[Parallel(n_jobs=-1)]: Using backend LokyBackend with 8 concurrent workers.\n",
      "[Parallel(n_jobs=-1)]: Done  34 tasks      | elapsed:   33.6s\n",
      "[Parallel(n_jobs=-1)]: Done 184 tasks      | elapsed:  3.3min\n",
      "[Parallel(n_jobs=-1)]: Done 434 tasks      | elapsed:  8.1min\n",
      "[Parallel(n_jobs=-1)]: Done 720 out of 720 | elapsed: 13.8min finished\n"
     ]
    },
    {
     "data": {
      "text/plain": [
       "GridSearchCV(cv=5, error_score=nan,\n",
       "             estimator=Pipeline(memory=None,\n",
       "                                steps=[('cvec',\n",
       "                                        CountVectorizer(analyzer='word',\n",
       "                                                        binary=False,\n",
       "                                                        decode_error='strict',\n",
       "                                                        dtype=<class 'numpy.int64'>,\n",
       "                                                        encoding='utf-8',\n",
       "                                                        input='content',\n",
       "                                                        lowercase=True,\n",
       "                                                        max_df=1.0,\n",
       "                                                        max_features=None,\n",
       "                                                        min_df=1,\n",
       "                                                        ngram_range=(1, 1),\n",
       "                                                        preprocessor=None,\n",
       "                                                        stop_words=None,\n",
       "                                                        strip_accents=None,\n",
       "                                                        token_pattern='(?u)...\n",
       "                                                           solver='liblinear',\n",
       "                                                           tol=0.0001,\n",
       "                                                           verbose=0,\n",
       "                                                           warm_start=False))],\n",
       "                                verbose=False),\n",
       "             iid='deprecated', n_jobs=-1,\n",
       "             param_grid={'cvec__max_df': [0.9, 0.95],\n",
       "                         'cvec__max_features': [3000, 4000, 5000],\n",
       "                         'cvec__min_df': [2, 3],\n",
       "                         'cvec__ngram_range': [(1, 1), (1, 2)],\n",
       "                         'lr__C': [0.01, 0.1, 1], 'lr__penalty': ['l1', 'l2']},\n",
       "             pre_dispatch='2*n_jobs', refit=True, return_train_score=False,\n",
       "             scoring=None, verbose=1)"
      ]
     },
     "execution_count": 90,
     "metadata": {},
     "output_type": "execute_result"
    }
   ],
   "source": [
    "#Instantiate the pipeline\n",
    "lr_cvec_pipe = Pipeline([\n",
    "    ('cvec', CountVectorizer()),\n",
    "    ('lr',LogisticRegression(random_state=42,solver='liblinear', max_iter=10000))\n",
    "])\n",
    "\n",
    "#create hyperparameters for gridsearch\n",
    "lr_cvec_params = {\n",
    "    'cvec__max_features': [3000,4000,5000],\n",
    "    'cvec__min_df':[2,3],\n",
    "    'cvec__max_df':[0.9,0.95],\n",
    "    'cvec__ngram_range': [(1,1), (1,2)],\n",
    "    'lr__C':[0.01,0.1,1],\n",
    "    'lr__penalty': ['l1', 'l2']\n",
    "}\n",
    "\n",
    "# Instantiate GridSearchCV.\n",
    "lr_cvec_gs = GridSearchCV(lr_cvec_pipe, # what object are we optimizing?\n",
    "                  param_grid=lr_cvec_params , # what parameters values are we searching?\n",
    "                  cv=5,\n",
    "                 n_jobs=-1,verbose=1) \n",
    "\n",
    "#fit the model\n",
    "lr_cvec_gs.fit(X_train,y_train)"
   ]
  },
  {
   "cell_type": "code",
   "execution_count": 91,
   "metadata": {},
   "outputs": [
    {
     "name": "stdout",
     "output_type": "stream",
     "text": [
      "Logistic Regression CVEC Train Accuracy Score: 0.886\n",
      "Logistic Regression CVEC Test Accuracy Score: 0.863\n"
     ]
    }
   ],
   "source": [
    "training_accuracy_score = round(lr_cvec_gs.score(X_train,y_train),3)\n",
    "testing_accuracy_score = round(lr_cvec_gs.score(X_test,y_test),3)\n",
    "\n",
    "print(f\"Logistic Regression CVEC Train Accuracy Score: {training_accuracy_score}\")\n",
    "print(f\"Logistic Regression CVEC Test Accuracy Score: {testing_accuracy_score}\")"
   ]
  },
  {
   "cell_type": "code",
   "execution_count": 92,
   "metadata": {},
   "outputs": [
    {
     "data": {
      "text/plain": [
       "{'cvec__max_df': 0.9,\n",
       " 'cvec__max_features': 5000,\n",
       " 'cvec__min_df': 2,\n",
       " 'cvec__ngram_range': (1, 2),\n",
       " 'lr__C': 0.1,\n",
       " 'lr__penalty': 'l2'}"
      ]
     },
     "execution_count": 92,
     "metadata": {},
     "output_type": "execute_result"
    }
   ],
   "source": [
    "lr_cvec_gs.best_params_"
   ]
  },
  {
   "cell_type": "code",
   "execution_count": 93,
   "metadata": {},
   "outputs": [
    {
     "data": {
      "text/plain": [
       "Pipeline(memory=None,\n",
       "         steps=[('cvec',\n",
       "                 CountVectorizer(analyzer='word', binary=False,\n",
       "                                 decode_error='strict',\n",
       "                                 dtype=<class 'numpy.int64'>, encoding='utf-8',\n",
       "                                 input='content', lowercase=True, max_df=0.9,\n",
       "                                 max_features=5000, min_df=3,\n",
       "                                 ngram_range=(1, 2), preprocessor=None,\n",
       "                                 stop_words=None, strip_accents=None,\n",
       "                                 token_pattern='(?u)\\\\b\\\\w\\\\w+\\\\b',\n",
       "                                 tokenizer=None, vocabulary=None)),\n",
       "                ('lr',\n",
       "                 LogisticRegression(C=0.1, class_weight=None, dual=False,\n",
       "                                    fit_intercept=True, intercept_scaling=1,\n",
       "                                    l1_ratio=None, max_iter=10000,\n",
       "                                    multi_class='auto', n_jobs=None,\n",
       "                                    penalty='l2', random_state=42,\n",
       "                                    solver='liblinear', tol=0.0001, verbose=0,\n",
       "                                    warm_start=False))],\n",
       "         verbose=False)"
      ]
     },
     "execution_count": 93,
     "metadata": {},
     "output_type": "execute_result"
    }
   ],
   "source": [
    "best_lr_cvec = Pipeline([\n",
    "    ('cvec', CountVectorizer(max_df=0.9, max_features=5000, min_df= 3, ngram_range=(1, 2))),\n",
    "    ('lr',LogisticRegression(random_state=42,solver='liblinear', max_iter=10000,C=0.1,penalty='l2'))\n",
    "     ])\n",
    "\n",
    "\n",
    "best_lr_cvec.fit(X_train,y_train)"
   ]
  },
  {
   "cell_type": "code",
   "execution_count": 94,
   "metadata": {},
   "outputs": [
    {
     "name": "stdout",
     "output_type": "stream",
     "text": [
      "Logistic Regression CVEC Train Accuracy Score: 0.886\n",
      "Logistic Regression CVEC Test Accuracy Score: 0.863\n"
     ]
    }
   ],
   "source": [
    "training_accuracy_score = round(best_lr_cvec.score(X_train,y_train),3)\n",
    "testing_accuracy_score = round(best_lr_cvec.score(X_test,y_test),3)\n",
    "\n",
    "print(f\"Logistic Regression CVEC Train Accuracy Score: {training_accuracy_score}\")\n",
    "print(f\"Logistic Regression CVEC Test Accuracy Score: {testing_accuracy_score}\")"
   ]
  },
  {
   "cell_type": "markdown",
   "metadata": {},
   "source": [
    "# Inferential Findings and Analysis"
   ]
  },
  {
   "cell_type": "code",
   "execution_count": null,
   "metadata": {},
   "outputs": [],
   "source": [
    "reviews_vocab = best_lr_cvec.named_steps['lr'].coef_"
   ]
  },
  {
   "cell_type": "code",
   "execution_count": null,
   "metadata": {},
   "outputs": [],
   "source": [
    "neg_reviews = reviews_vocab * -1"
   ]
  },
  {
   "cell_type": "code",
   "execution_count": null,
   "metadata": {},
   "outputs": [],
   "source": [
    "features = best_lr_cvec.named_steps['cvec'].get_feature_names()"
   ]
  },
  {
   "cell_type": "code",
   "execution_count": null,
   "metadata": {},
   "outputs": [],
   "source": [
    "positive_reviews = dict(pd.Series(np.exp(reviews_vocab[0]), features).sort_values(ascending=False).head(20))\n",
    "positive_reviews"
   ]
  },
  {
   "cell_type": "code",
   "execution_count": null,
   "metadata": {},
   "outputs": [],
   "source": [
    "negative_reviews = dict(pd.Series(np.exp(neg_reviews[0]), features).sort_values(ascending=False).head(20))\n",
    "negative_reviews"
   ]
  },
  {
   "cell_type": "code",
   "execution_count": null,
   "metadata": {},
   "outputs": [],
   "source": [
    "cvec = CountVectorizer()"
   ]
  },
  {
   "cell_type": "code",
   "execution_count": null,
   "metadata": {},
   "outputs": [],
   "source": [
    "X_train_corpus = cvec.fit_transform(X_train)\n",
    "X_test_corpus = cvec.transform(X_test)"
   ]
  },
  {
   "cell_type": "code",
   "execution_count": null,
   "metadata": {},
   "outputs": [],
   "source": [
    "from sklearn.decomposition import LatentDirichletAllocation\n",
    "\n",
    "lda = LatentDirichletAllocation()\n",
    "lda.fit(X_train_corpus)"
   ]
  },
  {
   "cell_type": "code",
   "execution_count": null,
   "metadata": {},
   "outputs": [],
   "source": [
    "lda.components_.shape"
   ]
  },
  {
   "cell_type": "code",
   "execution_count": null,
   "metadata": {},
   "outputs": [],
   "source": [
    "dict(pd.Series(np.exp(reviews_vocab[0]), features).sort_values(ascending=False).head(20))"
   ]
  },
  {
   "cell_type": "code",
   "execution_count": null,
   "metadata": {},
   "outputs": [],
   "source": [
    "len(cvec.get_feature_names())"
   ]
  },
  {
   "cell_type": "code",
   "execution_count": null,
   "metadata": {},
   "outputs": [],
   "source": [
    "def print_topn_words(model, feature_names, topn):\n",
    "    for topic_idx, topic in enumerate(model.components_):\n",
    "        message = \"Topic #%d: \" % topic_idx\n",
    "        message += \" \".join([feature_names[i]\n",
    "                             for i in topic.argsort()[:-topn - 1:-1]])\n",
    "        print(message)\n",
    "    print()"
   ]
  },
  {
   "cell_type": "code",
   "execution_count": null,
   "metadata": {},
   "outputs": [],
   "source": [
    "print_topn_words(lda, cvec.get_feature_names(), 10)"
   ]
  },
  {
   "cell_type": "markdown",
   "metadata": {},
   "source": [
    "### With Gensim"
   ]
  },
  {
   "cell_type": "code",
   "execution_count": null,
   "metadata": {},
   "outputs": [],
   "source": [
    "# Gensim\n",
    "import gensim, spacy, logging, warnings\n",
    "from gensim.models.ldamodel import LdaModel\n",
    "from gensim.models.ldamulticore import LdaMulticore\n",
    "import gensim.corpora as corpora\n",
    "from gensim.utils import lemmatize, simple_preprocess\n",
    "from gensim.models import CoherenceModel\n",
    "from gensim.models.phrases import Phrases, Phraser\n",
    "from pprint import pprint"
   ]
  },
  {
   "cell_type": "code",
   "execution_count": null,
   "metadata": {},
   "outputs": [],
   "source": [
    "new_reviews['tokens'] = new_reviews['cleaned_reviews'].map(lambda x:x.split())"
   ]
  },
  {
   "cell_type": "code",
   "execution_count": null,
   "metadata": {},
   "outputs": [],
   "source": [
    "tokens = list(new_reviews['tokens'])"
   ]
  },
  {
   "cell_type": "code",
   "execution_count": null,
   "metadata": {},
   "outputs": [],
   "source": [
    "len(tokens)"
   ]
  },
  {
   "cell_type": "code",
   "execution_count": null,
   "metadata": {},
   "outputs": [],
   "source": [
    "tokens[0:2]"
   ]
  },
  {
   "cell_type": "code",
   "execution_count": null,
   "metadata": {},
   "outputs": [],
   "source": [
    "#Build the bigram and trigram models\n",
    "bigram = Phrases(tokens, min_count=5, threshold=100) # higher threshold fewer phrases.\n",
    "trigram = Phrases(bigram[tokens], threshold=100)  \n",
    "bigram_mod = Phraser(bigram)\n",
    "trigram_mod = Phraser(trigram)"
   ]
  },
  {
   "cell_type": "code",
   "execution_count": null,
   "metadata": {},
   "outputs": [],
   "source": [
    "def process_words(texts, stop_words=stop_words, allowed_postags=['NOUN','VERB','ADV']):\n",
    "    \"\"\"Remove Stopwords, Form Bigrams, Trigrams and Lemmatization\"\"\"\n",
    "    texts = [[word for word in simple_preprocess(str(doc)) if word not in stop_words] for doc in texts]\n",
    "    texts = [bigram_mod[doc] for doc in texts]\n",
    "    texts = [trigram_mod[bigram_mod[doc]] for doc in texts]\n",
    "    texts_out = []\n",
    "    nlp = spacy.load('en', disable=['parser', 'ner'])\n",
    "    for sent in texts:\n",
    "        doc = nlp(\" \".join(sent)) \n",
    "        texts_out.append([token.lemma_ for token in doc if token.pos_ in allowed_postags])\n",
    "    # remove stopwords once more after lemmatization\n",
    "    texts_out = [[word for word in simple_preprocess(str(doc)) if word not in stop_words] for doc in texts_out]    \n",
    "    return texts_out\n",
    "\n",
    "data_ready = process_words(tokens)  # processed Text Data!"
   ]
  },
  {
   "cell_type": "code",
   "execution_count": null,
   "metadata": {},
   "outputs": [],
   "source": [
    "id2word = corpora.Dictionary(data_ready)\n",
    "corpus = [id2word.doc2bow(line) for line in data_ready]"
   ]
  },
  {
   "cell_type": "code",
   "execution_count": null,
   "metadata": {},
   "outputs": [],
   "source": [
    "new_reviews.shape"
   ]
  },
  {
   "cell_type": "code",
   "execution_count": null,
   "metadata": {},
   "outputs": [],
   "source": [
    "len(corpus)"
   ]
  },
  {
   "cell_type": "code",
   "execution_count": null,
   "metadata": {},
   "outputs": [],
   "source": [
    "#Train the LDA model\n",
    "# Build LDA model\n",
    "lda_model = LdaMulticore(corpus=corpus,\n",
    "                         id2word=id2word,\n",
    "                         num_topics=10, \n",
    "                         random_state=100,\n",
    "                        #update_every=1,\n",
    "                         chunksize=100,\n",
    "                         passes=10,\n",
    "                         iterations=100,\n",
    "                         per_word_topics=True)\n",
    "\n",
    "pprint(lda_model.print_topics())"
   ]
  },
  {
   "cell_type": "code",
   "execution_count": null,
   "metadata": {},
   "outputs": [],
   "source": [
    "lda_model.per_word_topics"
   ]
  },
  {
   "cell_type": "code",
   "execution_count": null,
   "metadata": {},
   "outputs": [],
   "source": [
    "def format_topics_sentences(ldamodel=None, corpus=corpus, texts=None):\n",
    "    # Init output\n",
    "    sent_topics_df = pd.DataFrame()\n",
    "\n",
    "    # Get main topic in each document\n",
    "    for i, row_list in enumerate(ldamodel[corpus]):\n",
    "        row = row_list[0] if ldamodel.per_word_topics else row_list            \n",
    "        # print(row)\n",
    "        row = sorted(row, key=lambda x: (x[1]), reverse=True)\n",
    "        # Get the Dominant topic, Perc Contribution and Keywords for each document\n",
    "        for j, (topic_num, prop_topic) in enumerate(row):\n",
    "            if j == 0:  # => dominant topic\n",
    "                wp = ldamodel.show_topic(topic_num)\n",
    "                topic_keywords = \", \".join([word for word, prop in wp])\n",
    "                sent_topics_df = sent_topics_df.append(pd.Series([int(topic_num), round(prop_topic,4), topic_keywords]), ignore_index=True)\n",
    "            else:\n",
    "                break\n",
    "    sent_topics_df.columns = ['Dominant_Topic', 'Perc_Contribution', 'Topic_Keywords']\n",
    "\n",
    "    # Add original text to the end of the output\n",
    "    contents = pd.Series(texts)\n",
    "    sent_topics_df = pd.concat([sent_topics_df, contents], axis=1)\n",
    "    return(sent_topics_df)\n",
    "\n",
    "\n",
    "df_topic_sents_keywords = format_topics_sentences(ldamodel=lda_model, corpus=corpus, texts=data_ready)\n",
    "\n",
    "# Format\n",
    "df_dominant_topic = df_topic_sents_keywords.reset_index()\n",
    "df_dominant_topic.columns = ['Document_No', 'Dominant_Topic', 'Topic_Perc_Contrib', 'Keywords', 'Text']\n",
    "df_dominant_topic.head(10)"
   ]
  },
  {
   "cell_type": "code",
   "execution_count": null,
   "metadata": {},
   "outputs": [],
   "source": [
    "pd.options.display.max_colwidth = 150\n",
    "df_dominant_topic[df_dominant_topic['Dominant_Topic'] == 9].sample(5)"
   ]
  },
  {
   "cell_type": "code",
   "execution_count": null,
   "metadata": {},
   "outputs": [],
   "source": [
    "new_reviews.loc[26610,'reviews']"
   ]
  },
  {
   "cell_type": "code",
   "execution_count": null,
   "metadata": {},
   "outputs": [],
   "source": [
    "# 1. Wordcloud of Top N words in each topic\n",
    "from wordcloud import WordCloud, STOPWORDS\n",
    "import matplotlib.colors as mcolors\n",
    "\n",
    "cols = [color for name, color in mcolors.TABLEAU_COLORS.items()]  # more colors: 'mcolors.XKCD_COLORS'\n",
    "\n",
    "cloud = WordCloud(stopwords=stop_words,\n",
    "                  background_color='white',\n",
    "                  width=2500,\n",
    "                  height=1800,\n",
    "                  max_words=10,\n",
    "                  colormap='tab10',\n",
    "                  color_func=lambda *args, **kwargs: cols[i],\n",
    "                  prefer_horizontal=1.0)\n",
    "\n",
    "topics = lda_model.show_topics(formatted=False)\n",
    "\n",
    "fig, axes = plt.subplots(5, 2, figsize=(15,15), sharex=True, sharey=True)\n",
    "\n",
    "for i, ax in enumerate(axes.flatten()):\n",
    "    fig.add_subplot(ax)\n",
    "    topic_words = dict(topics[i][1])\n",
    "    cloud.generate_from_frequencies(topic_words, max_font_size=300)\n",
    "    plt.gca().imshow(cloud)\n",
    "    plt.gca().set_title('Topic ' + str(i), fontdict=dict(size=16))\n",
    "    plt.gca().axis('off')\n",
    "\n",
    "\n",
    "plt.subplots_adjust(wspace=0, hspace=0)\n",
    "plt.axis('off')\n",
    "plt.margins(x=0, y=0)\n",
    "plt.tight_layout()\n",
    "plt.show()"
   ]
  },
  {
   "cell_type": "code",
   "execution_count": null,
   "metadata": {},
   "outputs": [],
   "source": [
    "import pyLDAvis.gensim\n",
    "pyLDAvis.enable_notebook()\n",
    "vis = pyLDAvis.gensim.prepare(lda_model, corpus, dictionary=lda_model.id2word )\n",
    "vis"
   ]
  },
  {
   "cell_type": "code",
   "execution_count": null,
   "metadata": {},
   "outputs": [],
   "source": [
    "#mallet_path = './data/mallet-2.0.8/bin/mallet' # update this path\n",
    "#ldamallet = gensim.models.wrappers.LdaMallet(mallet_path, corpus=corpus, num_topics=20, id2word=dct)"
   ]
  },
  {
   "cell_type": "code",
   "execution_count": null,
   "metadata": {},
   "outputs": [],
   "source": [
    "coherence_score = CoherenceModel(model=lda_model, texts=data_ready, dictionary=id2word, coherence='c_v')"
   ]
  },
  {
   "cell_type": "code",
   "execution_count": null,
   "metadata": {},
   "outputs": [],
   "source": [
    "coherence_score.get_coherence()"
   ]
  },
  {
   "cell_type": "code",
   "execution_count": null,
   "metadata": {},
   "outputs": [],
   "source": [
    "def compute_coherence_values(dictionary, corpus, texts, limit, start=2, step=3):\n",
    "    \"\"\"\n",
    "    Compute c_v coherence for various number of topics\n",
    "\n",
    "    Parameters:\n",
    "    ----------\n",
    "    dictionary : Gensim dictionary\n",
    "    corpus : Gensim corpus\n",
    "    texts : List of input texts\n",
    "    limit : Max num of topics\n",
    "\n",
    "    Returns:\n",
    "    -------\n",
    "    model_list : List of LDA topic models\n",
    "    coherence_values : Coherence values corresponding to the LDA model with respective number of topics\n",
    "    \"\"\"\n",
    "    coherence_values = []\n",
    "    model_list = []\n",
    "    for num_topics in range(start, limit, step):\n",
    "        print(f\"Model with {num_topics} topics\")\n",
    "        print(f\"Fitting model {num_topics} out of {limit-1}\")\n",
    "        #model=LdaMulticore(corpus=corpus, id2word=dictionary, num_topics=num_topics,random_state=42)\n",
    "        model=LdaMulticore(corpus=corpus,\n",
    "                           id2word=dictionary,\n",
    "                           num_topics=num_topics, \n",
    "                           random_state=100,\n",
    "                           chunksize=100,\n",
    "                           passes=10,\n",
    "                           iterations=100,\n",
    "                           per_word_topics=True)\n",
    "        model_list.append(model)\n",
    "        coherencemodel = CoherenceModel(model=model, texts=texts, dictionary=dictionary, coherence='c_v',processes=1)\n",
    "        print(f\"Finding the coherence score of model {num_topics} \")\n",
    "        coherence_values.append(coherencemodel.get_coherence())\n",
    "\n",
    "    return model_list, coherence_values"
   ]
  },
  {
   "cell_type": "code",
   "execution_count": null,
   "metadata": {},
   "outputs": [],
   "source": [
    "model_list, coherence_values = compute_coherence_values(dictionary=id2word, corpus=corpus, texts=data_ready, start=4, limit=11, step=1)"
   ]
  },
  {
   "cell_type": "code",
   "execution_count": null,
   "metadata": {},
   "outputs": [],
   "source": [
    "coherence_values"
   ]
  },
  {
   "cell_type": "code",
   "execution_count": null,
   "metadata": {},
   "outputs": [],
   "source": [
    "# Show graph\n",
    "plt.figure(figsize=(10,6))\n",
    "#limit=11; start=5; step=1;\n",
    "x = range(5, 11)\n",
    "plt.plot(x, coherence_values,label='c_v coherence values')\n",
    "plt.xlabel(\"Num Topics\")\n",
    "plt.ylabel(\"Coherence score\")\n",
    "plt.legend()\n",
    "plt.show()"
   ]
  },
  {
   "cell_type": "code",
   "execution_count": null,
   "metadata": {},
   "outputs": [],
   "source": [
    "def compute_coherence_values(dictionary, corpus, texts, limit, start=2, step=3):\n",
    "    \"\"\"\n",
    "    Compute c_v coherence for various number of topics\n",
    "\n",
    "    Parameters:\n",
    "    ----------\n",
    "    dictionary : Gensim dictionary\n",
    "    corpus : Gensim corpus\n",
    "    texts : List of input texts\n",
    "    limit : Max num of topics\n",
    "\n",
    "    Returns:\n",
    "    -------\n",
    "    model_list : List of LDA topic models\n",
    "    coherence_values : Coherence values corresponding to the LDA model with respective number of topics\n",
    "    \"\"\"\n",
    "    coherence_values = []\n",
    "    model_list = []\n",
    "    for num_topics in range(start, limit, step):\n",
    "        print(f\"Model with {num_topics} topics\")\n",
    "        print(f\"Fitting model {num_topics} out of {limit-1}\")\n",
    "        #model=LdaMulticore(corpus=corpus, id2word=dictionary, num_topics=num_topics,random_state=42)\n",
    "        model=LdaModel(corpus=corpus,\n",
    "                           id2word=dictionary,\n",
    "                           num_topics=num_topics, \n",
    "                           random_state=100,\n",
    "                           chunksize=100,\n",
    "                           passes=10,\n",
    "                           iterations=100,\n",
    "                           per_word_topics=True)\n",
    "        model_list.append(model)\n",
    "        coherencemodel = CoherenceModel(model=model, texts=texts, dictionary=dictionary, coherence='c_v',processes=1)\n",
    "        print(f\"Finding the coherence score of model {num_topics} \")\n",
    "        coherence_values.append(coherencemodel.get_coherence())\n",
    "\n",
    "    return model_list, coherence_values"
   ]
  },
  {
   "cell_type": "code",
   "execution_count": null,
   "metadata": {},
   "outputs": [],
   "source": [
    "model_list, coherence_values = compute_coherence_values(dictionary=id2word, corpus=corpus, texts=data_ready, start=5, limit=11, step=1)"
   ]
  },
  {
   "cell_type": "code",
   "execution_count": null,
   "metadata": {},
   "outputs": [],
   "source": [
    "# Show graph\n",
    "plt.figure(figsize=(10,6))\n",
    "#limit=11; start=5; step=1;\n",
    "x = range(5, 11)\n",
    "plt.plot(x, coherence_values,label='c_v coherence values')\n",
    "plt.xlabel(\"Num Topics\")\n",
    "plt.ylabel(\"Coherence score\")\n",
    "plt.legend()\n",
    "plt.show()"
   ]
  },
  {
   "cell_type": "code",
   "execution_count": null,
   "metadata": {},
   "outputs": [],
   "source": [
    "coherence_values"
   ]
  },
  {
   "cell_type": "code",
   "execution_count": null,
   "metadata": {},
   "outputs": [],
   "source": [
    "optimal_model = model_list[0]"
   ]
  },
  {
   "cell_type": "code",
   "execution_count": null,
   "metadata": {},
   "outputs": [],
   "source": [
    "pprint(optimal_model.print_topics())"
   ]
  },
  {
   "cell_type": "code",
   "execution_count": null,
   "metadata": {},
   "outputs": [],
   "source": [
    "# 1. Wordcloud of Top N words in each topic\n",
    "from wordcloud import WordCloud, STOPWORDS\n",
    "import matplotlib.colors as mcolors\n",
    "\n",
    "cols = [color for name, color in mcolors.TABLEAU_COLORS.items()]  # more colors: 'mcolors.XKCD_COLORS'\n",
    "\n",
    "cloud = WordCloud(stopwords=stop_words,\n",
    "                  background_color='white',\n",
    "                  width=2500,\n",
    "                  height=1800,\n",
    "                  max_words=10,\n",
    "                  colormap='tab10',\n",
    "                  color_func=lambda *args, **kwargs: cols[i],\n",
    "                  prefer_horizontal=1.0)\n",
    "\n",
    "topics = optimal_model.show_topics(formatted=False)\n",
    "\n",
    "fig, axes = plt.subplots(1, 5, figsize=(15,15), sharex=True, sharey=True)\n",
    "\n",
    "for i, ax in enumerate(axes.flatten()):\n",
    "    fig.add_subplot(ax)\n",
    "    topic_words = dict(topics[i][1])\n",
    "    cloud.generate_from_frequencies(topic_words, max_font_size=300)\n",
    "    plt.gca().imshow(cloud)\n",
    "    plt.gca().set_title('Topic ' + str(i), fontdict=dict(size=16))\n",
    "    plt.gca().axis('off')\n",
    "\n",
    "\n",
    "plt.subplots_adjust(wspace=0, hspace=0)\n",
    "plt.axis('off')\n",
    "plt.margins(x=0, y=0)\n",
    "plt.tight_layout()\n",
    "plt.show()"
   ]
  },
  {
   "cell_type": "code",
   "execution_count": null,
   "metadata": {},
   "outputs": [],
   "source": [
    "def compute_coherence_values(dictionary, corpus, texts, limit, start=2, step=3):\n",
    "    \"\"\"\n",
    "    Compute c_v coherence for various number of topics\n",
    "\n",
    "    Parameters:\n",
    "    ----------\n",
    "    dictionary : Gensim dictionary\n",
    "    corpus : Gensim corpus\n",
    "    texts : List of input texts\n",
    "    limit : Max num of topics\n",
    "\n",
    "    Returns:\n",
    "    -------\n",
    "    model_list : List of LDA topic models\n",
    "    coherence_values : Coherence values corresponding to the LDA model with respective number of topics\n",
    "    \"\"\"\n",
    "    coherence_values = []\n",
    "    model_list = []\n",
    "    for num_topics in range(start, limit, step):\n",
    "        print(f\"Model with {num_topics} topics\")\n",
    "        print(f\"Fitting model {num_topics} out of {limit-1}...\")\n",
    "        #model=LdaMulticore(corpus=corpus, id2word=dictionary, num_topics=num_topics,random_state=42)\n",
    "        model=LdaModel(corpus=corpus,\n",
    "                           id2word=dictionary,\n",
    "                           num_topics=num_topics, \n",
    "                           random_state=42,\n",
    "                           chunksize=100,\n",
    "                           passes=10,\n",
    "                           iterations=100,\n",
    "                           per_word_topics=True)\n",
    "        model_list.append(model)\n",
    "        coherencemodel = CoherenceModel(model=model, texts=texts, dictionary=dictionary, coherence='c_v',processes=1)\n",
    "        print(f\"Finding the coherence score of model {num_topics} ...\")\n",
    "        coherence_values.append(coherencemodel.get_coherence())\n",
    "\n",
    "    return model_list, coherence_values"
   ]
  },
  {
   "cell_type": "code",
   "execution_count": null,
   "metadata": {},
   "outputs": [],
   "source": [
    "model_list, coherence_values = compute_coherence_values(dictionary=id2word, corpus=corpus, texts=data_ready, start=4, limit=11, step=1)"
   ]
  },
  {
   "cell_type": "code",
   "execution_count": null,
   "metadata": {},
   "outputs": [],
   "source": [
    "# Show graph\n",
    "plt.figure(figsize=(10,6))\n",
    "#limit=11; start=5; step=1;\n",
    "x = range(4, 11)\n",
    "plt.plot(x, coherence_values,label='c_v coherence values')\n",
    "plt.xlabel(\"Num Topics\")\n",
    "plt.ylabel(\"Coherence score\")\n",
    "plt.legend()\n",
    "plt.show()"
   ]
  },
  {
   "cell_type": "code",
   "execution_count": null,
   "metadata": {},
   "outputs": [],
   "source": []
  }
 ],
 "metadata": {
  "kernelspec": {
   "display_name": "Python 3",
   "language": "python",
   "name": "python3"
  },
  "language_info": {
   "codemirror_mode": {
    "name": "ipython",
    "version": 3
   },
   "file_extension": ".py",
   "mimetype": "text/x-python",
   "name": "python",
   "nbconvert_exporter": "python",
   "pygments_lexer": "ipython3",
   "version": "3.7.6"
  }
 },
 "nbformat": 4,
 "nbformat_minor": 4
}
