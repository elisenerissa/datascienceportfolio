{
 "cells": [
  {
   "cell_type": "markdown",
   "metadata": {},
   "source": [
    "# Context"
   ]
  },
  {
   "cell_type": "markdown",
   "metadata": {},
   "source": [
    "This project aims to build **a classification model that will be able to correctly identify which subreddit a post belongs to**. Such a classification model may be **useful for Reddit as a company or even a subreddit moderators* to make sure that the posts that are shown on the subreddit are relevant to the community.**\n",
    "\n",
    "\n",
    "**The scope of this project** is limited to two very similar subreddits, namely: [r/COVID19_support](https://www.reddit.com/r/COVID19_support/) and [r/COVID19positive](https://www.reddit.com/r/COVID19positive/).\n",
    "\n",
    "These two subreddits are chosen as their names are very similar and hence, some users may not be posting at the right subreddit. These two subreddits are actually created for **very different purposes:**\n",
    "\n",
    ">**COVID19_support** is a subreddit **offering help and support** for those people who are **affected by the current COVID situation**. However, it is not really for people who are infected by the virus. It is for those who are **affected financially, emotionally or mentally.** For example, there are people who **lost their jobs or people who simply feel depressed because they are staying alone without any social interactions.**\n",
    "\n",
    "\n",
    ">**COVID19positive** is for those who **have been infected by the virus to share their experience and support those who suspect that they may have the virus/have family members who have been infected.**\n",
    "\n",
    "\n",
    "Even though, these two subreddits may sound similar in nature, it is important that **the right posts are showing up on the two subreddits so that people who have gone through similar experience will be able to support/comfort those who need help.** For instance, if people start ranting about being jobless on COVID19 positive channel, it will be frustrating for those who are actually looking for advice/help on swab-test/treatment options. Similary, if a suspected COVID19 person is seeking for advice regarding treatment will not be able to find very constructive advice on COVID19_support subreddit. \n",
    "\n",
    "\n",
    "\n",
    "* Note: subreddit moderators: people who are responsible for maintaining a particular subreddit"
   ]
  },
  {
   "cell_type": "markdown",
   "metadata": {},
   "source": [
    "# Problem Statement"
   ]
  },
  {
   "cell_type": "markdown",
   "metadata": {},
   "source": [
    "This report will help us do the following things: \n",
    "\n",
    "- Create a model that will **identify if a post should belong to COVID19_support or COVID19positive subreddit** using the **post title and content**\n",
    "- Identify **unique features/words that frequently occur** in each subreddit"
   ]
  },
  {
   "cell_type": "markdown",
   "metadata": {},
   "source": [
    "I will be comparing two different models: **Logistic Regression and Naive Bayes Model**. Since in this context, **correctly identifying one subreddit is not more important than the other,** I will be using **accuracy score as the main metric to evaluate my models**\n",
    "\n",
    "\n",
    "**Covid19 Support will be classified as Class 1** while **COVID19 Positive will be classified as class 0**"
   ]
  },
  {
   "cell_type": "markdown",
   "metadata": {},
   "source": [
    "---"
   ]
  },
  {
   "cell_type": "markdown",
   "metadata": {},
   "source": [
    "# Content"
   ]
  },
  {
   "cell_type": "markdown",
   "metadata": {},
   "source": [
    "Please refer to this notebook for the codes on data collection: [Project 3: COVID Subreddits Part 1](https://github.com/elisenerissa/dsiprojects/blob/master/project_3/Project%203%20-%20Part%201%20Covid.ipynb)\n",
    "\n",
    "- [Data Import and Cleaning](#Data-Import-and-Cleaning)\n",
    "- [Exploratory Data Analysis](#Exploratory-Data-Analysis)\n",
    "- [Data Pre-processing](#Pre-processing)\n",
    "- [Modeling](#Modeling)\n",
    "- [Findings and Analysis](#Inferential-Findings-and-Analysis)\n",
    "- [Conclusion](#Conclusion)\n",
    "- [Recommendations](#Recommendations)\n",
    "- [Future Steps](#Future-Steps)"
   ]
  },
  {
   "cell_type": "markdown",
   "metadata": {},
   "source": [
    "## Import Libraries"
   ]
  },
  {
   "cell_type": "code",
   "execution_count": 1,
   "metadata": {},
   "outputs": [],
   "source": [
    "import pandas as pd\n",
    "import numpy as np\n",
    "import matplotlib.pyplot as plt\n",
    "\n",
    "import re\n",
    "from bs4 import BeautifulSoup\n",
    "from nltk.corpus import stopwords \n",
    "from nltk.stem.porter import PorterStemmer\n",
    "from sklearn.feature_extraction.text import CountVectorizer,TfidfVectorizer\n",
    "from sklearn.model_selection import train_test_split, GridSearchCV\n",
    "\n",
    "plt.style.use('fivethirtyeight')\n",
    "%matplotlib inline\n",
    "\n",
    "#more libraries will be imported along the way"
   ]
  },
  {
   "cell_type": "markdown",
   "metadata": {},
   "source": [
    "# Data Import and Cleaning"
   ]
  },
  {
   "cell_type": "markdown",
   "metadata": {},
   "source": [
    "### Data Import"
   ]
  },
  {
   "cell_type": "code",
   "execution_count": 2,
   "metadata": {},
   "outputs": [],
   "source": [
    "#reading in the two csv files that were previously collected on previous notebook\n",
    "\n",
    "covid_pos = pd.read_csv('./datasets/covid_positive.csv')\n",
    "covid_support = pd.read_csv('./datasets/covid_support.csv')"
   ]
  },
  {
   "cell_type": "code",
   "execution_count": 3,
   "metadata": {},
   "outputs": [
    {
     "data": {
      "text/html": [
       "<div>\n",
       "<style scoped>\n",
       "    .dataframe tbody tr th:only-of-type {\n",
       "        vertical-align: middle;\n",
       "    }\n",
       "\n",
       "    .dataframe tbody tr th {\n",
       "        vertical-align: top;\n",
       "    }\n",
       "\n",
       "    .dataframe thead th {\n",
       "        text-align: right;\n",
       "    }\n",
       "</style>\n",
       "<table border=\"1\" class=\"dataframe\">\n",
       "  <thead>\n",
       "    <tr style=\"text-align: right;\">\n",
       "      <th></th>\n",
       "      <th>approved_at_utc</th>\n",
       "      <th>subreddit</th>\n",
       "      <th>selftext</th>\n",
       "      <th>author_fullname</th>\n",
       "      <th>saved</th>\n",
       "      <th>mod_reason_title</th>\n",
       "      <th>gilded</th>\n",
       "      <th>clicked</th>\n",
       "      <th>title</th>\n",
       "      <th>link_flair_richtext</th>\n",
       "      <th>...</th>\n",
       "      <th>num_crossposts</th>\n",
       "      <th>media</th>\n",
       "      <th>is_video</th>\n",
       "      <th>link_flair_template_id</th>\n",
       "      <th>post_hint</th>\n",
       "      <th>preview</th>\n",
       "      <th>crosspost_parent_list</th>\n",
       "      <th>crosspost_parent</th>\n",
       "      <th>poll_data</th>\n",
       "      <th>author_cakeday</th>\n",
       "    </tr>\n",
       "  </thead>\n",
       "  <tbody>\n",
       "    <tr>\n",
       "      <th>0</th>\n",
       "      <td>NaN</td>\n",
       "      <td>COVID19positive</td>\n",
       "      <td>As per the rules, posts are only allowed to be...</td>\n",
       "      <td>t2_6l4z3</td>\n",
       "      <td>False</td>\n",
       "      <td>NaN</td>\n",
       "      <td>0</td>\n",
       "      <td>False</td>\n",
       "      <td>Daily Discussion - May 09, 2020</td>\n",
       "      <td>[]</td>\n",
       "      <td>...</td>\n",
       "      <td>0</td>\n",
       "      <td>NaN</td>\n",
       "      <td>False</td>\n",
       "      <td>NaN</td>\n",
       "      <td>NaN</td>\n",
       "      <td>NaN</td>\n",
       "      <td>NaN</td>\n",
       "      <td>NaN</td>\n",
       "      <td>NaN</td>\n",
       "      <td>NaN</td>\n",
       "    </tr>\n",
       "    <tr>\n",
       "      <th>1</th>\n",
       "      <td>NaN</td>\n",
       "      <td>COVID19positive</td>\n",
       "      <td>As per the rules, posts are only allowed to be...</td>\n",
       "      <td>t2_6l4z3</td>\n",
       "      <td>False</td>\n",
       "      <td>NaN</td>\n",
       "      <td>0</td>\n",
       "      <td>False</td>\n",
       "      <td>Weekly \"I Think I Have It\" Thread - Week of Ma...</td>\n",
       "      <td>[]</td>\n",
       "      <td>...</td>\n",
       "      <td>0</td>\n",
       "      <td>NaN</td>\n",
       "      <td>False</td>\n",
       "      <td>NaN</td>\n",
       "      <td>NaN</td>\n",
       "      <td>NaN</td>\n",
       "      <td>NaN</td>\n",
       "      <td>NaN</td>\n",
       "      <td>NaN</td>\n",
       "      <td>NaN</td>\n",
       "    </tr>\n",
       "  </tbody>\n",
       "</table>\n",
       "<p>2 rows × 110 columns</p>\n",
       "</div>"
      ],
      "text/plain": [
       "   approved_at_utc        subreddit  \\\n",
       "0              NaN  COVID19positive   \n",
       "1              NaN  COVID19positive   \n",
       "\n",
       "                                            selftext author_fullname  saved  \\\n",
       "0  As per the rules, posts are only allowed to be...        t2_6l4z3  False   \n",
       "1  As per the rules, posts are only allowed to be...        t2_6l4z3  False   \n",
       "\n",
       "   mod_reason_title  gilded  clicked  \\\n",
       "0               NaN       0    False   \n",
       "1               NaN       0    False   \n",
       "\n",
       "                                               title link_flair_richtext  ...  \\\n",
       "0                    Daily Discussion - May 09, 2020                  []  ...   \n",
       "1  Weekly \"I Think I Have It\" Thread - Week of Ma...                  []  ...   \n",
       "\n",
       "  num_crossposts  media  is_video  link_flair_template_id  post_hint  preview  \\\n",
       "0              0    NaN     False                     NaN        NaN      NaN   \n",
       "1              0    NaN     False                     NaN        NaN      NaN   \n",
       "\n",
       "   crosspost_parent_list crosspost_parent  poll_data author_cakeday  \n",
       "0                    NaN              NaN        NaN            NaN  \n",
       "1                    NaN              NaN        NaN            NaN  \n",
       "\n",
       "[2 rows x 110 columns]"
      ]
     },
     "execution_count": 3,
     "metadata": {},
     "output_type": "execute_result"
    }
   ],
   "source": [
    "#showing the first two rows of covid positive dataframe\n",
    "covid_pos.head(2)"
   ]
  },
  {
   "cell_type": "code",
   "execution_count": 4,
   "metadata": {},
   "outputs": [
    {
     "data": {
      "text/html": [
       "<div>\n",
       "<style scoped>\n",
       "    .dataframe tbody tr th:only-of-type {\n",
       "        vertical-align: middle;\n",
       "    }\n",
       "\n",
       "    .dataframe tbody tr th {\n",
       "        vertical-align: top;\n",
       "    }\n",
       "\n",
       "    .dataframe thead th {\n",
       "        text-align: right;\n",
       "    }\n",
       "</style>\n",
       "<table border=\"1\" class=\"dataframe\">\n",
       "  <thead>\n",
       "    <tr style=\"text-align: right;\">\n",
       "      <th></th>\n",
       "      <th>approved_at_utc</th>\n",
       "      <th>subreddit</th>\n",
       "      <th>selftext</th>\n",
       "      <th>author_fullname</th>\n",
       "      <th>saved</th>\n",
       "      <th>mod_reason_title</th>\n",
       "      <th>gilded</th>\n",
       "      <th>clicked</th>\n",
       "      <th>title</th>\n",
       "      <th>link_flair_richtext</th>\n",
       "      <th>...</th>\n",
       "      <th>url</th>\n",
       "      <th>subreddit_subscribers</th>\n",
       "      <th>created_utc</th>\n",
       "      <th>num_crossposts</th>\n",
       "      <th>media</th>\n",
       "      <th>is_video</th>\n",
       "      <th>post_hint</th>\n",
       "      <th>preview</th>\n",
       "      <th>crosspost_parent_list</th>\n",
       "      <th>crosspost_parent</th>\n",
       "    </tr>\n",
       "  </thead>\n",
       "  <tbody>\n",
       "    <tr>\n",
       "      <th>0</th>\n",
       "      <td>NaN</td>\n",
       "      <td>COVID19_support</td>\n",
       "      <td>**New Users**\\n\\nPlease contact the moderators...</td>\n",
       "      <td>t2_5bwlzn40</td>\n",
       "      <td>False</td>\n",
       "      <td>NaN</td>\n",
       "      <td>0</td>\n",
       "      <td>False</td>\n",
       "      <td>NEW Welcome, Approvals and Flairs</td>\n",
       "      <td>[{'e': 'text', 't': 'News'}]</td>\n",
       "      <td>...</td>\n",
       "      <td>https://www.reddit.com/r/COVID19_support/comme...</td>\n",
       "      <td>22503</td>\n",
       "      <td>1.585290e+09</td>\n",
       "      <td>0</td>\n",
       "      <td>NaN</td>\n",
       "      <td>False</td>\n",
       "      <td>NaN</td>\n",
       "      <td>NaN</td>\n",
       "      <td>NaN</td>\n",
       "      <td>NaN</td>\n",
       "    </tr>\n",
       "    <tr>\n",
       "      <th>1</th>\n",
       "      <td>NaN</td>\n",
       "      <td>COVID19_support</td>\n",
       "      <td>Plenty of good news from around the world this...</td>\n",
       "      <td>t2_qi9u7</td>\n",
       "      <td>False</td>\n",
       "      <td>NaN</td>\n",
       "      <td>0</td>\n",
       "      <td>False</td>\n",
       "      <td>WEEKLY GOOD NEWS STICKY: 4-10 May 2020</td>\n",
       "      <td>[]</td>\n",
       "      <td>...</td>\n",
       "      <td>https://www.reddit.com/r/COVID19_support/comme...</td>\n",
       "      <td>22503</td>\n",
       "      <td>1.588543e+09</td>\n",
       "      <td>0</td>\n",
       "      <td>NaN</td>\n",
       "      <td>False</td>\n",
       "      <td>self</td>\n",
       "      <td>{'images': [{'source': {'url': 'https://extern...</td>\n",
       "      <td>NaN</td>\n",
       "      <td>NaN</td>\n",
       "    </tr>\n",
       "  </tbody>\n",
       "</table>\n",
       "<p>2 rows × 108 columns</p>\n",
       "</div>"
      ],
      "text/plain": [
       "   approved_at_utc        subreddit  \\\n",
       "0              NaN  COVID19_support   \n",
       "1              NaN  COVID19_support   \n",
       "\n",
       "                                            selftext author_fullname  saved  \\\n",
       "0  **New Users**\\n\\nPlease contact the moderators...     t2_5bwlzn40  False   \n",
       "1  Plenty of good news from around the world this...        t2_qi9u7  False   \n",
       "\n",
       "   mod_reason_title  gilded  clicked                                   title  \\\n",
       "0               NaN       0    False       NEW Welcome, Approvals and Flairs   \n",
       "1               NaN       0    False  WEEKLY GOOD NEWS STICKY: 4-10 May 2020   \n",
       "\n",
       "            link_flair_richtext  ...  \\\n",
       "0  [{'e': 'text', 't': 'News'}]  ...   \n",
       "1                            []  ...   \n",
       "\n",
       "                                                 url  subreddit_subscribers  \\\n",
       "0  https://www.reddit.com/r/COVID19_support/comme...                  22503   \n",
       "1  https://www.reddit.com/r/COVID19_support/comme...                  22503   \n",
       "\n",
       "    created_utc num_crossposts  media  is_video  post_hint  \\\n",
       "0  1.585290e+09              0    NaN     False        NaN   \n",
       "1  1.588543e+09              0    NaN     False       self   \n",
       "\n",
       "                                             preview  crosspost_parent_list  \\\n",
       "0                                                NaN                    NaN   \n",
       "1  {'images': [{'source': {'url': 'https://extern...                    NaN   \n",
       "\n",
       "  crosspost_parent  \n",
       "0              NaN  \n",
       "1              NaN  \n",
       "\n",
       "[2 rows x 108 columns]"
      ]
     },
     "execution_count": 4,
     "metadata": {},
     "output_type": "execute_result"
    }
   ],
   "source": [
    "#showing the first two rows of covid support dataframe\n",
    "covid_support.head(2)"
   ]
  },
  {
   "cell_type": "markdown",
   "metadata": {},
   "source": [
    "### Data Cleaning : Covid Positive Subreddit"
   ]
  },
  {
   "cell_type": "markdown",
   "metadata": {},
   "source": [
    "**Removing Duplicates**"
   ]
  },
  {
   "cell_type": "code",
   "execution_count": 5,
   "metadata": {},
   "outputs": [
    {
     "data": {
      "text/plain": [
       "(980, 110)"
      ]
     },
     "execution_count": 5,
     "metadata": {},
     "output_type": "execute_result"
    }
   ],
   "source": [
    "#shape of covid positive dataframe\n",
    "covid_pos.shape"
   ]
  },
  {
   "cell_type": "code",
   "execution_count": 6,
   "metadata": {},
   "outputs": [
    {
     "data": {
      "text/plain": [
       "34"
      ]
     },
     "execution_count": 6,
     "metadata": {},
     "output_type": "execute_result"
    }
   ],
   "source": [
    "#find out how many duplicate posts there are\n",
    "covid_pos.duplicated(subset=['title','selftext']).sum()"
   ]
  },
  {
   "cell_type": "code",
   "execution_count": 7,
   "metadata": {},
   "outputs": [],
   "source": [
    "#drop the duplicates\n",
    "covid_pos.drop_duplicates(subset = ['title','selftext'],keep='first',inplace=True)"
   ]
  },
  {
   "cell_type": "code",
   "execution_count": 8,
   "metadata": {},
   "outputs": [
    {
     "data": {
      "text/plain": [
       "(946, 110)"
      ]
     },
     "execution_count": 8,
     "metadata": {},
     "output_type": "execute_result"
    }
   ],
   "source": [
    "#checking that the duplicated rows have been dropped\n",
    "covid_pos.shape"
   ]
  },
  {
   "cell_type": "code",
   "execution_count": 9,
   "metadata": {},
   "outputs": [],
   "source": [
    "def all_text(row):\n",
    "    \"\"\" a function to merge the title and selftext of the posts\"\"\"\n",
    "    row['posts'] = str(row['title']) + \" \" + str(row['selftext'])\n",
    "    return row "
   ]
  },
  {
   "cell_type": "code",
   "execution_count": 10,
   "metadata": {},
   "outputs": [],
   "source": [
    "#merging title and selftext on covid posts under a column called posts\n",
    "covid_pos = covid_pos.apply(all_text, axis=1)"
   ]
  },
  {
   "cell_type": "code",
   "execution_count": 11,
   "metadata": {},
   "outputs": [
    {
     "data": {
      "text/plain": [
       "'05/16/20'"
      ]
     },
     "execution_count": 11,
     "metadata": {},
     "output_type": "execute_result"
    }
   ],
   "source": [
    "#May 16, 2020\n",
    "#convert date to age. assuming that today is 16th May 2020\n",
    "import datetime\n",
    "\n",
    "may_16 = datetime.datetime(2020, 5, 16)\n",
    "may_16.strftime(\"%x\")"
   ]
  },
  {
   "cell_type": "code",
   "execution_count": 12,
   "metadata": {},
   "outputs": [],
   "source": [
    "import time\n",
    "\n",
    "def convert_time(timestamp):\n",
    "    \"\"\"to convert unix timestamp to human readable date format\"\"\"\n",
    "    ts = time.gmtime(timestamp)\n",
    "    date = time.strftime(\"%x\", ts)\n",
    "    return date\n",
    "\n",
    "#create a new column called date\n",
    "covid_pos ['date'] = covid_pos['created_utc'].map(convert_time)\n",
    "covid_pos ['date'] = pd.to_datetime(covid_pos ['date'])\n",
    "covid_pos['may_16'] = may_16"
   ]
  },
  {
   "cell_type": "code",
   "execution_count": 13,
   "metadata": {},
   "outputs": [],
   "source": [
    "#create a new column called age (May 16 - the date of the post )\n",
    "covid_pos['age'] = covid_pos['may_16'] - covid_pos['date'] "
   ]
  },
  {
   "cell_type": "code",
   "execution_count": 14,
   "metadata": {},
   "outputs": [],
   "source": [
    "#convert the age format to days\n",
    "covid_pos['age']= covid_pos['age'].dt.days"
   ]
  },
  {
   "cell_type": "markdown",
   "metadata": {},
   "source": [
    "As future deployment of the model will be **done using only the title and content of the posts** (based on problem statement), we will not be using any of the other features from the data that we have collected. However, we will explore some of the interesting features to understand more about each subreddits."
   ]
  },
  {
   "cell_type": "code",
   "execution_count": 15,
   "metadata": {},
   "outputs": [],
   "source": [
    "#only select the columns that are relevant\n",
    "covid_pos_sub = covid_pos[['subreddit','posts','num_comments','age','upvote_ratio']]"
   ]
  },
  {
   "cell_type": "code",
   "execution_count": 16,
   "metadata": {},
   "outputs": [
    {
     "data": {
      "text/plain": [
       "subreddit       0\n",
       "posts           0\n",
       "num_comments    0\n",
       "age             0\n",
       "upvote_ratio    0\n",
       "dtype: int64"
      ]
     },
     "execution_count": 16,
     "metadata": {},
     "output_type": "execute_result"
    }
   ],
   "source": [
    "#checking for null values for relevant columns \n",
    "covid_pos_sub.isnull().sum()"
   ]
  },
  {
   "cell_type": "code",
   "execution_count": 17,
   "metadata": {},
   "outputs": [
    {
     "data": {
      "text/plain": [
       "subreddit        object\n",
       "posts            object\n",
       "num_comments      int64\n",
       "age               int64\n",
       "upvote_ratio    float64\n",
       "dtype: object"
      ]
     },
     "execution_count": 17,
     "metadata": {},
     "output_type": "execute_result"
    }
   ],
   "source": [
    "covid_pos_sub.dtypes"
   ]
  },
  {
   "cell_type": "markdown",
   "metadata": {},
   "source": [
    "No null values and the data types are correct"
   ]
  },
  {
   "cell_type": "code",
   "execution_count": 18,
   "metadata": {},
   "outputs": [
    {
     "data": {
      "text/plain": [
       "(946, 5)"
      ]
     },
     "execution_count": 18,
     "metadata": {},
     "output_type": "execute_result"
    }
   ],
   "source": [
    "#confirm the shape\n",
    "covid_pos_sub.shape"
   ]
  },
  {
   "cell_type": "markdown",
   "metadata": {},
   "source": [
    "### Data Cleaning : Covid Support Subreddit"
   ]
  },
  {
   "cell_type": "markdown",
   "metadata": {},
   "source": [
    "#### Remove Duplicates"
   ]
  },
  {
   "cell_type": "code",
   "execution_count": 19,
   "metadata": {},
   "outputs": [
    {
     "data": {
      "text/plain": [
       "(827, 108)"
      ]
     },
     "execution_count": 19,
     "metadata": {},
     "output_type": "execute_result"
    }
   ],
   "source": [
    "#showing the shape of covid support dataframe\n",
    "covid_support.shape"
   ]
  },
  {
   "cell_type": "code",
   "execution_count": 20,
   "metadata": {},
   "outputs": [
    {
     "data": {
      "text/plain": [
       "2"
      ]
     },
     "execution_count": 20,
     "metadata": {},
     "output_type": "execute_result"
    }
   ],
   "source": [
    "#showing the total number of duplicates \n",
    "covid_support.duplicated(subset=['title','selftext']).sum()"
   ]
  },
  {
   "cell_type": "code",
   "execution_count": 21,
   "metadata": {},
   "outputs": [],
   "source": [
    "#drop duplicates\n",
    "covid_support.drop_duplicates(subset = ['title','selftext'],keep='first',inplace=True)"
   ]
  },
  {
   "cell_type": "code",
   "execution_count": 22,
   "metadata": {},
   "outputs": [
    {
     "data": {
      "text/plain": [
       "(825, 108)"
      ]
     },
     "execution_count": 22,
     "metadata": {},
     "output_type": "execute_result"
    }
   ],
   "source": [
    "#show the shape to verify the drop\n",
    "covid_support.shape"
   ]
  },
  {
   "cell_type": "code",
   "execution_count": 23,
   "metadata": {},
   "outputs": [],
   "source": [
    "#apply the function created earlier to merge the title and selftext into a new column called posts\n",
    "covid_support = covid_support.apply(all_text, axis=1)"
   ]
  },
  {
   "cell_type": "code",
   "execution_count": 24,
   "metadata": {},
   "outputs": [],
   "source": [
    "#create a new column called date and may_16 to calculate age \n",
    "\n",
    "covid_support['date'] = covid_support['created_utc'].map(convert_time)\n",
    "covid_support['date'] = pd.to_datetime(covid_support['date'])\n",
    "covid_support['may_16'] = may_16"
   ]
  },
  {
   "cell_type": "code",
   "execution_count": 25,
   "metadata": {},
   "outputs": [],
   "source": [
    "#create a new column called age\n",
    "covid_support['age'] = covid_support['may_16'] - covid_support['date'] "
   ]
  },
  {
   "cell_type": "code",
   "execution_count": 26,
   "metadata": {},
   "outputs": [],
   "source": [
    "#reformat age \n",
    "covid_support['age']= covid_support['age'].dt.days"
   ]
  },
  {
   "cell_type": "code",
   "execution_count": 27,
   "metadata": {},
   "outputs": [],
   "source": [
    "#taking the same subset of columns from the dataframe \n",
    "covid_support_sub = covid_support[['subreddit','posts','num_comments','age','upvote_ratio']]"
   ]
  },
  {
   "cell_type": "code",
   "execution_count": 28,
   "metadata": {},
   "outputs": [
    {
     "data": {
      "text/plain": [
       "(825, 5)"
      ]
     },
     "execution_count": 28,
     "metadata": {},
     "output_type": "execute_result"
    }
   ],
   "source": [
    "#confirming the shape of covid_support_sub\n",
    "covid_support_sub.shape"
   ]
  },
  {
   "cell_type": "code",
   "execution_count": 29,
   "metadata": {},
   "outputs": [
    {
     "data": {
      "text/plain": [
       "subreddit       0\n",
       "posts           0\n",
       "num_comments    0\n",
       "age             0\n",
       "upvote_ratio    0\n",
       "dtype: int64"
      ]
     },
     "execution_count": 29,
     "metadata": {},
     "output_type": "execute_result"
    }
   ],
   "source": [
    "#checking for null values\n",
    "covid_support_sub.isnull().sum()"
   ]
  },
  {
   "cell_type": "code",
   "execution_count": 30,
   "metadata": {},
   "outputs": [
    {
     "data": {
      "text/plain": [
       "subreddit        object\n",
       "posts            object\n",
       "num_comments      int64\n",
       "age               int64\n",
       "upvote_ratio    float64\n",
       "dtype: object"
      ]
     },
     "execution_count": 30,
     "metadata": {},
     "output_type": "execute_result"
    }
   ],
   "source": [
    "#checking for data types\n",
    "covid_support_sub.dtypes"
   ]
  },
  {
   "cell_type": "markdown",
   "metadata": {},
   "source": [
    "No null values and the data types are correct."
   ]
  },
  {
   "cell_type": "markdown",
   "metadata": {},
   "source": [
    "### Concatenate the two dataframes"
   ]
  },
  {
   "cell_type": "code",
   "execution_count": 31,
   "metadata": {},
   "outputs": [],
   "source": [
    "#concat the two dataframes \n",
    "combined_df = pd.concat([covid_pos_sub,covid_support_sub],axis=0)"
   ]
  },
  {
   "cell_type": "code",
   "execution_count": 32,
   "metadata": {},
   "outputs": [
    {
     "data": {
      "text/plain": [
       "(1771, 5)"
      ]
     },
     "execution_count": 32,
     "metadata": {},
     "output_type": "execute_result"
    }
   ],
   "source": [
    "#check the shape of the newly combined df\n",
    "combined_df.shape"
   ]
  },
  {
   "cell_type": "code",
   "execution_count": 33,
   "metadata": {},
   "outputs": [],
   "source": [
    "#reset the index\n",
    "combined_df.reset_index(drop=True,inplace=True)"
   ]
  },
  {
   "cell_type": "code",
   "execution_count": 34,
   "metadata": {},
   "outputs": [
    {
     "data": {
      "text/plain": [
       "subreddit       0\n",
       "posts           0\n",
       "num_comments    0\n",
       "age             0\n",
       "upvote_ratio    0\n",
       "dtype: int64"
      ]
     },
     "execution_count": 34,
     "metadata": {},
     "output_type": "execute_result"
    }
   ],
   "source": [
    "#check for null values\n",
    "combined_df.isnull().sum()"
   ]
  },
  {
   "cell_type": "code",
   "execution_count": 35,
   "metadata": {},
   "outputs": [],
   "source": [
    "#map the categories \n",
    "#Covid support: class 1\n",
    "#Covid positive: class 0\n",
    "combined_df['categories'] = combined_df['subreddit'].map({'COVID19_support':1,'COVID19positive':0})"
   ]
  },
  {
   "cell_type": "code",
   "execution_count": 36,
   "metadata": {},
   "outputs": [
    {
     "data": {
      "text/plain": [
       "0    0.534161\n",
       "1    0.465839\n",
       "Name: categories, dtype: float64"
      ]
     },
     "execution_count": 36,
     "metadata": {},
     "output_type": "execute_result"
    }
   ],
   "source": [
    "#checking if the two classes are balanced\n",
    "combined_df['categories'].value_counts(normalize=True)"
   ]
  },
  {
   "cell_type": "markdown",
   "metadata": {},
   "source": [
    "The proportion of our target variables are quite balanced."
   ]
  },
  {
   "cell_type": "code",
   "execution_count": 37,
   "metadata": {},
   "outputs": [],
   "source": [
    "def clean_posts(raw_post):\n",
    "    \"\"\"\n",
    "    Function to convert a raw post to a string of words that have been cleaned. \n",
    "    - HTML, non-letters will be removed\n",
    "    - words will be converted to lowercase\n",
    "    - stopwords will be removed \n",
    "    - words will be stemmed to their root words\n",
    "    \n",
    "    The input is a single string, and \n",
    "    the output is a single string \n",
    "    \n",
    "    \"\"\"\n",
    "    \n",
    "    # Remove HTML.\n",
    "    post_text = BeautifulSoup(raw_post).get_text()\n",
    "    \n",
    "    # Remove non-letters.\n",
    "    letters_only = re.sub(\"[^a-zA-Z]\", \" \", post_text)\n",
    "    \n",
    "    # Convert to lower case, split into individual words.\n",
    "    words = letters_only.lower().split()\n",
    "    \n",
    "    # convert the stopwords to a set.\n",
    "    stops = set(stopwords.words('english'))\n",
    "    \n",
    "    # Remove stopwords.\n",
    "    meaningful_words = [w for w in words if w not in stops]\n",
    "    \n",
    "    # Stemming \n",
    "    p_stemmer = PorterStemmer()\n",
    "    meaningful_words = [p_stemmer.stem(w) for w in meaningful_words]\n",
    "    \n",
    "    # Join the words back into one string separated by space, \n",
    "    # and return the result.\n",
    "    return(\" \".join(meaningful_words))"
   ]
  },
  {
   "cell_type": "markdown",
   "metadata": {},
   "source": [
    "**Cleaning  Posts from Two Separate Dataframes**"
   ]
  },
  {
   "cell_type": "code",
   "execution_count": 38,
   "metadata": {},
   "outputs": [
    {
     "name": "stdout",
     "output_type": "stream",
     "text": [
      "Cleaning and parsing the covid positive posts...\n",
      "Cleaning and parsing the covid support reddit posts...\n",
      "Completed\n"
     ]
    }
   ],
   "source": [
    "# Initialize an empty list to hold the clean posts\n",
    "clean_covidpos_posts = []\n",
    "clean_covidsup_posts= []\n",
    "\n",
    "print(\"Cleaning and parsing the covid positive posts...\")\n",
    "\n",
    "# Instantiate counter.\n",
    "j = 0\n",
    "\n",
    "# For every post in covid positive dataframe\n",
    "for post in covid_pos_sub['posts']:\n",
    "    \n",
    "    # Apply the function that we created earlier to clean the posts\n",
    "    clean_covidpos_posts .append(clean_posts(post))\n",
    "    \n",
    "    j += 1\n",
    "\n",
    "\n",
    "print(\"Cleaning and parsing the covid support reddit posts...\")\n",
    "\n",
    "#For every post in covid positive dataframe\n",
    "for post in covid_support_sub['posts']:\n",
    "    \n",
    "    # Apply the function that we created earlier to clean the posts\n",
    "    clean_covidsup_posts.append(clean_posts(post))\n",
    "    j += 1\n",
    "\n",
    "print(\"Completed\")"
   ]
  },
  {
   "cell_type": "markdown",
   "metadata": {},
   "source": [
    "## Cleaning Combined DF\n",
    "\n",
    "The reason why I am cleaning the combined df is so that it will be easy to manipulate the data while doing EDA."
   ]
  },
  {
   "cell_type": "code",
   "execution_count": 39,
   "metadata": {},
   "outputs": [
    {
     "name": "stdout",
     "output_type": "stream",
     "text": [
      "Cleaning and parsing the combined posts...\n",
      "Completed\n"
     ]
    }
   ],
   "source": [
    "# Initialize an empty list to hold the clean posts\n",
    "clean_combined_posts = []\n",
    "\n",
    "print(\"Cleaning and parsing the combined posts...\")\n",
    "\n",
    "# Instantiate counter.\n",
    "j = 0\n",
    "\n",
    "# For every review in our combined dataframe\n",
    "for post in combined_df['posts']:\n",
    "    \n",
    "    # Apply the function that we created earlier to clean the posts\n",
    "    clean_combined_posts.append(clean_posts(post))\n",
    "    \n",
    "    j += 1\n",
    "\n",
    "print(\"Completed\")"
   ]
  },
  {
   "cell_type": "code",
   "execution_count": 40,
   "metadata": {},
   "outputs": [],
   "source": [
    "#adding the cleaned posts in the dataframe \n",
    "combined_df['cleaned_posts'] = clean_combined_posts"
   ]
  },
  {
   "cell_type": "code",
   "execution_count": 41,
   "metadata": {},
   "outputs": [],
   "source": [
    "#creating a word count columns\n",
    "combined_df['word_count'] = combined_df['posts'].apply(lambda x: len(str(x).split()))"
   ]
  },
  {
   "cell_type": "code",
   "execution_count": 42,
   "metadata": {},
   "outputs": [
    {
     "data": {
      "text/html": [
       "<div>\n",
       "<style scoped>\n",
       "    .dataframe tbody tr th:only-of-type {\n",
       "        vertical-align: middle;\n",
       "    }\n",
       "\n",
       "    .dataframe tbody tr th {\n",
       "        vertical-align: top;\n",
       "    }\n",
       "\n",
       "    .dataframe thead th {\n",
       "        text-align: right;\n",
       "    }\n",
       "</style>\n",
       "<table border=\"1\" class=\"dataframe\">\n",
       "  <thead>\n",
       "    <tr style=\"text-align: right;\">\n",
       "      <th></th>\n",
       "      <th>subreddit</th>\n",
       "      <th>posts</th>\n",
       "      <th>num_comments</th>\n",
       "      <th>age</th>\n",
       "      <th>upvote_ratio</th>\n",
       "      <th>categories</th>\n",
       "      <th>cleaned_posts</th>\n",
       "      <th>word_count</th>\n",
       "    </tr>\n",
       "  </thead>\n",
       "  <tbody>\n",
       "    <tr>\n",
       "      <th>0</th>\n",
       "      <td>COVID19positive</td>\n",
       "      <td>Daily Discussion - May 09, 2020 As per the rul...</td>\n",
       "      <td>1</td>\n",
       "      <td>7</td>\n",
       "      <td>1.00</td>\n",
       "      <td>0</td>\n",
       "      <td>daili discuss may per rule post allow first ha...</td>\n",
       "      <td>36</td>\n",
       "    </tr>\n",
       "    <tr>\n",
       "      <th>1</th>\n",
       "      <td>COVID19positive</td>\n",
       "      <td>Weekly \"I Think I Have It\" Thread - Week of Ma...</td>\n",
       "      <td>249</td>\n",
       "      <td>13</td>\n",
       "      <td>0.88</td>\n",
       "      <td>0</td>\n",
       "      <td>weekli think thread week may per rule post all...</td>\n",
       "      <td>43</td>\n",
       "    </tr>\n",
       "  </tbody>\n",
       "</table>\n",
       "</div>"
      ],
      "text/plain": [
       "         subreddit                                              posts  \\\n",
       "0  COVID19positive  Daily Discussion - May 09, 2020 As per the rul...   \n",
       "1  COVID19positive  Weekly \"I Think I Have It\" Thread - Week of Ma...   \n",
       "\n",
       "   num_comments  age  upvote_ratio  categories  \\\n",
       "0             1    7          1.00           0   \n",
       "1           249   13          0.88           0   \n",
       "\n",
       "                                       cleaned_posts  word_count  \n",
       "0  daili discuss may per rule post allow first ha...          36  \n",
       "1  weekli think thread week may per rule post all...          43  "
      ]
     },
     "execution_count": 42,
     "metadata": {},
     "output_type": "execute_result"
    }
   ],
   "source": [
    "#confirming the changes made to dataframe\n",
    "combined_df.head(2)"
   ]
  },
  {
   "cell_type": "code",
   "execution_count": 43,
   "metadata": {},
   "outputs": [
    {
     "data": {
      "text/plain": [
       "subreddit         object\n",
       "posts             object\n",
       "num_comments       int64\n",
       "age                int64\n",
       "upvote_ratio     float64\n",
       "categories         int64\n",
       "cleaned_posts     object\n",
       "word_count         int64\n",
       "dtype: object"
      ]
     },
     "execution_count": 43,
     "metadata": {},
     "output_type": "execute_result"
    }
   ],
   "source": [
    "#checking the datatypes of combined df after adding more columns\n",
    "combined_df.dtypes"
   ]
  },
  {
   "cell_type": "markdown",
   "metadata": {},
   "source": [
    "## Exploratory Data Analysis"
   ]
  },
  {
   "cell_type": "markdown",
   "metadata": {},
   "source": [
    "Before exploring the data, here is the data dictionary of the columns that we are going to explore:\n",
    "\n",
    "|Column Name|Data Type|Description|\n",
    "|---|---|---|\n",
    "|**subreddit**|*object*|COVID19 Positive or COVID19 Support| \n",
    "|**posts**|*object*|The title and content of posts|\n",
    "|**num_comments**|*integer*|The number of comments in each post|\n",
    "|**age**|*integer*|The age of the post (calculated from 16th May) eg. 16-05-2020 minus the date the post was created|\n",
    "|**upvote_ratio**|*float*|The percentage of upvotes over the total votes|\n",
    "|**word_count**|*integer*|The number of words in each post|\n",
    "|**categories**|*integer*|Subreddit that has been converted to integer format. COVID19 Positive is 0 and COVID19 Support is 1|"
   ]
  },
  {
   "cell_type": "code",
   "execution_count": 44,
   "metadata": {},
   "outputs": [
    {
     "data": {
      "text/html": [
       "<div>\n",
       "<style scoped>\n",
       "    .dataframe tbody tr th:only-of-type {\n",
       "        vertical-align: middle;\n",
       "    }\n",
       "\n",
       "    .dataframe tbody tr th {\n",
       "        vertical-align: top;\n",
       "    }\n",
       "\n",
       "    .dataframe thead th {\n",
       "        text-align: right;\n",
       "    }\n",
       "</style>\n",
       "<table border=\"1\" class=\"dataframe\">\n",
       "  <thead>\n",
       "    <tr style=\"text-align: right;\">\n",
       "      <th></th>\n",
       "      <th>count</th>\n",
       "      <th>mean</th>\n",
       "      <th>std</th>\n",
       "      <th>min</th>\n",
       "      <th>25%</th>\n",
       "      <th>50%</th>\n",
       "      <th>75%</th>\n",
       "      <th>max</th>\n",
       "    </tr>\n",
       "    <tr>\n",
       "      <th>categories</th>\n",
       "      <th></th>\n",
       "      <th></th>\n",
       "      <th></th>\n",
       "      <th></th>\n",
       "      <th></th>\n",
       "      <th></th>\n",
       "      <th></th>\n",
       "      <th></th>\n",
       "    </tr>\n",
       "  </thead>\n",
       "  <tbody>\n",
       "    <tr>\n",
       "      <th>0</th>\n",
       "      <td>946.0</td>\n",
       "      <td>165.445032</td>\n",
       "      <td>206.916019</td>\n",
       "      <td>2.0</td>\n",
       "      <td>53.25</td>\n",
       "      <td>107.5</td>\n",
       "      <td>202.5</td>\n",
       "      <td>2806.0</td>\n",
       "    </tr>\n",
       "    <tr>\n",
       "      <th>1</th>\n",
       "      <td>825.0</td>\n",
       "      <td>234.933333</td>\n",
       "      <td>230.088315</td>\n",
       "      <td>4.0</td>\n",
       "      <td>95.00</td>\n",
       "      <td>172.0</td>\n",
       "      <td>297.0</td>\n",
       "      <td>2182.0</td>\n",
       "    </tr>\n",
       "  </tbody>\n",
       "</table>\n",
       "</div>"
      ],
      "text/plain": [
       "            count        mean         std  min    25%    50%    75%     max\n",
       "categories                                                                 \n",
       "0           946.0  165.445032  206.916019  2.0  53.25  107.5  202.5  2806.0\n",
       "1           825.0  234.933333  230.088315  4.0  95.00  172.0  297.0  2182.0"
      ]
     },
     "execution_count": 44,
     "metadata": {},
     "output_type": "execute_result"
    }
   ],
   "source": [
    "#looking at the number of comments statistics\n",
    "combined_df.groupby('categories')['word_count'].describe()"
   ]
  },
  {
   "cell_type": "code",
   "execution_count": 45,
   "metadata": {},
   "outputs": [
    {
     "data": {
      "image/png": "[encoded data removed]",
      "text/plain": [
       "<Figure size 720x432 with 1 Axes>"
      ]
     },
     "metadata": {
      "needs_background": "light"
     },
     "output_type": "display_data"
    }
   ],
   "source": [
    "#Set figure size\n",
    "plt.figure(figsize=(10,6))\n",
    "\n",
    "#Plot histogram\n",
    "covid_pos_sub['num_comments'].plot.hist(label='Covid19 Positive',range=(0,90),bins=30,alpha=0.4)\n",
    "covid_support_sub['num_comments'].plot.hist(label= 'Covid19 Support',range=(0,90),bins=30,alpha=0.5)\n",
    "\n",
    "#Set title and labels\n",
    "plt.title(\"The number of comments of each subreddit\",fontsize=16,loc='left')\n",
    "plt.xlabel(\"Number of comments\",fontsize=12)\n",
    "\n",
    "#set the mean line\n",
    "plt.vlines(np.mean(covid_pos_sub['num_comments']), ymin = 0, ymax = 175,\n",
    "           color='blue', label = 'mean value(COVID 19 Positive)',linestyle= '--', lw=1)\n",
    "plt.vlines(np.mean(covid_support_sub['num_comments']), ymin = 0, ymax = 175,\n",
    "           color='red', label = 'mean value (COVID 19 Support)',linestyle= '--', lw=1)\n",
    "\n",
    "\n",
    "plt.legend()\n",
    "plt.show()\n",
    "\n",
    "#plt.hist(combined_df['word_count'])"
   ]
  },
  {
   "cell_type": "markdown",
   "metadata": {},
   "source": [
    "We can see that the distributions of number of comments in both subreddits are **pretty similar with an average of 14-16 comments per posts.** There are also posts that receive more than 50 comments even though there are not a lot. This histogram shows that **both communities are pretty supportive in nature.** "
   ]
  },
  {
   "cell_type": "code",
   "execution_count": 46,
   "metadata": {},
   "outputs": [
    {
     "data": {
      "image/png": "[encoded data removed]",
      "text/plain": [
       "<Figure size 720x432 with 1 Axes>"
      ]
     },
     "metadata": {
      "needs_background": "light"
     },
     "output_type": "display_data"
    }
   ],
   "source": [
    "plt.figure(figsize=(10,6))\n",
    "covid_pos_sub['age'].plot.hist(label='Covid19 Positive',range=(7,95),bins=30,alpha=0.4)\n",
    "covid_support_sub['age'].plot.hist(label= 'Covid19 Support',range=(7,100),bins=30,alpha=0.5)\n",
    "plt.title(\"The age of the posts\",fontsize=16,loc='left')\n",
    "plt.xlabel(\"Days from least recent to most recent\",fontsize=12)\n",
    "\n",
    "# Add vertical line at the date the post was collected\n",
    "plt.vlines(x=7.0,\n",
    "           ymin = 0,\n",
    "           ymax = 175,\n",
    "           label = 'collected on 10th May',\n",
    "           color='black',\n",
    "           linestyle = '--', lw=2)\n",
    "\n",
    "# Add vertical line at the date the subreddit is created\n",
    "plt.vlines(x=86.0,\n",
    "           ymin = 0,\n",
    "           ymax = 175,\n",
    "           label = 'created on 12th Feb',\n",
    "           color='pink',\n",
    "           linestyle = '--', lw=2)\n",
    "\n",
    "\n",
    "\n",
    "# Add vertical line at the date the subreddit is created\n",
    "plt.vlines(x=56.0,\n",
    "           ymin = 0,\n",
    "           ymax = 175,\n",
    "           label = 'created on 14th March',\n",
    "           color='skyblue',\n",
    "           linestyle = '--', lw=2)\n",
    "\n",
    "\n",
    "plt.gca().invert_xaxis()\n",
    "plt.legend()\n",
    "plt.show()"
   ]
  },
  {
   "cell_type": "markdown",
   "metadata": {},
   "source": [
    "We can see that the COVID19 Support only **started becoming active about 45 days ago,** which is about end of March/beginning of April. This **coincides with the time when COVID-19 started to have significant increase in the number of cases globally (largely contributed by the United States).** \n",
    "\n",
    "See graph below: \n",
    "(Source of the graph below:[Worldometer](https://www.worldometers.info/coronavirus/)). \n",
    "\n",
    "![Global Cases vs Time](./datasets/covid19_global_cases.png) \n",
    "\n",
    "The COVID19 Positive subreddit also **started becoming active much later (about 20 days later).** However, we can see that COVID19 Positive receive a lot more posts on a daily basis as compared to COVID19 Support. This is likely due to the increasing number of positive cases.\n",
    "\n",
    "On top of that, **54% of Reddit users are from US.** (Source: [Website Builder](https://websitebuilder.org/reddit-statistics/)). This may be the reason why the two subreddits started becoming very active from end of March/early April."
   ]
  },
  {
   "cell_type": "code",
   "execution_count": 47,
   "metadata": {},
   "outputs": [
    {
     "data": {
      "image/png": "[encoded data removed]",
      "text/plain": [
       "<Figure size 720x432 with 1 Axes>"
      ]
     },
     "metadata": {
      "needs_background": "light"
     },
     "output_type": "display_data"
    }
   ],
   "source": [
    "#Set figure size\n",
    "plt.figure(figsize=(10,6))\n",
    "\n",
    "#Plot histogram \n",
    "covid_pos_sub['upvote_ratio'].plot.hist(label='Covid19 Positive',range=(0.2,1),bins=30,alpha=0.4)\n",
    "covid_support_sub['upvote_ratio'].plot.hist(label= 'Covid19 Support',range=(0.2,1),bins=30,alpha=0.5)\n",
    "\n",
    "#Set title and labels\n",
    "plt.title(\"Upvote ratio of each subreddit\",fontsize=16,loc='left')\n",
    "plt.xlabel(\"Upvote ratio\",fontsize=12)\n",
    "\n",
    "#set the mean line\n",
    "plt.vlines(np.mean(covid_pos_sub['upvote_ratio']), ymin = 0, ymax = 400,\n",
    "           color='blue', label = 'mean value (COVID19 Positive)',linestyle= '--', lw=1)\n",
    "plt.vlines(np.mean(covid_support_sub['upvote_ratio']), ymin = 0, ymax = 400,\n",
    "           color='red', label = 'mean value (COVID19 Support)',linestyle= '--', lw=1)\n",
    "\n",
    "\n",
    "plt.legend()\n",
    "plt.show()"
   ]
  },
  {
   "cell_type": "markdown",
   "metadata": {},
   "source": [
    "From the histogram above, we can see that the upvote ratio is generally quite high. Again, this shows that the communities in both subreddits are pretty supportive. "
   ]
  },
  {
   "cell_type": "code",
   "execution_count": 48,
   "metadata": {},
   "outputs": [
    {
     "data": {
      "image/png": "[encoded data removed]",
      "text/plain": [
       "<Figure size 864x432 with 1 Axes>"
      ]
     },
     "metadata": {
      "needs_background": "light"
     },
     "output_type": "display_data"
    }
   ],
   "source": [
    "import seaborn as sns\n",
    "\n",
    "#set figure size\n",
    "plt.figure(figsize=(12,6))\n",
    "\n",
    "\n",
    "#plot boxplot\n",
    "word_count = sns.boxplot(data= combined_df, y= 'categories', x= 'word_count',orient='h',width=0.4,fliersize=3);\n",
    "\n",
    "#Set title and labels \n",
    "word_count.set_yticklabels(['COVID19 Positive', 'COVID19 Support']);\n",
    "word_count.set_title(\"Showing the distributions of word count in each categories\",fontsize=16,loc='left');"
   ]
  },
  {
   "cell_type": "markdown",
   "metadata": {},
   "source": [
    "There are higher number of wordcounts in COVID19 Support than COVID19 Positive Subreddits. However, this does not tell us a lot as both subreddits are considered pretty lengthy in content as they are mostly stories/rants/sharing of experiences."
   ]
  },
  {
   "cell_type": "code",
   "execution_count": 49,
   "metadata": {},
   "outputs": [],
   "source": [
    "def get_one_gram(corpus, n=None):\n",
    "    \"\"\"\n",
    "    List the top n words in a vocabulary according to occurrence in a text corpus.\n",
    "    \"\"\"\n",
    "    vec = CountVectorizer().fit(corpus)\n",
    "    bag_of_words = vec.transform(corpus)\n",
    "    sum_words = bag_of_words.sum(axis=0) \n",
    "    words_freq = [(word, sum_words[0, idx]) for word, idx in vec.vocabulary_.items()]\n",
    "    words_freq =sorted(words_freq, key = lambda x: x[1], reverse=True)\n",
    "    return words_freq[:n]"
   ]
  },
  {
   "cell_type": "code",
   "execution_count": 50,
   "metadata": {},
   "outputs": [],
   "source": [
    "#get the top 20 most frequently occuring words by applying the function above\n",
    "covidpos = dict(get_one_gram(clean_covidpos_posts,20))\n",
    "covidsup = dict(get_one_gram(clean_covidsup_posts,20))"
   ]
  },
  {
   "cell_type": "code",
   "execution_count": 51,
   "metadata": {},
   "outputs": [
    {
     "data": {
      "image/png": "[encoded data removed]",
      "text/plain": [
       "<Figure size 1080x648 with 2 Axes>"
      ]
     },
     "metadata": {
      "needs_background": "light"
     },
     "output_type": "display_data"
    }
   ],
   "source": [
    "#Create subplots\n",
    "fig, axes = plt.subplots(1,2, figsize=(15,9));\n",
    "\n",
    "#plot covid 19 positive top 20 most frequently occuring words\n",
    "plt.subplot(1,2,1)\n",
    "covid_pos = plt.barh(range(len(covidpos)), covidpos.values(),align = 'center',color='xkcd:rust');\n",
    "\n",
    "#Label axes \n",
    "plt.yticks(range(len(covidpos)),covidpos.keys(),fontsize=12);\n",
    "plt.title('Top 20 words in COVID19 Positive Subreddit')\n",
    "plt.xlabel('Frequency')\n",
    "plt.gca().invert_yaxis()\n",
    "\n",
    "\n",
    "\n",
    "#plot covid 19 support top 20 most frequently occuring words\n",
    "plt.subplot(1,2,2)\n",
    "covid_pos = plt.barh(range(len(covidsup)), covidsup.values(),align = 'center',color='xkcd:light orange');\n",
    "\n",
    "#Label axes\n",
    "plt.yticks(range(len(covidsup)),covidsup.keys(),fontsize=12);\n",
    "plt.title('Top 20 words in COVID19 Support Subreddit')\n",
    "plt.xlabel('Frequency')\n",
    "plt.gca().invert_yaxis()\n",
    "\n",
    "plt.subplots_adjust(wspace=0.9)\n",
    "plt.show()"
   ]
  },
  {
   "cell_type": "markdown",
   "metadata": {},
   "source": [
    "The above shows the top 20 words in each subreddit before they are fed into the model. I would remove **covid, positive and support** from hereon to avoid target leakage. I would also **add \"feel\" and \"like\"** into my stopwatch as they are happening so frequently in both subreddits. \n",
    "\n",
    "\n",
    "Also, it seems like there is a clear distinction of the words usage and content in these two subreddits. It seems like we will be able to answer our problem statement afterall. We will evaluate it again below."
   ]
  },
  {
   "cell_type": "markdown",
   "metadata": {},
   "source": [
    "# Pre-processing"
   ]
  },
  {
   "cell_type": "code",
   "execution_count": 52,
   "metadata": {},
   "outputs": [],
   "source": [
    "#additional stopwords added\n",
    "additional_stopwords = ['covid','positive','support','feel','like','nan']"
   ]
  },
  {
   "cell_type": "markdown",
   "metadata": {},
   "source": [
    "Note: I am also adding **nan as one of the stopwords as it appeared in my top 20 words** after I've trained my models."
   ]
  },
  {
   "cell_type": "code",
   "execution_count": 53,
   "metadata": {},
   "outputs": [],
   "source": [
    "def remove_more_stopwords(clean_post):\n",
    "    \"\"\"remove additional stop words - takes in a string of words and returns a single string\"\"\"\n",
    "    words = clean_post.lower().split()\n",
    "    meaningful_words = [w for w in words if w not in additional_stopwords]\n",
    "    return(\" \".join(meaningful_words))"
   ]
  },
  {
   "cell_type": "code",
   "execution_count": 54,
   "metadata": {},
   "outputs": [],
   "source": [
    "#removing additional stopwords from cleaned post column\n",
    "combined_df['cleaned_posts'] = combined_df['cleaned_posts'].map(remove_more_stopwords)"
   ]
  },
  {
   "cell_type": "code",
   "execution_count": 55,
   "metadata": {},
   "outputs": [],
   "source": [
    "# Create the feature and target variable\n",
    "X = combined_df['cleaned_posts']\n",
    "y = combined_df['categories']"
   ]
  },
  {
   "cell_type": "markdown",
   "metadata": {},
   "source": [
    "### Train/Test Split"
   ]
  },
  {
   "cell_type": "code",
   "execution_count": 56,
   "metadata": {},
   "outputs": [],
   "source": [
    "# Create train_test_split.\n",
    "X_train, X_test, y_train, y_test = train_test_split(X,\n",
    "                                                    y,\n",
    "                                                    test_size = 0.25,\n",
    "                                                    random_state = 42,\n",
    "                                                    stratify= y)"
   ]
  },
  {
   "cell_type": "markdown",
   "metadata": {},
   "source": [
    "# Modeling"
   ]
  },
  {
   "cell_type": "markdown",
   "metadata": {},
   "source": [
    "### Instantiating Models"
   ]
  },
  {
   "cell_type": "code",
   "execution_count": 57,
   "metadata": {},
   "outputs": [],
   "source": [
    "# Import libraries for modelling\n",
    "from sklearn.linear_model import LogisticRegression\n",
    "from sklearn.pipeline import Pipeline\n",
    "from sklearn.pipeline import make_pipeline\n",
    "from sklearn.naive_bayes import MultinomialNB"
   ]
  },
  {
   "cell_type": "markdown",
   "metadata": {},
   "source": [
    "### Baseline Model"
   ]
  },
  {
   "cell_type": "code",
   "execution_count": 58,
   "metadata": {},
   "outputs": [
    {
     "data": {
      "text/plain": [
       "0    0.533886\n",
       "1    0.466114\n",
       "Name: categories, dtype: float64"
      ]
     },
     "execution_count": 58,
     "metadata": {},
     "output_type": "execute_result"
    }
   ],
   "source": [
    "y_train.value_counts(normalize=True)\n",
    "#our baseline accuracy is 53% "
   ]
  },
  {
   "cell_type": "markdown",
   "metadata": {},
   "source": [
    "Our baseline model is giving us an accuracy of 53%. It means that if we assign **every post to class 0, we will get 53% correct**"
   ]
  },
  {
   "cell_type": "markdown",
   "metadata": {},
   "source": [
    "### Logistics Regression: CVEC vs TDIF vectorizers"
   ]
  },
  {
   "cell_type": "code",
   "execution_count": 59,
   "metadata": {},
   "outputs": [
    {
     "data": {
      "text/plain": [
       "GridSearchCV(cv=5, error_score=nan,\n",
       "             estimator=Pipeline(memory=None,\n",
       "                                steps=[('cvec',\n",
       "                                        CountVectorizer(analyzer='word',\n",
       "                                                        binary=False,\n",
       "                                                        decode_error='strict',\n",
       "                                                        dtype=<class 'numpy.int64'>,\n",
       "                                                        encoding='utf-8',\n",
       "                                                        input='content',\n",
       "                                                        lowercase=True,\n",
       "                                                        max_df=1.0,\n",
       "                                                        max_features=None,\n",
       "                                                        min_df=1,\n",
       "                                                        ngram_range=(1, 1),\n",
       "                                                        preprocessor=None,\n",
       "                                                        stop_words=None,\n",
       "                                                        strip_accents=None,\n",
       "                                                        token_pattern='(?u)...\n",
       "                                                           tol=0.0001,\n",
       "                                                           verbose=0,\n",
       "                                                           warm_start=False))],\n",
       "                                verbose=False),\n",
       "             iid='deprecated', n_jobs=-1,\n",
       "             param_grid={'cvec__max_df': [0.9, 0.95],\n",
       "                         'cvec__max_features': [2000, 3000, 4000, 5000],\n",
       "                         'cvec__min_df': [2, 3],\n",
       "                         'cvec__ngram_range': [(1, 1), (1, 2)],\n",
       "                         'lr__C': [0.01, 0.1, 1, 10],\n",
       "                         'lr__penalty': ['l1', 'l2']},\n",
       "             pre_dispatch='2*n_jobs', refit=True, return_train_score=False,\n",
       "             scoring=None, verbose=0)"
      ]
     },
     "execution_count": 59,
     "metadata": {},
     "output_type": "execute_result"
    }
   ],
   "source": [
    "#Instantiate the pipeline\n",
    "lr_cvec_pipe = Pipeline([\n",
    "    ('cvec', CountVectorizer()),\n",
    "    ('lr',LogisticRegression(random_state=42,solver='liblinear', max_iter=10000))\n",
    "])\n",
    "\n",
    "#create hyperparameters for gridsearch\n",
    "lr_cvec_params = {\n",
    "    'cvec__max_features': [2000,3000,4000,5000],\n",
    "    'cvec__min_df':[2,3],\n",
    "    'cvec__max_df':[0.9,0.95],\n",
    "    'cvec__ngram_range': [(1,1), (1,2)],\n",
    "    'lr__C':[0.01,0.1,1,10],\n",
    "    'lr__penalty': ['l1', 'l2']\n",
    "}\n",
    "\n",
    "# Instantiate GridSearchCV.\n",
    "lr_cvec_gs = GridSearchCV(lr_cvec_pipe, # what object are we optimizing?\n",
    "                  param_grid=lr_cvec_params , # what parameters values are we searching?\n",
    "                  cv=5,\n",
    "                 n_jobs=-1) \n",
    "\n",
    "#fit the model\n",
    "lr_cvec_gs.fit(X_train,y_train)"
   ]
  },
  {
   "cell_type": "code",
   "execution_count": 60,
   "metadata": {},
   "outputs": [
    {
     "data": {
      "text/plain": [
       "GridSearchCV(cv=5, error_score=nan,\n",
       "             estimator=Pipeline(memory=None,\n",
       "                                steps=[('tvec',\n",
       "                                        TfidfVectorizer(analyzer='word',\n",
       "                                                        binary=False,\n",
       "                                                        decode_error='strict',\n",
       "                                                        dtype=<class 'numpy.float64'>,\n",
       "                                                        encoding='utf-8',\n",
       "                                                        input='content',\n",
       "                                                        lowercase=True,\n",
       "                                                        max_df=1.0,\n",
       "                                                        max_features=None,\n",
       "                                                        min_df=1,\n",
       "                                                        ngram_range=(1, 1),\n",
       "                                                        norm='l2',\n",
       "                                                        preprocessor=None,\n",
       "                                                        smooth_idf=True,\n",
       "                                                        stop_words=None,\n",
       "                                                        strip_acce...\n",
       "                                                           tol=0.0001,\n",
       "                                                           verbose=0,\n",
       "                                                           warm_start=False))],\n",
       "                                verbose=False),\n",
       "             iid='deprecated', n_jobs=-1,\n",
       "             param_grid={'lr__C': [0.01, 0.1, 1, 10],\n",
       "                         'lr__penalty': ['l1', 'l2'],\n",
       "                         'tvec__max_df': [0.85, 0.9],\n",
       "                         'tvec__max_features': [500, 1000, 2000, 3000],\n",
       "                         'tvec__min_df': [2, 3],\n",
       "                         'tvec__ngram_range': [(1, 1), (1, 2)]},\n",
       "             pre_dispatch='2*n_jobs', refit=True, return_train_score=False,\n",
       "             scoring=None, verbose=0)"
      ]
     },
     "execution_count": 60,
     "metadata": {},
     "output_type": "execute_result"
    }
   ],
   "source": [
    "#instantiate pipeline\n",
    "lr_tvec_pipe = Pipeline([\n",
    "    ('tvec', TfidfVectorizer()),\n",
    "    ('lr',LogisticRegression(solver='liblinear', max_iter=10000,random_state=42))\n",
    "])\n",
    "\n",
    "#create hyperparameters for gridsearch\n",
    "lr_tvec_params = {\n",
    "    'tvec__max_features': [500,1000,2000,3000],\n",
    "    'tvec__min_df':[2,3],\n",
    "    'tvec__max_df':[0.85,0.9],\n",
    "    'tvec__ngram_range': [(1,1), (1,2)],\n",
    "    'lr__C':[0.01,0.1,1,10],\n",
    "    'lr__penalty': ['l1', 'l2']\n",
    "}\n",
    "\n",
    "#instantiate gridsearchCV\n",
    "lr_tvec_gs = GridSearchCV(lr_tvec_pipe, # what object are we optimizing?\n",
    "                  param_grid=lr_tvec_params , # what parameters values are we searching?\n",
    "                  cv=5,\n",
    "                 n_jobs=-1) \n",
    "\n",
    "#fit the model\n",
    "lr_tvec_gs.fit(X_train,y_train)"
   ]
  },
  {
   "cell_type": "markdown",
   "metadata": {},
   "source": [
    "### Naive Bayes: CVEC vs TDIF vectorizers"
   ]
  },
  {
   "cell_type": "code",
   "execution_count": 61,
   "metadata": {},
   "outputs": [
    {
     "data": {
      "text/plain": [
       "GridSearchCV(cv=5, error_score=nan,\n",
       "             estimator=Pipeline(memory=None,\n",
       "                                steps=[('cvec',\n",
       "                                        CountVectorizer(analyzer='word',\n",
       "                                                        binary=False,\n",
       "                                                        decode_error='strict',\n",
       "                                                        dtype=<class 'numpy.int64'>,\n",
       "                                                        encoding='utf-8',\n",
       "                                                        input='content',\n",
       "                                                        lowercase=True,\n",
       "                                                        max_df=1.0,\n",
       "                                                        max_features=None,\n",
       "                                                        min_df=1,\n",
       "                                                        ngram_range=(1, 1),\n",
       "                                                        preprocessor=None,\n",
       "                                                        stop_words=None,\n",
       "                                                        strip_accents=None,\n",
       "                                                        token_pattern='(?u)...\n",
       "                                                        tokenizer=None,\n",
       "                                                        vocabulary=None)),\n",
       "                                       ('nb',\n",
       "                                        MultinomialNB(alpha=1.0,\n",
       "                                                      class_prior=None,\n",
       "                                                      fit_prior=True))],\n",
       "                                verbose=False),\n",
       "             iid='deprecated', n_jobs=-1,\n",
       "             param_grid={'cvec__max_df': [0.85, 0.9],\n",
       "                         'cvec__max_features': [500, 1000, 2000, 3000],\n",
       "                         'cvec__min_df': [2, 3],\n",
       "                         'cvec__ngram_range': [(1, 1), (1, 2)]},\n",
       "             pre_dispatch='2*n_jobs', refit=True, return_train_score=False,\n",
       "             scoring=None, verbose=0)"
      ]
     },
     "execution_count": 61,
     "metadata": {},
     "output_type": "execute_result"
    }
   ],
   "source": [
    "#instantiate pipeline\n",
    "nb_cvec_pipe = Pipeline([\n",
    "    ('cvec', CountVectorizer()),\n",
    "    ('nb',MultinomialNB())\n",
    "])\n",
    "\n",
    "#create hyperparameters for gridsearch\n",
    "nb_cvec_params = {\n",
    "    'cvec__max_features': [500,1000,2000,3000],\n",
    "    'cvec__min_df':[2,3],\n",
    "    'cvec__max_df':[0.85,0.9],\n",
    "    'cvec__ngram_range': [(1,1), (1,2)],\n",
    "}\n",
    "\n",
    "#instantiate gridsearchCV\n",
    "nb_cvec_gs = GridSearchCV(nb_cvec_pipe, # what object are we optimizing?\n",
    "                  param_grid=nb_cvec_params , # what parameters values are we searching?\n",
    "                  cv=5,\n",
    "                 n_jobs=-1) \n",
    "\n",
    "\n",
    "#fit the model \n",
    "nb_cvec_gs.fit(X_train,y_train)"
   ]
  },
  {
   "cell_type": "code",
   "execution_count": 62,
   "metadata": {},
   "outputs": [
    {
     "data": {
      "text/plain": [
       "GridSearchCV(cv=5, error_score=nan,\n",
       "             estimator=Pipeline(memory=None,\n",
       "                                steps=[('tvec',\n",
       "                                        TfidfVectorizer(analyzer='word',\n",
       "                                                        binary=False,\n",
       "                                                        decode_error='strict',\n",
       "                                                        dtype=<class 'numpy.float64'>,\n",
       "                                                        encoding='utf-8',\n",
       "                                                        input='content',\n",
       "                                                        lowercase=True,\n",
       "                                                        max_df=1.0,\n",
       "                                                        max_features=None,\n",
       "                                                        min_df=1,\n",
       "                                                        ngram_range=(1, 1),\n",
       "                                                        norm='l2',\n",
       "                                                        preprocessor=None,\n",
       "                                                        smooth_idf=True,\n",
       "                                                        stop_words=None,\n",
       "                                                        strip_acce...\n",
       "                                                        use_idf=True,\n",
       "                                                        vocabulary=None)),\n",
       "                                       ('nb',\n",
       "                                        MultinomialNB(alpha=1.0,\n",
       "                                                      class_prior=None,\n",
       "                                                      fit_prior=True))],\n",
       "                                verbose=False),\n",
       "             iid='deprecated', n_jobs=-1,\n",
       "             param_grid={'tvec__max_df': [0.85, 0.9],\n",
       "                         'tvec__max_features': [500, 1000, 2000, 3000],\n",
       "                         'tvec__min_df': [2, 3],\n",
       "                         'tvec__ngram_range': [(1, 1), (1, 2)]},\n",
       "             pre_dispatch='2*n_jobs', refit=True, return_train_score=False,\n",
       "             scoring=None, verbose=0)"
      ]
     },
     "execution_count": 62,
     "metadata": {},
     "output_type": "execute_result"
    }
   ],
   "source": [
    "#instantiate pipeline\n",
    "nb_tvec_pipe = Pipeline([\n",
    "    ('tvec', TfidfVectorizer()),\n",
    "    ('nb',MultinomialNB())\n",
    "])\n",
    "\n",
    "#create hyperparameters\n",
    "nb_tvec_params = {\n",
    "    'tvec__max_features': [500,1000,2000,3000],\n",
    "    'tvec__min_df':[2,3],\n",
    "    'tvec__max_df':[0.85,0.9],\n",
    "    'tvec__ngram_range': [(1,1), (1,2)]\n",
    "}\n",
    "\n",
    "#instantiate gridsearch\n",
    "nb_tvec_gs = GridSearchCV(nb_tvec_pipe, # what object are we optimizing?\n",
    "                  param_grid=nb_tvec_params , # what parameters values are we searching?\n",
    "                  cv=5,\n",
    "                 n_jobs=-1) \n",
    "\n",
    "#fit the model\n",
    "nb_tvec_gs.fit(X_train,y_train)"
   ]
  },
  {
   "cell_type": "markdown",
   "metadata": {},
   "source": [
    "### Comparing Accuracy Scores"
   ]
  },
  {
   "cell_type": "code",
   "execution_count": 63,
   "metadata": {},
   "outputs": [
    {
     "name": "stdout",
     "output_type": "stream",
     "text": [
      "Baseline accuracy: 0.534\n"
     ]
    }
   ],
   "source": [
    "baseline_model = y_train.value_counts(normalize=True)\n",
    "baseline_accuracy = round(baseline_model[0],3)\n",
    "\n",
    "print(f\"Baseline accuracy: {baseline_accuracy}\")"
   ]
  },
  {
   "cell_type": "markdown",
   "metadata": {},
   "source": [
    "As mentioned before, the baseline model is giving us an accuracy of 53%. It means that if we assign **every post to class 0, we will get 53% correct**\n",
    "\n",
    "\n",
    "Our model has to **perform better than the baseline accuracy shown above**. Otherwise, it will be pointless to deploy the model. "
   ]
  },
  {
   "cell_type": "code",
   "execution_count": 64,
   "metadata": {},
   "outputs": [
    {
     "name": "stdout",
     "output_type": "stream",
     "text": [
      "Logistic Regression CVEC Train Accuracy Score: 0.899\n",
      "Logistic Regression CVEC Test Accuracy Score: 0.869\n"
     ]
    }
   ],
   "source": [
    "training_accuracy_score = round(lr_cvec_gs.score(X_train,y_train),3)\n",
    "testing_accuracy_score = round(lr_cvec_gs.score(X_test,y_test),3)\n",
    "\n",
    "print(f\"Logistic Regression CVEC Train Accuracy Score: {training_accuracy_score}\")\n",
    "print(f\"Logistic Regression CVEC Test Accuracy Score: {testing_accuracy_score}\")"
   ]
  },
  {
   "cell_type": "code",
   "execution_count": 65,
   "metadata": {},
   "outputs": [
    {
     "name": "stdout",
     "output_type": "stream",
     "text": [
      "Logistic Regression TFID Train Accuracy Score: 0.931\n",
      "Logistic Regression TFID Test Accuracy: 0.903\n"
     ]
    }
   ],
   "source": [
    "train_accuracy = round(lr_tvec_gs.score(X_train,y_train),3)\n",
    "test_accuracy = round(lr_tvec_gs.score(X_test,y_test),3)\n",
    "\n",
    "\n",
    "print(f\"Logistic Regression TFID Train Accuracy Score: {train_accuracy}\")\n",
    "print(f\"Logistic Regression TFID Test Accuracy: {test_accuracy}\")"
   ]
  },
  {
   "cell_type": "markdown",
   "metadata": {},
   "source": [
    "The Logistic Regression model seems to perform better with TF-IDF Vectorizer as compared to CountVectorizer as seen on the two accuracy scores above on the test data. The model that uses TF-IDF Vectorizer has an accuracy score of 90.3% while the model that uses CountVectorizer has an accuracy score of 86.9%.\n",
    "\n",
    "The two models also seem to be an overfit as the training accuracy score is higher than the test accuracy score. "
   ]
  },
  {
   "cell_type": "code",
   "execution_count": 66,
   "metadata": {},
   "outputs": [
    {
     "name": "stdout",
     "output_type": "stream",
     "text": [
      "Naive Bayes CVEC Train Accuracy Score: 0.889\n",
      "Naive Bayes CVEC Test Accuracy Score: 0.898\n"
     ]
    }
   ],
   "source": [
    "train_accuracy = round(nb_cvec_gs.score(X_train,y_train),3)\n",
    "test_accuracy = round(nb_cvec_gs.score(X_test,y_test),3)\n",
    "\n",
    "\n",
    "print(f\"Naive Bayes CVEC Train Accuracy Score: {train_accuracy}\")\n",
    "print(f\"Naive Bayes CVEC Test Accuracy Score: {test_accuracy}\")"
   ]
  },
  {
   "cell_type": "code",
   "execution_count": 67,
   "metadata": {},
   "outputs": [
    {
     "name": "stdout",
     "output_type": "stream",
     "text": [
      "Naive Bayes TFID Train Accuracy Score: 0.898\n",
      "Naive Bayes TFID Test Accuracy Score: 0.907\n"
     ]
    }
   ],
   "source": [
    "train_accuracy = round(nb_tvec_gs.score(X_train,y_train),3)\n",
    "test_accuracy = round(nb_tvec_gs.score(X_test,y_test),3)\n",
    "\n",
    "print(f\"Naive Bayes TFID Train Accuracy Score: {train_accuracy}\")\n",
    "print(f\"Naive Bayes TFID Test Accuracy Score: {test_accuracy}\")"
   ]
  },
  {
   "cell_type": "markdown",
   "metadata": {},
   "source": [
    "In general, **Naive Bayes models are performing better than our Logistic Regression models.** They also **do not show signs of overfitting** as both Naive Bayes models train accuracy scores are very close to the test accuracy scores (even though there is **a very slight underfit**). \n",
    "\n",
    "We can see from the above that **our Naive Bayes model using TFID Vectorizer** is the best performing model. Hence, we will be using it as our final model for predictions."
   ]
  },
  {
   "cell_type": "markdown",
   "metadata": {},
   "source": [
    "## Fitting our entire training dataset to the best model"
   ]
  },
  {
   "cell_type": "code",
   "execution_count": 68,
   "metadata": {},
   "outputs": [
    {
     "data": {
      "text/plain": [
       "{'tvec__max_df': 0.85,\n",
       " 'tvec__max_features': 3000,\n",
       " 'tvec__min_df': 2,\n",
       " 'tvec__ngram_range': (1, 2)}"
      ]
     },
     "execution_count": 68,
     "metadata": {},
     "output_type": "execute_result"
    }
   ],
   "source": [
    "nb_tvec_gs.best_params_"
   ]
  },
  {
   "cell_type": "code",
   "execution_count": 69,
   "metadata": {},
   "outputs": [
    {
     "name": "stdout",
     "output_type": "stream",
     "text": [
      "Final train accuracy: 0.8975903614457831\n",
      "Final test accuracy: 0.90744920993228\n"
     ]
    }
   ],
   "source": [
    "best_tvec_nb_pipe = Pipeline([\n",
    "    ('tvec', TfidfVectorizer(max_df= 0.85,\n",
    "     max_features= 3000,\n",
    "     min_df= 2,\n",
    "     ngram_range= (1, 2))),\n",
    "    ('nb',MultinomialNB())\n",
    "])\n",
    "\n",
    "best_tvec_nb_pipe.fit(X_train,y_train)\n",
    "train_accuracy = best_tvec_nb_pipe.score(X_train,y_train)\n",
    "test_accuracy = best_tvec_nb_pipe.score(X_test,y_test)\n",
    "\n",
    "print(f\"Final train accuracy: {train_accuracy}\")\n",
    "print(f\"Final test accuracy: {test_accuracy}\")"
   ]
  },
  {
   "cell_type": "markdown",
   "metadata": {},
   "source": [
    "As we can see, the accuracy did not change after fitting it into the entire training dataset."
   ]
  },
  {
   "cell_type": "markdown",
   "metadata": {},
   "source": [
    "# Inferential Findings and Analysis"
   ]
  },
  {
   "cell_type": "code",
   "execution_count": 70,
   "metadata": {},
   "outputs": [],
   "source": [
    "#finding the empirical log probability of features given a class\n",
    "#the values that we will get will be proportional to the conditional probability of each class\n",
    "top_features_pos_class = best_tvec_nb_pipe.named_steps['nb'].feature_log_prob_[1]\n",
    "top_features_neg_class = best_tvec_nb_pipe.named_steps['nb'].feature_log_prob_[0]\n",
    "feature_names = best_tvec_nb_pipe.named_steps['tvec'].get_feature_names()"
   ]
  },
  {
   "cell_type": "code",
   "execution_count": 71,
   "metadata": {},
   "outputs": [],
   "source": [
    "#Covid support top 20 words\n",
    "#I am going to plot a graph to show the visuals of the top words\n",
    "#Hence, I am doing a np.exp as the empirical log probabilites given were negative. \n",
    "covid_support = dict(pd.Series(np.exp(top_features_pos_class), feature_names).sort_values(ascending=False).head(20))"
   ]
  },
  {
   "cell_type": "code",
   "execution_count": 72,
   "metadata": {},
   "outputs": [],
   "source": [
    "#Covid positive\n",
    "covid_positive = dict(pd.Series(np.exp(top_features_neg_class), feature_names).sort_values(ascending=False).head(20))"
   ]
  },
  {
   "cell_type": "code",
   "execution_count": 73,
   "metadata": {
    "scrolled": false
   },
   "outputs": [
    {
     "data": {
      "image/png": "[encoded data removed]",
      "text/plain": [
       "<Figure size 1080x648 with 2 Axes>"
      ]
     },
     "metadata": {
      "needs_background": "light"
     },
     "output_type": "display_data"
    }
   ],
   "source": [
    "#Create subplots and set figuresize\n",
    "fig, axes = plt.subplots(1,2, figsize=(15,9));\n",
    "\n",
    "\n",
    "#Plot covid positive top 20 words \n",
    "plt.subplot(1,2,1)\n",
    "covid_pos = plt.barh(range(len(covid_positive)), covid_positive.values(),align = 'center',color='xkcd:rust');\n",
    "\n",
    "#Label axes\n",
    "plt.yticks(range(len(covid_positive)),covid_positive.keys(),fontsize=12);\n",
    "plt.title('Top 20 words in COVID19 Positive Subreddit')\n",
    "plt.xlabel('Units proportional to conditional probability')\n",
    "plt.gca().invert_yaxis()\n",
    "\n",
    "\n",
    "#Plot covid support top 20 words \n",
    "plt.subplot(1,2,2)\n",
    "covid_pos = plt.barh(range(len(covid_support)), covid_support.values(),align = 'center',color='xkcd:light orange');\n",
    "plt.yticks(range(len(covid_support)),covid_support.keys(),fontsize=12);\n",
    "plt.title('Top 20 words in COVID19 Support Subreddit')\n",
    "plt.xlabel('Units proportional to conditional probability')\n",
    "plt.gca().invert_yaxis()\n",
    "\n",
    "#adjust the space between the subplots\n",
    "plt.subplots_adjust(wspace=0.9)\n",
    "plt.show()"
   ]
  },
  {
   "cell_type": "markdown",
   "metadata": {},
   "source": [
    "The above are the top 20 words that are generated from the model. We can see that the COVID-19 Positive subreddit is mostly describing one's physical conditions with words like back, pain, fever, cough while COVID-19 Support posts are more emotions-based with words like anxiety, help. "
   ]
  },
  {
   "cell_type": "markdown",
   "metadata": {},
   "source": [
    "## Predictions"
   ]
  },
  {
   "cell_type": "code",
   "execution_count": 74,
   "metadata": {},
   "outputs": [],
   "source": [
    "#predicting the target variables with our best model\n",
    "pred = best_tvec_nb_pipe.predict(X_test)"
   ]
  },
  {
   "cell_type": "code",
   "execution_count": 75,
   "metadata": {},
   "outputs": [
    {
     "data": {
      "text/plain": [
       "array([[0.51593524, 0.48406476],\n",
       "       [0.82541572, 0.17458428],\n",
       "       [0.81171491, 0.18828509],\n",
       "       [0.58971092, 0.41028908],\n",
       "       [0.94954904, 0.05045096]])"
      ]
     },
     "execution_count": 75,
     "metadata": {},
     "output_type": "execute_result"
    }
   ],
   "source": [
    "#get the probability of each class in each post\n",
    "predict_prob = best_tvec_nb_pipe.predict_proba(X_test)\n",
    "predict_prob[:5]"
   ]
  },
  {
   "cell_type": "code",
   "execution_count": 76,
   "metadata": {},
   "outputs": [],
   "source": [
    "#find class 1 probability\n",
    "class_1_prob = [round(ele[1],3) for ele in predict_prob]"
   ]
  },
  {
   "cell_type": "code",
   "execution_count": 77,
   "metadata": {},
   "outputs": [],
   "source": [
    "#create a dataframe of the actual class vs predictions \n",
    "results = pd.DataFrame(X_test, columns=['cleaned_posts'])\n",
    "results['actual'] = list(y_test)\n",
    "results['predictions'] = pred\n",
    "\n",
    "#also added the probability of class 1 as one of the columns\n",
    "results['class1_prob'] = class_1_prob"
   ]
  },
  {
   "cell_type": "code",
   "execution_count": 78,
   "metadata": {},
   "outputs": [
    {
     "data": {
      "text/html": [
       "<div>\n",
       "<style scoped>\n",
       "    .dataframe tbody tr th:only-of-type {\n",
       "        vertical-align: middle;\n",
       "    }\n",
       "\n",
       "    .dataframe tbody tr th {\n",
       "        vertical-align: top;\n",
       "    }\n",
       "\n",
       "    .dataframe thead th {\n",
       "        text-align: right;\n",
       "    }\n",
       "</style>\n",
       "<table border=\"1\" class=\"dataframe\">\n",
       "  <thead>\n",
       "    <tr style=\"text-align: right;\">\n",
       "      <th></th>\n",
       "      <th>cleaned_posts</th>\n",
       "      <th>actual</th>\n",
       "      <th>predictions</th>\n",
       "      <th>class1_prob</th>\n",
       "    </tr>\n",
       "  </thead>\n",
       "  <tbody>\n",
       "    <tr>\n",
       "      <th>1141</th>\n",
       "      <td>could infect throat start hurt last day tri sc...</td>\n",
       "      <td>1</td>\n",
       "      <td>0</td>\n",
       "      <td>0.484</td>\n",
       "    </tr>\n",
       "    <tr>\n",
       "      <th>1363</th>\n",
       "      <td>breath second keep read post breath hold breat...</td>\n",
       "      <td>1</td>\n",
       "      <td>0</td>\n",
       "      <td>0.272</td>\n",
       "    </tr>\n",
       "    <tr>\n",
       "      <th>282</th>\n",
       "      <td>would love chat someon surviv major case would...</td>\n",
       "      <td>0</td>\n",
       "      <td>1</td>\n",
       "      <td>0.517</td>\n",
       "    </tr>\n",
       "    <tr>\n",
       "      <th>642</th>\n",
       "      <td>send someon w found today close famili member ...</td>\n",
       "      <td>0</td>\n",
       "      <td>1</td>\n",
       "      <td>0.520</td>\n",
       "    </tr>\n",
       "    <tr>\n",
       "      <th>384</th>\n",
       "      <td>week debat go hospit exposur possibl make wors...</td>\n",
       "      <td>0</td>\n",
       "      <td>1</td>\n",
       "      <td>0.608</td>\n",
       "    </tr>\n",
       "  </tbody>\n",
       "</table>\n",
       "</div>"
      ],
      "text/plain": [
       "                                          cleaned_posts  actual  predictions  \\\n",
       "1141  could infect throat start hurt last day tri sc...       1            0   \n",
       "1363  breath second keep read post breath hold breat...       1            0   \n",
       "282   would love chat someon surviv major case would...       0            1   \n",
       "642   send someon w found today close famili member ...       0            1   \n",
       "384   week debat go hospit exposur possibl make wors...       0            1   \n",
       "\n",
       "      class1_prob  \n",
       "1141        0.484  \n",
       "1363        0.272  \n",
       "282         0.517  \n",
       "642         0.520  \n",
       "384         0.608  "
      ]
     },
     "execution_count": 78,
     "metadata": {},
     "output_type": "execute_result"
    }
   ],
   "source": [
    "#create a dataframe just showing the wrong predictions\n",
    "wrong_pred = results[results['actual'] != results['predictions']]\n",
    "wrong_pred.head()"
   ]
  },
  {
   "cell_type": "code",
   "execution_count": 79,
   "metadata": {},
   "outputs": [],
   "source": [
    "# Import confusion_matrix.\n",
    "from sklearn.metrics import confusion_matrix, plot_confusion_matrix, classification_report"
   ]
  },
  {
   "cell_type": "code",
   "execution_count": 80,
   "metadata": {},
   "outputs": [
    {
     "name": "stdout",
     "output_type": "stream",
     "text": [
      "Specificity: 0.916\n",
      "Sensitivity: 0.898\n"
     ]
    }
   ],
   "source": [
    "# Generate confusion matrix.\n",
    "tn, fp, fn, tp = confusion_matrix(y_test,\n",
    "                                  pred).ravel()\n",
    "\n",
    "#true negatives/all negatives\n",
    "specificity = round(tn/(tn+fp),3)\n",
    "\n",
    "#true positives/all positives\n",
    "sensitivity= round(tp/(tp+fn),3)\n",
    "\n",
    "print(f\"Specificity: {specificity}\")\n",
    "print(f\"Sensitivity: {sensitivity}\")"
   ]
  },
  {
   "cell_type": "markdown",
   "metadata": {},
   "source": [
    "This means that 91.6% of COVID 19 positive posts were classified correctly while 89.8% of COVID19 Support posts were classified correctly. However, in this case, **the accuracy score would be more important as both classes are equally as important according to our problem statement.** \n",
    "\n",
    "Both errors are equally bad because most people seeking advice in COVID19 support **could be equally as desperate/sad** as people in COVID19 positive.\n",
    "\n",
    "However, just for clarity sake, I have plotted **the confusion matrix** below. "
   ]
  },
  {
   "cell_type": "code",
   "execution_count": 81,
   "metadata": {},
   "outputs": [
    {
     "data": {
      "image/png": "[encoded data removed]",
      "text/plain": [
       "<Figure size 432x288 with 2 Axes>"
      ]
     },
     "metadata": {
      "needs_background": "light"
     },
     "output_type": "display_data"
    }
   ],
   "source": [
    "plot_confusion_matrix(best_tvec_nb_pipe, X_test, y_test,\n",
    "                      values_format = 'd',\n",
    "                      display_labels = [\"Covid19 Positive \",\"Covid19 Support\"],\n",
    "                     cmap='copper')\n",
    "\n",
    "plt.grid(False)\n",
    "plt.show()"
   ]
  },
  {
   "cell_type": "code",
   "execution_count": 82,
   "metadata": {},
   "outputs": [
    {
     "data": {
      "image/png": "[encoded data removed]",
      "text/plain": [
       "<Figure size 720x432 with 1 Axes>"
      ]
     },
     "metadata": {
      "needs_background": "light"
     },
     "output_type": "display_data"
    }
   ],
   "source": [
    "# Create figure.\n",
    "plt.figure(figsize = (10,6))\n",
    "\n",
    "# Create two histograms of observations.\n",
    "plt.hist(results[results['actual'] == 0]['class1_prob'],\n",
    "         bins=25,\n",
    "         alpha = 0.6,\n",
    "         label='Outcome = 0')\n",
    "plt.hist(results[results['actual'] == 1]['class1_prob'],\n",
    "         bins=25,\n",
    "         alpha = 0.6,\n",
    "         label='Outcome = 1')\n",
    "\n",
    "# Add vertical line at P(Outcome = 1) = 0.5.\n",
    "plt.vlines(x=0.5,\n",
    "           ymin = 0,\n",
    "           ymax = 45,\n",
    "           label = 'classification threshold = 0.5',\n",
    "           color='r',\n",
    "           linestyle = '--', lw=2)\n",
    "\n",
    "# Add annotations for TN, FN, TP, FP.\n",
    "plt.annotate(xy = (0.04, 18),\n",
    "             s = 'TN',\n",
    "             size = 20)\n",
    "\n",
    "plt.annotate(xy = (0.22, 0),\n",
    "             s = 'FN',\n",
    "             size = 20)\n",
    "\n",
    "plt.annotate(xy = (0.9, 18),\n",
    "             s = 'TP',\n",
    "             size = 20)\n",
    "\n",
    "plt.annotate(xy = (0.75, 0),\n",
    "             s = 'FP',\n",
    "             size = 20)\n",
    "\n",
    "# Label axes.\n",
    "plt.title('Distribution of P(Outcome = 1)', fontsize=20)\n",
    "plt.ylabel('Frequency', fontsize=15)\n",
    "plt.xlabel('Predicted Probability that Outcome = 1', fontsize=15)\n",
    "\n",
    "# Create legend.\n",
    "plt.legend(fontsize=15);"
   ]
  },
  {
   "cell_type": "markdown",
   "metadata": {},
   "source": [
    "The plot above shows a clear separation between the two classes, however, there are some overlaps. The overlaps show the posts that were incorrectly classified by the model. **The classification threshold in this case is 0.5** and I **wouldn't shift the threshold as it is equally important to classify both the negative and positive class in this context.**"
   ]
  },
  {
   "cell_type": "markdown",
   "metadata": {},
   "source": [
    "### Analysis on posts that have been classified wrongly"
   ]
  },
  {
   "cell_type": "markdown",
   "metadata": {},
   "source": [
    "#### Example of false positive posts: Predicted as COVID Support but it actually comes from COVID Positive subreddit"
   ]
  },
  {
   "cell_type": "code",
   "execution_count": 83,
   "metadata": {},
   "outputs": [
    {
     "data": {
      "text/html": [
       "<div>\n",
       "<style scoped>\n",
       "    .dataframe tbody tr th:only-of-type {\n",
       "        vertical-align: middle;\n",
       "    }\n",
       "\n",
       "    .dataframe tbody tr th {\n",
       "        vertical-align: top;\n",
       "    }\n",
       "\n",
       "    .dataframe thead th {\n",
       "        text-align: right;\n",
       "    }\n",
       "</style>\n",
       "<table border=\"1\" class=\"dataframe\">\n",
       "  <thead>\n",
       "    <tr style=\"text-align: right;\">\n",
       "      <th></th>\n",
       "      <th>cleaned_posts</th>\n",
       "      <th>actual</th>\n",
       "      <th>predictions</th>\n",
       "      <th>class1_prob</th>\n",
       "    </tr>\n",
       "  </thead>\n",
       "  <tbody>\n",
       "    <tr>\n",
       "      <th>1350</th>\n",
       "      <td>mum test posit hi mum frontlin nh worker test posit mild asthma far got tast smell achi symptom fever cough hope stay likelihood fuck worri live alon mile away way go uk lockdown even visit worri ...</td>\n",
       "      <td>1</td>\n",
       "      <td>0</td>\n",
       "      <td>0.455</td>\n",
       "    </tr>\n",
       "    <tr>\n",
       "      <th>1636</th>\n",
       "      <td>year old recov critic symptom coronaviru pneumonia</td>\n",
       "      <td>1</td>\n",
       "      <td>0</td>\n",
       "      <td>0.279</td>\n",
       "    </tr>\n",
       "    <tr>\n",
       "      <th>1655</th>\n",
       "      <td>anxieti gnaw away dad hi dad year old underli health issu overweight tomorrow get result back whether posit neg certain work nh job transfer patient hospit non emerg st self isol due cough rd ach ...</td>\n",
       "      <td>1</td>\n",
       "      <td>0</td>\n",
       "      <td>0.352</td>\n",
       "    </tr>\n",
       "  </tbody>\n",
       "</table>\n",
       "</div>"
      ],
      "text/plain": [
       "                                                                                                                                                                                                cleaned_posts  \\\n",
       "1350  mum test posit hi mum frontlin nh worker test posit mild asthma far got tast smell achi symptom fever cough hope stay likelihood fuck worri live alon mile away way go uk lockdown even visit worri ...   \n",
       "1636                                                                                                                                                       year old recov critic symptom coronaviru pneumonia   \n",
       "1655  anxieti gnaw away dad hi dad year old underli health issu overweight tomorrow get result back whether posit neg certain work nh job transfer patient hospit non emerg st self isol due cough rd ach ...   \n",
       "\n",
       "      actual  predictions  class1_prob  \n",
       "1350       1            0        0.455  \n",
       "1636       1            0        0.279  \n",
       "1655       1            0        0.352  "
      ]
     },
     "execution_count": 83,
     "metadata": {},
     "output_type": "execute_result"
    }
   ],
   "source": [
    "pd.set_option('display.max_colwidth',200)\n",
    "fn = wrong_pred[wrong_pred['class1_prob']<0.5]\n",
    "fn.tail(3)"
   ]
  },
  {
   "cell_type": "code",
   "execution_count": 84,
   "metadata": {},
   "outputs": [
    {
     "data": {
      "text/plain": [
       "\"My mum tested positive. Hi all.\\n\\nMy mum's a frontline NHS worker and she's just tested positive for COVID-19.\\n\\nShe's 47, and has mild asthma. So far, she's only got the no taste/smell and achy symptoms. No fever or cough. I'm hoping she stays like this - what's the likelihood that she does?\\n\\nI'm so fucking worried and I'm living alone 40 miles away so there's no way I can go and be with her because the UK is on lockdown, and even if I did visit, I'm worried I'd bring it back with me.\\n\\nShe's living with my dad and brother so she's not alone. I just don't know what to do. It's the asthma that's causing my anxiety to skyrocket. Does anyone have any info that might set my mind at ease?\""
      ]
     },
     "execution_count": 84,
     "metadata": {},
     "output_type": "execute_result"
    }
   ],
   "source": [
    "combined_df.loc[1350]['posts']"
   ]
  },
  {
   "cell_type": "markdown",
   "metadata": {},
   "source": [
    "See above for an example of a post that was **predicted as Class 0 (COVID Positive) but the post actually comes from Class 1 (COVID Support).** With keywords such as **\"positive\",\"symptoms\",\"fever\",\"cough\",** we can see why the model has identified it as Class 0 (COVID positive).\n",
    "\n",
    "\n",
    "However, the model might not be wrong afterall. The post **can qualify as a Class 0 post as it is actually about someone who has a family member who has been tested positive and is seeking for support.** It may be helpful for people who have had similar experience (someone/family member who had been tested positive) to share his/her experience and reassure this user. Hence, in this case, it **might have been better for the user to post this in COVID positive subreddit.** Given more time, I would consider removing this post before training the model."
   ]
  },
  {
   "cell_type": "markdown",
   "metadata": {},
   "source": [
    "#### Example of false positive posts: Predicted as COVID Support but it actually comes from COVID Positive subreddit"
   ]
  },
  {
   "cell_type": "code",
   "execution_count": 85,
   "metadata": {},
   "outputs": [
    {
     "data": {
      "text/html": [
       "<div>\n",
       "<style scoped>\n",
       "    .dataframe tbody tr th:only-of-type {\n",
       "        vertical-align: middle;\n",
       "    }\n",
       "\n",
       "    .dataframe tbody tr th {\n",
       "        vertical-align: top;\n",
       "    }\n",
       "\n",
       "    .dataframe thead th {\n",
       "        text-align: right;\n",
       "    }\n",
       "</style>\n",
       "<table border=\"1\" class=\"dataframe\">\n",
       "  <thead>\n",
       "    <tr style=\"text-align: right;\">\n",
       "      <th></th>\n",
       "      <th>cleaned_posts</th>\n",
       "      <th>actual</th>\n",
       "      <th>predictions</th>\n",
       "      <th>class1_prob</th>\n",
       "    </tr>\n",
       "  </thead>\n",
       "  <tbody>\n",
       "    <tr>\n",
       "      <th>282</th>\n",
       "      <td>would love chat someon surviv major case would hear peopl readjust life major case slowli get back work hospit week lot anxieti relat pleas comment send chat thank</td>\n",
       "      <td>0</td>\n",
       "      <td>1</td>\n",
       "      <td>0.517</td>\n",
       "    </tr>\n",
       "    <tr>\n",
       "      <th>642</th>\n",
       "      <td>send someon w found today close famili member test posit live nearbi alon would send thing hope bring comfort well necess anyon suggest sens tast doubt food big prioriti thing found palat drink co...</td>\n",
       "      <td>0</td>\n",
       "      <td>1</td>\n",
       "      <td>0.520</td>\n",
       "    </tr>\n",
       "  </tbody>\n",
       "</table>\n",
       "</div>"
      ],
      "text/plain": [
       "                                                                                                                                                                                               cleaned_posts  \\\n",
       "282                                      would love chat someon surviv major case would hear peopl readjust life major case slowli get back work hospit week lot anxieti relat pleas comment send chat thank   \n",
       "642  send someon w found today close famili member test posit live nearbi alon would send thing hope bring comfort well necess anyon suggest sens tast doubt food big prioriti thing found palat drink co...   \n",
       "\n",
       "     actual  predictions  class1_prob  \n",
       "282       0            1        0.517  \n",
       "642       0            1        0.520  "
      ]
     },
     "execution_count": 85,
     "metadata": {},
     "output_type": "execute_result"
    }
   ],
   "source": [
    "fp = wrong_pred[wrong_pred['class1_prob']>0.5]\n",
    "fp.head(2)"
   ]
  },
  {
   "cell_type": "code",
   "execution_count": 86,
   "metadata": {},
   "outputs": [
    {
     "data": {
      "text/plain": [
       "'Would love to chat with someone who has survived a major case, like me Would like to hear how people are readjusting to life after having a major case of covid. I’m slowly getting back to work after having been hospitalized for a week. I’ve had a lot of anxiety. If you relate, please comment or send a chat- thanks!'"
      ]
     },
     "execution_count": 86,
     "metadata": {},
     "output_type": "execute_result"
    }
   ],
   "source": [
    "combined_df.loc[282]['posts']"
   ]
  },
  {
   "cell_type": "markdown",
   "metadata": {},
   "source": [
    "The example above shows that the model is unable to identify posts of survivors who are going back to normal live after being discharged. This post is **actually highly relevant to be in COVID19 Positive subreddit.** However, as it seems like the model is **better at identifying posts that describe battling with COVID19 physically,** whereas, **posts that show more of \"emotional\" or \"mental\" struggles are being classified in COVID19 Support subreddit.**\n",
    "\n",
    "This is probably because keywords in COVID19 support include **\"work\", \"anxiety\"** as many people in the COVID19 Support channel are **struggling from lost of jobs or struggling with work from home experience.**"
   ]
  },
  {
   "cell_type": "markdown",
   "metadata": {},
   "source": [
    "---"
   ]
  },
  {
   "cell_type": "markdown",
   "metadata": {},
   "source": [
    "# Conclusion "
   ]
  },
  {
   "cell_type": "markdown",
   "metadata": {},
   "source": [
    "We have answered our problem statement which was to:\n",
    "- create a model that can predict if a post belongs to COVID19 Positive or COVID19 Support Subreddits. \n",
    "- find out the characteristics of each subreddit (i.e the words usage/type of posts)\n",
    "\n",
    "To summarize, our final model is able to do classification of posts of the two subreddits **with an accuracy score of 91%.** As mentioned earlier, it seems like the model **has been trained to classify posts that are more \"emotional-based\" as COVID19 Support subreddit posts while posts that are more descriptive of one's physical health like \"cough\",\"fever\",\"test positive\" are more likely to be classified as COVID19 Positive subreddit.** \n",
    "\n",
    "The model is performing relatively well given that the two subreddits are quite similar in nature. This **will definitely be beneficial for the stakeholders mentioned above (subreddits moderators/reddit company) to keep the content of each subreddit useful and engaging for the users.** However, there are definitely steps that we can take to improve the model. Additional steps that can be taken to improve the model will be discussed further in the [Future Steps](#Future-Steps) section below."
   ]
  },
  {
   "cell_type": "markdown",
   "metadata": {},
   "source": [
    "# Recommendations"
   ]
  },
  {
   "cell_type": "markdown",
   "metadata": {},
   "source": [
    "#### Recommendation #1\n",
    "\n",
    "We have seen through our findings and analysis that there are some users who have been posting at the wrong subreddit. I would recommend for the subreddit moderators to **edit the description of each subreddit so that the users will be more informed of the existence and the differences of the two subreddits.** For example, a user that needs support because he has been tested positive for COVID may not know that there is a COVID19 positive subreddit which could be more relevant for him. \n",
    "\n",
    "r/COVID19_support can probably include in the description that if someone need support/help that is specific to COVID19 virus/symptoms, they can go to r/COVID19positive subreddit instead. Similarly, r/COVID19positive could do the same to **redirect victims of COVID19 that have been affected due to other reasons other than the virus** to r/COVID19_support.\n",
    "\n",
    "\n",
    "#### Recommendation #2\n",
    "\n",
    "As the model is able to identify 91% of the posts accurately, I would recommend that **we deploy this model and use it to categorize posts** before the posts are being published on the respective subreddits. However, as this model has not achieved 100% accuracy, we may **need someone to look through the posts that have been classified before publishing them.** However, this also means that the posts will not be able to go live in real time as someone has to manually approve the posts before allowing the posts to appear. \n",
    "\n",
    "Alternatively, this classification model **can be deployed to be used by users instead.** We can create a simple text input box where users can **type in their posts and depending on the content,** the model will be able to **recommend the right subreddit for the users to put up their posts on.**\n",
    "\n",
    "\n",
    "\n",
    "#### Recommendation #3\n",
    "\n",
    "Perhaps the moderators **can also compile encouraging stories from the posts** to encourage users that have been affected negatively by the pandemic. Reddit has functions that allow subreddits moderators to create extra tabs/pages (eg. wiki) that can have external links/other information about the subreddit. For example, COVID19 Positive subreddit can compile survivor stories while COVID19 Support Subreddit can provide external links for home exercises, recipes, job-opening, tips that will make staying at home more bearable. "
   ]
  },
  {
   "cell_type": "markdown",
   "metadata": {},
   "source": [
    "# Future Steps"
   ]
  },
  {
   "cell_type": "markdown",
   "metadata": {},
   "source": [
    "As with all models, this model is not perfect. As we can see that it has failed to correctly classify some posts. We can probably try other classification methods to see if the accuracy can be improved. I would also **consider removing some of the posts that were not supposed to be in a particular subreddit from the dataset before training the model**. Example would be posts that are talking about COVID19 positive experience should be removed if found in COVID19 support dataset before training the model.\n",
    "\n",
    "To address recommendation no.3, we can run **a sentiment analysis to pick up posts with positive sentiments** to compile encouraging stories.\n",
    "\n",
    "We can also try to develop **multi-class classification models that will allow us to include other COVID19 subreddits** as our target variables to ensure that all our users are able to enjoy relevant content and get the support/advice that they need."
   ]
  }
 ],
 "metadata": {
  "kernelspec": {
   "display_name": "Python 3",
   "language": "python",
   "name": "python3"
  },
  "language_info": {
   "codemirror_mode": {
    "name": "ipython",
    "version": 3
   },
   "file_extension": ".py",
   "mimetype": "text/x-python",
   "name": "python",
   "nbconvert_exporter": "python",
   "pygments_lexer": "ipython3",
   "version": "3.7.6"
  }
 },
 "nbformat": 4,
 "nbformat_minor": 4
}
